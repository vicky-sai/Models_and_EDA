{
  "nbformat": 4,
  "nbformat_minor": 0,
  "metadata": {
    "colab": {
      "name": "Audiobook_Dataset.ipynb",
      "provenance": [],
      "collapsed_sections": []
    },
    "kernelspec": {
      "name": "python3",
      "display_name": "Python 3"
    }
  },
  "cells": [
    {
      "cell_type": "markdown",
      "metadata": {
        "id": "gJY07ssvreu8",
        "colab_type": "text"
      },
      "source": [
        "Importing relavent Libraries"
      ]
    },
    {
      "cell_type": "code",
      "metadata": {
        "id": "36p0DBMjy2dN",
        "colab_type": "code",
        "colab": {}
      },
      "source": [
        "import pandas as pd\n",
        "import numpy as np\n",
        "from sklearn import preprocessing\n",
        "import tensorflow as tf"
      ],
      "execution_count": 46,
      "outputs": []
    },
    {
      "cell_type": "markdown",
      "metadata": {
        "id": "tw53biaJrlA1",
        "colab_type": "text"
      },
      "source": [
        "Load the dataset"
      ]
    },
    {
      "cell_type": "code",
      "metadata": {
        "id": "tUvIuRa23ihT",
        "colab_type": "code",
        "colab": {
          "base_uri": "https://localhost:8080/",
          "height": 34
        },
        "outputId": "481f1485-bfb0-456f-8617-a256b11f490b"
      },
      "source": [
        "from google.colab import drive\n",
        "drive.mount('/content/drive')"
      ],
      "execution_count": 47,
      "outputs": [
        {
          "output_type": "stream",
          "text": [
            "Drive already mounted at /content/drive; to attempt to forcibly remount, call drive.mount(\"/content/drive\", force_remount=True).\n"
          ],
          "name": "stdout"
        }
      ]
    },
    {
      "cell_type": "code",
      "metadata": {
        "id": "zUw4JenLTXNr",
        "colab_type": "code",
        "colab": {}
      },
      "source": [
        "raw_csv = np.loadtxt(\"/content/drive/My Drive/Colab Notebooks/Audiobooks_data.csv\", delimiter=',', skiprows=1)"
      ],
      "execution_count": 48,
      "outputs": []
    },
    {
      "cell_type": "code",
      "metadata": {
        "id": "XwNmWwP8Csgb",
        "colab_type": "code",
        "colab": {
          "base_uri": "https://localhost:8080/",
          "height": 238
        },
        "outputId": "e74a67f6-ca45-4bdb-82e5-44bc9a4fda62"
      },
      "source": [
        "raw_csv"
      ],
      "execution_count": 49,
      "outputs": [
        {
          "output_type": "execute_result",
          "data": {
            "text/plain": [
              "array([[9.9400e+02, 1.6200e+03, 1.6200e+03, ..., 5.0000e+00, 9.2000e+01,\n",
              "        0.0000e+00],\n",
              "       [1.1430e+03, 2.1600e+03, 2.1600e+03, ..., 0.0000e+00, 0.0000e+00,\n",
              "        0.0000e+00],\n",
              "       [2.0590e+03, 2.1600e+03, 2.1600e+03, ..., 0.0000e+00, 3.8800e+02,\n",
              "        0.0000e+00],\n",
              "       ...,\n",
              "       [3.1134e+04, 2.1600e+03, 2.1600e+03, ..., 0.0000e+00, 0.0000e+00,\n",
              "        0.0000e+00],\n",
              "       [3.2832e+04, 1.6200e+03, 1.6200e+03, ..., 0.0000e+00, 9.0000e+01,\n",
              "        0.0000e+00],\n",
              "       [2.5100e+02, 1.6740e+03, 3.3480e+03, ..., 0.0000e+00, 0.0000e+00,\n",
              "        1.0000e+00]])"
            ]
          },
          "metadata": {
            "tags": []
          },
          "execution_count": 49
        }
      ]
    },
    {
      "cell_type": "code",
      "metadata": {
        "id": "uX98wt8CCyi8",
        "colab_type": "code",
        "colab": {}
      },
      "source": [
        "unscaled_raw_input = raw_csv[:, 1:-1]\n",
        "unscaled_target = raw_csv[:,-1]"
      ],
      "execution_count": 50,
      "outputs": []
    },
    {
      "cell_type": "markdown",
      "metadata": {
        "id": "pEd9q32rrcWv",
        "colab_type": "text"
      },
      "source": [
        "Balance the Dataset"
      ]
    },
    {
      "cell_type": "code",
      "metadata": {
        "id": "lgacigLkDY3j",
        "colab_type": "code",
        "colab": {}
      },
      "source": [
        "num_one_targets = int(np.sum(unscaled_target))\n",
        "zero_target_counter = 0\n",
        "indices_to_remove = []\n",
        "\n",
        "for i in range(unscaled_target.shape[0]):\n",
        "  if unscaled_target[i]==0:\n",
        "    zero_target_counter += 1\n",
        "    if zero_target_counter > num_one_targets:\n",
        "      indices_to_remove.append(i)"
      ],
      "execution_count": 51,
      "outputs": []
    },
    {
      "cell_type": "code",
      "metadata": {
        "id": "2gKg5Q6qDZtS",
        "colab_type": "code",
        "colab": {}
      },
      "source": [
        "unscaled_input_priors = np.delete(unscaled_raw_input, indices_to_remove, axis=0)\n",
        "unscaled_target_priors = np.delete(unscaled_target, indices_to_remove, axis=0)"
      ],
      "execution_count": 52,
      "outputs": []
    },
    {
      "cell_type": "markdown",
      "metadata": {
        "id": "3DLsuvZZ-5v0",
        "colab_type": "text"
      },
      "source": [
        "Scaling the Dataset"
      ]
    },
    {
      "cell_type": "code",
      "metadata": {
        "id": "FDgtHfkK-mDz",
        "colab_type": "code",
        "colab": {}
      },
      "source": [
        "scaled_inputs = preprocessing.scale(unscaled_input_priors)"
      ],
      "execution_count": 53,
      "outputs": []
    },
    {
      "cell_type": "markdown",
      "metadata": {
        "id": "0WDT2N3__IrR",
        "colab_type": "text"
      },
      "source": [
        "Shuffled Indices"
      ]
    },
    {
      "cell_type": "code",
      "metadata": {
        "id": "WerdfEF0_Ak7",
        "colab_type": "code",
        "colab": {}
      },
      "source": [
        "shuffled_indices = np.arange(scaled_inputs.shape[0])\n",
        "np.random.shuffle(shuffled_indices)"
      ],
      "execution_count": 54,
      "outputs": []
    },
    {
      "cell_type": "code",
      "metadata": {
        "id": "b4BsPitGEfoA",
        "colab_type": "code",
        "colab": {}
      },
      "source": [
        "shuffled_inputs = scaled_inputs[shuffled_indices]\n",
        "shuffled_targets = unscaled_target_priors[shuffled_indices]"
      ],
      "execution_count": 55,
      "outputs": []
    },
    {
      "cell_type": "code",
      "metadata": {
        "id": "pXXnOn-QE92b",
        "colab_type": "code",
        "colab": {
          "base_uri": "https://localhost:8080/",
          "height": 34
        },
        "outputId": "e126e44a-22b5-4b7f-b557-4be890d05e92"
      },
      "source": [
        "shuffled_indices"
      ],
      "execution_count": 56,
      "outputs": [
        {
          "output_type": "execute_result",
          "data": {
            "text/plain": [
              "array([ 821,  605, 1553, ...,  225, 1140, 3657])"
            ]
          },
          "metadata": {
            "tags": []
          },
          "execution_count": 56
        }
      ]
    },
    {
      "cell_type": "code",
      "metadata": {
        "id": "tfVd9e5nE-bD",
        "colab_type": "code",
        "colab": {}
      },
      "source": [
        "samples_count = shuffled_inputs.shape[0]"
      ],
      "execution_count": 57,
      "outputs": []
    },
    {
      "cell_type": "code",
      "metadata": {
        "id": "fYUk3bCGFJSk",
        "colab_type": "code",
        "colab": {}
      },
      "source": [
        "train_samples_count = int(0.8 * samples_count)\n",
        "validation_samples_count = int(0.1 * samples_count)\n",
        "test_samples_cout = samples_count - train_samples_count - validation_samples_count"
      ],
      "execution_count": 58,
      "outputs": []
    },
    {
      "cell_type": "code",
      "metadata": {
        "id": "rhguQoeXGMOG",
        "colab_type": "code",
        "colab": {}
      },
      "source": [
        "train_inputs = shuffled_inputs[:train_samples_count]\n",
        "train_targets = shuffled_targets[:train_samples_count]\n",
        "\n",
        "validation_inputs = shuffled_inputs[train_samples_count:train_samples_count+validation_samples_count]\n",
        "validation_targets = shuffled_targets[train_samples_count:train_samples_count+validation_samples_count]\n",
        "\n",
        "test_inputs = shuffled_inputs[train_samples_count+validation_samples_count:]\n",
        "test_targets = shuffled_targets[train_samples_count+validation_samples_count:]"
      ],
      "execution_count": 59,
      "outputs": []
    },
    {
      "cell_type": "markdown",
      "metadata": {
        "id": "UqOpUNMfMImn",
        "colab_type": "text"
      },
      "source": [
        "Print the size of train, test, validation"
      ]
    },
    {
      "cell_type": "code",
      "metadata": {
        "id": "dcAvG_SxGwwH",
        "colab_type": "code",
        "colab": {
          "base_uri": "https://localhost:8080/",
          "height": 68
        },
        "outputId": "26a4fb2b-81fc-423f-aa91-e6c910eeac97"
      },
      "source": [
        "print(np.sum(train_targets), train_samples_count, np.sum(train_targets)/train_samples_count)\n",
        "print(np.sum(validation_targets), validation_samples_count, np.sum(validation_targets)/validation_samples_count)\n",
        "print(np.sum(test_targets), test_samples_cout, np.sum(test_targets)/test_samples_cout)"
      ],
      "execution_count": 60,
      "outputs": [
        {
          "output_type": "stream",
          "text": [
            "1798.0 3579 0.502374965074043\n",
            "219.0 447 0.4899328859060403\n",
            "220.0 448 0.49107142857142855\n"
          ],
          "name": "stdout"
        }
      ]
    },
    {
      "cell_type": "markdown",
      "metadata": {
        "id": "u0Z7D6VKMMzX",
        "colab_type": "text"
      },
      "source": [
        "Save the data in Numpy format"
      ]
    },
    {
      "cell_type": "code",
      "metadata": {
        "id": "H290Vi_jJ2lh",
        "colab_type": "code",
        "colab": {}
      },
      "source": [
        "np.savez('Audiobooks_data_train', inputs=train_inputs, targets=train_targets)\n",
        "np.savez('Audiobooks_data_validation', inputs=validation_inputs, targets=validation_targets)\n",
        "np.savez('Audiobooks_data_test', inputs=test_inputs, targets=test_targets)"
      ],
      "execution_count": 61,
      "outputs": []
    },
    {
      "cell_type": "markdown",
      "metadata": {
        "id": "JdNN-RxGMQkk",
        "colab_type": "text"
      },
      "source": [
        "Loading the data"
      ]
    },
    {
      "cell_type": "code",
      "metadata": {
        "id": "HNFT0G4wK5qA",
        "colab_type": "code",
        "colab": {}
      },
      "source": [
        "npz = np.load('Audiobooks_data_train.npz')\n",
        "\n",
        "train_inputs = npz['inputs'].astype(np.float)\n",
        "train_targets = npz['targets'].astype(np.int)"
      ],
      "execution_count": 82,
      "outputs": []
    },
    {
      "cell_type": "code",
      "metadata": {
        "id": "JySIZ9WfLyKY",
        "colab_type": "code",
        "colab": {}
      },
      "source": [
        "npz = np.load('Audiobooks_data_validation.npz')\n",
        "\n",
        "validation_inputs, validation_targets = npz['inputs'].astype(np.float), npz['targets'].astype(np.int)"
      ],
      "execution_count": 83,
      "outputs": []
    },
    {
      "cell_type": "code",
      "metadata": {
        "id": "zGWNKE6AL8vx",
        "colab_type": "code",
        "colab": {}
      },
      "source": [
        "npz = np.load('Audiobooks_data_test.npz')\n",
        "\n",
        "test_inputs, test_targets = npz['inputs'].astype(np.float), npz['targets'].astype(np.int)"
      ],
      "execution_count": 84,
      "outputs": []
    },
    {
      "cell_type": "markdown",
      "metadata": {
        "id": "IuKW5pgTMS4v",
        "colab_type": "text"
      },
      "source": [
        "Model"
      ]
    },
    {
      "cell_type": "code",
      "metadata": {
        "id": "9RqMo2MxMcxa",
        "colab_type": "code",
        "colab": {}
      },
      "source": [
        "input_size = 10\n",
        "hidden_layer_size = 50\n",
        "output_size = 2"
      ],
      "execution_count": 85,
      "outputs": []
    },
    {
      "cell_type": "code",
      "metadata": {
        "id": "_d_ENKRKMBO3",
        "colab_type": "code",
        "colab": {}
      },
      "source": [
        "model = tf.keras.Sequential([\n",
        "                            tf.keras.layers.Dense(hidden_layer_size, activation='relu'),\n",
        "                             tf.keras.layers.Dense(hidden_layer_size, activation='relu'),\n",
        "                             tf.keras.layers.Dense(output_size, activation='softmax')\n",
        "                            ])"
      ],
      "execution_count": 86,
      "outputs": []
    },
    {
      "cell_type": "code",
      "metadata": {
        "id": "rs1lRPdIU-6A",
        "colab_type": "code",
        "colab": {}
      },
      "source": [
        "model.compile(optimizer='adam', loss='sparse_categorical_crossentropy', metrics=['accuracy'])"
      ],
      "execution_count": 87,
      "outputs": []
    },
    {
      "cell_type": "code",
      "metadata": {
        "id": "lWBr1Zw2VMoW",
        "colab_type": "code",
        "colab": {
          "base_uri": "https://localhost:8080/",
          "height": 272
        },
        "outputId": "ecaa3ba3-fd45-4162-c091-cbcf1661d8a1"
      },
      "source": [
        "early_stopping = tf.keras.callbacks.EarlyStopping(patience=3)\n",
        "\n",
        "model.fit(train_inputs, train_targets, epochs=100, batch_size=100, \n",
        "          validation_data=(validation_inputs, validation_targets), callbacks=[early_stopping])"
      ],
      "execution_count": 90,
      "outputs": [
        {
          "output_type": "stream",
          "text": [
            "Epoch 1/100\n",
            "36/36 [==============================] - 0s 3ms/step - loss: 0.3208 - accuracy: 0.8256 - val_loss: 0.3404 - val_accuracy: 0.8277\n",
            "Epoch 2/100\n",
            "36/36 [==============================] - 0s 3ms/step - loss: 0.3215 - accuracy: 0.8296 - val_loss: 0.3390 - val_accuracy: 0.8255\n",
            "Epoch 3/100\n",
            "36/36 [==============================] - 0s 3ms/step - loss: 0.3190 - accuracy: 0.8262 - val_loss: 0.3511 - val_accuracy: 0.8255\n",
            "Epoch 4/100\n",
            "36/36 [==============================] - 0s 3ms/step - loss: 0.3240 - accuracy: 0.8254 - val_loss: 0.3386 - val_accuracy: 0.8121\n",
            "Epoch 5/100\n",
            "36/36 [==============================] - 0s 3ms/step - loss: 0.3164 - accuracy: 0.8296 - val_loss: 0.3469 - val_accuracy: 0.8210\n",
            "Epoch 6/100\n",
            "36/36 [==============================] - 0s 3ms/step - loss: 0.3162 - accuracy: 0.8318 - val_loss: 0.3413 - val_accuracy: 0.8121\n",
            "Epoch 7/100\n",
            "36/36 [==============================] - 0s 3ms/step - loss: 0.3141 - accuracy: 0.8293 - val_loss: 0.3420 - val_accuracy: 0.8233\n"
          ],
          "name": "stdout"
        },
        {
          "output_type": "execute_result",
          "data": {
            "text/plain": [
              "<tensorflow.python.keras.callbacks.History at 0x7f66b7cddef0>"
            ]
          },
          "metadata": {
            "tags": []
          },
          "execution_count": 90
        }
      ]
    },
    {
      "cell_type": "markdown",
      "metadata": {
        "id": "qRQnkLA2iI5X",
        "colab_type": "text"
      },
      "source": [
        "Test the model"
      ]
    },
    {
      "cell_type": "code",
      "metadata": {
        "id": "SPmu9Lo8cVTx",
        "colab_type": "code",
        "colab": {
          "base_uri": "https://localhost:8080/",
          "height": 34
        },
        "outputId": "af8bc3f3-65ce-4f84-862a-3cdc4c6144e2"
      },
      "source": [
        "test_loss, test_accuracy = model.evaluate(test_inputs, test_targets)"
      ],
      "execution_count": 91,
      "outputs": [
        {
          "output_type": "stream",
          "text": [
            "14/14 [==============================] - 0s 1ms/step - loss: 0.3857 - accuracy: 0.7969\n"
          ],
          "name": "stdout"
        }
      ]
    },
    {
      "cell_type": "code",
      "metadata": {
        "id": "jTPVIhPfiMEk",
        "colab_type": "code",
        "colab": {
          "base_uri": "https://localhost:8080/",
          "height": 51
        },
        "outputId": "582f96e1-b3da-4a77-ea3b-50c81e777b5c"
      },
      "source": [
        "print('Test loss: {0:.2f}\\nTest accuracy: {1:.2f}%'.format(test_loss, test_accuracy*100.))"
      ],
      "execution_count": 93,
      "outputs": [
        {
          "output_type": "stream",
          "text": [
            "Test loss: 0.39\n",
            "Test accuracy: 79.69%\n"
          ],
          "name": "stdout"
        }
      ]
    },
    {
      "cell_type": "code",
      "metadata": {
        "id": "J-AZdQRsiOgs",
        "colab_type": "code",
        "colab": {}
      },
      "source": [
        ""
      ],
      "execution_count": null,
      "outputs": []
    }
  ]
}
<td>2</td>\n",
       "      <td>3</td>\n",
       "      <td>female</td>\n",
       "      <td>8</td>\n",
       "      <td>-888</td>\n",
       "      <td>CA. 2343</td>\n",
       "      <td>Miss</td>\n",
       "      <td>very_high</td>\n",
       "      <td>Adult</td>\n",
       "      <td>11</td>\n",
       "    </tr>\n",
       "    <tr>\n",
       "      <th>1234</th>\n",
       "      <td>29.0</td>\n",
       "      <td>NaN</td>\n",
       "      <td>S</td>\n",
       "      <td>69.55</td>\n",
       "      <td>Sage, Mr. John George</td>\n",
       "      <td>9</td>\n",
       "      <td>3</td>\n",
       "      <td>male</td>\n",
       "      <td>1</td>\n",
       "      <td>-888</td>\n",
       "      <td>CA. 2343</td>\n",
       "      <td>Mr</td>\n",
       "      <td>very_high</td>\n",
       "      <td>Adult</td>\n",
       "      <td>11</td>\n",
       "    </tr>\n",
       "    <tr>\n",
       "      <th>1252</th>\n",
       "      <td>14.5</td>\n",
       "      <td>NaN</td>\n",
       "      <td>S</td>\n",
       "      <td>69.55</td>\n",
       "      <td>Sage, Master. William Henry</td>\n",
       "      <td>2</td>\n",
       "      <td>3</td>\n",
       "      <td>male</td>\n",
       "      <td>8</td>\n",
       "      <td>-888</td>\n",
       "      <td>CA. 2343</td>\n",
       "      <td>Master</td>\n",
       "      <td>very_high</td>\n",
       "      <td>Child</td>\n",
       "      <td>11</td>\n",
       "    </tr>\n",
       "    <tr>\n",
       "      <th>1257</th>\n",
       "      <td>35.0</td>\n",
       "      <td>NaN</td>\n",
       "      <td>S</td>\n",
       "      <td>69.55</td>\n",
       "      <td>Sage, Mrs. John (Annie Bullen)</td>\n",
       "      <td>9</td>\n",
       "      <td>3</td>\n",
       "      <td>female</td>\n",
       "      <td>1</td>\n",
       "      <td>-888</td>\n",
       "      <td>CA. 2343</td>\n",
       "      <td>Mrs</td>\n",
       "      <td>very_high</td>\n",
       "      <td>Adult</td>\n",
       "      <td>11</td>\n",
       "    </tr>\n",
       "  </tbody>\n",
       "</table>\n",
       "</div>"
      ],
      "text/plain": [
       "              Age Cabin Embarked   Fare                               Name  \\\n",
       "PassengerId                                                                  \n",
       "160           4.0   NaN        S  69.55         Sage, Master. Thomas Henry   \n",
       "181          22.0   NaN        S  69.55       Sage, Miss. Constance Gladys   \n",
       "202          29.0   NaN        S  69.55                Sage, Mr. Frederick   \n",
       "325          29.0   NaN        S  69.55           Sage, Mr. George John Jr   \n",
       "793          22.0   NaN        S  69.55            Sage, Miss. Stella Anna   \n",
       "847          29.0   NaN        S  69.55           Sage, Mr. Douglas Bullen   \n",
       "864          22.0   NaN        S  69.55  Sage, Miss. Dorothy Edith \"Dolly\"   \n",
       "1080         22.0   NaN        S  69.55                    Sage, Miss. Ada   \n",
       "1234         29.0   NaN        S  69.55              Sage, Mr. John George   \n",
       "1252         14.5   NaN        S  69.55        Sage, Master. William Henry   \n",
       "1257         35.0   NaN        S  69.55     Sage, Mrs. John (Annie Bullen)   \n",
       "\n",
       "             Parch  Pclass     Sex  SibSp  Survived    Ticket   Title  \\\n",
       "PassengerId                                                             \n",
       "160              2       3    male      8         0  CA. 2343  Master   \n",
       "181              2       3  female      8         0  CA. 2343    Miss   \n",
       "202              2       3    male      8         0  CA. 2343      Mr   \n",
       "325              2       3    male      8         0  CA. 2343      Mr   \n",
       "793              2       3  female      8         0  CA. 2343    Miss   \n",
       "847              2       3    male      8         0  CA. 2343      Mr   \n",
       "864              2       3  female      8         0  CA. 2343    Miss   \n",
       "1080             2       3  female      8      -888  CA. 2343    Miss   \n",
       "1234             9       3    male      1      -888  CA. 2343      Mr   \n",
       "1252             2       3    male      8      -888  CA. 2343  Master   \n",
       "1257             9       3  female      1      -888  CA. 2343     Mrs   \n",
       "\n",
       "              Fare_Bin AgeState  FamilySize  \n",
       "PassengerId                                  \n",
       "160          very_high    Child          11  \n",
       "181          very_high    Adult          11  \n",
       "202          very_high    Adult          11  \n",
       "325          very_high    Adult          11  \n",
       "793          very_high    Adult          11  \n",
       "847          very_high    Adult          11  \n",
       "864          very_high    Adult          11  \n",
       "1080         very_high    Adult          11  \n",
       "1234         very_high    Adult          11  \n",
       "1252         very_high    Child          11  \n",
       "1257         very_high    Adult          11  "
      ]
     },
     "execution_count": 99,
     "metadata": {},
     "output_type": "execute_result"
    }
   ],
   "source": [
    "# further explore this family with max family members\n",
    "df.loc[df.FamilySize == df.FamilySize.max()]"
   ]
  },
  {
   "cell_type": "code",
   "execution_count": 100,
   "metadata": {},
   "outputs": [
    {
     "data": {
      "text/html": [
       "<div>\n",
       "<style scoped>\n",
       "    .dataframe tbody tr th:only-of-type {\n",
       "        vertical-align: middle;\n",
       "    }\n",
       "\n",
       "    .dataframe tbody tr th {\n",
       "        vertical-align: top;\n",
       "    }\n",
       "\n",
       "    .dataframe thead th {\n",
       "        text-align: right;\n",
       "    }\n",
       "</style>\n",
       "<table border=\"1\" class=\"dataframe\">\n",
       "  <thead>\n",
       "    <tr style=\"text-align: right;\">\n",
       "      <th>FamilySize</th>\n",
       "      <th>1</th>\n",
       "      <th>2</th>\n",
       "      <th>3</th>\n",
       "      <th>4</th>\n",
       "      <th>5</th>\n",
       "      <th>6</th>\n",
       "      <th>7</th>\n",
       "      <th>8</th>\n",
       "      <th>11</th>\n",
       "    </tr>\n",
       "    <tr>\n",
       "      <th>Survived</th>\n",
       "      <th></th>\n",
       "      <th></th>\n",
       "      <th></th>\n",
       "      <th></th>\n",
       "      <th></th>\n",
       "      <th></th>\n",
       "      <th></th>\n",
       "      <th></th>\n",
       "      <th></th>\n",
       "    </tr>\n",
       "  </thead>\n",
       "  <tbody>\n",
       "    <tr>\n",
       "      <th>0</th>\n",
       "      <td>374</td>\n",
       "      <td>72</td>\n",
       "      <td>43</td>\n",
       "      <td>8</td>\n",
       "      <td>12</td>\n",
       "      <td>19</td>\n",
       "      <td>8</td>\n",
       "      <td>6</td>\n",
       "      <td>7</td>\n",
       "    </tr>\n",
       "    <tr>\n",
       "      <th>1</th>\n",
       "      <td>163</td>\n",
       "      <td>89</td>\n",
       "      <td>59</td>\n",
       "      <td>21</td>\n",
       "      <td>3</td>\n",
       "      <td>3</td>\n",
       "      <td>4</td>\n",
       "      <td>0</td>\n",
       "      <td>0</td>\n",
       "    </tr>\n",
       "  </tbody>\n",
       "</table>\n",
       "</div>"
      ],
      "text/plain": [
       "FamilySize   1   2   3   4   5   6   7   8   11\n",
       "Survived                                       \n",
       "0           374  72  43   8  12  19   8   6   7\n",
       "1           163  89  59  21   3   3   4   0   0"
      ]
     },
     "execution_count": 100,
     "metadata": {},
     "output_type": "execute_result"
    }
   ],
   "source": [
    "pd.crosstab(df[df.Survived != -888].Survived, df[df.Survived != -888].FamilySize)"
   ]
  },
  {
   "cell_type": "markdown",
   "metadata": {},
   "source": [
    "### Feature : IsMother"
   ]
  },
  {
   "cell_type": "code",
   "execution_count": 101,
   "metadata": {},
   "outputs": [],
   "source": [
    "# a lday more than 18 who has Parch >0 and is married (not Miss)\n",
    "df['IsMother'] = np.where(((df.Sex =='female') & (df.Parch > 0) & (df.Age > 18) & (df.Title !='Miss')),1,0)"
   ]
  },
  {
   "cell_type": "code",
   "execution_count": 102,
   "metadata": {},
   "outputs": [
    {
     "data": {
      "text/html": [
       "<div>\n",
       "<style scoped>\n",
       "    .dataframe tbody tr th:only-of-type {\n",
       "        vertical-align: middle;\n",
       "    }\n",
       "\n",
       "    .dataframe tbody tr th {\n",
       "        vertical-align: top;\n",
       "    }\n",
       "\n",
       "    .dataframe thead th {\n",
       "        text-align: right;\n",
       "    }\n",
       "</style>\n",
       "<table border=\"1\" class=\"dataframe\">\n",
       "  <thead>\n",
       "    <tr style=\"text-align: right;\">\n",
       "      <th>IsMother</th>\n",
       "      <th>0</th>\n",
       "      <th>1</th>\n",
       "    </tr>\n",
       "    <tr>\n",
       "      <th>Survived</th>\n",
       "      <th></th>\n",
       "      <th></th>\n",
       "    </tr>\n",
       "  </thead>\n",
       "  <tbody>\n",
       "    <tr>\n",
       "      <th>0</th>\n",
       "      <td>533</td>\n",
       "      <td>16</td>\n",
       "    </tr>\n",
       "    <tr>\n",
       "      <th>1</th>\n",
       "      <td>303</td>\n",
       "      <td>39</td>\n",
       "    </tr>\n",
       "  </tbody>\n",
       "</table>\n",
       "</div>"
      ],
      "text/plain": [
       "IsMother    0   1\n",
       "Survived         \n",
       "0         533  16\n",
       "1         303  39"
      ]
     },
     "execution_count": 102,
     "metadata": {},
     "output_type": "execute_result"
    }
   ],
   "source": [
    "# Crosstab with IsMother\n",
    "pd.crosstab(df[df.Survived != -888].Survived, df[df.Survived != -888].IsMother)"
   ]
  },
  {
   "cell_type": "markdown",
   "metadata": {},
   "source": [
    "### Feature : Deck"
   ]
  },
  {
   "cell_type": "code",
   "execution_count": 103,
   "metadata": {},
   "outputs": [
    {
     "data": {
      "text/plain": [
       "PassengerId\n",
       "1        NaN\n",
       "2        C85\n",
       "3        NaN\n",
       "4       C123\n",
       "5        NaN\n",
       "6        NaN\n",
       "7        E46\n",
       "        ... \n",
       "1303     C78\n",
       "1304     NaN\n",
       "1305     NaN\n",
       "1306    C105\n",
       "1307     NaN\n",
       "1308     NaN\n",
       "1309     NaN\n",
       "Name: Cabin, Length: 1309, dtype: object"
      ]
     },
     "execution_count": 103,
     "metadata": {},
     "output_type": "execute_result"
    }
   ],
   "source": [
    "# Explore Cabin values\n",
    "df.Cabin"
   ]
  },
  {
   "cell_type": "code",
   "execution_count": 104,
   "metadata": {},
   "outputs": [
    {
     "data": {
      "text/plain": [
       "array([nan, 'C85', 'C123', 'E46', 'G6', 'C103', 'D56', 'A6',\n",
       "       'C23 C25 C27', 'B78', 'D33', 'B30', 'C52', 'B28', 'C83', 'F33',\n",
       "       'F G73', 'E31', 'A5', 'D10 D12', 'D26', 'C110', 'B58 B60', 'E101',\n",
       "       'F E69', 'D47', 'B86', 'F2', 'C2', 'E33', 'B19', 'A7', 'C49', 'F4',\n",
       "       'A32', 'B4', 'B80', 'A31', 'D36', 'D15', 'C93', 'C78', 'D35',\n",
       "       'C87', 'B77', 'E67', 'B94', 'C125', 'C99', 'C118', 'D7', 'A19',\n",
       "       'B49', 'D', 'C22 C26', 'C106', 'C65', 'E36', 'C54',\n",
       "       'B57 B59 B63 B66', 'C7', 'E34', 'C32', 'B18', 'C124', 'C91', 'E40',\n",
       "       'T', 'C128', 'D37', 'B35', 'E50', 'C82', 'B96 B98', 'E10', 'E44',\n",
       "       'A34', 'C104', 'C111', 'C92', 'E38', 'D21', 'E12', 'E63', 'A14',\n",
       "       'B37', 'C30', 'D20', 'B79', 'E25', 'D46', 'B73', 'C95', 'B38',\n",
       "       'B39', 'B22', 'C86', 'C70', 'A16', 'C101', 'C68', 'A10', 'E68',\n",
       "       'B41', 'A20', 'D19', 'D50', 'D9', 'A23', 'B50', 'A26', 'D48',\n",
       "       'E58', 'C126', 'B71', 'B51 B53 B55', 'D49', 'B5', 'B20', 'F G63',\n",
       "       'C62 C64', 'E24', 'C90', 'C45', 'E8', 'B101', 'D45', 'C46', 'D30',\n",
       "       'E121', 'D11', 'E77', 'F38', 'B3', 'D6', 'B82 B84', 'D17', 'A36',\n",
       "       'B102', 'B69', 'E49', 'C47', 'D28', 'E17', 'A24', 'C50', 'B42',\n",
       "       'C148', 'B45', 'B36', 'A21', 'D34', 'A9', 'C31', 'B61', 'C53',\n",
       "       'D43', 'C130', 'C132', 'C55 C57', 'C116', 'F', 'A29', 'C6', 'C28',\n",
       "       'C51', 'C97', 'D22', 'B10', 'E45', 'E52', 'A11', 'B11', 'C80',\n",
       "       'C89', 'F E46', 'B26', 'F E57', 'A18', 'E60', 'E39 E41',\n",
       "       'B52 B54 B56', 'C39', 'B24', 'D40', 'D38', 'C105'], dtype=object)"
      ]
     },
     "execution_count": 104,
     "metadata": {},
     "output_type": "execute_result"
    }
   ],
   "source": [
    "#Look at cabin values\n",
    "df.Cabin.unique()"
   ]
  },

  {
   "cell_type": "code",
   "execution_count": 105,
   "metadata": {},
   "outputs": [
    {
     "data": {
      "text/html": [
       "<div>\n",
       "<style scoped>\n",
       "    .dataframe tbody tr th:only-of-type {\n",
       "        vertical-align: middle;\n",
       "    }\n",
       "\n",
       "    .dataframe tbody tr th {\n",
       "        vertical-align: top;\n",
       "    }\n",
       "\n",
       "    .dataframe thead th {\n",
       "        text-align: right;\n",
       "    }\n",
       "</style>\n",
       "<table border=\"1\" class=\"dataframe\">\n",
       "  <thead>\n",
       "    <tr style=\"text-align: right;\">\n",
       "      <th></th>\n",
       "      <th>Age</th>\n",
       "      <th>Cabin</th>\n",
       "      <th>Embarked</th>\n",
       "      <th>Fare</th>\n",
       "      <th>Name</th>\n",
       "      <th>Parch</th>\n",
       "      <th>Pclass</th>\n",
       "      <th>Sex</th>\n",
       "      <th>SibSp</th>\n",
       "      <th>Survived</th>\n",
       "      <th>Ticket</th>\n",
       "      <th>Title</th>\n",
       "      <th>Fare_Bin</th>\n",
       "      <th>AgeState</th>\n",
       "      <th>FamilySize</th>\n",
       "      <th>IsMother</th>\n",
       "    </tr>\n",
       "    <tr>\n",
       "      <th>PassengerId</th>\n",
       "      <th></th>\n",
       "      <th></th>\n",
       "      <th></th>\n",
       "      <th></th>\n",
       "      <th></th>\n",
       "      <th></th>\n",
       "      <th></th>\n",
       "      <th></th>\n",
       "      <th></th>\n",
       "      <th></th>\n",
       "      <th></th>\n",
       "      <th></th>\n",
       "      <th></th>\n",
       "      <th></th>\n",
       "      <th></th>\n",
       "      <th></th>\n",
       "    </tr>\n",
       "  </thead>\n",
       "  <tbody>\n",
       "    <tr>\n",
       "      <th>340</th>\n",
       "      <td>45.0</td>\n",
       "      <td>T</td>\n",
       "      <td>S</td>\n",
       "      <td>35.5</td>\n",
       "      <td>Blackwell, Mr. Stephen Weart</td>\n",
       "      <td>0</td>\n",
       "      <td>1</td>\n",
       "      <td>male</td>\n",
       "      <td>0</td>\n",
       "      <td>0</td>\n",
       "      <td>113784</td>\n",
       "      <td>Mr</td>\n",
       "      <td>very_high</td>\n",
       "      <td>Adult</td>\n",
       "      <td>1</td>\n",
       "      <td>0</td>\n",
       "    </tr>\n",
       "  </tbody>\n",
       "</table>\n",
       "</div>"
      ],
      "text/plain": [
       "              Age Cabin Embarked  Fare                          Name  Parch  \\\n",
       "PassengerId                                                                   \n",
       "340          45.0     T        S  35.5  Blackwell, Mr. Stephen Weart      0   \n",
       "\n",
       "             Pclass   Sex  SibSp  Survived  Ticket Title   Fare_Bin AgeState  \\\n",
       "PassengerId                                                                    \n",
       "340               1  male      0         0  113784    Mr  very_high    Adult   \n",
       "\n",
       "             FamilySize  IsMother  \n",
       "PassengerId                        \n",
       "340                   1         0  "
      ]
     },
     "execution_count": 105,
     "metadata": {},
     "output_type": "execute_result"
    }
   ],
   "source": [
    "# look at Cabin T\n",
    "df.loc[df.Cabin == 'T']"
   ]
  },
  {
   "cell_type": "code",
   "execution_count": 106,
   "metadata": {},
   "outputs": [],
   "source": [
    "# Set the values to NaN\n",
    "df.loc[df.Cabin == 'T', 'Cabin'] = np.NaN"
   ]
  },
  {
   "cell_type": "code",
   "execution_count": 107,
   "metadata": {},
   "outputs": [
    {
     "data": {
      "text/plain": [
       "array([nan, 'C85', 'C123', 'E46', 'G6', 'C103', 'D56', 'A6',\n",
       "       'C23 C25 C27', 'B78', 'D33', 'B30', 'C52', 'B28', 'C83', 'F33',\n",
       "       'F G73', 'E31', 'A5', 'D10 D12', 'D26', 'C110', 'B58 B60', 'E101',\n",
       "       'F E69', 'D47', 'B86', 'F2', 'C2', 'E33', 'B19', 'A7', 'C49', 'F4',\n",
       "       'A32', 'B4', 'B80', 'A31', 'D36', 'D15', 'C93', 'C78', 'D35',\n",
       "       'C87', 'B77', 'E67', 'B94', 'C125', 'C99', 'C118', 'D7', 'A19',\n",
       "       'B49', 'D', 'C22 C26', 'C106', 'C65', 'E36', 'C54',\n",
       "       'B57 B59 B63 B66', 'C7', 'E34', 'C32', 'B18', 'C124', 'C91', 'E40',\n",
       "       'C128', 'D37', 'B35', 'E50', 'C82', 'B96 B98', 'E10', 'E44', 'A34',\n",
       "       'C104', 'C111', 'C92', 'E38', 'D21', 'E12', 'E63', 'A14', 'B37',\n",
       "       'C30', 'D20', 'B79', 'E25', 'D46', 'B73', 'C95', 'B38', 'B39',\n",
       "       'B22', 'C86', 'C70', 'A16', 'C101', 'C68', 'A10', 'E68', 'B41',\n",
       "       'A20', 'D19', 'D50', 'D9', 'A23', 'B50', 'A26', 'D48', 'E58',\n",
       "       'C126', 'B71', 'B51 B53 B55', 'D49', 'B5', 'B20', 'F G63',\n",
       "       'C62 C64', 'E24', 'C90', 'C45', 'E8', 'B101', 'D45', 'C46', 'D30',\n",
       "       'E121', 'D11', 'E77', 'F38', 'B3', 'D6', 'B82 B84', 'D17', 'A36',\n",
       "       'B102', 'B69', 'E49', 'C47', 'D28', 'E17', 'A24', 'C50', 'B42',\n",
       "       'C148', 'B45', 'B36', 'A21', 'D34', 'A9', 'C31', 'B61', 'C53',\n",
       "       'D43', 'C130', 'C132', 'C55 C57', 'C116', 'F', 'A29', 'C6', 'C28',\n",
       "       'C51', 'C97', 'D22', 'B10', 'E45', 'E52', 'A11', 'B11', 'C80',\n",
       "       'C89', 'F E46', 'B26', 'F E57', 'A18', 'E60', 'E39 E41',\n",
       "       'B52 B54 B56', 'C39', 'B24', 'D40', 'D38', 'C105'], dtype=object)"
      ]
     },
     "execution_count": 107,
     "metadata": {},
     "output_type": "execute_result"
    }
   ],
   "source": [
    "#Look at cabin values AGAIN\n",
    "df.Cabin.unique()"
   ]
  },
  {
   "cell_type": "code",
   "execution_count": 108,
   "metadata": {},
   "outputs": [],
   "source": [
    "# Extract first character of Cabin string to the deck\n",
    "def get_deck(cabin):\n",
    "    return np.where(pd.notnull(cabin), str(cabin)[0].upper(), 'Z')\n",
    "df['Deck'] = df['Cabin'].map(lambda x: get_deck(x))"
   ]
  },
  {
   "cell_type": "code",
   "execution_count": 109,
   "metadata": {},
   "outputs": [
    {
     "data": {
      "text/plain": [
       "Z    1015\n",
       "C      94\n",
       "B      65\n",
       "D      46\n",
       "E      41\n",
       "A      22\n",
       "F      21\n",
       "G       5\n",
       "Name: Deck, dtype: int64"
      ]
     },
     "execution_count": 109,
     "metadata": {},
     "output_type": "execute_result"
    }
   ],
   "source": [
    "# Check counts\n",
    "df.Deck.value_counts()"
   ]
  },
  {
   "cell_type": "code",
   "execution_count": 110,
   "metadata": {},
   "outputs": [
    {
     "data": {
      "text/html": [
       "<div>\n",
       "<style scoped>\n",
       "    .dataframe tbody tr th:only-of-type {\n",
       "        vertical-align: middle;\n",
       "    }\n",
       "\n",
       "    .dataframe tbody tr th {\n",
       "        vertical-align: top;\n",
       "    }\n",
       "\n",
       "    .dataframe thead th {\n",
       "        text-align: right;\n",
       "    }\n",
       "</style>\n",
       "<table border=\"1\" class=\"dataframe\">\n",
       "  <thead>\n",
       "    <tr style=\"text-align: right;\">\n",
       "      <th>Deck</th>\n",
       "      <th>A</th>\n",
       "      <th>B</th>\n",
       "      <th>C</th>\n",
       "      <th>D</th>\n",
       "      <th>E</th>\n",
       "      <th>F</th>\n",
       "      <th>G</th>\n",
       "      <th>Z</th>\n",
       "    </tr>\n",
       "    <tr>\n",
       "      <th>Survived</th>\n",
       "      <th></th>\n",
       "      <th></th>\n",
       "      <th></th>\n",
       "      <th></th>\n",
       "      <th></th>\n",
       "      <th></th>\n",
       "      <th></th>\n",
       "      <th></th>\n",
       "    </tr>\n",
       "  </thead>\n",
       "  <tbody>\n",
       "    <tr>\n",
       "      <th>0</th>\n",
       "      <td>8</td>\n",
       "      <td>12</td>\n",
       "      <td>24</td>\n",
       "      <td>8</td>\n",
       "      <td>8</td>\n",
       "      <td>5</td>\n",
       "      <td>2</td>\n",
       "      <td>482</td>\n",
       "    </tr>\n",
       "    <tr>\n",
       "      <th>1</th>\n",
       "      <td>7</td>\n",
       "      <td>35</td>\n",
       "      <td>35</td>\n",
       "      <td>25</td>\n",
       "      <td>24</td>\n",
       "      <td>8</td>\n",
       "      <td>2</td>\n",
       "      <td>206</td>\n",
       "    </tr>\n",
       "  </tbody>\n",
       "</table>\n",
       "</div>"
      ],
      "text/plain": [
       "Deck      A   B   C   D   E  F  G    Z\n",
       "Survived                              \n",
       "0         8  12  24   8   8  5  2  482\n",
       "1         7  35  35  25  24  8  2  206"
      ]
     },
     "execution_count": 110,
     "metadata": {},
     "output_type": "execute_result"
    }
   ],
   "source": [
    "# use crosstab to look into survived feature cabin wise\n",
    "pd.crosstab(df[df.Survived != -888].Survived, df[df.Survived != -888].Deck)"
   ]
  },
  {
   "cell_type": "code",
   "execution_count": 111,
   "metadata": {},
   "outputs": [
    {
     "name": "stdout",
     "output_type": "stream",
     "text": [
      "<class 'pandas.core.frame.DataFrame'>\n",
      "Int64Index: 1309 entries, 1 to 1309\n",
      "Data columns (total 17 columns):\n",
      "Age           1309 non-null float64\n",
      "Cabin         294 non-null object\n",
      "Embarked      1309 non-null object\n",
      "Fare          1309 non-null float64\n",
      "Name          1309 non-null object\n",
      "Parch         1309 non-null int64\n",
      "Pclass        1309 non-null int64\n",
      "Sex           1309 non-null object\n",
      "SibSp         1309 non-null int64\n",
      "Survived      1309 non-null int64\n",
      "Ticket        1309 non-null object\n",
      "Title         1309 non-null object\n",
      "Fare_Bin      1309 non-null category\n",
      "AgeState      1309 non-null object\n",
      "FamilySize    1309 non-null int64\n",
      "IsMother      1309 non-null int32\n",
      "Deck          1309 non-null object\n",
      "dtypes: category(1), float64(2), int32(1), int64(5), object(8)\n",
      "memory usage: 210.2+ KB\n"
     ]
    }
   ],
   "source": [
    "# info command\n",
    "df.info()"
   ]
  },
  {
   "cell_type": "markdown",
   "metadata": {},
   "source": [
    "### Categorical Feature Encoding"
   ]
  },
  {
   "cell_type": "code",
   "execution_count": 112,
   "metadata": {},
   "outputs": [],
   "source": [
    "# sex\n",
    "df['IsMale'] = np.where(df.Sex == 'male',1,0)"
   ]
  },
  {
   "cell_type": "code",
   "execution_count": 113,
   "metadata": {},
   "outputs": [],
   "source": [
    "# Columns Deck, PClass, Title, AgeState\n",
    "df = pd.get_dummies(df, columns = ['Deck', 'Pclass', 'Title', 'Fare_Bin', 'Embarked', 'AgeState'])"
   ]
  },
  {
   "cell_type": "code",
   "execution_count": 114,
   "metadata": {},
   "outputs": [
    {
     "name": "stdout",
     "output_type": "stream",
     "text": [
      "<class 'pandas.core.frame.DataFrame'>\n",
      "Int64Index: 1309 entries, 1 to 1309\n",
      "Data columns (total 39 columns):\n",
      "Age                   1309 non-null float64\n",
      "Cabin                 294 non-null object\n",
      "Fare                  1309 non-null float64\n",
      "Name                  1309 non-null object\n",
      "Parch                 1309 non-null int64\n",
      "Sex                   1309 non-null object\n",
      "SibSp                 1309 non-null int64\n",
      "Survived              1309 non-null int64\n",
      "Ticket                1309 non-null object\n",
      "FamilySize            1309 non-null int64\n",
      "IsMother              1309 non-null int32\n",
      "IsMale                1309 non-null int32\n",
      "Deck_A                1309 non-null uint8\n",
      "Deck_B                1309 non-null uint8\n",
      "Deck_C                1309 non-null uint8\n",
      "Deck_D                1309 non-null uint8\n",
      "Deck_E                1309 non-null uint8\n",
      "Deck_F                1309 non-null uint8\n",
      "Deck_G                1309 non-null uint8\n",
      "Deck_Z                1309 non-null uint8\n",
      "Pclass_1              1309 non-null uint8\n",
      "Pclass_2              1309 non-null uint8\n",
      "Pclass_3              1309 non-null uint8\n",
      "Title_Lady            1309 non-null uint8\n",
      "Title_Master          1309 non-null uint8\n",
      "Title_Miss            1309 non-null uint8\n",
      "Title_Mr              1309 non-null uint8\n",
      "Title_Mrs             1309 non-null uint8\n",
      "Title_Officer         1309 non-null uint8\n",
      "Title_Sir             1309 non-null uint8\n",
      "Fare_Bin_very_low     1309 non-null uint8\n",
      "Fare_Bin_low          1309 non-null uint8\n",
      "Fare_Bin_high         1309 non-null uint8\n",
      "Fare_Bin_very_high    1309 non-null uint8\n",
      "Embarked_C            1309 non-null uint8\n",
      "Embarked_Q            1309 non-null uint8\n",
      "Embarked_S            1309 non-null uint8\n",
      "AgeState_Adult        1309 non-null uint8\n",
      "AgeState_Child        1309 non-null uint8\n",
      "dtypes: float64(2), int32(2), int64(4), object(4), uint8(27)\n",
      "memory usage: 197.2+ KB\n"
     ]
    }
   ],
   "source": [
    "df.info()"
   ]
  },
  {
   "cell_type": "markdown",
   "metadata": {},
   "source": [
    "### Drop and Reorder Columns"
   ]
  },
  {
   "cell_type": "code",
   "execution_count": 115,
   "metadata": {},
   "outputs": [],
   "source": [
    "# Drop columns\n",
    "df.drop(['Cabin', 'Name', 'Ticket', 'Parch', 'SibSp', 'Sex'], axis=1, inplace=True)"
   ]
  },
  {
   "cell_type": "code",
   "execution_count": 116,
   "metadata": {},
   "outputs": [],
   "source": [
    "# Reorder columns\n",
    "columns = [column for column in df.columns if column != 'Survived']\n",
    "columns = ['Survived'] + columns\n",
    "df = df[columns]"
   ]
  },
  {
   "cell_type": "code",
   "execution_count": 117,
   "metadata": {},
   "outputs": [
    {
     "name": "stdout",
     "output_type": "stream",
     "text": [
      "<class 'pandas.core.frame.DataFrame'>\n",
      "Int64Index: 1309 entries, 1 to 1309\n",
      "Data columns (total 33 columns):\n",
      "Survived              1309 non-null int64\n",
      "Age                   1309 non-null float64\n",
      "Fare                  1309 non-null float64\n",
      "FamilySize            1309 non-null int64\n",
      "IsMother              1309 non-null int32\n",
      "IsMale                1309 non-null int32\n",
      "Deck_A                1309 non-null uint8\n",
      "Deck_B                1309 non-null uint8\n",
      "Deck_C                1309 non-null uint8\n",
      "Deck_D                1309 non-null uint8\n",
      "Deck_E                1309 non-null uint8\n",
      "Deck_F                1309 non-null uint8\n",
      "Deck_G                1309 non-null uint8\n",
      "Deck_Z                1309 non-null uint8\n",
      "Pclass_1              1309 non-null uint8\n",
      "Pclass_2              1309 non-null uint8\n",
      "Pclass_3              1309 non-null uint8\n",
      "Title_Lady            1309 non-null uint8\n",
      "Title_Master          1309 non-null uint8\n",
      "Title_Miss            1309 non-null uint8\n",
      "Title_Mr              1309 non-null uint8\n",
      "Title_Mrs             1309 non-null uint8\n",
      "Title_Officer         1309 non-null uint8\n",
      "Title_Sir             1309 non-null uint8\n",
      "Fare_Bin_very_low     1309 non-null uint8\n",
      "Fare_Bin_low          1309 non-null uint8\n",
      "Fare_Bin_high         1309 non-null uint8\n",
      "Fare_Bin_very_high    1309 non-null uint8\n",
      "Embarked_C            1309 non-null uint8\n",
      "Embarked_Q            1309 non-null uint8\n",
      "Embarked_S            1309 non-null uint8\n",
      "AgeState_Adult        1309 non-null uint8\n",
      "AgeState_Child        1309 non-null uint8\n",
      "dtypes: float64(2), int32(2), int64(2), uint8(27)\n",
      "memory usage: 135.9 KB\n"
     ]
    }
   ],
   "source": [
    "# Check info again\n",
    "df.info()"
   ]
  },
  {
   "cell_type": "markdown",
   "metadata": {},
   "source": [
    "### Save Processed dataset"
   ]
  },
  {
   "cell_type": "code",
   "execution_count": 118,
   "metadata": {},
   "outputs": [],
   "source": [
    "processed_data_path = os.path.join(os.path.pardir, 'data', 'processed')\n",
    "write_train_path = os.path.join(processed_data_path, train_file_path)\n",
    "write_test_path = os.path.join(processed_data_path, test_file_path)"
   ]
  },
  {
   "cell_type": "code",
   "execution_count": 119,
   "metadata": {},
   "outputs": [],
   "source": [
    "# Train data\n",
    "df.loc[df.Survived != -888].to_csv(write_train_path)\n",
    "# Test data\n",
    "columns = [column for column in df.columns if column != 'Survived']\n",
    "df.loc[df.Survived != -888, columns].to_csv(write_test_path)"
   ]
  },
  {
   "cell_type": "markdown",
   "metadata": {},
   "source": [
    "### Building the data processing script"
   ]
  },
  {
   "cell_type": "code",
   "execution_count": 120,
   "metadata": {
    "scrolled": true
   },
   "outputs": [
    {
     "name": "stdout",
     "output_type": "stream",
     "text": [
      "C:\\Users\\rvi29ga\\Jupyter tries\n",
      "C:\\Users\\rvi29ga\\Jupyter tries\\get_processed_data.py\n",
      "C:\\Users\\rvi29ga\\Jupyter tries\n",
      " Volume in drive C is Windows\n",
      " Volume Serial Number is A6D3-B5EB\n",
      "\n",
      " Directory of C:\\Users\\rvi29ga\\Jupyter tries\n",
      "\n",
      "10/06/2019  04:35 PM    <DIR>          .\n",
      "10/06/2019  04:35 PM    <DIR>          ..\n",
      "09/25/2019  01:34 PM    <DIR>          .ipynb_checkpoints\n",
      "09/23/2019  01:51 PM             8,674 first.ipynb\n",
      "10/06/2019  02:30 PM             3,863 get_processed_data.py\n",
      "10/06/2019  04:33 PM               287 hello_world_api.py\n",
      "10/06/2019  03:10 PM    <DIR>          models\n",
      "10/03/2019  09:31 PM    <DIR>          processed\n",
      "10/03/2019  09:33 PM    <DIR>          raw\n",
      "10/06/2019  04:35 PM           156,405 Titanic.ipynb\n",
      "09/23/2019  03:33 PM               707 Visualization.ipynb\n",
      "               5 File(s)        169,936 bytes\n",
      "               6 Dir(s)  68,002,320,384 bytes free\n"
     ]
    }
   ],
   "source": [
    "from pathlib import Path\n",
    "raw_data_path = r\"C:\\Users\\rvi29ga\\Jupyter tries\"\n",
    "get_processed_data_script_file = os.path.join(raw_data_path, 'get_processed_data.py')\n",
    "print(os.path.dirname(get_processed_data_script_file))\n",
    "print(Path(get_processed_data_script_file).absolute())\n",
    "print(Path(raw_data_path).absolute())\n",
    "%ls"
   ]
  },
  {
   "cell_type": "code",
   "execution_count": 121,
   "metadata": {},
   "outputs": [
    {
     "name": "stdout",
     "output_type": "stream",
     "text": [
      "Overwriting get_processed_data.py\n"
     ]
    }
   ],
   "source": [
    "%%writefile get_processed_data.py\n",
    "import numpy as np\n",
    "import pandas as pd\n",
    "import os\n",
    "\n",
    "#set the path of raw data\n",
    "raw_data_path = r\"C:\\Users\\rvi29ga\\Jupyter tries\\raw\"\n",
    "train_file_path = os.path.join(raw_data_path,'train.csv')\n",
    "test_file_path = os.path.join(raw_data_path,'test.csv') \n",
    "\n",
    "def read_data():\n",
    "    # read the data with all default parameters\n",
    "    train_df = pd.read_csv(train_file_path, index_col='PassengerId')\n",
    "    test_df = pd.read_csv(test_file_path, index_col='PassengerId')\n",
    "    test_df['Survived'] = -888\n",
    "    df = pd.concat((train_df, test_df), axis = 0, sort=True)\n",
    "    return df\n",
    "\n",
    "def process_data(df):\n",
    "    # using th emethod chaining concept\n",
    "    return (df\n",
    "           # create title attribute - the add this\n",
    "            .assign(Title = lambda x: x.Name.map(get_title))\n",
    "            # working missing values - start with this\n",
    "            .pipe(fill_missing_values)\n",
    "            # create fare bin feature\n",
    "            .assign(Fare_Bin = lambda x: pd.qcut(x.Fare, 4, labels = ['very_low', 'low', 'high', 'very_high']))\n",
    "            # create Age State\n",
    "            .assign(AgeState = lambda x: np.where(x.Age >= 18, 'Adult', 'Child'))\n",
    "            .assign(FamilySize = lambda x: x.Parch + x.SibSp + 1)\n",
    "            .assign(IsMother = lambda x: np.where(((x.Sex =='female') & (x.Parch > 0) & (x.Age > 18) & (x.Title !='Miss')),1,0))\n",
    "            # Create deck feature\n",
    "            .assign(Cabin = lambda x: np.where(x.Cabin == 'T', np.nan, x.Cabin))\n",
    "            .assign(Deck = lambda x: x.Cabin.map(get_deck))\n",
    "            # feature encoding\n",
    "            .assign(IsMale = lambda x: np.where(x.Sex == 'male', 1,0))\n",
    "            .pipe(pd.get_dummies, columns = ['Deck', 'Pclass', 'Title', 'Fare_Bin', 'Embarked', 'AgeState'])\n",
    "            # add code to drop unnecessary columns\n",
    "            .drop(['Cabin', 'Name', 'Ticket', 'Parch', 'SibSp', 'Sex'], axis=1)\n",
    "            # reorder columns\n",
    "            .pipe(reorder_columns)\n",
    "           )\n",
    "\n",
    "def get_title(name):\n",
    "    title_group = {\n",
    "        'mr' : 'Mr',\n",
    "        'mrs' : 'Mrs',\n",
    "        'miss' : 'Miss',\n",
    "        'master' : 'Master',\n",
    "        'don' : 'Sir',\n",
    "        'rev' : 'Sir',\n",
    "        'dr' : 'Officer',\n",
    "        'mme' : 'Mrs',\n",
    "        'ms' : 'Mrs',\n",
    "        'major' : 'Officer',\n",
    "        'lady' : 'Lady',\n",
    "        'sir' : 'Sir',\n",
    "        'mlle' : 'Miss',\n",
    "        'col' : 'Officer',\n",
    "        'capt' : 'Officer',\n",
    "        'the countess' : 'Lady',\n",
    "        'jonkheer' : 'Sir',\n",
    "        'dona' : 'Lady'\n",
    "    }\n",
    "    first_name_with_title = name.split(',')[1]\n",
    "    title = first_name_with_title.split('.')[0]\n",
    "    title = title.strip().lower()\n",
    "    return title_group[title]\n",
    "\n",
    "def get_deck(cabin):\n",
    "    return np.where(pd.notnull(cabin), str(cabin)[0].upper(), 'Z')\n",
    "\n",
    "def fill_missing_values(df):\n",
    "    # embarked\n",
    "    df.Embarked.fillna('C', inplace=True)\n",
    "    # fare\n",
    "    median_fare = df[(df.Pclass == 3) & (df.Embarked == 'S')]['Fare'].median()\n",
    "    df.Fare.fillna(median_fare, inplace=True)\n",
    "    # age\n",
    "    title_age_median = df.groupby('Title').Age.transform('median')\n",
    "    df.Age.fillna(title_age_median, inplace=True)\n",
    "    return df\n",
    "    \n",
    "def reorder_columns(df):\n",
    "    columns = [column for column in df.columns if column != 'Survived']\n",
    "    columns = ['Survived'] + columns\n",
    "    df = df[columns]\n",
    "    return df\n",
    "\n",
    "def write_data(df):\n",
    "    processed_data_path = r\"C:\\Users\\rvi29ga\\Jupyter tries\\processed\"\n",
    "    write_train_path = os.path.join(processed_data_path, 'train.csv')\n",
    "    write_test_path = os.path.join(processed_data_path, 'test.csv')\n",
    "    print(write_test_path)\n",
    "    # Train data\n",
    "    df.loc[df.Survived != -888].to_csv(write_train_path)\n",
    "    # Test data\n",
    "    columns = [column for column in df.columns if column != 'Survived']\n",
    "    df.loc[df.Survived == -888, columns].to_csv(write_test_path)\n",
    "    \n",
    "if __name__ == '__main__':\n",
    "    df = read_data()\n",
    "    df = process_data(df)\n",
    "    write_data(df)"
   ]
  },
  {
   "cell_type": "code",
   "execution_count": 122,
   "metadata": {},
   "outputs": [
    {
     "name": "stdout",
     "output_type": "stream",
     "text": [
      "C:\\Users\\rvi29ga\\Jupyter tries\\processed\\test.csv\n"
     ]
    }
   ],
   "source": [
    "!python get_processed_data.py"
   ]
  },
  {
   "cell_type": "code",
   "execution_count": 123,
   "metadata": {},
   "outputs": [
    {
     "name": "stdout",
     "output_type": "stream",
     "text": [
      "<class 'pandas.core.frame.DataFrame'>\n",
      "RangeIndex: 891 entries, 0 to 890\n",
      "Data columns (total 34 columns):\n",
      "PassengerId           891 non-null int64\n",
      "Survived              891 non-null int64\n",
      "Age                   891 non-null float64\n",
      "Fare                  891 non-null float64\n",
      "FamilySize            891 non-null int64\n",
      "IsMother              891 non-null int64\n",
      "IsMale                891 non-null int64\n",
      "Deck_A                891 non-null int64\n",
      "Deck_B                891 non-null int64\n",
      "Deck_C                891 non-null int64\n",
      "Deck_D                891 non-null int64\n",
      "Deck_E                891 non-null int64\n",
      "Deck_F                891 non-null int64\n",
      "Deck_G                891 non-null int64\n",
      "Deck_Z                891 non-null int64\n",
      "Pclass_1              891 non-null int64\n",
      "Pclass_2              891 non-null int64\n",
      "Pclass_3              891 non-null int64\n",
      "Title_Lady            891 non-null int64\n",
      "Title_Master          891 non-null int64\n",
      "Title_Miss            891 non-null int64\n",
      "Title_Mr              891 non-null int64\n",
      "Title_Mrs             891 non-null int64\n",
      "Title_Officer         891 non-null int64\n",
      "Title_Sir             891 non-null int64\n",
      "Fare_Bin_very_low     891 non-null int64\n",
      "Fare_Bin_low          891 non-null int64\n",
      "Fare_Bin_high         891 non-null int64\n",
      "Fare_Bin_very_high    891 non-null int64\n",
      "Embarked_C            891 non-null int64\n",
      "Embarked_Q            891 non-null int64\n",
      "Embarked_S            891 non-null int64\n",
      "AgeState_Adult        891 non-null int64\n",
      "AgeState_Child        891 non-null int64\n",
      "dtypes: float64(2), int64(32)\n",
      "memory usage: 236.8 KB\n"
     ]
    }
   ],
   "source": [
    "train_df = pd.read_csv(write_train_path)\n",
    "train_df.info()\n",
    "# print(write_test_path)"
   ]
  },
  {
   "cell_type": "code",
   "execution_count": 124,
   "metadata": {},
   "outputs": [
    {
     "name": "stdout",
     "output_type": "stream",
     "text": [
      "<class 'pandas.core.frame.DataFrame'>\n",
      "RangeIndex: 891 entries, 0 to 890\n",
      "Data columns (total 33 columns):\n",
      "PassengerId           891 non-null int64\n",
      "Age                   891 non-null float64\n",
      "Fare                  891 non-null float64\n",
      "FamilySize            891 non-null int64\n",
      "IsMother              891 non-null int64\n",
      "IsMale                891 non-null int64\n",
      "Deck_A                891 non-null int64\n",
      "Deck_B                891 non-null int64\n",
      "Deck_C                891 non-null int64\n",
      "Deck_D                891 non-null int64\n",
      "Deck_E                891 non-null int64\n",
      "Deck_F                891 non-null int64\n",
      "Deck_G                891 non-null int64\n",
      "Deck_Z                891 non-null int64\n",
      "Pclass_1              891 non-null int64\n",
      "Pclass_2              891 non-null int64\n",
      "Pclass_3              891 non-null int64\n",
      "Title_Lady            891 non-null int64\n",
      "Title_Master          891 non-null int64\n",
      "Title_Miss            891 non-null int64\n",
      "Title_Mr              891 non-null int64\n",
      "Title_Mrs             891 non-null int64\n",
      "Title_Officer         891 non-null int64\n",
      "Title_Sir             891 non-null int64\n",
      "Fare_Bin_very_low     891 non-null int64\n",
      "Fare_Bin_low          891 non-null int64\n",
      "Fare_Bin_high         891 non-null int64\n",
      "Fare_Bin_very_high    891 non-null int64\n",
      "Embarked_C            891 non-null int64\n",
      "Embarked_Q            891 non-null int64\n",
      "Embarked_S            891 non-null int64\n",
      "AgeState_Adult        891 non-null int64\n",
      "AgeState_Child        891 non-null int64\n",
      "dtypes: float64(2), int64(31)\n",
      "memory usage: 229.8 KB\n"
     ]
    }
   ],
   "source": [
    "test_df = pd.read_csv(write_test_path)\n",
    "test_df.info()"
   ]
  },
  {
   "cell_type": "markdown",
   "metadata": {},
   "source": [
    "## Advanced Visualization using MaatplotLib"
   ]
  },
  {
   "cell_type": "code",
   "execution_count": 125,
   "metadata": {},
   "outputs": [],
   "source": [
    "import matplotlib.pyplot as plt\n",
    "%matplotlib inline"
   ]
  },
  {
   "cell_type": "code",
   "execution_count": 126,
   "metadata": {},
   "outputs": [
    {
     "data": {
      "text/plain": [
       "(array([ 80.,  62., 324., 426., 189., 108.,  66.,  41.,  10.,   3.]),\n",
       " array([ 0.17 ,  8.153, 16.136, 24.119, 32.102, 40.085, 48.068, 56.051,\n",
       "        64.034, 72.017, 80.   ]),\n",
       " <a list of 10 Patch objects>)"
      ]
     },
     "execution_count": 126,
     "metadata": {},
     "output_type": "execute_result"
    },
    {
     "data": {
      "image/png": "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\n",
      "text/plain": [
       "<Figure size 432x288 with 1 Axes>"
      ]
     },
     "metadata": {},
     "output_type": "display_data"
    }
   ],
   "source": [
    "plt.hist(df.Age, edgecolor='black')"
   ]
  },
  {
   "cell_type": "code",
   "execution_count": 127,
   "metadata": {},
   "outputs": [
    {
     "data": {
      "image/png": "iVBORw0KGgoAAAANSUhEUgAAAXoAAAD8CAYAAAB5Pm/hAAAABHNCSVQICAgIfAhkiAAAAAlwSFlzAAALEgAACxIB0t1+/AAAADl0RVh0U29mdHdhcmUAbWF0cGxvdGxpYiB2ZXJzaW9uIDIuMi4yLCBodHRwOi8vbWF0cGxvdGxpYi5vcmcvhp/UCwAAEblJREFUeJzt3X+sZGV9x/H3pwvizwqUC73u3WWx3VqxqYvdUCxNo2AVCelqIg2k0Y2hWf/AVhuTCjapNalJSay0TVoSLFQ0FqT+KJsNaUu3GGPTggsiLqyUVYG97MJef6C2RoX12z/m3DpdL3t/zMyduQ/vVzKZc555zsx37sz93DPPnPPcVBWSpHb91LgLkCSNlkEvSY0z6CWpcQa9JDXOoJekxhn0ktQ4g16SGmfQS1LjDHpJatxx4y4A4JRTTqlNmzaNuwxJWlPuuuuur1fV1GL9JiLoN23axJ49e8ZdhiStKUkeXko/h24kqXEGvSQ1zqCXpMYZ9JLUuEWDPsmzk9yZ5ItJ7kvyvq79jCR3JHkwyceTPKtrP6Fb39/dvmm0T0GSdCxL2aP/AXBeVb0c2AJckOQc4Crg6qraDHwLuKzrfxnwrar6eeDqrp8kaUwWDfrq+e9u9fjuUsB5wCe69huAN3TL27p1utvPT5KhVSxJWpYljdEnWZfkHuAwcBvwFeCJqnqq6zILrO+W1wMHALrbvw38zAL3uSPJniR75ubmBnsWkqSntaSgr6ojVbUFmAHOBl66ULfueqG995/4x7RVdW1Vba2qrVNTi57YJUlaoWUddVNVTwCfAc4BTkwyf2btDHCwW54FNgB0t78Q+OYwitXaNj2zkSQrukzPbBx3+dKategUCEmmgCer6okkzwFeQ+8L1tuBNwE3AduBW7pNdnbr/9Hd/m9V9RN79HrmeezRA5z+7l0r2vbhqy4acjXSM8dS5rqZBm5Iso7eJ4Cbq2pXkvuBm5L8KfAF4Lqu/3XAR5Psp7cnf8kI6pYkLdGiQV9V9wJnLdD+VXrj9Ue3fx+4eCjVSZIG5pmxktQ4g16SGmfQS1LjDHpJapxBL0mNM+glqXEGvSQ1zqCXpMYZ9JLUOINekhpn0EtS4wx6SWqcQS9JjTPoJalxBr0kNc6gl6TGGfSS1DiDXpIaZ9BLUuMMeklqnEEvSY0z6CWpcQa9JDXOoJekxhn0ktS4RYM+yYYktyfZl+S+JO/o2v8kyaNJ7ukuF/Ztc2WS/UkeSPK6UT4BSdKxHbeEPk8B76qqu5O8ALgryW3dbVdX1Qf6Oyc5E7gEeBnwIuBfk/xCVR0ZZuGSpKVZdI++qg5V1d3d8neBfcD6Y2yyDbipqn5QVV8D9gNnD6NYSdLyLWuMPskm4Czgjq7p7UnuTXJ9kpO6tvXAgb7NZjn2HwZJ0ggtOeiTPB/4JPDOqvoOcA3wc8AW4BDw5/NdF9i8Fri/HUn2JNkzNze37MIlSUuzpKBPcjy9kP9YVX0KoKoer6ojVfUj4EP8eHhmFtjQt/kMcPDo+6yqa6tqa1VtnZqaGuQ5SJKOYSlH3QS4DthXVR/sa5/u6/ZGYG+3vBO4JMkJSc4ANgN3Dq9kSdJyLOWom3OBNwNfSnJP1/Ye4NIkW+gNyzwEvA2gqu5LcjNwP70jdi73iBtJGp9Fg76qPsfC4+63HmOb9wPvH6AuSdKQeGasJDXOoJekxhn0ktQ4g16SGmfQS1LjDHpJapxBL0mNM+glqXEGvSQ1zqCXpMYZ9JLUOINekhpn0EtS4wx6SWqcQS9JjTPoJalxBr0kNc6gl6TGGfSS1DiDXpIaZ9BLUuMMeklqnEEvSY0z6J+Bpmc2kmRFl+mZjeMuX9IyHTfuArT6Hnv0AKe/e9eKtn34qouGXI2kUXOPXpIat2jQJ9mQ5PYk+5Lcl+QdXfvJSW5L8mB3fVLXniR/lWR/knuTvGLUT0KS9PSWskf/FPCuqnopcA5weZIzgSuA3VW1GdjdrQO8HtjcXXYA1wy9aknSki0a9FV1qKru7pa/C+wD1gPbgBu6bjcAb+iWtwEfqZ7/BE5MMj30yiVJS7KsMfokm4CzgDuA06rqEPT+GACndt3WAwf6Npvt2iRJY7DkoE/yfOCTwDur6jvH6rpAWy1wfzuS7EmyZ25ubqllSJKWaUlBn+R4eiH/sar6VNf8+PyQTHd9uGufBTb0bT4DHDz6Pqvq2qraWlVbp6amVlq/JGkRSznqJsB1wL6q+mDfTTuB7d3yduCWvva3dEffnAN8e36IR5K0+pZywtS5wJuBLyW5p2t7D/BnwM1JLgMeAS7ubrsVuBDYD3wPeOtQK5YkLcuiQV9Vn2PhcXeA8xfoX8DlA9YlSRoSz4yVpMYZ9JLUOINekhpn0EtS4wx6SWqcQS9JjTPoJalxBr0kNc6gl6TGGfSS1DiDXpIaZ9BLUuMMeklqnEEvSY0z6CWpcQa9JDXOoJekxhn0ktQ4g16SGmfQS1LjDHpJapxBL0mNM+glqXEGvSQ1zqCXpMYZ9JLUuEWDPsn1SQ4n2dvX9idJHk1yT3e5sO+2K5PsT/JAkteNqnBJ0tIsZY/+w8AFC7RfXVVbusutAEnOBC4BXtZt8zdJ1g2rWEnS8i0a9FX1WeCbS7y/bcBNVfWDqvoasB84e4D6JEkDGmSM/u1J7u2Gdk7q2tYDB/r6zHZtkqQxWWnQXwP8HLAFOAT8edeeBfrWQneQZEeSPUn2zM3NrbAMSdJiVhT0VfV4VR2pqh8BH+LHwzOzwIa+rjPAwae5j2uramtVbZ2amlpJGZKkJVhR0CeZ7lt9IzB/RM5O4JIkJyQ5A9gM3DlYiZKkQRy3WIckNwKvAk5JMgu8F3hVki30hmUeAt4GUFX3JbkZuB94Cri8qo6MpnRJ0lIsGvRVdekCzdcdo//7gfcPUpQkaXg8M1aSGmfQS1LjDHpJapxBL0mNM+glqXEGvSQ1zqCXpMYZ9JLUOINekhpn0EtS4xadAkH6f9YdT7LQbNSSJpVBr+U58iSnv3vXijZ9+KqLhlyMpKVw6EZrQ/dJYiWX6ZmN465eGiv36LU2+ElCWjH36CWpcQa9JDXOoJekxhn0ktQ4g16SGmfQS1LjDPo1aHpm44qPKfesVumZx+Po16DHHj2w4mPKwePKpWca9+glqXEGvSQ1zqCXpMYZ9JLUuEWDPsn1SQ4n2dvXdnKS25I82F2f1LUnyV8l2Z/k3iSvGGXxkqTFLWWP/sPABUe1XQHsrqrNwO5uHeD1wObusgO4ZjhlSpJWatGgr6rPAt88qnkbcEO3fAPwhr72j1TPfwInJpkeVrGSpOVb6Rj9aVV1CKC7PrVrXw8c6Os327X9hCQ7kuxJsmdubm6FZUiSFjPsL2MXOu2yFupYVddW1daq2jo1NTXkMiRJ81Ya9I/PD8l014e79llgQ1+/GeDgysuTJA1qpUG/E9jeLW8Hbulrf0t39M05wLfnh3gkSeOx6Fw3SW4EXgWckmQWeC/wZ8DNSS4DHgEu7rrfClwI7Ae+B7x1BDVLkpZh0aCvqkuf5qbzF+hbwOWDFiVJGh7PjJWkxhn0ktQ4g16SGmfQS1LjDHpJapxBL0mNM+glqXEGvSQ1zqCXpMYZ9JLUOINekhpn0EtS4wx6SWqcQS9JjTPoJalxBr0kNc6gl6TGGfSS1DiDXpIaZ9CrfeuOJ8mKL9MzG8f9DKSBLPrPwaU178iTnP7uXSve/OGrLhpiMdLqc49ekhpn0EtS49Z80E/PbHT8VZKOYc2P0T/26AHHXzWxpmc28tijB1a07c+u38Ch2UeGXJGeiQYK+iQPAd8FjgBPVdXWJCcDHwc2AQ8Bv11V3xqsTGltGmRHxJ0QDcswhm5eXVVbqmprt34FsLuqNgO7u3VJ0piMYox+G3BDt3wD8IYRPIYkaYkGDfoC/iXJXUl2dG2nVdUhgO761AEfQxqvAU64kibBoF/GnltVB5OcCtyW5MtL3bD7w7ADYONGj3zRBBvghCvH2TUJBtqjr6qD3fVh4NPA2cDjSaYBuuvDT7PttVW1taq2Tk1NDVKGJOkYVhz0SZ6X5AXzy8Brgb3ATmB71207cMugRUqSVm6QoZvTgE9345DHAX9fVf+U5PPAzUkuAx4BLh68TEnSSq046Kvqq8DLF2j/BnD+IEVJkoZnzU+BIEk6NoNekhpn0I/JIJOxSdJyrPlJzdYq50DRoroTtVbCCdHUz6CXJpUnamlIHLqRpMYZ9JLUOINekhpn0EtS4wx6SWqcQS9JjTPopRYN8M9Spmf8/xCt8Th6qUUeg68+7tFLUuMMeklqnEM3A8wnsu5Zz+bID78/5IKkMRvgdwKcZ2cSGfQDjmU6DqrmDPA7AfDwB97oZGwTxqCXNFx+ETxxHKOXpMYZ9JLUOINekhpn0EtS4wx6SWqcQS9JjTPoJalxBr0kNW5kQZ/kgiQPJNmf5IpRPY6khgwwvfJxJzzHqZmfxkjOjE2yDvhr4DeBWeDzSXZW1f2jeDxJjXBKkpEY1R792cD+qvpqVf0QuAnYNqLHkqTBDPBJYi18IhjVXDfrgQN967PAr47osSRpMI1P5JaqGv6dJhcDr6uq3+3W3wycXVW/19dnB7CjW30J8MAKH+4U4OsDlDsq1rU81rU8k1oXTG5tLdZ1elVNLdZpVHv0s8CGvvUZ4GB/h6q6Frh20AdKsqeqtg56P8NmXctjXcszqXXB5Nb2TK5rVGP0nwc2JzkjybOAS4CdI3osSdIxjGSPvqqeSvJ24J+BdcD1VXXfKB5LknRsI/vHI1V1K3DrqO6/z8DDPyNiXctjXcszqXXB5Nb2jK1rJF/GSpImh1MgSFLj1mzQT9IUC0muT3I4yd6+tpOT3Jbkwe76pFWuaUOS25PsS3JfkndMQl1dDc9OcmeSL3a1va9rPyPJHV1tH+++yF/t2tYl+UKSXZNSU1fHQ0m+lOSeJHu6tkl4LU9M8okkX+7ea68cd11JXtL9nOYv30nyznHX1dX2B917fm+SG7vfhZG/x9Zk0PdNsfB64Ezg0iRnjrGkDwMXHNV2BbC7qjYDu7v11fQU8K6qeilwDnB59zMad10APwDOq6qXA1uAC5KcA1wFXN3V9i3gsjHU9g5gX9/6JNQ079VVtaXvULxJeC3/EvinqvpF4OX0fnZjrauqHuh+TluAXwG+B3x63HUlWQ/8PrC1qn6J3oEql7Aa77GqWnMX4JXAP/etXwlcOeaaNgF7+9YfAKa75WnggTHXdwu9uYcmra7nAnfTO3P668BxC73Gq1TLDL0AOA/YBWTcNfXV9hBwylFtY30tgZ8Gvkb3Xd+k1HVULa8F/n0S6uLHMwacTO9AmF3A61bjPbYm9+hZeIqF9WOq5emcVlWHALrrU8dVSJJNwFnAHZNSVzdEcg9wGLgN+ArwRFU91XUZx2v6F8AfAj/q1n9mAmqaV8C/JLmrO6scxv9avhiYA/6uG+762yTPm4C6+l0C3Ngtj7WuqnoU+ADwCHAI+DZwF6vwHlurQb/QpBIePrSAJM8HPgm8s6q+M+565lXVkep9tJ6hNwneSxfqtlr1JLkIOFxVd/U3L9B1XO+zc6vqFfSGKy9P8htjqqPfccArgGuq6izgfxjP8NGCurHu3wL+Ydy1AHTfCWwDzgBeBDyP3ut5tKG/x9Zq0C86xcIEeDzJNEB3fXi1C0hyPL2Q/1hVfWpS6upXVU8An6H3PcKJSebP7Vjt1/Rc4LeSPERvttXz6O3hj7Om/1NVB7vrw/TGm89m/K/lLDBbVXd065+gF/zjrmve64G7q+rxbn3cdb0G+FpVzVXVk8CngF9jFd5jazXo18IUCzuB7d3ydnpj5KsmSYDrgH1V9cFJqaurbSrJid3yc+j9AuwDbgfeNI7aqurKqpqpqk303k//VlW/M86a5iV5XpIXzC/TG3fey5hfy6p6DDiQ5CVd0/nA/eOuq8+l/HjYBsZf1yPAOUme2/1+zv+8Rv8eG9eXJEP4YuNC4L/oje3+0ZhruZHemNuT9PZyLqM3vrsbeLC7PnmVa/p1eh8B7wXu6S4XjruurrZfBr7Q1bYX+OOu/cXAncB+eh+3TxjT6/kqYNek1NTV8MXuct/8+31CXsstwJ7utfxH4KQJqeu5wDeAF/a1TUJd7wO+3L3vPwqcsBrvMc+MlaTGrdWhG0nSEhn0ktQ4g16SGmfQS1LjDHpJapxBL0mNM+glqXEGvSQ17n8BAbBZHCLxhXUAAAAASUVORK5CYII=\n",
      "text/plain": [
       "<Figure size 432x288 with 1 Axes>"
      ]
     },
     "metadata": {},
     "output_type": "display_data"
    }
   ],
   "source": [
    "plt.hist(df.Age, bins=20, edgecolor='black')\n",
    "plt.show()"
   ]
  },
  {
   "cell_type": "code",
   "execution_count": 128,
   "metadata": {},
   "outputs": [
    {
     "data": {
      "image/png": "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\n",
      "text/plain": [
       "<Figure size 432x288 with 1 Axes>"
      ]
     },
     "metadata": {},
     "output_type": "display_data"
    }
   ],
   "source": [
    "plt.hist(df.Age, edgecolor='black', bins=20)\n",
    "plt.title('Histogram : Age')\n",
    "plt.xlabel('Bins')\n",
    "plt.ylabel('Counts')\n",
    "plt.show()"
   ]
  },
  {
   "cell_type": "code",
   "execution_count": 129,
   "metadata": {
    "scrolled": true
   },
   "outputs": [
    {
     "data": {
      "image/png": "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\n",
      "text/plain": [
       "<Figure size 432x288 with 1 Axes>"
      ]
     },
     "metadata": {},
     "output_type": "display_data"
    }
   ],
   "source": [
    "f , ax = plt.subplots()\n",
    "ax.hist(df.Age, bins = 20, edgecolor='black')\n",
    "ax.set_title('Histogram : Age')\n",
    "ax.set_xlabel('Bins')\n",
    "ax.set_ylabel('Counts')\n",
    "plt.show()"
   ]
  },
  {
   "cell_type": "code",
   "execution_count": 130,
   "metadata": {
    "scrolled": true
   },
   "outputs": [
    {
     "data": {
      "image/png": "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\n",
      "text/plain": [
       "<Figure size 1008x216 with 2 Axes>"
      ]
     },
     "metadata": {},
     "output_type": "display_data"
    }
   ],
   "source": [
    "# Add subplots\n",
    "f , (ax1, ax2) = plt.subplots(1, 2, figsize=(14, 3)) #1, 2 is rows x columns\n",
    "\n",
    "ax1.hist(df.Fare, bins = 20, edgecolor='black')\n",
    "ax1.set_title('Histogram : Fare')\n",
    "ax1.set_xlabel('Bins')\n",
    "ax1.set_ylabel('Counts')\n",
    "\n",
    "ax2.hist(df.Age, bins = 20, edgecolor='tomato')\n",
    "ax2.set_title('Histogram : Age')\n",
    "ax2.set_xlabel('Bins')\n",
    "ax2.set_ylabel('Counts')\n",
    "\n",
    "plt.show()"
   ]
  },
  {
   "cell_type": "code",
   "execution_count": 131,
   "metadata": {},
   "outputs": [
    {
     "data": {
      "image/png": "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\n",
      "text/plain": [
       "<Figure size 1008x504 with 6 Axes>"
      ]
     },
     "metadata": {},
     "output_type": "display_data"
    }
   ],
   "source": [
    "# Adding subplots\n",
    "f , ax_arr = plt.subplots(3, 2, figsize=(14, 7)) #1, 2 is rows x columns\n",
    "\n",
    "# Plot 1\n",
    "ax_arr[0,0].hist(df.Fare, bins = 20, edgecolor='black')\n",
    "ax_arr[0,0].set_title('Histogram : Fare')\n",
    "ax_arr[0,0].set_xlabel('Bins')\n",
    "ax_arr[0,0].set_ylabel('Counts')\n",
    "\n",
    "# Plot 2\n",
    "ax_arr[0,1].hist(df.Age, bins = 20, edgecolor='tomato')\n",
    "ax_arr[0,1].set_title('Histogram : Age')\n",
    "ax_arr[0,1].set_xlabel('Bins')\n",
    "ax_arr[0,1].set_ylabel('Counts')\n",
    "\n",
    "# Plot 3\n",
    "ax_arr[1,0].boxplot(df.Fare.values)\n",
    "ax_arr[1,0].set_title('Boxplot : Fare')\n",
    "ax_arr[1,0].set_xlabel('Fare')\n",
    "ax_arr[1,0].set_ylabel('Fare')\n",
    "\n",
    "# Plot 4\n",
    "ax_arr[1,1].boxplot(df.Age.values)\n",
    "ax_arr[1,1].set_title('Boxplot : Age')\n",
    "ax_arr[1,1].set_xlabel('Age')\n",
    "ax_arr[1,1].set_ylabel('Age')\n",
    "\n",
    "# Plot 5\n",
    "ax_arr[2,0].scatter(df.Age, df.Fare, alpha = 0.15, edgecolor='orange')\n",
    "ax_arr[2,0].set_title('Scatterplot : Age vs Fare')\n",
    "ax_arr[2,0].set_xlabel('Age')\n",
    "ax_arr[2,0].set_ylabel('Fare')\n",
    "\n",
    "\n",
    "ax_arr[2,1].axis('off')\n",
    "plt.tight_layout()\n",
    "\n",
    "plt.show()"
   ]
  },
  {
   "cell_type": "markdown",
   "metadata": {},
   "source": [
    "## Building Predictive models"
   ]
  },
  {
   "cell_type": "code",
   "execution_count": 132,
   "metadata": {},
   "outputs": [],
   "source": [
    "import pandas as pd\n",
    "import os\n",
    "import numpy as np"
   ]
  },
  {
   "cell_type": "markdown",
   "metadata": {},
   "source": [
    "### Import Data"
   ]
  },
  {
   "cell_type": "code",
   "execution_count": 133,
   "metadata": {},
   "outputs": [],
   "source": [
    "# set the path of the processed data\n",
    "# C:\\Users\\rvi29ga\\Jupyter tries\\raw\n",
    "processed_data_path = r\"C:\\Users\\rvi29ga\\Jupyter tries\\processed\"\n",
    "train_file_path = os.path.join(processed_data_path, 'train.csv')\n",
    "test_file_path = os.path.join(processed_data_path, 'test.csv')"
   ]
  },
  {
   "cell_type": "code",
   "execution_count": 134,
   "metadata": {},
   "outputs": [],
   "source": [
    "train_df = pd.read_csv(train_file_path, index_col='PassengerId')\n",
    "test_df = pd.read_csv(test_file_path, index_col='PassengerId')"
   ]
  },
  {
   "cell_type": "code",
   "execution_count": 135,
   "metadata": {},
   "outputs": [
    {
     "name": "stdout",
     "output_type": "stream",
     "text": [
      "<class 'pandas.core.frame.DataFrame'>\n",
      "Int64Index: 891 entries, 1 to 891\n",
      "Data columns (total 33 columns):\n",
      "Survived              891 non-null int64\n",
      "Age                   891 non-null float64\n",
      "Fare                  891 non-null float64\n",
      "FamilySize            891 non-null int64\n",
      "IsMother              891 non-null int64\n",
      "IsMale                891 non-null int64\n",
      "Deck_A                891 non-null int64\n",
      "Deck_B                891 non-null int64\n",
      "Deck_C                891 non-null int64\n",
      "Deck_D                891 non-null int64\n",
      "Deck_E                891 non-null int64\n",
      "Deck_F                891 non-null int64\n",
      "Deck_G                891 non-null int64\n",
      "Deck_Z                891 non-null int64\n",
      "Pclass_1              891 non-null int64\n",
      "Pclass_2              891 non-null int64\n",
      "Pclass_3              891 non-null int64\n",
      "Title_Lady            891 non-null int64\n",
      "Title_Master          891 non-null int64\n",
      "Title_Miss            891 non-null int64\n",
      "Title_Mr              891 non-null int64\n",
      "Title_Mrs             891 non-null int64\n",
      "Title_Officer         891 non-null int64\n",
      "Title_Sir             891 non-null int64\n",
      "Fare_Bin_very_low     891 non-null int64\n",
      "Fare_Bin_low          891 non-null int64\n",
      "Fare_Bin_high         891 non-null int64\n",
      "Fare_Bin_very_high    891 non-null int64\n",
      "Embarked_C            891 non-null int64\n",
      "Embarked_Q            891 non-null int64\n",
      "Embarked_S            891 non-null int64\n",
      "AgeState_Adult        891 non-null int64\n",
      "AgeState_Child        891 non-null int64\n",
      "dtypes: float64(2), int64(31)\n",
      "memory usage: 236.7 KB\n"
     ]
    }
   ],
   "source": [
    "train_df.info()"
   ]
  },
  {
   "cell_type": "code",
   "execution_count": 136,
   "metadata": {},
   "outputs": [
    {
     "name": "stdout",
     "output_type": "stream",
     "text": [
      "<class 'pandas.core.frame.DataFrame'>\n",
      "Int64Index: 418 entries, 892 to 1309\n",
      "Data columns (total 32 columns):\n",
      "Age                   418 non-null float64\n",
      "Fare                  418 non-null float64\n",
      "FamilySize            418 non-null int64\n",
      "IsMother              418 non-null int64\n",
      "IsMale                418 non-null int64\n",
      "Deck_A                418 non-null int64\n",
      "Deck_B                418 non-null int64\n",
      "Deck_C                418 non-null int64\n",
      "Deck_D                418 non-null int64\n",
      "Deck_E                418 non-null int64\n",
      "Deck_F                418 non-null int64\n",
      "Deck_G                418 non-null int64\n",
      "Deck_Z                418 non-null int64\n",
      "Pclass_1              418 non-null int64\n",
      "Pclass_2              418 non-null int64\n",
      "Pclass_3              418 non-null int64\n",
      "Title_Lady            418 non-null int64\n",
      "Title_Master          418 non-null int64\n",
      "Title_Miss            418 non-null int64\n",
      "Title_Mr              418 non-null int64\n",
      "Title_Mrs             418 non-null int64\n",
      "Title_Officer         418 non-null int64\n",
      "Title_Sir             418 non-null int64\n",
      "Fare_Bin_very_low     418 non-null int64\n",
      "Fare_Bin_low          418 non-null int64\n",
      "Fare_Bin_high         418 non-null int64\n",
      "Fare_Bin_very_high    418 non-null int64\n",
      "Embarked_C            418 non-null int64\n",
      "Embarked_Q            418 non-null int64\n",
      "Embarked_S            418 non-null int64\n",
      "AgeState_Adult        418 non-null int64\n",
      "AgeState_Child        418 non-null int64\n",
      "dtypes: float64(2), int64(30)\n",
      "memory usage: 107.8 KB\n"
     ]
    }
   ],
   "source": [
    "test_df.info()"
   ]
  },
  {
   "cell_type": "markdown",
   "metadata": {},
   "source": [
    "### Data Preperation"
   ]
  },
  {
   "cell_type": "code",
   "execution_count": 137,
   "metadata": {},
   "outputs": [],
   "source": [
    "X = train_df.loc[:,'Age':].values.astype('float')\n",
    "y = train_df['Survived'].ravel()"
   ]
  },
  {
   "cell_type": "code",
   "execution_count": 138,
   "metadata": {},
   "outputs": [
    {
     "name": "stdout",
     "output_type": "stream",
     "text": [
      "(891, 32) (891,)\n"
     ]
    }
   ],
   "source": [
    "print(X.shape, y.shape)"
   ]
  },
  {
   "cell_type": "code",
   "execution_count": 139,
   "metadata": {},
   "outputs": [
    {
     "name": "stdout",
     "output_type": "stream",
     "text": [
      "(712, 32) (712,)\n",
      "(179, 32) (179,)\n"
     ]
    }
   ],
   "source": [
    "# train test split\n",
    "from sklearn.model_selection import train_test_split\n",
    "X_train, X_test, y_train, y_test = train_test_split(X, y, test_size=0.2, random_state=0)\n",
    "print(X_train.shape, y_train.shape)\n",
    "print(X_test.shape, y_test.shape)"
   ]
  },
  {
   "cell_type": "code",
   "execution_count": 140,
   "metadata": {
    "scrolled": true
   },
   "outputs": [
    {
     "name": "stdout",
     "output_type": "stream",
     "text": [
      "Mean survival in train : 0.383\n",
      "Mean survival in test : 0.385\n"
     ]
    }
   ],
   "source": [
    "# average survival in train and test\n",
    "print('Mean survival in train : {0:.3f}'.format(np.mean(y_train)))\n",
    "print('Mean survival in test : {0:.3f}'.format(np.mean(y_test)))"
   ]
  },
  {
   "cell_type": "markdown",
   "metadata": {},
   "source": [
    "### Check Scikit-Learn Version"
   ]
  },
  {
   "cell_type": "code",
   "execution_count": 141,
   "metadata": {},
   "outputs": [],
   "source": [
    "import sklearn"
   ]
  },
  {
   "cell_type": "code",
   "execution_count": 142,
   "metadata": {},
   "outputs": [
    {
     "data": {
      "text/plain": [
       "'0.19.1'"
      ]
     },
     "execution_count": 142,
     "metadata": {},
     "output_type": "execute_result"
    }
   ],
   "source": [
    "sklearn.__version__"
   ]
  },
  {
   "cell_type": "markdown",
   "metadata": {},
   "source": [
    "### Baseline Model"
   ]
  },
  {
   "cell_type": "code",
   "execution_count": 143,
   "metadata": {},
   "outputs": [],
   "source": [
    "# import function\n",
    "from sklearn.dummy import DummyClassifier"
   ]
  },
  {
   "cell_type": "code",
   "execution_count": 144,
   "metadata": {},
   "outputs": [],
   "source": [
    "# create model\n",
    "model_dummy = DummyClassifier(strategy='most_frequent', random_state=0)"
   ]
  },
  {
   "cell_type": "code",
   "execution_count": 145,
   "metadata": {},
   "outputs": [
    {
     "data": {
      "text/plain": [
       "DummyClassifier(constant=None, random_state=0, strategy='most_frequent')"
      ]
     },
     "execution_count": 145,
     "metadata": {},
     "output_type": "execute_result"
    }
   ],
   "source": [
    "# train model\n",
    "model_dummy.fit(X_train, y_train)"
   ]
  },
  {
   "cell_type": "code",
   "execution_count": 146,
   "metadata": {},
   "outputs": [
    {
     "name": "stdout",
     "output_type": "stream",
     "text": [
      "Score for baseline model : 0.61\n"
     ]
    }
   ],
   "source": [
    "print('Score for baseline model : {0:.2f}'.format(model_dummy.score(X_test, y_test)))"
   ]
  },
  {
   "cell_type": "code",
   "execution_count": 147,
   "metadata": {},
   "outputs": [],
   "source": [
    "# Performance metrics\n",
    "from sklearn.metrics import accuracy_score, confusion_matrix, precision_score, recall_score"
   ]
  },
  {
   "cell_type": "code",
   "execution_count": 148,
   "metadata": {},
   "outputs": [
    {
     "name": "stdout",
     "output_type": "stream",
     "text": [
      "Accuracy for baseline model : 0.61\n"
     ]
    }
   ],
   "source": [
    "# Accuracy score\n",
    "print('Accuracy for baseline model : {0:0.2f}'.format(accuracy_score(y_test, model_dummy.predict(X_test))))"
   ]
  },
  {
   "cell_type": "code",
   "execution_count": 149,
   "metadata": {},
   "outputs": [
    {
     "name": "stdout",
     "output_type": "stream",
     "text": [
      "Confusion matrix for baseline model :\n",
      " [[110   0]\n",
      " [ 69   0]]\n"
     ]
    }
   ],
   "source": [
    "# Confusion matrix\n",
    "print('Confusion matrix for baseline model :\\n {0}'.format(confusion_matrix(y_test, model_dummy.predict(X_test))))"
   ]
  },
  {
   "cell_type": "code",
   "execution_count": 150,
   "metadata": {
    "scrolled": true
   },
   "outputs": [
    {
     "name": "stdout",
     "output_type": "stream",
     "text": [
      "Precision for baseline model : 0.00\n",
      "Recall for baseline model : 0.00\n"
     ]
    },
    {
     "name": "stderr",
     "output_type": "stream",
     "text": [
      "C:\\ProgramData\\Anaconda3\\lib\\site-packages\\sklearn\\metrics\\classification.py:1135: UndefinedMetricWarning: Precision is ill-defined and being set to 0.0 due to no predicted samples.\n",
      "  'precision', 'predicted', average, warn_for)\n"
     ]
    }
   ],
   "source": [
    "# Precision and recall score\n",
    "print('Precision for baseline model : {0:0.2f}'.format(precision_score(y_test, model_dummy.predict(X_test))))\n",
    "print('Recall for baseline model : {0:0.2f}'.format(recall_score(y_test, model_dummy.predict(X_test))))"
   ]
  },
  {
   "cell_type": "markdown",
   "metadata": {},
   "source": [
    "### First test submission"
   ]
  },
  {
   "cell_type": "code",
   "execution_count": 151,
   "metadata": {},
   "outputs": [],
   "source": [
    "# Converting to the matrix\n",
    "test_X = test_df.values.astype('float')"
   ]
  },
  {
   "cell_type": "code",
   "execution_count": 152,
   "metadata": {},
   "outputs": [],
   "source": [
    "# Get predictions\n",
    "predictions = model_dummy.predict(test_X)"
   ]
  },
  {
   "cell_type": "code",
   "execution_count": 153,
   "metadata": {},
   "outputs": [],
   "source": [
    "df_submission = pd.DataFrame({'PassengerId': test_df.index, 'Survived' : predictions})"
   ]
  },
  {
   "cell_type": "code",
   "execution_count": 154,
   "metadata": {},
   "outputs": [
    {
     "data": {
      "text/html": [
       "<div>\n",
       "<style scoped>\n",
       "    .dataframe tbody tr th:only-of-type {\n",
       "        vertical-align: middle;\n",
       "    }\n",
       "\n",
       "    .dataframe tbody tr th {\n",
       "        vertical-align: top;\n",
       "    }\n",
       "\n",
       "    .dataframe thead th {\n",
       "        text-align: right;\n",
       "    }\n",
       "</style>\n",
       "<table border=\"1\" class=\"dataframe\">\n",
       "  <thead>\n",
       "    <tr style=\"text-align: right;\">\n",
       "      <th></th>\n",
       "      <th>PassengerId</th>\n",
       "      <th>Survived</th>\n",
       "    </tr>\n",
       "  </thead>\n",
       "  <tbody>\n",
       "    <tr>\n",
       "      <th>0</th>\n",
       "      <td>892</td>\n",
       "      <td>0</td>\n",
       "    </tr>\n",
       "    <tr>\n",
       "      <th>1</th>\n",
       "      <td>893</td>\n",
       "      <td>0</td>\n",
       "    </tr>\n",
       "    <tr>\n",
       "      <th>2</th>\n",
       "      <td>894</td>\n",
       "      <td>0</td>\n",
       "    </tr>\n",
       "    <tr>\n",
       "      <th>3</th>\n",
       "      <td>895</td>\n",
       "      <td>0</td>\n",
       "    </tr>\n",
       "    <tr>\n",
       "      <th>4</th>\n",
       "      <td>896</td>\n",
       "      <td>0</td>\n",
       "    </tr>\n",
       "  </tbody>\n",
       "</table>\n",
       "</div>"
      ],
      "text/plain": [
       "   PassengerId  Survived\n",
       "0          892         0\n",
       "1          893         0\n",
       "2          894         0\n",
       "3          895         0\n",
       "4          896         0"
      ]
     },
     "execution_count": 154,
     "metadata": {},
     "output_type": "execute_result"
    }
   ],
   "source": [
    "df_submission.head()"
   ]
  },
  {
   "cell_type": "code",
   "execution_count": 155,
   "metadata": {},
   "outputs": [],
   "source": [
    "submission_data_path = r\"C:\\Users\\rvi29ga\\Jupyter tries\\processed\\output\"\n",
    "submission_file_path = os.path.join(submission_data_path, '01_dummy.csv')"
   ]
  },
  {
   "cell_type": "code",
   "execution_count": 156,
   "metadata": {},
   "outputs": [],
   "source": [
    "df_submission.to_csv(submission_file_path, index=False)"
   ]
  },
  {
   "cell_type": "code",
   "execution_count": 157,
   "metadata": {},
   "outputs": [],
   "source": [
    "def get_submission_file(model, filename):\n",
    "    # converting to the matrix\n",
    "    test_X = test_df.values.astype('float')\n",
    "    # make predictions\n",
    "    predictions = model.predict(test_X)\n",
    "    # submission dataframe\n",
    "    df_submission = pd.DataFrame({'PassengerId': test_df.index, 'Survived' : predictions})\n",
    "    # submission file\n",
    "    submission_data_path = r\"C:\\Users\\rvi29ga\\Jupyter tries\\processed\\output\"\n",
    "    submission_file_path = os.path.join(submission_data_path, filename)\n",
    "    # write to the file\n",
    "    df_submission.to_csv(submission_file_path, index=False)"
   ]
  },
  {
   "cell_type": "code",
   "execution_count": 158,
   "metadata": {},
   "outputs": [],
   "source": [
    "# get Submission file\n",
    "get_submission_file(model_dummy, 'Dummy_01_Vicky.csv')"
   ]
  },
  {
   "cell_type": "markdown",
   "metadata": {},
   "source": [
    "### Logistic Regression Model"
   ]
  },
  {
   "cell_type": "code",
   "execution_count": 159,
   "metadata": {},
   "outputs": [],
   "source": [
    "#import function\n",
    "from sklearn.linear_model import LogisticRegression"
   ]
  },
  {
   "cell_type": "code",
   "execution_count": 160,
   "metadata": {},
   "outputs": [],
   "source": [
    "# create model\n",
    "model_lr_l = LogisticRegression(random_state=0)"
   ]
  },
  {
   "cell_type": "code",
   "execution_count": 161,
   "metadata": {},
   "outputs": [
    {
     "data": {
      "text/plain": [
       "LogisticRegression(C=1.0, class_weight=None, dual=False, fit_intercept=True,\n",
       "          intercept_scaling=1, max_iter=100, multi_class='ovr', n_jobs=1,\n",
       "          penalty='l2', random_state=0, solver='liblinear', tol=0.0001,\n",
       "          verbose=0, warm_start=False)"
      ]
     },
     "execution_count": 161,
     "metadata": {},
     "output_type": "execute_result"
    }
   ],
   "source": [
    "model_lr_l.fit(X_train, y_train)"
   ]
  },
  {
   "cell_type": "code",
   "execution_count": 162,
   "metadata": {},
   "outputs": [
    {
     "name": "stdout",
     "output_type": "stream",
     "text": [
      "Score for logistic regression - version 1 : 0.83\n"
     ]
    }
   ],
   "source": [
    "# Evaluate model\n",
    "print('Score for logistic regression - version 1 : {0:.2f}'.format(model_lr_l.score(X_test, y_test)))"
   ]
  },
  {
   "cell_type": "code",
   "execution_count": 163,
   "metadata": {},
   "outputs": [
    {
     "name": "stdout",
     "output_type": "stream",
     "text": [
      "Accuracy for logistic regression - version 1 : 0.83\n",
      "Recall for logistic regression - version 1 :\n",
      " [[95 15]\n",
      " [15 54]]\n",
      "Accuracy for logistic regression - version 1 : 0.78\n",
      "Recall for logistic regression - version 1 : 0.78\n"
     ]
    }
   ],
   "source": [
    "# performance metrice\n",
    "# Accuracy\n",
    "print('Accuracy for logistic regression - version 1 : {0:0.2f}'.format(accuracy_score(y_test, model_lr_l.predict(X_test))))\n",
    "# confusion matrix\n",
    "print('Recall for logistic regression - version 1 :\\n {0}'.format(confusion_matrix(y_test, model_lr_l.predict(X_test))))\n",
    "# Precision\n",
    "print('Accuracy for logistic regression - version 1 : {0:0.2f}'.format(precision_score(y_test, model_lr_l.predict(X_test))))\n",
    "# Recall\n",
    "print('Recall for logistic regression - version 1 : {0:0.2f}'.format(recall_score(y_test, model_lr_l.predict(X_test))))"
   ]
  },
  {
   "cell_type": "code",
   "execution_count": 164,
   "metadata": {},
   "outputs": [
    {
     "data": {
      "text/plain": [
       "array([[-0.02840734,  0.00455631, -0.50017004,  0.61922838, -0.81414743,\n",
       "         0.12823264, -0.17253859, -0.39355488,  0.52215008,  1.09939125,\n",
       "         0.40346551, -0.18369316, -0.30021028,  0.96558544,  0.48281794,\n",
       "        -0.3451608 ,  0.28258585,  1.21850069,  0.56334183, -1.44612507,\n",
       "         1.07146232, -0.11345497, -0.47306807,  0.16297326,  0.24746349,\n",
       "         0.27998252,  0.4128233 ,  0.49202884,  0.46214499,  0.14906873,\n",
       "         0.37253571,  0.73070686]])"
      ]
     },
     "execution_count": 164,
     "metadata": {},
     "output_type": "execute_result"
    }
   ],
   "source": [
    "# model coefficients\n",
    "model_lr_l.coef_"
   ]
  },
  {
   "cell_type": "markdown",
   "metadata": {},
   "source": [
    "### Second Kaggle Submission"
   ]
  },
  {
   "cell_type": "code",
   "execution_count": 165,
   "metadata": {},
   "outputs": [],
   "source": [
    "# Get submission file\n",
    "get_submission_file(model_lr_l, 'Logistic_01_Vicky.csv')"
   ]
  },
  {
   "cell_type": "code",
   "execution_count": 166,
   "metadata": {
    "scrolled": true
   },
   "outputs": [
    {
     "data": {
      "text/plain": [
       "['_ASSUME_FINITE',\n",
       " '__SKLEARN_SETUP__',\n",
       " '__all__',\n",
       " '__builtins__',\n",
       " '__cached__',\n",
       " '__check_build',\n",
       " '__doc__',\n",
       " '__file__',\n",
       " '__loader__',\n",
       " '__name__',\n",
       " '__package__',\n",
       " '__path__',\n",
       " '__spec__',\n",
       " '__version__',\n",
       " '_contextmanager',\n",
       " 'base',\n",
       " 'clone',\n",
       " 'config_context',\n",
       " 'dummy',\n",
       " 'exceptions',\n",
       " 'externals',\n",
       " 'feature_selection',\n",
       " 'get_config',\n",
       " 'linear_model',\n",
       " 'logger',\n",
       " 'logging',\n",
       " 'metrics',\n",
       " 'model_selection',\n",
       " 'neighbors',\n",
       " 'os',\n",
       " 'preprocessing',\n",
       " 'random_projection',\n",
       " 're',\n",
       " 'set_config',\n",
       " 'setup_module',\n",
       " 'svm',\n",
       " 'sys',\n",
       " 'utils',\n",
       " 'warnings']"
      ]
     },
     "execution_count": 166,
     "metadata": {},
     "output_type": "execute_result"
    }
   ],
   "source": [
    "dir(sklearn)"
   ]
  },
  {
   "cell_type": "code",
   "execution_count": 167,
   "metadata": {
    "scrolled": true
   },
   "outputs": [
    {
     "name": "stdout",
     "output_type": "stream",
     "text": [
      "Help on package sklearn:\n",
      "\n",
      "NAME\n",
      "    sklearn\n",
      "\n",
      "DESCRIPTION\n",
      "    Machine learning module for Python\n",
      "    ==================================\n",
      "    \n",
      "    sklearn is a Python module integrating classical machine\n",
      "    learning algorithms in the tightly-knit world of scientific Python\n",
      "    packages (numpy, scipy, matplotlib).\n",
      "    \n",
      "    It aims to provide simple and efficient solutions to learning problems\n",
      "    that are accessible to everybody and reusable in various contexts:\n",
      "    machine-learning as a versatile tool for science and engineering.\n",
      "    \n",
      "    See http://scikit-learn.org for complete documentation.\n",
      "\n",
      "PACKAGE CONTENTS\n",
      "    __check_build (package)\n",
      "    _build_utils (package)\n",
      "    _isotonic\n",
      "    base\n",
      "    calibration\n",
      "    cluster (package)\n",
      "    covariance (package)\n",
      "    cross_decomposition (package)\n",
      "    cross_validation\n",
      "    datasets (package)\n",
      "    decomposition (package)\n",
      "    discriminant_analysis\n",
      "    dummy\n",
      "    ensemble (package)\n",
      "    exceptions\n",
      "    externals (package)\n",
      "    feature_extraction (package)\n",
      "    feature_selection (package)\n",
      "    gaussian_process (package)\n",
      "    grid_search\n",
      "    isotonic\n",
      "    kernel_approximation\n",
      "    kernel_ridge\n",
      "    learning_curve\n",
      "    linear_model (package)\n",
      "    manifold (package)\n",
      "    metrics (package)\n",
      "    mixture (package)\n",
      "    model_selection (package)\n",
      "    multiclass\n",
      "    multioutput\n",
      "    naive_bayes\n",
      "    neighbors (package)\n",
      "    neural_network (package)\n",
      "    pipeline\n",
      "    preprocessing (package)\n",
      "    random_projection\n",
      "    semi_supervised (package)\n",
      "    setup\n",
      "    svm (package)\n",
      "    tests (package)\
