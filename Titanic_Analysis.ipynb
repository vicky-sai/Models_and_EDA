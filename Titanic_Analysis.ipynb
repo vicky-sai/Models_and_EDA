{
 "cells": [
  {
   "cell_type": "code",
   "execution_count": 1,
   "metadata": {},
   "outputs": [],
   "source": [
    "import pandas as pd\n",
    "import numpy as np\n",
    "import os"
   ]
  },
  {
   "cell_type": "code",
   "execution_count": 2,
   "metadata": {},
   "outputs": [],
   "source": [
    "train_file_path = 'C:/Users/rvi29ga/Desktop/Python_tries/titanic/train.csv'\n",
    "test_file_path = 'C:/Users/rvi29ga/Desktop/Python_tries/titanic/test.csv'"
   ]
  },
  {
   "cell_type": "code",
   "execution_count": 3,
   "metadata": {},
   "outputs": [],
   "source": [
    "train_df = pd.read_csv(train_file_path, index_col='PassengerId')\n",
    "test_df = pd.read_csv(test_file_path, index_col='PassengerId')"
   ]
  },
  {
   "cell_type": "code",
   "execution_count": 4,
   "metadata": {},
   "outputs": [
    {
     "data": {
      "text/plain": [
       "pandas.core.frame.DataFrame"
      ]
     },
     "execution_count": 4,
     "metadata": {},
     "output_type": "execute_result"
    }
   ],
   "source": [
    "type(train_df)"
   ]
  },
  {
   "cell_type": "code",
   "execution_count": 5,
   "metadata": {
    "scrolled": true
   },
   "outputs": [
    {
     "name": "stdout",
     "output_type": "stream",
     "text": [
      "<class 'pandas.core.frame.DataFrame'>\n",
      "Int64Index: 418 entries, 892 to 1309\n",
      "Data columns (total 10 columns):\n",
      "Pclass      418 non-null int64\n",
      "Name        418 non-null object\n",
      "Sex         418 non-null object\n",
      "Age         332 non-null float64\n",
      "SibSp       418 non-null int64\n",
      "Parch       418 non-null int64\n",
      "Ticket      418 non-null object\n",
      "Fare        417 non-null float64\n",
      "Cabin       91 non-null object\n",
      "Embarked    418 non-null object\n",
      "dtypes: float64(2), int64(3), object(5)\n",
      "memory usage: 35.9+ KB\n"
     ]
    }
   ],
   "source": [
    "test_df.info()"
   ]
  },
  {
   "cell_type": "code",
   "execution_count": 6,
   "metadata": {},
   "outputs": [],
   "source": [
    "test_df['Survived'] = -888"
   ]
  },
  {
   "cell_type": "code",
   "execution_count": 7,
   "metadata": {},
   "outputs": [],
   "source": [
    "df = pd.concat((train_df, test_df), axis=0, sort=True)"
   ]
  },
  {
   "cell_type": "code",
   "execution_count": 8,
   "metadata": {},
   "outputs": [
    {
     "name": "stdout",
     "output_type": "stream",
     "text": [
      "<class 'pandas.core.frame.DataFrame'>\n",
      "Int64Index: 1309 entries, 1 to 1309\n",
      "Data columns (total 11 columns):\n",
      "Age         1046 non-null float64\n",
      "Cabin       295 non-null object\n",
      "Embarked    1307 non-null object\n",
      "Fare        1308 non-null float64\n",
      "Name        1309 non-null object\n",
      "Parch       1309 non-null int64\n",
      "Pclass      1309 non-null int64\n",
      "Sex         1309 non-null object\n",
      "SibSp       1309 non-null int64\n",
      "Survived    1309 non-null int64\n",
      "Ticket      1309 non-null object\n",
      "dtypes: float64(2), int64(4), object(5)\n",
      "memory usage: 122.7+ KB\n"
     ]
    }
   ],
   "source": [
    "df.info()"
   ]
  },
  {
   "cell_type": "code",
   "execution_count": 9,
   "metadata": {},
   "outputs": [
    {
     "data": {
      "text/html": [
       "<div>\n",
       "<style scoped>\n",
       "    .dataframe tbody tr th:only-of-type {\n",
       "        vertical-align: middle;\n",
       "    }\n",
       "\n",
       "    .dataframe tbody tr th {\n",
       "        vertical-align: top;\n",
       "    }\n",
       "\n",
       "    .dataframe thead th {\n",
       "        text-align: right;\n",
       "    }\n",
       "</style>\n",
       "<table border=\"1\" class=\"dataframe\">\n",
       "  <thead>\n",
       "    <tr style=\"text-align: right;\">\n",
       "      <th></th>\n",
       "      <th>Age</th>\n",
       "      <th>Cabin</th>\n",
       "      <th>Embarked</th>\n",
       "      <th>Fare</th>\n",
       "      <th>Name</th>\n",
       "      <th>Parch</th>\n",
       "      <th>Pclass</th>\n",
       "      <th>Sex</th>\n",
       "      <th>SibSp</th>\n",
       "      <th>Survived</th>\n",
       "      <th>Ticket</th>\n",
       "    </tr>\n",
       "    <tr>\n",
       "      <th>PassengerId</th>\n",
       "      <th></th>\n",
       "      <th></th>\n",
       "      <th></th>\n",
       "      <th></th>\n",
       "      <th></th>\n",
       "      <th></th>\n",
       "      <th></th>\n",
       "      <th></th>\n",
       "      <th></th>\n",
       "      <th></th>\n",
       "      <th></th>\n",
       "    </tr>\n",
       "  </thead>\n",
       "  <tbody>\n",
       "    <tr>\n",
       "      <th>1</th>\n",
       "      <td>22.0</td>\n",
       "      <td>NaN</td>\n",
       "      <td>S</td>\n",
       "      <td>7.2500</td>\n",
       "      <td>Braund, Mr. Owen Harris</td>\n",
       "      <td>0</td>\n",
       "      <td>3</td>\n",
       "      <td>male</td>\n",
       "      <td>1</td>\n",
       "      <td>0</td>\n",
       "      <td>A/5 21171</td>\n",
       "    </tr>\n",
       "    <tr>\n",
       "      <th>2</th>\n",
       "      <td>38.0</td>\n",
       "      <td>C85</td>\n",
       "      <td>C</td>\n",
       "      <td>71.2833</td>\n",
       "      <td>Cumings, Mrs. John Bradley (Florence Briggs Th...</td>\n",
       "      <td>0</td>\n",
       "      <td>1</td>\n",
       "      <td>female</td>\n",
       "      <td>1</td>\n",
       "      <td>1</td>\n",
       "      <td>PC 17599</td>\n",
       "    </tr>\n",
       "    <tr>\n",
       "      <th>3</th>\n",
       "      <td>26.0</td>\n",
       "      <td>NaN</td>\n",
       "      <td>S</td>\n",
       "      <td>7.9250</td>\n",
       "      <td>Heikkinen, Miss. Laina</td>\n",
       "      <td>0</td>\n",
       "      <td>3</td>\n",
       "      <td>female</td>\n",
       "      <td>0</td>\n",
       "      <td>1</td>\n",
       "      <td>STON/O2. 3101282</td>\n",
       "    </tr>\n",
       "    <tr>\n",
       "      <th>4</th>\n",
       "      <td>35.0</td>\n",
       "      <td>C123</td>\n",
       "      <td>S</td>\n",
       "      <td>53.1000</td>\n",
       "      <td>Futrelle, Mrs. Jacques Heath (Lily May Peel)</td>\n",
       "      <td>0</td>\n",
       "      <td>1</td>\n",
       "      <td>female</td>\n",
       "      <td>1</td>\n",
       "      <td>1</td>\n",
       "      <td>113803</td>\n",
       "    </tr>\n",
       "    <tr>\n",
       "      <th>5</th>\n",
       "      <td>35.0</td>\n",
       "      <td>NaN</td>\n",
       "      <td>S</td>\n",
       "      <td>8.0500</td>\n",
       "      <td>Allen, Mr. William Henry</td>\n",
       "      <td>0</td>\n",
       "      <td>3</td>\n",
       "      <td>male</td>\n",
       "      <td>0</td>\n",
       "      <td>0</td>\n",
       "      <td>373450</td>\n",
       "    </tr>\n",
       "  </tbody>\n",
       "</table>\n",
       "</div>"
      ],
      "text/plain": [
       "              Age Cabin Embarked     Fare  \\\n",
       "PassengerId                                 \n",
       "1            22.0   NaN        S   7.2500   \n",
       "2            38.0   C85        C  71.2833   \n",
       "3            26.0   NaN        S   7.9250   \n",
       "4            35.0  C123        S  53.1000   \n",
       "5            35.0   NaN        S   8.0500   \n",
       "\n",
       "                                                          Name  Parch  Pclass  \\\n",
       "PassengerId                                                                     \n",
       "1                                      Braund, Mr. Owen Harris      0       3   \n",
       "2            Cumings, Mrs. John Bradley (Florence Briggs Th...      0       1   \n",
       "3                                       Heikkinen, Miss. Laina      0       3   \n",
       "4                 Futrelle, Mrs. Jacques Heath (Lily May Peel)      0       1   \n",
       "5                                     Allen, Mr. William Henry      0       3   \n",
       "\n",
       "                Sex  SibSp  Survived            Ticket  \n",
       "PassengerId                                             \n",
       "1              male      1         0         A/5 21171  \n",
       "2            female      1         1          PC 17599  \n",
       "3            female      0         1  STON/O2. 3101282  \n",
       "4            female      1         1            113803  \n",
       "5              male      0         0            373450  "
      ]
     },
     "execution_count": 9,
     "metadata": {},
     "output_type": "execute_result"
    }
   ],
   "source": [
    "df.head()"
   ]
  },
  {
   "cell_type": "code",
   "execution_count": 10,
   "metadata": {},
   "outputs": [
    {
     "data": {
      "text/html": [
       "<div>\n",
       "<style scoped>\n",
       "    .dataframe tbody tr th:only-of-type {\n",
       "        vertical-align: middle;\n",
       "    }\n",
       "\n",
       "    .dataframe tbody tr th {\n",
       "        vertical-align: top;\n",
       "    }\n",
       "\n",
       "    .dataframe thead th {\n",
       "        text-align: right;\n",
       "    }\n",
       "</style>\n",
       "<table border=\"1\" class=\"dataframe\">\n",
       "  <thead>\n",
       "    <tr style=\"text-align: right;\">\n",
       "      <th></th>\n",
       "      <th>Age</th>\n",
       "      <th>Cabin</th>\n",
       "      <th>Embarked</th>\n",
       "      <th>Fare</th>\n",
       "      <th>Name</th>\n",
       "      <th>Parch</th>\n",
       "      <th>Pclass</th>\n",
       "      <th>Sex</th>\n",
       "      <th>SibSp</th>\n",
       "      <th>Survived</th>\n",
       "      <th>Ticket</th>\n",
       "    </tr>\n",
       "    <tr>\n",
       "      <th>PassengerId</th>\n",
       "      <th></th>\n",
       "      <th></th>\n",
       "      <th></th>\n",
       "      <th></th>\n",
       "      <th></th>\n",
       "      <th></th>\n",
       "      <th></th>\n",
       "      <th></th>\n",
       "      <th></th>\n",
       "      <th></th>\n",
       "      <th></th>\n",
       "    </tr>\n",
       "  </thead>\n",
       "  <tbody>\n",
       "    <tr>\n",
       "      <th>1</th>\n",
       "      <td>22.0</td>\n",
       "      <td>NaN</td>\n",
       "      <td>S</td>\n",
       "      <td>7.2500</td>\n",
       "      <td>Braund, Mr. Owen Harris</td>\n",
       "      <td>0</td>\n",
       "      <td>3</td>\n",
       "      <td>male</td>\n",
       "      <td>1</td>\n",
       "      <td>0</td>\n",
       "      <td>A/5 21171</td>\n",
       "    </tr>\n",
       "    <tr>\n",
       "      <th>2</th>\n",
       "      <td>38.0</td>\n",
       "      <td>C85</td>\n",
       "      <td>C</td>\n",
       "      <td>71.2833</td>\n",
       "      <td>Cumings, Mrs. John Bradley (Florence Briggs Th...</td>\n",
       "      <td>0</td>\n",
       "      <td>1</td>\n",
       "      <td>female</td>\n",
       "      <td>1</td>\n",
       "      <td>1</td>\n",
       "      <td>PC 17599</td>\n",
       "    </tr>\n",
       "    <tr>\n",
       "      <th>3</th>\n",
       "      <td>26.0</td>\n",
       "      <td>NaN</td>\n",
       "      <td>S</td>\n",
       "      <td>7.9250</td>\n",
       "      <td>Heikkinen, Miss. Laina</td>\n",
       "      <td>0</td>\n",
       "      <td>3</td>\n",
       "      <td>female</td>\n",
       "      <td>0</td>\n",
       "      <td>1</td>\n",
       "      <td>STON/O2. 3101282</td>\n",
       "    </tr>\n",
       "    <tr>\n",
       "      <th>4</th>\n",
       "      <td>35.0</td>\n",
       "      <td>C123</td>\n",
       "      <td>S</td>\n",
       "      <td>53.1000</td>\n",
       "      <td>Futrelle, Mrs. Jacques Heath (Lily May Peel)</td>\n",
       "      <td>0</td>\n",
       "      <td>1</td>\n",
       "      <td>female</td>\n",
       "      <td>1</td>\n",
       "      <td>1</td>\n",
       "      <td>113803</td>\n",
       "    </tr>\n",
       "    <tr>\n",
       "      <th>5</th>\n",
       "      <td>35.0</td>\n",
       "      <td>NaN</td>\n",
       "      <td>S</td>\n",
       "      <td>8.0500</td>\n",
       "      <td>Allen, Mr. William Henry</td>\n",
       "      <td>0</td>\n",
       "      <td>3</td>\n",
       "      <td>male</td>\n",
       "      <td>0</td>\n",
       "      <td>0</td>\n",
       "      <td>373450</td>\n",
       "    </tr>\n",
       "    <tr>\n",
       "      <th>6</th>\n",
       "      <td>NaN</td>\n",
       "      <td>NaN</td>\n",
       "      <td>Q</td>\n",
       "      <td>8.4583</td>\n",
       "      <td>Moran, Mr. James</td>\n",
       "      <td>0</td>\n",
       "      <td>3</td>\n",
       "      <td>male</td>\n",
       "      <td>0</td>\n",
       "      <td>0</td>\n",
       "      <td>330877</td>\n",
       "    </tr>\n",
       "    <tr>\n",
       "      <th>7</th>\n",
       "      <td>54.0</td>\n",
       "      <td>E46</td>\n",
       "      <td>S</td>\n",
       "      <td>51.8625</td>\n",
       "      <td>McCarthy, Mr. Timothy J</td>\n",
       "      <td>0</td>\n",
       "      <td>1</td>\n",
       "      <td>male</td>\n",
       "      <td>0</td>\n",
       "      <td>0</td>\n",
       "      <td>17463</td>\n",
       "    </tr>\n",
       "    <tr>\n",
       "      <th>8</th>\n",
       "      <td>2.0</td>\n",
       "      <td>NaN</td>\n",
       "      <td>S</td>\n",
       "      <td>21.0750</td>\n",
       "      <td>Palsson, Master. Gosta Leonard</td>\n",
       "      <td>1</td>\n",
       "      <td>3</td>\n",
       "      <td>male</td>\n",
       "      <td>3</td>\n",
       "      <td>0</td>\n",
       "      <td>349909</td>\n",
       "    </tr>\n",
       "    <tr>\n",
       "      <th>9</th>\n",
       "      <td>27.0</td>\n",
       "      <td>NaN</td>\n",
       "      <td>S</td>\n",
       "      <td>11.1333</td>\n",
       "      <td>Johnson, Mrs. Oscar W (Elisabeth Vilhelmina Berg)</td>\n",
       "      <td>2</td>\n",
       "      <td>3</td>\n",
       "      <td>female</td>\n",
       "      <td>0</td>\n",
       "      <td>1</td>\n",
       "      <td>347742</td>\n",
       "    </tr>\n",
       "    <tr>\n",
       "      <th>10</th>\n",
       "      <td>14.0</td>\n",
       "      <td>NaN</td>\n",
       "      <td>C</td>\n",
       "      <td>30.0708</td>\n",
       "      <td>Nasser, Mrs. Nicholas (Adele Achem)</td>\n",
       "      <td>0</td>\n",
       "      <td>2</td>\n",
       "      <td>female</td>\n",
       "      <td>1</td>\n",
       "      <td>1</td>\n",
       "      <td>237736</td>\n",
       "    </tr>\n",
       "  </tbody>\n",
       "</table>\n",
       "</div>"
      ],
      "text/plain": [
       "              Age Cabin Embarked     Fare  \\\n",
       "PassengerId                                 \n",
       "1            22.0   NaN        S   7.2500   \n",
       "2            38.0   C85        C  71.2833   \n",
       "3            26.0   NaN        S   7.9250   \n",
       "4            35.0  C123        S  53.1000   \n",
       "5            35.0   NaN        S   8.0500   \n",
       "6             NaN   NaN        Q   8.4583   \n",
       "7            54.0   E46        S  51.8625   \n",
       "8             2.0   NaN        S  21.0750   \n",
       "9            27.0   NaN        S  11.1333   \n",
       "10           14.0   NaN        C  30.0708   \n",
       "\n",
       "                                                          Name  Parch  Pclass  \\\n",
       "PassengerId                                                                     \n",
       "1                                      Braund, Mr. Owen Harris      0       3   \n",
       "2            Cumings, Mrs. John Bradley (Florence Briggs Th...      0       1   \n",
       "3                                       Heikkinen, Miss. Laina      0       3   \n",
       "4                 Futrelle, Mrs. Jacques Heath (Lily May Peel)      0       1   \n",
       "5                                     Allen, Mr. William Henry      0       3   \n",
       "6                                             Moran, Mr. James      0       3   \n",
       "7                                      McCarthy, Mr. Timothy J      0       1   \n",
       "8                               Palsson, Master. Gosta Leonard      1       3   \n",
       "9            Johnson, Mrs. Oscar W (Elisabeth Vilhelmina Berg)      2       3   \n",
       "10                         Nasser, Mrs. Nicholas (Adele Achem)      0       2   \n",
       "\n",
       "                Sex  SibSp  Survived            Ticket  \n",
       "PassengerId                                             \n",
       "1              male      1         0         A/5 21171  \n",
       "2            female      1         1          PC 17599  \n",
       "3            female      0         1  STON/O2. 3101282  \n",
       "4            female      1         1            113803  \n",
       "5              male      0         0            373450  \n",
       "6              male      0         0            330877  \n",
       "7              male      0         0             17463  \n",
       "8              male      3         0            349909  \n",
       "9            female      0         1            347742  \n",
       "10           female      1         1            237736  "
      ]
     },
     "execution_count": 10,
     "metadata": {},
     "output_type": "execute_result"
    }
   ],
   "source": [
    "df.head(10)"
   ]
  },
  {
   "cell_type": "code",
   "execution_count": 11,
   "metadata": {},
   "outputs": [
    {
     "data": {
      "text/plain": [
       "PassengerId\n",
       "1                                 Braund, Mr. Owen Harris\n",
       "2       Cumings, Mrs. John Bradley (Florence Briggs Th...\n",
       "3                                  Heikkinen, Miss. Laina\n",
       "4            Futrelle, Mrs. Jacques Heath (Lily May Peel)\n",
       "5                                Allen, Mr. William Henry\n",
       "6                                        Moran, Mr. James\n",
       "7                                 McCarthy, Mr. Timothy J\n",
       "8                          Palsson, Master. Gosta Leonard\n",
       "9       Johnson, Mrs. Oscar W (Elisabeth Vilhelmina Berg)\n",
       "10                    Nasser, Mrs. Nicholas (Adele Achem)\n",
       "11                        Sandstrom, Miss. Marguerite Rut\n",
       "12                               Bonnell, Miss. Elizabeth\n",
       "13                         Saundercock, Mr. William Henry\n",
       "14                            Andersson, Mr. Anders Johan\n",
       "15                   Vestrom, Miss. Hulda Amanda Adolfina\n",
       "16                       Hewlett, Mrs. (Mary D Kingcome) \n",
       "17                                   Rice, Master. Eugene\n",
       "18                           Williams, Mr. Charles Eugene\n",
       "19      Vander Planke, Mrs. Julius (Emelia Maria Vande...\n",
       "20                                Masselmani, Mrs. Fatima\n",
       "21                                   Fynney, Mr. Joseph J\n",
       "22                                  Beesley, Mr. Lawrence\n",
       "23                            McGowan, Miss. Anna \"Annie\"\n",
       "24                           Sloper, Mr. William Thompson\n",
       "25                          Palsson, Miss. Torborg Danira\n",
       "26      Asplund, Mrs. Carl Oscar (Selma Augusta Emilia...\n",
       "27                                Emir, Mr. Farred Chehab\n",
       "28                         Fortune, Mr. Charles Alexander\n",
       "29                          O'Dwyer, Miss. Ellen \"Nellie\"\n",
       "30                                    Todoroff, Mr. Lalio\n",
       "                              ...                        \n",
       "1280                                 Canavan, Mr. Patrick\n",
       "1281                          Palsson, Master. Paul Folke\n",
       "1282                           Payne, Mr. Vivian Ponsonby\n",
       "1283       Lines, Mrs. Ernest H (Elizabeth Lindsey James)\n",
       "1284                        Abbott, Master. Eugene Joseph\n",
       "1285                                 Gilbert, Mr. William\n",
       "1286                             Kink-Heilmann, Mr. Anton\n",
       "1287       Smith, Mrs. Lucien Philip (Mary Eloise Hughes)\n",
       "1288                                 Colbert, Mr. Patrick\n",
       "1289    Frolicher-Stehli, Mrs. Maxmillian (Margaretha ...\n",
       "1290                       Larsson-Rondberg, Mr. Edvard A\n",
       "1291                             Conlon, Mr. Thomas Henry\n",
       "1292                              Bonnell, Miss. Caroline\n",
       "1293                                      Gale, Mr. Harry\n",
       "1294                       Gibson, Miss. Dorothy Winifred\n",
       "1295                               Carrau, Mr. Jose Pedro\n",
       "1296                         Frauenthal, Mr. Isaac Gerald\n",
       "1297         Nourney, Mr. Alfred (Baron von Drachstedt\")\"\n",
       "1298                            Ware, Mr. William Jeffery\n",
       "1299                           Widener, Mr. George Dunton\n",
       "1300                      Riordan, Miss. Johanna Hannah\"\"\n",
       "1301                            Peacock, Miss. Treasteall\n",
       "1302                               Naughton, Miss. Hannah\n",
       "1303      Minahan, Mrs. William Edward (Lillian E Thorpe)\n",
       "1304                       Henriksson, Miss. Jenny Lovisa\n",
       "1305                                   Spector, Mr. Woolf\n",
       "1306                         Oliva y Ocana, Dona. Fermina\n",
       "1307                         Saether, Mr. Simon Sivertsen\n",
       "1308                                  Ware, Mr. Frederick\n",
       "1309                             Peter, Master. Michael J\n",
       "Name: Name, Length: 1309, dtype: object"
      ]
     },
     "execution_count": 11,
     "metadata": {},
     "output_type": "execute_result"
    }
   ],
   "source": [
    "df.Name"
   ]
  },
  {
   "cell_type": "code",
   "execution_count": 12,
   "metadata": {},
   "outputs": [
    {
     "data": {
      "text/html": [
       "<div>\n",
       "<style scoped>\n",
       "    .dataframe tbody tr th:only-of-type {\n",
       "        vertical-align: middle;\n",
       "    }\n",
       "\n",
       "    .dataframe tbody tr th {\n",
       "        vertical-align: top;\n",
       "    }\n",
       "\n",
       "    .dataframe thead th {\n",
       "        text-align: right;\n",
       "    }\n",
       "</style>\n",
       "<table border=\"1\" class=\"dataframe\">\n",
       "  <thead>\n",
       "    <tr style=\"text-align: right;\">\n",
       "      <th></th>\n",
       "      <th>Name</th>\n",
       "      <th>Age</th>\n",
       "    </tr>\n",
       "    <tr>\n",
       "      <th>PassengerId</th>\n",
       "      <th></th>\n",
       "      <th></th>\n",
       "    </tr>\n",
       "  </thead>\n",
       "  <tbody>\n",
       "    <tr>\n",
       "      <th>1</th>\n",
       "      <td>Braund, Mr. Owen Harris</td>\n",
       "      <td>22.0</td>\n",
       "    </tr>\n",
       "    <tr>\n",
       "      <th>2</th>\n",
       "      <td>Cumings, Mrs. John Bradley (Florence Briggs Th...</td>\n",
       "      <td>38.0</td>\n",
       "    </tr>\n",
       "    <tr>\n",
       "      <th>3</th>\n",
       "      <td>Heikkinen, Miss. Laina</td>\n",
       "      <td>26.0</td>\n",
       "    </tr>\n",
       "    <tr>\n",
       "      <th>4</th>\n",
       "      <td>Futrelle, Mrs. Jacques Heath (Lily May Peel)</td>\n",
       "      <td>35.0</td>\n",
       "    </tr>\n",
       "    <tr>\n",
       "      <th>5</th>\n",
       "      <td>Allen, Mr. William Henry</td>\n",
       "      <td>35.0</td>\n",
       "    </tr>\n",
       "    <tr>\n",
       "      <th>6</th>\n",
       "      <td>Moran, Mr. James</td>\n",
       "      <td>NaN</td>\n",
       "    </tr>\n",
       "    <tr>\n",
       "      <th>7</th>\n",
       "      <td>McCarthy, Mr. Timothy J</td>\n",
       "      <td>54.0</td>\n",
       "    </tr>\n",
       "    <tr>\n",
       "      <th>8</th>\n",
       "      <td>Palsson, Master. Gosta Leonard</td>\n",
       "      <td>2.0</td>\n",
       "    </tr>\n",
       "    <tr>\n",
       "      <th>9</th>\n",
       "      <td>Johnson, Mrs. Oscar W (Elisabeth Vilhelmina Berg)</td>\n",
       "      <td>27.0</td>\n",
       "    </tr>\n",
       "    <tr>\n",
       "      <th>10</th>\n",
       "      <td>Nasser, Mrs. Nicholas (Adele Achem)</td>\n",
       "      <td>14.0</td>\n",
       "    </tr>\n",
       "    <tr>\n",
       "      <th>11</th>\n",
       "      <td>Sandstrom, Miss. Marguerite Rut</td>\n",
       "      <td>4.0</td>\n",
       "    </tr>\n",
       "    <tr>\n",
       "      <th>12</th>\n",
       "      <td>Bonnell, Miss. Elizabeth</td>\n",
       "      <td>58.0</td>\n",
       "    </tr>\n",
       "    <tr>\n",
       "      <th>13</th>\n",
       "      <td>Saundercock, Mr. William Henry</td>\n",
       "      <td>20.0</td>\n",
       "    </tr>\n",
       "    <tr>\n",
       "      <th>14</th>\n",
       "      <td>Andersson, Mr. Anders Johan</td>\n",
       "      <td>39.0</td>\n",
       "    </tr>\n",
       "    <tr>\n",
       "      <th>15</th>\n",
       "      <td>Vestrom, Miss. Hulda Amanda Adolfina</td>\n",
       "      <td>14.0</td>\n",
       "    </tr>\n",
       "    <tr>\n",
       "      <th>16</th>\n",
       "      <td>Hewlett, Mrs. (Mary D Kingcome)</td>\n",
       "      <td>55.0</td>\n",
       "    </tr>\n",
       "    <tr>\n",
       "      <th>17</th>\n",
       "      <td>Rice, Master. Eugene</td>\n",
       "      <td>2.0</td>\n",
       "    </tr>\n",
       "    <tr>\n",
       "      <th>18</th>\n",
       "      <td>Williams, Mr. Charles Eugene</td>\n",
       "      <td>NaN</td>\n",
       "    </tr>\n",
       "    <tr>\n",
       "      <th>19</th>\n",
       "      <td>Vander Planke, Mrs. Julius (Emelia Maria Vande...</td>\n",
       "      <td>31.0</td>\n",
       "    </tr>\n",
       "    <tr>\n",
       "      <th>20</th>\n",
       "      <td>Masselmani, Mrs. Fatima</td>\n",
       "      <td>NaN</td>\n",
       "    </tr>\n",
       "    <tr>\n",
       "      <th>21</th>\n",
       "      <td>Fynney, Mr. Joseph J</td>\n",
       "      <td>35.0</td>\n",
       "    </tr>\n",
       "    <tr>\n",
       "      <th>22</th>\n",
       "      <td>Beesley, Mr. Lawrence</td>\n",
       "      <td>34.0</td>\n",
       "    </tr>\n",
       "    <tr>\n",
       "      <th>23</th>\n",
       "      <td>McGowan, Miss. Anna \"Annie\"</td>\n",
       "      <td>15.0</td>\n",
       "    </tr>\n",
       "    <tr>\n",
       "      <th>24</th>\n",
       "      <td>Sloper, Mr. William Thompson</td>\n",
       "      <td>28.0</td>\n",
       "    </tr>\n",
       "    <tr>\n",
       "      <th>25</th>\n",
       "      <td>Palsson, Miss. Torborg Danira</td>\n",
       "      <td>8.0</td>\n",
       "    </tr>\n",
       "    <tr>\n",
       "      <th>26</th>\n",
       "      <td>Asplund, Mrs. Carl Oscar (Selma Augusta Emilia...</td>\n",
       "      <td>38.0</td>\n",
       "    </tr>\n",
       "    <tr>\n",
       "      <th>27</th>\n",
       "      <td>Emir, Mr. Farred Chehab</td>\n",
       "      <td>NaN</td>\n",
       "    </tr>\n",
       "    <tr>\n",
       "      <th>28</th>\n",
       "      <td>Fortune, Mr. Charles Alexander</td>\n",
       "      <td>19.0</td>\n",
       "    </tr>\n",
       "    <tr>\n",
       "      <th>29</th>\n",
       "      <td>O'Dwyer, Miss. Ellen \"Nellie\"</td>\n",
       "      <td>NaN</td>\n",
       "    </tr>\n",
       "    <tr>\n",
       "      <th>30</th>\n",
       "      <td>Todoroff, Mr. Lalio</td>\n",
       "      <td>NaN</td>\n",
       "    </tr>\n",
       "    <tr>\n",
       "      <th>...</th>\n",
       "      <td>...</td>\n",
       "      <td>...</td>\n",
       "    </tr>\n",
       "    <tr>\n",
       "      <th>1280</th>\n",
       "      <td>Canavan, Mr. Patrick</td>\n",
       "      <td>21.0</td>\n",
       "    </tr>\n",
       "    <tr>\n",
       "      <th>1281</th>\n",
       "      <td>Palsson, Master. Paul Folke</td>\n",
       "      <td>6.0</td>\n",
       "    </tr>\n",
       "    <tr>\n",
       "      <th>1282</th>\n",
       "      <td>Payne, Mr. Vivian Ponsonby</td>\n",
       "      <td>23.0</td>\n",
       "    </tr>\n",
       "    <tr>\n",
       "      <th>1283</th>\n",
       "      <td>Lines, Mrs. Ernest H (Elizabeth Lindsey James)</td>\n",
       "      <td>51.0</td>\n",
       "    </tr>\n",
       "    <tr>\n",
       "      <th>1284</th>\n",
       "      <td>Abbott, Master. Eugene Joseph</td>\n",
       "      <td>13.0</td>\n",
       "    </tr>\n",
       "    <tr>\n",
       "      <th>1285</th>\n",
       "      <td>Gilbert, Mr. William</td>\n",
       "      <td>47.0</td>\n",
       "    </tr>\n",
       "    <tr>\n",
       "      <th>1286</th>\n",
       "      <td>Kink-Heilmann, Mr. Anton</td>\n",
       "      <td>29.0</td>\n",
       "    </tr>\n",
       "    <tr>\n",
       "      <th>1287</th>\n",
       "      <td>Smith, Mrs. Lucien Philip (Mary Eloise Hughes)</td>\n",
       "      <td>18.0</td>\n",
       "    </tr>\n",
       "    <tr>\n",
       "      <th>1288</th>\n",
       "      <td>Colbert, Mr. Patrick</td>\n",
       "      <td>24.0</td>\n",
       "    </tr>\n",
       "    <tr>\n",
       "      <th>1289</th>\n",
       "      <td>Frolicher-Stehli, Mrs. Maxmillian (Margaretha ...</td>\n",
       "      <td>48.0</td>\n",
       "    </tr>\n",
       "    <tr>\n",
       "      <th>1290</th>\n",
       "      <td>Larsson-Rondberg, Mr. Edvard A</td>\n",
       "      <td>22.0</td>\n",
       "    </tr>\n",
       "    <tr>\n",
       "      <th>1291</th>\n",
       "      <td>Conlon, Mr. Thomas Henry</td>\n",
       "      <td>31.0</td>\n",
       "    </tr>\n",
       "    <tr>\n",
       "      <th>1292</th>\n",
       "      <td>Bonnell, Miss. Caroline</td>\n",
       "      <td>30.0</td>\n",
       "    </tr>\n",
       "    <tr>\n",
       "      <th>1293</th>\n",
       "      <td>Gale, Mr. Harry</td>\n",
       "      <td>38.0</td>\n",
       "    </tr>\n",
       "    <tr>\n",
       "      <th>1294</th>\n",
       "      <td>Gibson, Miss. Dorothy Winifred</td>\n",
       "      <td>22.0</td>\n",
       "    </tr>\n",
       "    <tr>\n",
       "      <th>1295</th>\n",
       "      <td>Carrau, Mr. Jose Pedro</td>\n",
       "      <td>17.0</td>\n",
       "    </tr>\n",
       "    <tr>\n",
       "      <th>1296</th>\n",
       "      <td>Frauenthal, Mr. Isaac Gerald</td>\n",
       "      <td>43.0</td>\n",
       "    </tr>\n",
       "    <tr>\n",
       "      <th>1297</th>\n",
       "      <td>Nourney, Mr. Alfred (Baron von Drachstedt\")\"</td>\n",
       "      <td>20.0</td>\n",
       "    </tr>\n",
       "    <tr>\n",
       "      <th>1298</th>\n",
       "      <td>Ware, Mr. William Jeffery</td>\n",
       "      <td>23.0</td>\n",
       "    </tr>\n",
       "    <tr>\n",
       "      <th>1299</th>\n",
       "      <td>Widener, Mr. George Dunton</td>\n",
       "      <td>50.0</td>\n",
       "    </tr>\n",
       "    <tr>\n",
       "      <th>1300</th>\n",
       "      <td>Riordan, Miss. Johanna Hannah\"\"</td>\n",
       "      <td>NaN</td>\n",
       "    </tr>\n",
       "    <tr>\n",
       "      <th>1301</th>\n",
       "      <td>Peacock, Miss. Treasteall</td>\n",
       "      <td>3.0</td>\n",
       "    </tr>\n",
       "    <tr>\n",
       "      <th>1302</th>\n",
       "      <td>Naughton, Miss. Hannah</td>\n",
       "      <td>NaN</td>\n",
       "    </tr>\n",
       "    <tr>\n",
       "      <th>1303</th>\n",
       "      <td>Minahan, Mrs. William Edward (Lillian E Thorpe)</td>\n",
       "      <td>37.0</td>\n",
       "    </tr>\n",
       "    <tr>\n",
       "      <th>1304</th>\n",
       "      <td>Henriksson, Miss. Jenny Lovisa</td>\n",
       "      <td>28.0</td>\n",
       "    </tr>\n",
       "    <tr>\n",
       "      <th>1305</th>\n",
       "      <td>Spector, Mr. Woolf</td>\n",
       "      <td>NaN</td>\n",
       "    </tr>\n",
       "    <tr>\n",
       "      <th>1306</th>\n",
       "      <td>Oliva y Ocana, Dona. Fermina</td>\n",
       "      <td>39.0</td>\n",
       "    </tr>\n",
       "    <tr>\n",
       "      <th>1307</th>\n",
       "      <td>Saether, Mr. Simon Sivertsen</td>\n",
       "      <td>38.5</td>\n",
       "    </tr>\n",
       "    <tr>\n",
       "      <th>1308</th>\n",
       "      <td>Ware, Mr. Frederick</td>\n",
       "      <td>NaN</td>\n",
       "    </tr>\n",
       "    <tr>\n",
       "      <th>1309</th>\n",
       "      <td>Peter, Master. Michael J</td>\n",
       "      <td>NaN</td>\n",
       "    </tr>\n",
       "  </tbody>\n",
       "</table>\n",
       "<p>1309 rows × 2 columns</p>\n",
       "</div>"
      ],
      "text/plain": [
       "                                                          Name   Age\n",
       "PassengerId                                                         \n",
       "1                                      Braund, Mr. Owen Harris  22.0\n",
       "2            Cumings, Mrs. John Bradley (Florence Briggs Th...  38.0\n",
       "3                                       Heikkinen, Miss. Laina  26.0\n",
       "4                 Futrelle, Mrs. Jacques Heath (Lily May Peel)  35.0\n",
       "5                                     Allen, Mr. William Henry  35.0\n",
       "6                                             Moran, Mr. James   NaN\n",
       "7                                      McCarthy, Mr. Timothy J  54.0\n",
       "8                               Palsson, Master. Gosta Leonard   2.0\n",
       "9            Johnson, Mrs. Oscar W (Elisabeth Vilhelmina Berg)  27.0\n",
       "10                         Nasser, Mrs. Nicholas (Adele Achem)  14.0\n",
       "11                             Sandstrom, Miss. Marguerite Rut   4.0\n",
       "12                                    Bonnell, Miss. Elizabeth  58.0\n",
       "13                              Saundercock, Mr. William Henry  20.0\n",
       "14                                 Andersson, Mr. Anders Johan  39.0\n",
       "15                        Vestrom, Miss. Hulda Amanda Adolfina  14.0\n",
       "16                            Hewlett, Mrs. (Mary D Kingcome)   55.0\n",
       "17                                        Rice, Master. Eugene   2.0\n",
       "18                                Williams, Mr. Charles Eugene   NaN\n",
       "19           Vander Planke, Mrs. Julius (Emelia Maria Vande...  31.0\n",
       "20                                     Masselmani, Mrs. Fatima   NaN\n",
       "21                                        Fynney, Mr. Joseph J  35.0\n",
       "22                                       Beesley, Mr. Lawrence  34.0\n",
       "23                                 McGowan, Miss. Anna \"Annie\"  15.0\n",
       "24                                Sloper, Mr. William Thompson  28.0\n",
       "25                               Palsson, Miss. Torborg Danira   8.0\n",
       "26           Asplund, Mrs. Carl Oscar (Selma Augusta Emilia...  38.0\n",
       "27                                     Emir, Mr. Farred Chehab   NaN\n",
       "28                              Fortune, Mr. Charles Alexander  19.0\n",
       "29                               O'Dwyer, Miss. Ellen \"Nellie\"   NaN\n",
       "30                                         Todoroff, Mr. Lalio   NaN\n",
       "...                                                        ...   ...\n",
       "1280                                      Canavan, Mr. Patrick  21.0\n",
       "1281                               Palsson, Master. Paul Folke   6.0\n",
       "1282                                Payne, Mr. Vivian Ponsonby  23.0\n",
       "1283            Lines, Mrs. Ernest H (Elizabeth Lindsey James)  51.0\n",
       "1284                             Abbott, Master. Eugene Joseph  13.0\n",
       "1285                                      Gilbert, Mr. William  47.0\n",
       "1286                                  Kink-Heilmann, Mr. Anton  29.0\n",
       "1287            Smith, Mrs. Lucien Philip (Mary Eloise Hughes)  18.0\n",
       "1288                                      Colbert, Mr. Patrick  24.0\n",
       "1289         Frolicher-Stehli, Mrs. Maxmillian (Margaretha ...  48.0\n",
       "1290                            Larsson-Rondberg, Mr. Edvard A  22.0\n",
       "1291                                  Conlon, Mr. Thomas Henry  31.0\n",
       "1292                                   Bonnell, Miss. Caroline  30.0\n",
       "1293                                           Gale, Mr. Harry  38.0\n",
       "1294                            Gibson, Miss. Dorothy Winifred  22.0\n",
       "1295                                    Carrau, Mr. Jose Pedro  17.0\n",
       "1296                              Frauenthal, Mr. Isaac Gerald  43.0\n",
       "1297              Nourney, Mr. Alfred (Baron von Drachstedt\")\"  20.0\n",
       "1298                                 Ware, Mr. William Jeffery  23.0\n",
       "1299                                Widener, Mr. George Dunton  50.0\n",
       "1300                           Riordan, Miss. Johanna Hannah\"\"   NaN\n",
       "1301                                 Peacock, Miss. Treasteall   3.0\n",
       "1302                                    Naughton, Miss. Hannah   NaN\n",
       "1303           Minahan, Mrs. William Edward (Lillian E Thorpe)  37.0\n",
       "1304                            Henriksson, Miss. Jenny Lovisa  28.0\n",
       "1305                                        Spector, Mr. Woolf   NaN\n",
       "1306                              Oliva y Ocana, Dona. Fermina  39.0\n",
       "1307                              Saether, Mr. Simon Sivertsen  38.5\n",
       "1308                                       Ware, Mr. Frederick   NaN\n",
       "1309                                  Peter, Master. Michael J   NaN\n",
       "\n",
       "[1309 rows x 2 columns]"
      ]
     },
     "execution_count": 12,
     "metadata": {},
     "output_type": "execute_result"
    }
   ],
   "source": [
    "#Specific columns\n",
    "df[['Name','Age']]"
   ]
  },
  {
   "cell_type": "code",
   "execution_count": 13,
   "metadata": {},
   "outputs": [
    {
     "data": {
      "text/html": [
       "<div>\n",
       "<style scoped>\n",
       "    .dataframe tbody tr th:only-of-type {\n",
       "        vertical-align: middle;\n",
       "    }\n",
       "\n",
       "    .dataframe tbody tr th {\n",
       "        vertical-align: top;\n",
       "    }\n",
       "\n",
       "    .dataframe thead th {\n",
       "        text-align: right;\n",
       "    }\n",
       "</style>\n",
       "<table border=\"1\" class=\"dataframe\">\n",
       "  <thead>\n",
       "    <tr style=\"text-align: right;\">\n",
       "      <th></th>\n",
       "      <th>Age</th>\n",
       "      <th>Cabin</th>\n",
       "      <th>Embarked</th>\n",
       "      <th>Fare</th>\n",
       "      <th>Name</th>\n",
       "      <th>Parch</th>\n",
       "      <th>Pclass</th>\n",
       "      <th>Sex</th>\n",
       "      <th>SibSp</th>\n",
       "      <th>Survived</th>\n",
       "      <th>Ticket</th>\n",
       "    </tr>\n",
       "    <tr>\n",
       "      <th>PassengerId</th>\n",
       "      <th></th>\n",
       "      <th></th>\n",
       "      <th></th>\n",
       "      <th></th>\n",
       "      <th></th>\n",
       "      <th></th>\n",
       "      <th></th>\n",
       "      <th></th>\n",
       "      <th></th>\n",
       "      <th></th>\n",
       "      <th></th>\n",
       "    </tr>\n",
       "  </thead>\n",
       "  <tbody>\n",
       "    <tr>\n",
       "      <th>5</th>\n",
       "      <td>35.0</td>\n",
       "      <td>NaN</td>\n",
       "      <td>S</td>\n",
       "      <td>8.0500</td>\n",
       "      <td>Allen, Mr. William Henry</td>\n",
       "      <td>0</td>\n",
       "      <td>3</td>\n",
       "      <td>male</td>\n",
       "      <td>0</td>\n",
       "      <td>0</td>\n",
       "      <td>373450</td>\n",
       "    </tr>\n",
       "    <tr>\n",
       "      <th>6</th>\n",
       "      <td>NaN</td>\n",
       "      <td>NaN</td>\n",
       "      <td>Q</td>\n",
       "      <td>8.4583</td>\n",
       "      <td>Moran, Mr. James</td>\n",
       "      <td>0</td>\n",
       "      <td>3</td>\n",
       "      <td>male</td>\n",
       "      <td>0</td>\n",
       "      <td>0</td>\n",
       "      <td>330877</td>\n",
       "    </tr>\n",
       "    <tr>\n",
       "      <th>7</th>\n",
       "      <td>54.0</td>\n",
       "      <td>E46</td>\n",
       "      <td>S</td>\n",
       "      <td>51.8625</td>\n",
       "      <td>McCarthy, Mr. Timothy J</td>\n",
       "      <td>0</td>\n",
       "      <td>1</td>\n",
       "      <td>male</td>\n",
       "      <td>0</td>\n",
       "      <td>0</td>\n",
       "      <td>17463</td>\n",
       "    </tr>\n",
       "    <tr>\n",
       "      <th>8</th>\n",
       "      <td>2.0</td>\n",
       "      <td>NaN</td>\n",
       "      <td>S</td>\n",
       "      <td>21.0750</td>\n",
       "      <td>Palsson, Master. Gosta Leonard</td>\n",
       "      <td>1</td>\n",
       "      <td>3</td>\n",
       "      <td>male</td>\n",
       "      <td>3</td>\n",
       "      <td>0</td>\n",
       "      <td>349909</td>\n",
       "    </tr>\n",
       "    <tr>\n",
       "      <th>9</th>\n",
       "      <td>27.0</td>\n",
       "      <td>NaN</td>\n",
       "      <td>S</td>\n",
       "      <td>11.1333</td>\n",
       "      <td>Johnson, Mrs. Oscar W (Elisabeth Vilhelmina Berg)</td>\n",
       "      <td>2</td>\n",
       "      <td>3</td>\n",
       "      <td>female</td>\n",
       "      <td>0</td>\n",
       "      <td>1</td>\n",
       "      <td>347742</td>\n",
       "    </tr>\n",
       "    <tr>\n",
       "      <th>10</th>\n",
       "      <td>14.0</td>\n",
       "      <td>NaN</td>\n",
       "      <td>C</td>\n",
       "      <td>30.0708</td>\n",
       "      <td>Nasser, Mrs. Nicholas (Adele Achem)</td>\n",
       "      <td>0</td>\n",
       "      <td>2</td>\n",
       "      <td>female</td>\n",
       "      <td>1</td>\n",
       "      <td>1</td>\n",
       "      <td>237736</td>\n",
       "    </tr>\n",
       "  </tbody>\n",
       "</table>\n",
       "</div>"
      ],
      "text/plain": [
       "              Age Cabin Embarked     Fare  \\\n",
       "PassengerId                                 \n",
       "5            35.0   NaN        S   8.0500   \n",
       "6             NaN   NaN        Q   8.4583   \n",
       "7            54.0   E46        S  51.8625   \n",
       "8             2.0   NaN        S  21.0750   \n",
       "9            27.0   NaN        S  11.1333   \n",
       "10           14.0   NaN        C  30.0708   \n",
       "\n",
       "                                                          Name  Parch  Pclass  \\\n",
       "PassengerId                                                                     \n",
       "5                                     Allen, Mr. William Henry      0       3   \n",
       "6                                             Moran, Mr. James      0       3   \n",
       "7                                      McCarthy, Mr. Timothy J      0       1   \n",
       "8                               Palsson, Master. Gosta Leonard      1       3   \n",
       "9            Johnson, Mrs. Oscar W (Elisabeth Vilhelmina Berg)      2       3   \n",
       "10                         Nasser, Mrs. Nicholas (Adele Achem)      0       2   \n",
       "\n",
       "                Sex  SibSp  Survived  Ticket  \n",
       "PassengerId                                   \n",
       "5              male      0         0  373450  \n",
       "6              male      0         0  330877  \n",
       "7              male      0         0   17463  \n",
       "8              male      3         0  349909  \n",
       "9            female      0         1  347742  \n",
       "10           female      1         1  237736  "
      ]
     },
     "execution_count": 13,
     "metadata": {},
     "output_type": "execute_result"
    }
   ],
   "source": [
    "#indexing : use loc for label based indexing\n",
    "df.loc[5:10,]"
   ]
  },
  {
   "cell_type": "code",
   "execution_count": 14,
   "metadata": {},
   "outputs": [
    {
     "data": {
      "text/html": [
       "<div>\n",
       "<style scoped>\n",
       "    .dataframe tbody tr th:only-of-type {\n",
       "        vertical-align: middle;\n",
       "    }\n",
       "\n",
       "    .dataframe tbody tr th {\n",
       "        vertical-align: top;\n",
       "    }\n",
       "\n",
       "    .dataframe thead th {\n",
       "        text-align: right;\n",
       "    }\n",
       "</style>\n",
       "<table border=\"1\" class=\"dataframe\">\n",
       "  <thead>\n",
       "    <tr style=\"text-align: right;\">\n",
       "      <th></th>\n",
       "      <th>Age</th>\n",
       "      <th>Cabin</th>\n",
       "      <th>Embarked</th>\n",
       "      <th>Fare</th>\n",
       "      <th>Name</th>\n",
       "      <th>Parch</th>\n",
       "      <th>Pclass</th>\n",
       "    </tr>\n",
       "    <tr>\n",
       "      <th>PassengerId</th>\n",
       "      <th></th>\n",
       "      <th></th>\n",
       "      <th></th>\n",
       "      <th></th>\n",
       "      <th></th>\n",
       "      <th></th>\n",
       "      <th></th>\n",
       "    </tr>\n",
       "  </thead>\n",
       "  <tbody>\n",
       "    <tr>\n",
       "      <th>5</th>\n",
       "      <td>35.0</td>\n",
       "      <td>NaN</td>\n",
       "      <td>S</td>\n",
       "      <td>8.0500</td>\n",
       "      <td>Allen, Mr. William Henry</td>\n",
       "      <td>0</td>\n",
       "      <td>3</td>\n",
       "    </tr>\n",
       "    <tr>\n",
       "      <th>6</th>\n",
       "      <td>NaN</td>\n",
       "      <td>NaN</td>\n",
       "      <td>Q</td>\n",
       "      <td>8.4583</td>\n",
       "      <td>Moran, Mr. James</td>\n",
       "      <td>0</td>\n",
       "      <td>3</td>\n",
       "    </tr>\n",
       "    <tr>\n",
       "      <th>7</th>\n",
       "      <td>54.0</td>\n",
       "      <td>E46</td>\n",
       "      <td>S</td>\n",
       "      <td>51.8625</td>\n",
       "      <td>McCarthy, Mr. Timothy J</td>\n",
       "      <td>0</td>\n",
       "      <td>1</td>\n",
       "    </tr>\n",
       "    <tr>\n",
       "      <th>8</th>\n",
       "      <td>2.0</td>\n",
       "      <td>NaN</td>\n",
       "      <td>S</td>\n",
       "      <td>21.0750</td>\n",
       "      <td>Palsson, Master. Gosta Leonard</td>\n",
       "      <td>1</td>\n",
       "      <td>3</td>\n",
       "    </tr>\n",
       "    <tr>\n",
       "      <th>9</th>\n",
       "      <td>27.0</td>\n",
       "      <td>NaN</td>\n",
       "      <td>S</td>\n",
       "      <td>11.1333</td>\n",
       "      <td>Johnson, Mrs. Oscar W (Elisabeth Vilhelmina Berg)</td>\n",
       "      <td>2</td>\n",
       "      <td>3</td>\n",
       "    </tr>\n",
       "    <tr>\n",
       "      <th>10</th>\n",
       "      <td>14.0</td>\n",
       "      <td>NaN</td>\n",
       "      <td>C</td>\n",
       "      <td>30.0708</td>\n",
       "      <td>Nasser, Mrs. Nicholas (Adele Achem)</td>\n",
       "      <td>0</td>\n",
       "      <td>2</td>\n",
       "    </tr>\n",
       "  </tbody>\n",
       "</table>\n",
       "</div>"
      ],
      "text/plain": [
       "              Age Cabin Embarked     Fare  \\\n",
       "PassengerId                                 \n",
       "5            35.0   NaN        S   8.0500   \n",
       "6             NaN   NaN        Q   8.4583   \n",
       "7            54.0   E46        S  51.8625   \n",
       "8             2.0   NaN        S  21.0750   \n",
       "9            27.0   NaN        S  11.1333   \n",
       "10           14.0   NaN        C  30.0708   \n",
       "\n",
       "                                                          Name  Parch  Pclass  \n",
       "PassengerId                                                                    \n",
       "5                                     Allen, Mr. William Henry      0       3  \n",
       "6                                             Moran, Mr. James      0       3  \n",
       "7                                      McCarthy, Mr. Timothy J      0       1  \n",
       "8                               Palsson, Master. Gosta Leonard      1       3  \n",
       "9            Johnson, Mrs. Oscar W (Elisabeth Vilhelmina Berg)      2       3  \n",
       "10                         Nasser, Mrs. Nicholas (Adele Achem)      0       2  "
      ]
     },
     "execution_count": 14,
     "metadata": {},
     "output_type": "execute_result"
    }
   ],
   "source": [
    "#column range\n",
    "df.loc[5:10, 'Age':'Pclass']"
   ]
  },
  {
   "cell_type": "code",
   "execution_count": 15,
   "metadata": {},
   "outputs": [
    {
     "data": {
      "text/html": [
       "<div>\n",
       "<style scoped>\n",
       "    .dataframe tbody tr th:only-of-type {\n",
       "        vertical-align: middle;\n",
       "    }\n",
       "\n",
       "    .dataframe tbody tr th {\n",
       "        vertical-align: top;\n",
       "    }\n",
       "\n",
       "    .dataframe thead th {\n",
       "        text-align: right;\n",
       "    }\n",
       "</style>\n",
       "<table border=\"1\" class=\"dataframe\">\n",
       "  <thead>\n",
       "    <tr style=\"text-align: right;\">\n",
       "      <th></th>\n",
       "      <th>Survived</th>\n",
       "      <th>Fare</th>\n",
       "      <th>Embarked</th>\n",
       "    </tr>\n",
       "    <tr>\n",
       "      <th>PassengerId</th>\n",
       "      <th></th>\n",
       "      <th></th>\n",
       "      <th></th>\n",
       "    </tr>\n",
       "  </thead>\n",
       "  <tbody>\n",
       "    <tr>\n",
       "      <th>5</th>\n",
       "      <td>0</td>\n",
       "      <td>8.0500</td>\n",
       "      <td>S</td>\n",
       "    </tr>\n",
       "    <tr>\n",
       "      <th>6</th>\n",
       "      <td>0</td>\n",
       "      <td>8.4583</td>\n",
       "      <td>Q</td>\n",
       "    </tr>\n",
       "    <tr>\n",
       "      <th>7</th>\n",
       "      <td>0</td>\n",
       "      <td>51.8625</td>\n",
       "      <td>S</td>\n",
       "    </tr>\n",
       "    <tr>\n",
       "      <th>8</th>\n",
       "      <td>0</td>\n",
       "      <td>21.0750</td>\n",
       "      <td>S</td>\n",
       "    </tr>\n",
       "    <tr>\n",
       "      <th>9</th>\n",
       "      <td>1</td>\n",
       "      <td>11.1333</td>\n",
       "      <td>S</td>\n",
       "    </tr>\n",
       "    <tr>\n",
       "      <th>10</th>\n",
       "      <td>1</td>\n",
       "      <td>30.0708</td>\n",
       "      <td>C</td>\n",
       "    </tr>\n",
       "  </tbody>\n",
       "</table>\n",
       "</div>"
      ],
      "text/plain": [
       "             Survived     Fare Embarked\n",
       "PassengerId                            \n",
       "5                   0   8.0500        S\n",
       "6                   0   8.4583        Q\n",
       "7                   0  51.8625        S\n",
       "8                   0  21.0750        S\n",
       "9                   1  11.1333        S\n",
       "10                  1  30.0708        C"
      ]
     },
     "execution_count": 15,
     "metadata": {},
     "output_type": "execute_result"
    }
   ],
   "source": [
    "#selecting discrete values\n",
    "df.loc[5:10,['Survived','Fare', 'Embarked']]"
   ]
  },
  {
   "cell_type": "code",
   "execution_count": 16,
   "metadata": {},
   "outputs": [
    {
     "data": {
      "text/html": [
       "<div>\n",
       "<style scoped>\n",
       "    .dataframe tbody tr th:only-of-type {\n",
       "        vertical-align: middle;\n",
       "    }\n",
       "\n",
       "    .dataframe tbody tr th {\n",
       "        vertical-align: top;\n",
       "    }\n",
       "\n",
       "    .dataframe thead th {\n",
       "        text-align: right;\n",
       "    }\n",
       "</style>\n",
       "<table border=\"1\" class=\"dataframe\">\n",
       "  <thead>\n",
       "    <tr style=\"text-align: right;\">\n",
       "      <th></th>\n",
       "      <th>Fare</th>\n",
       "      <th>Name</th>\n",
       "      <th>Parch</th>\n",
       "      <th>Pclass</th>\n",
       "      <th>Sex</th>\n",
       "    </tr>\n",
       "    <tr>\n",
       "      <th>PassengerId</th>\n",
       "      <th></th>\n",
       "      <th></th>\n",
       "      <th></th>\n",
       "      <th></th>\n",
       "      <th></th>\n",
       "    </tr>\n",
       "  </thead>\n",
       "  <tbody>\n",
       "    <tr>\n",
       "      <th>6</th>\n",
       "      <td>8.4583</td>\n",
       "      <td>Moran, Mr. James</td>\n",
       "      <td>0</td>\n",
       "      <td>3</td>\n",
       "      <td>male</td>\n",
       "    </tr>\n",
       "    <tr>\n",
       "      <th>7</th>\n",
       "      <td>51.8625</td>\n",
       "      <td>McCarthy, Mr. Timothy J</td>\n",
       "      <td>0</td>\n",
       "      <td>1</td>\n",
       "      <td>male</td>\n",
       "    </tr>\n",
       "    <tr>\n",
       "      <th>8</th>\n",
       "      <td>21.0750</td>\n",
       "      <td>Palsson, Master. Gosta Leonard</td>\n",
       "      <td>1</td>\n",
       "      <td>3</td>\n",
       "      <td>male</td>\n",
       "    </tr>\n",
       "    <tr>\n",
       "      <th>9</th>\n",
       "      <td>11.1333</td>\n",
       "      <td>Johnson, Mrs. Oscar W (Elisabeth Vilhelmina Berg)</td>\n",
       "      <td>2</td>\n",
       "      <td>3</td>\n",
       "      <td>female</td>\n",
       "    </tr>\n",
       "    <tr>\n",
       "      <th>10</th>\n",
       "      <td>30.0708</td>\n",
       "      <td>Nasser, Mrs. Nicholas (Adele Achem)</td>\n",
       "      <td>0</td>\n",
       "      <td>2</td>\n",
       "      <td>female</td>\n",
       "    </tr>\n",
       "  </tbody>\n",
       "</table>\n",
       "</div>"
      ],
      "text/plain": [
       "                Fare                                               Name  \\\n",
       "PassengerId                                                               \n",
       "6             8.4583                                   Moran, Mr. James   \n",
       "7            51.8625                            McCarthy, Mr. Timothy J   \n",
       "8            21.0750                     Palsson, Master. Gosta Leonard   \n",
       "9            11.1333  Johnson, Mrs. Oscar W (Elisabeth Vilhelmina Berg)   \n",
       "10           30.0708                Nasser, Mrs. Nicholas (Adele Achem)   \n",
       "\n",
       "             Parch  Pclass     Sex  \n",
       "PassengerId                         \n",
       "6                0       3    male  \n",
       "7                0       1    male  \n",
       "8                1       3    male  \n",
       "9                2       3  female  \n",
       "10               0       2  female  "
      ]
     },
     "execution_count": 16,
     "metadata": {},
     "output_type": "execute_result"
    }
   ],
   "source": [
    "#indexing iloc for position based indexing\n",
    "df.iloc[5:10, 3:8]"
   ]
  },
  {
   "cell_type": "code",
   "execution_count": 17,
   "metadata": {},
   "outputs": [
    {
     "name": "stdout",
     "output_type": "stream",
     "text": [
      "Number of male passengers : 843\n"
     ]
    }
   ],
   "source": [
    "male_passengers = df.loc[df.Sex == 'male',:]\n",
    "print('Number of male passengers : {0}'.format(len(male_passengers)))"
   ]
  },
  {
   "cell_type": "code",
   "execution_count": 18,
   "metadata": {},
   "outputs": [
    {
     "name": "stdout",
     "output_type": "stream",
     "text": [
      "Number of male passengers in first class : 179\n"
     ]
    }
   ],
   "source": [
    "male_passengers_first_class = df.loc[((df.Sex == 'male') & ( df.Pclass == 1 )),:]\n",
    "print('Number of male passengers in first class : {0}'.format(len(male_passengers_first_class)))"
   ]
  },
  {
   "cell_type": "markdown",
   "metadata": {},
   "source": [
    "## Summary statistics"
   ]
  },
  {
   "cell_type": "code",
   "execution_count": 19,
   "metadata": {},
   "outputs": [
    {
     "data": {
      "text/html": [
       "<div>\n",
       "<style scoped>\n",
       "    .dataframe tbody tr th:only-of-type {\n",
       "        vertical-align: middle;\n",
       "    }\n",
       "\n",
       "    .dataframe tbody tr th {\n",
       "        vertical-align: top;\n",
       "    }\n",
       "\n",
       "    .dataframe thead th {\n",
       "        text-align: right;\n",
       "    }\n",
       "</style>\n",
       "<table border=\"1\" class=\"dataframe\">\n",
       "  <thead>\n",
       "    <tr style=\"text-align: right;\">\n",
       "      <th></th>\n",
       "      <th>Age</th>\n",
       "      <th>Fare</th>\n",
       "      <th>Parch</th>\n",
       "      <th>Pclass</th>\n",
       "      <th>SibSp</th>\n",
       "      <th>Survived</th>\n",
       "    </tr>\n",
       "  </thead>\n",
       "  <tbody>\n",
       "    <tr>\n",
       "      <th>count</th>\n",
       "      <td>1046.000000</td>\n",
       "      <td>1308.000000</td>\n",
       "      <td>1309.000000</td>\n",
       "      <td>1309.000000</td>\n",
       "      <td>1309.000000</td>\n",
       "      <td>1309.000000</td>\n",
       "    </tr>\n",
       "    <tr>\n",
       "      <th>mean</th>\n",
       "      <td>29.881138</td>\n",
       "      <td>33.295479</td>\n",
       "      <td>0.385027</td>\n",
       "      <td>2.294882</td>\n",
       "      <td>0.498854</td>\n",
       "      <td>-283.301757</td>\n",
       "    </tr>\n",
       "    <tr>\n",
       "      <th>std</th>\n",
       "      <td>14.413493</td>\n",
       "      <td>51.758668</td>\n",
       "      <td>0.865560</td>\n",
       "      <td>0.837836</td>\n",
       "      <td>1.041658</td>\n",
       "      <td>414.337413</td>\n",
       "    </tr>\n",
       "    <tr>\n",
       "      <th>min</th>\n",
       "      <td>0.170000</td>\n",
       "      <td>0.000000</td>\n",
       "      <td>0.000000</td>\n",
       "      <td>1.000000</td>\n",
       "      <td>0.000000</td>\n",
       "      <td>-888.000000</td>\n",
       "    </tr>\n",
       "    <tr>\n",
       "      <th>25%</th>\n",
       "      <td>21.000000</td>\n",
       "      <td>7.895800</td>\n",
       "      <td>0.000000</td>\n",
       "      <td>2.000000</td>\n",
       "      <td>0.000000</td>\n",
       "      <td>-888.000000</td>\n",
       "    </tr>\n",
       "    <tr>\n",
       "      <th>50%</th>\n",
       "      <td>28.000000</td>\n",
       "      <td>14.454200</td>\n",
       "      <td>0.000000</td>\n",
       "      <td>3.000000</td>\n",
       "      <td>0.000000</td>\n",
       "      <td>0.000000</td>\n",
       "    </tr>\n",
       "    <tr>\n",
       "      <th>75%</th>\n",
       "      <td>39.000000</td>\n",
       "      <td>31.275000</td>\n",
       "      <td>0.000000</td>\n",
       "      <td>3.000000</td>\n",
       "      <td>1.000000</td>\n",
       "      <td>1.000000</td>\n",
       "    </tr>\n",
       "    <tr>\n",
       "      <th>max</th>\n",
       "      <td>80.000000</td>\n",
       "      <td>512.329200</td>\n",
       "      <td>9.000000</td>\n",
       "      <td>3.000000</td>\n",
       "      <td>8.000000</td>\n",
       "      <td>1.000000</td>\n",
       "    </tr>\n",
       "  </tbody>\n",
       "</table>\n",
       "</div>"
      ],
      "text/plain": [
       "               Age         Fare        Parch       Pclass        SibSp  \\\n",
       "count  1046.000000  1308.000000  1309.000000  1309.000000  1309.000000   \n",
       "mean     29.881138    33.295479     0.385027     2.294882     0.498854   \n",
       "std      14.413493    51.758668     0.865560     0.837836     1.041658   \n",
       "min       0.170000     0.000000     0.000000     1.000000     0.000000   \n",
       "25%      21.000000     7.895800     0.000000     2.000000     0.000000   \n",
       "50%      28.000000    14.454200     0.000000     3.000000     0.000000   \n",
       "75%      39.000000    31.275000     0.000000     3.000000     1.000000   \n",
       "max      80.000000   512.329200     9.000000     3.000000     8.000000   \n",
       "\n",
       "          Survived  \n",
       "count  1309.000000  \n",
       "mean   -283.301757  \n",
       "std     414.337413  \n",
       "min    -888.000000  \n",
       "25%    -888.000000  \n",
       "50%       0.000000  \n",
       "75%       1.000000  \n",
       "max       1.000000  "
      ]
     },
     "execution_count": 19,
     "metadata": {},
     "output_type": "execute_result"
    }
   ],
   "source": [
    "#Use describe() to get stats of all the numeric columns\n",
    "df.describe()"
   ]
  },
  {
   "cell_type": "code",
   "execution_count": 20,
   "metadata": {},
   "outputs": [
    {
     "name": "stdout",
     "output_type": "stream",
     "text": [
      "Mean fare: 33.2954792813456\n",
      "Median fare: 14.4542\n"
     ]
    }
   ],
   "source": [
    "print('Mean fare: {0}'.format(df.Fare.mean())) #mean\n",
    "print('Median fare: {0}'.format(df.Fare.median())) #median\n"
   ]
  },
  {
   "cell_type": "code",
   "execution_count": 21,
   "metadata": {},
   "outputs": [
    {
     "name": "stdout",
     "output_type": "stream",
     "text": [
      "Min fare: 0.0\n",
      "Max fare: 512.3292\n",
      "Range: 512.3292\n",
      "25 percentile: 7.8958\n",
      "Variance fare: 2678.959737892894\n",
      "Standard Deviation fare: 51.75866823917414\n"
     ]
    }
   ],
   "source": [
    "print('Min fare: {0}'.format(df.Fare.min())) #min\n",
    "print('Max fare: {0}'.format(df.Fare.max())) #max\n",
    "print('Range: {0}'.format(df.Fare.max() - df.Fare.min())) #range\n",
    "print('25 percentile: {0}'.format(df.Fare.quantile(.25))) #25 percentile\n",
    "print('Variance fare: {0}'.format(df.Fare.var())) #min\n",
    "print('Standard Deviation fare: {0}'.format(df.Fare.std())) #Standard Deviation"
   ]
  },
  {
   "cell_type": "code",
   "execution_count": 22,
   "metadata": {},
   "outputs": [],
   "source": [
    "%matplotlib inline"
   ]
  },
  {
   "cell_type": "code",
   "execution_count": 23,
   "metadata": {},
   "outputs": [
    {
     "data": {
      "text/plain": [
       "<matplotlib.axes._subplots.AxesSubplot at 0x1f269fa4940>"
      ]
     },
     "execution_count": 23,
     "metadata": {},
     "output_type": "execute_result"
    },
    {
     "data": {
      "image/png": "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\n",
      "text/plain": [
       "<Figure size 432x288 with 1 Axes>"
      ]
     },
     "metadata": {},
     "output_type": "display_data"
    }
   ],
   "source": [
    "#Box-whisker plot\n",
    "df.Fare.plot(kind='box')"
   ]
  },
  {
   "cell_type": "code",
   "execution_count": 24,
   "metadata": {},
   "outputs": [
    {
     "data": {
      "text/html": [
       "<div>\n",
       "<style scoped>\n",
       "    .dataframe tbody tr th:only-of-type {\n",
       "        vertical-align: middle;\n",
       "    }\n",
       "\n",
       "    .dataframe tbody tr th {\n",
       "        vertical-align: top;\n",
       "    }\n",
       "\n",
       "    .dataframe thead th {\n",
       "        text-align: right;\n",
       "    }\n",
       "</style>\n",
       "<table border=\"1\" class=\"dataframe\">\n",
       "  <thead>\n",
       "    <tr style=\"text-align: right;\">\n",
       "      <th></th>\n",
       "      <th>Age</th>\n",
       "      <th>Cabin</th>\n",
       "      <th>Embarked</th>\n",
       "      <th>Fare</th>\n",
       "      <th>Name</th>\n",
       "      <th>Parch</th>\n",
       "      <th>Pclass</th>\n",
       "      <th>Sex</th>\n",
       "      <th>SibSp</th>\n",
       "      <th>Survived</th>\n",
       "      <th>Ticket</th>\n",
       "    </tr>\n",
       "  </thead>\n",
       "  <tbody>\n",
       "    <tr>\n",
       "      <th>count</th>\n",
       "      <td>1046.000000</td>\n",
       "      <td>295</td>\n",
       "      <td>1307</td>\n",
       "      <td>1308.000000</td>\n",
       "      <td>1309</td>\n",
       "      <td>1309.000000</td>\n",
       "      <td>1309.000000</td>\n",
       "      <td>1309</td>\n",
       "      <td>1309.000000</td>\n",
       "      <td>1309.000000</td>\n",
       "      <td>1309</td>\n",
       "    </tr>\n",
       "    <tr>\n",
       "      <th>unique</th>\n",
       "      <td>NaN</td>\n",
       "      <td>186</td>\n",
       "      <td>3</td>\n",
       "      <td>NaN</td>\n",
       "      <td>1307</td>\n",
       "      <td>NaN</td>\n",
       "      <td>NaN</td>\n",
       "      <td>2</td>\n",
       "      <td>NaN</td>\n",
       "      <td>NaN</td>\n",
       "      <td>929</td>\n",
       "    </tr>\n",
       "    <tr>\n",
       "      <th>top</th>\n",
       "      <td>NaN</td>\n",
       "      <td>C23 C25 C27</td>\n",
       "      <td>S</td>\n",
       "      <td>NaN</td>\n",
       "      <td>Connolly, Miss. Kate</td>\n",
       "      <td>NaN</td>\n",
       "      <td>NaN</td>\n",
       "      <td>male</td>\n",
       "      <td>NaN</td>\n",
       "      <td>NaN</td>\n",
       "      <td>CA. 2343</td>\n",
       "    </tr>\n",
       "    <tr>\n",
       "      <th>freq</th>\n",
       "      <td>NaN</td>\n",
       "      <td>6</td>\n",
       "      <td>914</td>\n",
       "      <td>NaN</td>\n",
       "      <td>2</td>\n",
       "      <td>NaN</td>\n",
       "      <td>NaN</td>\n",
       "      <td>843</td>\n",
       "      <td>NaN</td>\n",
       "      <td>NaN</td>\n",
       "      <td>11</td>\n",
       "    </tr>\n",
       "    <tr>\n",
       "      <th>mean</th>\n",
       "      <td>29.881138</td>\n",
       "      <td>NaN</td>\n",
       "      <td>NaN</td>\n",
       "      <td>33.295479</td>\n",
       "      <td>NaN</td>\n",
       "      <td>0.385027</td>\n",
       "      <td>2.294882</td>\n",
       "      <td>NaN</td>\n",
       "      <td>0.498854</td>\n",
       "      <td>-283.301757</td>\n",
       "      <td>NaN</td>\n",
       "    </tr>\n",
       "    <tr>\n",
       "      <th>std</th>\n",
       "      <td>14.413493</td>\n",
       "      <td>NaN</td>\n",
       "      <td>NaN</td>\n",
       "      <td>51.758668</td>\n",
       "      <td>NaN</td>\n",
       "      <td>0.865560</td>\n",
       "      <td>0.837836</td>\n",
       "      <td>NaN</td>\n",
       "      <td>1.041658</td>\n",
       "      <td>414.337413</td>\n",
       "      <td>NaN</td>\n",
       "    </tr>\n",
       "    <tr>\n",
       "      <th>min</th>\n",
       "      <td>0.170000</td>\n",
       "      <td>NaN</td>\n",
       "      <td>NaN</td>\n",
       "      <td>0.000000</td>\n",
       "      <td>NaN</td>\n",
       "      <td>0.000000</td>\n",
       "      <td>1.000000</td>\n",
       "      <td>NaN</td>\n",
       "      <td>0.000000</td>\n",
       "      <td>-888.000000</td>\n",
       "      <td>NaN</td>\n",
       "    </tr>\n",
       "    <tr>\n",
       "      <th>25%</th>\n",
       "      <td>21.000000</td>\n",
       "      <td>NaN</td>\n",
       "      <td>NaN</td>\n",
       "      <td>7.895800</td>\n",
       "      <td>NaN</td>\n",
       "      <td>0.000000</td>\n",
       "      <td>2.000000</td>\n",
       "      <td>NaN</td>\n",
       "      <td>0.000000</td>\n",
       "      <td>-888.000000</td>\n",
       "      <td>NaN</td>\n",
       "    </tr>\n",
       "    <tr>\n",
       "      <th>50%</th>\n",
       "      <td>28.000000</td>\n",
       "      <td>NaN</td>\n",
       "      <td>NaN</td>\n",
       "      <td>14.454200</td>\n",
       "      <td>NaN</td>\n",
       "      <td>0.000000</td>\n",
       "      <td>3.000000</td>\n",
       "      <td>NaN</td>\n",
       "      <td>0.000000</td>\n",
       "      <td>0.000000</td>\n",
       "      <td>NaN</td>\n",
       "    </tr>\n",
       "    <tr>\n",
       "      <th>75%</th>\n",
       "      <td>39.000000</td>\n",
       "      <td>NaN</td>\n",
       "      <td>NaN</td>\n",
       "      <td>31.275000</td>\n",
       "      <td>NaN</td>\n",
       "      <td>0.000000</td>\n",
       "      <td>3.000000</td>\n",
       "      <td>NaN</td>\n",
       "      <td>1.000000</td>\n",
       "      <td>1.000000</td>\n",
       "      <td>NaN</td>\n",
       "    </tr>\n",
       "    <tr>\n",
       "      <th>max</th>\n",
       "      <td>80.000000</td>\n",
       "      <td>NaN</td>\n",
       "      <td>NaN</td>\n",
       "      <td>512.329200</td>\n",
       "      <td>NaN</td>\n",
       "      <td>9.000000</td>\n",
       "      <td>3.000000</td>\n",
       "      <td>NaN</td>\n",
       "      <td>8.000000</td>\n",
       "      <td>1.000000</td>\n",
       "      <td>NaN</td>\n",
       "    </tr>\n",
       "  </tbody>\n",
       "</table>\n",
       "</div>"
      ],
      "text/plain": [
       "                Age        Cabin Embarked         Fare                  Name  \\\n",
       "count   1046.000000          295     1307  1308.000000                  1309   \n",
       "unique          NaN          186        3          NaN                  1307   \n",
       "top             NaN  C23 C25 C27        S          NaN  Connolly, Miss. Kate   \n",
       "freq            NaN            6      914          NaN                     2   \n",
       "mean      29.881138          NaN      NaN    33.295479                   NaN   \n",
       "std       14.413493          NaN      NaN    51.758668                   NaN   \n",
       "min        0.170000          NaN      NaN     0.000000                   NaN   \n",
       "25%       21.000000          NaN      NaN     7.895800                   NaN   \n",
       "50%       28.000000          NaN      NaN    14.454200                   NaN   \n",
       "75%       39.000000          NaN      NaN    31.275000                   NaN   \n",
       "max       80.000000          NaN      NaN   512.329200                   NaN   \n",
       "\n",
       "              Parch       Pclass   Sex        SibSp     Survived    Ticket  \n",
       "count   1309.000000  1309.000000  1309  1309.000000  1309.000000      1309  \n",
       "unique          NaN          NaN     2          NaN          NaN       929  \n",
       "top             NaN          NaN  male          NaN          NaN  CA. 2343  \n",
       "freq            NaN          NaN   843          NaN          NaN        11  \n",
       "mean       0.385027     2.294882   NaN     0.498854  -283.301757       NaN  \n",
       "std        0.865560     0.837836   NaN     1.041658   414.337413       NaN  \n",
       "min        0.000000     1.000000   NaN     0.000000  -888.000000       NaN  \n",
       "25%        0.000000     2.000000   NaN     0.000000  -888.000000       NaN  \n",
       "50%        0.000000     3.000000   NaN     0.000000     0.000000       NaN  \n",
       "75%        0.000000     3.000000   NaN     1.000000     1.000000       NaN  \n",
       "max        9.000000     3.000000   NaN     8.000000     1.000000       NaN  "
      ]
     },
     "execution_count": 24,
     "metadata": {},
     "output_type": "execute_result"
    }
   ],
   "source": [
    "df.describe(include='all')"
   ]
  },
  {
   "cell_type": "code",
   "execution_count": 25,
   "metadata": {},
   "outputs": [
    {
     "data": {
      "text/plain": [
       "male      843\n",
       "female    466\n",
       "Name: Sex, dtype: int64"
      ]
     },
     "execution_count": 25,
     "metadata": {},
     "output_type": "execute_result"
    }
   ],
   "source": [
    "df.Sex.value_counts()"
   ]
  },
  {
   "cell_type": "code",
   "execution_count": 26,
   "metadata": {},
   "outputs": [
    {
     "data": {
      "text/plain": [
       "male      0.644003\n",
       "female    0.355997\n",
       "Name: Sex, dtype: float64"
      ]
     },
     "execution_count": 26,
     "metadata": {},
     "output_type": "execute_result"
    }
   ],
   "source": [
    "df.Sex.value_counts(normalize=True)"
  },
   ]
  {
   "cell_type": "code",
   "execution_count": 27,
   "metadata": {},
   "outputs": [
    {
     "data": {
      "text/plain": [
       "0    549\n",
       "1    342\n",
       "Name: Survived, dtype: int64"
      ]
     },
     "execution_count": 27,
     "metadata": {},
     "output_type": "execute_result"
    }
   ],
   "source": [
    "df[df.Survived!=-888].Survived.value_counts() #Only for train data"
   ]
  },
  {
   "cell_type": "code",
   "execution_count": 28,
   "metadata": {},
   "outputs": [
    {
     "data": {
      "text/plain": [
       "3    709\n",
       "1    323\n",
       "2    277\n",
       "Name: Pclass, dtype: int64"
      ]
     },
     "execution_count": 28,
     "metadata": {},
     "output_type": "execute_result"
    }
   ],
   "source": [
    "df.Pclass.value_counts()"
   ]
  },
  {
   "cell_type": "code",
   "execution_count": 29,
   "metadata": {},
   "outputs": [
    {
     "data": {
      "text/plain": [
       "<matplotlib.axes._subplots.AxesSubplot at 0x1f26abe6630>"
      ]
     },
     "execution_count": 29,
     "metadata": {},
     "output_type": "execute_result"
    },
    {
     "data": {
      "image/png": "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\n",
      "text/plain": [
       "<Figure size 432x288 with 1 Axes>"
      ]
     },
     "metadata": {},
     "output_type": "display_data"
    }
   ],
   "source": [
    "df.Pclass.value_counts().plot(kind='bar')"
   ]
  },
  {
   "cell_type": "code",
   "execution_count": 30,
   "metadata": {},
   "outputs": [
    {
     "data": {
      "text/plain": [
       "<matplotlib.axes._subplots.AxesSubplot at 0x1f26a8611d0>"
      ]
     },
     "execution_count": 30,
     "metadata": {},
     "output_type": "execute_result"
    },
    {
     "data": {
      "image/png": "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\n",
      "text/plain": [
       "<Figure size 432x288 with 1 Axes>"
      ]
     },
     "metadata": {},
     "output_type": "display_data"
    }
   ],
   "source": [
    "df.Pclass.value_counts().plot(kind='bar', rot=0, title='Class wise passenger count', color='c')"
   ]
  },
  {
   "cell_type": "markdown",
   "metadata": {},
   "source": [
    "## Distributions"
   ]
  },
  {
   "cell_type": "code",
   "execution_count": 31,
   "metadata": {},
   "outputs": [
    {
     "data": {
      "text/plain": [
       "<matplotlib.axes._subplots.AxesSubplot at 0x1f26a7d1160>"
      ]
     },
     "execution_count": 31,
     "metadata": {},
     "output_type": "execute_result"
    },
    {
     "data": {
      "image/png": "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\n",
      "text/plain": [
       "<Figure size 432x288 with 1 Axes>"
      ]
     },
     "metadata": {},
     "output_type": "display_data"
    }
   ],
   "source": [
    "#use hist to create histograms\n",
    "df.Age.plot(kind='hist', title = 'histogram for age', color = 'c')"
   ]
  },
  {
   "cell_type": "code",
   "execution_count": 32,
   "metadata": {
    "scrolled": true
   },
   "outputs": [
    {
     "data": {
      "text/plain": [
       "<matplotlib.axes._subplots.AxesSubplot at 0x1f26aa68748>"
      ]
     },
     "execution_count": 32,
     "metadata": {},
     "output_type": "execute_result"
    },
    {
     "data": {
      "image/png": "iVBORw0KGgoAAAANSUhEUgAAAYgAAAEICAYAAABF82P+AAAABHNCSVQICAgIfAhkiAAAAAlwSFlzAAALEgAACxIB0t1+/AAAADl0RVh0U29mdHdhcmUAbWF0cGxvdGxpYiB2ZXJzaW9uIDIuMi4yLCBodHRwOi8vbWF0cGxvdGxpYi5vcmcvhp/UCwAAGqJJREFUeJzt3XuYXHWd5/H3hwQD4TIB04EmnU4HjVGG5ZJpkREdkYAGhyE6D2oYL5GJZlUcYdZdAjqPqAs7sKuCPDPDGC4SFLmKkokzakCUXUcSOyFASMgQISSdC2mEAKICCd/94/xqcmhOp6svVac69Xk9Tz19zu+cqvOp6kp/c37n8lNEYGZm1tteZQcwM7PG5AJhZmaFXCDMzKyQC4SZmRVygTAzs0IuEGZmVsgFwhqCpPWSTu5j2dslra13pnqTdIikeyQ9J+lrZecxG112ALP+RMT/Bab1t56kLwGvj4gP1zxUbcwDngQODF+gZA3AexBmVZBUj/9MTQZWD6Y41CmfNRkXCGskx0h6QNIzkm6WtA+ApBMldVdWkjRf0qbUFbNW0gxJM4HPAx+U9FtJ96d1D5O0SNJTktZJ+kTudfaVtFDS05LWSDqv13bWp209ADwvabSk8yX9Om17taT35db/mKRfSLpM0nZJj0p6a2rfKGmbpDlFb1zSdcAc4LyU/2RJYyRdLmlzelwuaUz+M0n5tgLfKnjN10n6qaTfSHpS0g2SxuWWT5d0X3ovt6bP/KLc8tMkrUzv5d8lHTXg36iNbBHhhx+lP4D1wDLgMOBgYA3wybTsRKA7TU8DNgKHpfkO4HVp+kvAd3q97s+BfwL2AY4BeoAZadklaflBQBvwQGU7uUwrgUnAvqnt/SnjXsAHgeeB1rTsY8AO4CxgFHARsAH4R2AM8C7gOWD/Pj6D64CLcvNfAe4FJgAtwL8D/zP3mewALk2vvW/B670eOCUtbwHuAS5Py14DPA6cA+wN/CXwYmX7wHRgG/CW9F7mpM9jTNnfFT/q9/AehDWSKyJic0Q8BfwL2R/03naS/cE7QtLeEbE+In5d9GKSJgFvA+ZHxB8iYiVwNfCRtMoHgP8VEU9HRDdwRR+ZNkbE7wEi4taU8eWIuBl4BDgut/5jEfGtiNgJ3ExWXL4SES9ExE/I/gi/vsrP40Ppudsiogf4ci47wMvAhem1f9/7yRGxLiKWpOU9wNeBd6TFx5Mdg7wiIl6KiNvJCnTFJ4BvRsTSiNgZEQuBF9LzrEm4QFgj2Zqb/h2wf+8VImIdcC7Z3sI2STdJOqyP1zsMeCoinsu1PQ5MzC3fmFuWny5sk/TRXLfLduBIYHxulSdy05Wi0rvtVe9rN/kf75U9/157IuIPfT1Z0oT0+WyS9CzwnVzWw4BNEZE/3pF/r5OBz1XeZ3qvk3pt3/ZwLhA24kTEdyPibWR/xIKsm4U0nbcZOFjSAbm2dmBTmt5C1rVUMaloc5UJSZOBq4DPAK+NiHHAKkCDfCv92Uz2HivaU9ursvXh79M6R0XEgcCH2ZV1CzBRUj57/v1vBC6OiHG5x9iIuHEwb8RGJhcIG1EkTZN0UjpY+wey/5HvTIufADok7QUQERvJ+u3/XtI+6SDrXOCGtP4twAWSDpI0kewP/+7sR/YHtydlOYtsD6JWbgT+TlKLpPHAF8n2Aqp1APBbYHt6f/8jt+yXZJ/bZ9LB91m8sqvsKuCTkt6izH6S/rxXsbU9nAuEjTRjyA4uP0nWJTWB7OwlgFvTz99IWpGmzyQ7kL0Z+D5Zn/2StOwrQDfwGHAncBtZP3uhiFgNfI3sj+sTwH8BfjEcb6oPFwFdZAfPHwRWpLZqfZnsYPMzwA+B2ysLIuJFsgPTc4HtZHsXi0nvPyK6yI5D/APwNLCO7CC8NRG9sgvSrHlJ+hQwOyLe0e/KeyBJS4F/johXnTJrzcl7ENa0JLVKOkHSXpKmAZ8j28toCpLeIenQ1MU0BzgK+FHZuaxx+OpLa2avAb4JTCHrZrmJ7JqJZjGN7DjM/sCvgTMiYku5kayRuIvJzMwKuYvJzMwKjegupvHjx0dHR0fZMczMRpTly5c/GREt/a03ogtER0cHXV1dZccwMxtRJD3e/1ruYjIzsz64QJiZWSEXCDMzK+QCYWZmhVwgzMyskAuEmZkVqlmBkHRtGoN3Va/2v0njCD8k6X/n2i9IYwavlfTuWuUyM7Pq1PI6iOvIbhV8faVB0juBWWQDmLwgaUJqPwKYDfwx2YhVd0p6Qxq20czMSlCzPYiIuAd4qlfzp4BLIqJyz/ltqX0WcFMaO/cxsnvPH4eZmZWm3scg3gC8XdJSST+X9ObUPpFXjofbza5xg19B0jxJXZK6enp6ahzX8lrb2pE0qEdrW3vZ8c1sgOp9q43RwEHA8cCbgVskHU7xmL6Ft5mNiAXAAoDOzk7firaOtm7ayOT5iwf13McvPW2Y05hZrdV7D6IbuD0yy4CXgfGpPT9gehuvHJzdzMzqrN4F4gfASQCS3kA2YMuTwCJgtqQxkqYAU4Fldc5mZmY5NetiknQjcCIwXlI3cCFwLXBtOvX1RWBOZCMWPSTpFmA1sAM422cwmZmVq2YFIiLO7GPRh/tY/2Lg4lrlMTOzgfGV1GZmVsgFwszMCrlAmJlZIRcIMzMr5AJhZmaFXCDMzKyQC4SZmRVygTAzs0IuEGZmVsgFwszMCrlAmJlZIRcIMzMr5AJhZmaFXCDMzKyQC4SZmRVygTAzs0I1KxCSrpW0LY0e13vZf5cUksaneUm6QtI6SQ9Iml6rXGZmVp1a7kFcB8zs3ShpEnAKsCHXfCrZONRTgXnAlTXMZWZmVahZgYiIe4CnChZdBpwHRK5tFnB9ZO4FxklqrVU2MzPrX12PQUg6HdgUEff3WjQR2Jib705tZmZWktH12pCkscAXgHcVLS5oi4I2JM0j64aivb192PKZmdkr1XMP4nXAFOB+SeuBNmCFpEPJ9hgm5dZtAzYXvUhELIiIzojobGlpqXFkM7PmVbcCEREPRsSEiOiIiA6yojA9IrYCi4CPprOZjgeeiYgt9cpmZmavVsvTXG8EfglMk9Qtae5uVv9X4FFgHXAV8Ola5TIzs+rU7BhERJzZz/KO3HQAZ9cqi5mZDZyvpDYzs0IuEGZmVsgFwszMCrlAmJlZIRcIMzMr5AJhZmaFXCDMzKyQC4SZmRVygTAzs0IuEGZmVsgFwupj1N5IGtSjtc23dTcrQ93Gg7Amt/MlJs9fPKinPn7pacMcxsyq4T0IMzMr5AJhZmaFXCDMzKyQC4SZmRVygTAzs0K1HHL0WknbJK3Ktf0fSQ9LekDS9yWNyy27QNI6SWslvbtWuczMrDq13IO4DpjZq20JcGREHAX8B3ABgKQjgNnAH6fn/JOkUTXMZiOJr6EwK0Utx6S+R1JHr7af5GbvBc5I07OAmyLiBeAxSeuA44Bf1iqfjSC+hsKsFGUeg/hr4N/S9ERgY25Zd2p7FUnzJHVJ6urp6alxRDOz5lVKgZD0BWAHcEOlqWC1KHpuRCyIiM6I6GxpaalVRDOzplf3W21ImgOcBsyIiEoR6AYm5VZrAzbXO5uZme1S1z0ISTOB+cDpEfG73KJFwGxJYyRNAaYCy+qZzczMXqlmexCSbgROBMZL6gYuJDtraQywRBLAvRHxyYh4SNItwGqyrqezI2JnrbKZmVn/ankW05kFzdfsZv2LgYtrlcfMzAbGV1KbmVkhFwgzMyvkAtFEWtvaB31FcjpmZGZNxCPKNZGtmzYO+opk8FXJZs3GexBmZlbIBcLMzAq5QJiZWSEXCDMzK+QCYWZmhVwgzMyskAuEmZkVcoEwM7NCLhBmZlbIBcLMzAq5QJiZWSEXCDMzK+QCYWZmhaoqEJKOHOgLS7pW0jZJq3JtB0taIumR9POg1C5JV0haJ+kBSdMHuj0zMxte1e5B/LOkZZI+LWlclc+5DpjZq+184K6ImArcleYBTgWmpsc84Moqt2FmZjVSVYGIiLcBHwImAV2SvivplH6ecw/wVK/mWcDCNL0QeG+u/frI3AuMk9Ra5XswM7MaqPoYREQ8AvwdMB94B3CFpIcl/eUAtndIRGxJr7cFmJDaJwIbc+t1p7ZXkTRPUpekrp6engFs2szMBqLaYxBHSboMWAOcBPxFRLwpTV82DDmKxrOMohUjYkFEdEZEZ0tLyzBs2szMilS7B/EPwArg6Ig4OyJWAETEZrK9imo9Uek6Sj+3pfZusu6rijZg8wBe18zMhlm1BeI9wHcj4vcAkvaSNBYgIr49gO0tAuak6TnAHbn2j6azmY4Hnql0RZmZWTmqLRB3Avvm5semtj5JuhH4JTBNUrekucAlwCmSHgFOSfMA/wo8CqwDrgI+XfU7MNudUXsjaVCP1rb2stOblWp0levtExG/rcxExG8rexB9iYgz+1g0o2DdAM6uMotZ9Xa+xOT5iwf11McvPW2Yw5iNLNXuQTyfv3hN0p8Av69NJDMzawTV7kGcC9wqqXLguBX4YG0imZlZI6iqQETEryS9EZhGdkrqwxHxUk2TmZlZqardgwB4M9CRnnOsJCLi+pqkMjOz0lVVICR9G3gdsBLYmZoDcIEwM9tDVbsH0Qkckc42MjOzJlDtWUyrgENrGcTMzBpLtXsQ44HVkpYBL1QaI+L0mqQyM7PSVVsgvlTLEGZm1niqPc3155ImA1Mj4s50FfWo2kYzM7MyVXu7708AtwHfTE0TgR/UKpSZmZWv2oPUZwMnAM/Cfw4eNGG3zzAzsxGt2gLxQkS8WJmRNJo+BvQxM7M9Q7UF4ueSPg/sm8aivhX4l9rFMjOzslVbIM4HeoAHgf9KNn7DQEaSMzOzEabas5heJhvI56raxjEzs0ZR7b2YHqPgmENEHD7siczMrCEM5F5MFfsA7wcOHuxGJf0t8HGyovMgcBbZGBM3pdddAXwkf2DczMzqq6pjEBHxm9xjU0RcDpw0mA1Kmgh8FuiMiCPJLribDVwKXBYRU4GngbmDeX0zMxse1XYxTc/N7kW2R3HAELe7r6SXgLHAFrKC81dp+UKy23tcOYRtmJnZEFTbxfS13PQOYD3wgcFsMCI2SfoqsIFsXOufAMuB7RGxI63WTXa19qtImgfMA2hvbx9MBDMzq0K1ZzG9c7g2KOkgYBYwBdhOdk3FqUWb7SPLAmABQGdnpy/WMzOrkWq7mP7b7pZHxNcHsM2Tgccioie99u3AW4FxkkanvYg2YPMAXtPMzIZZtRfKdQKfIuv2mQh8EjiC7DjEQI9FbACOlzRWkoAZwGrgbuCMtM4c4I4Bvq6ZmQ2jgQwYND0ingOQ9CXg1oj4+EA3GBFLJd1GdirrDuA+si6jHwI3SbootV0z0Nc2M7PhU22BaAfy1yS8CHQMdqMRcSFwYa/mR4HjBvuaZmY2vKotEN8Glkn6PtnB4/cB19cslZmZla7as5gulvRvwNtT01kRcV/tYpmZWdmqPUgN2QVtz0bEN4BuSVNqlMnMzBpAtUOOXgjMBy5ITXsD36lVKDMzK1+1exDvA04HngeIiM0M7VYbZmbW4KotEC9GRJCubpa0X+0imZlZI6i2QNwi6ZtkVzt/ArgTDx5kZrZHq/Yspq+msaifBaYBX4yIJTVNZmZmpeq3QEgaBfw4Ik4GXBTMzJpEv11MEbET+J2kP6pDHjMzaxDVXkn9B+BBSUtIZzIBRMRna5LKzMxKV22B+GF6mJlZk9htgZDUHhEbImJhvQKZmVlj6O8YxA8qE5K+V+MsZmbWQPorEMpNH17LIGZm1lj6KxDRx7TZnm/U3kga9KO1rb3sd2A2JP0dpD5a0rNkexL7pmnSfETEgTVNZ1amnS8xef7iQT/98UtPG8YwZvW32wIREaNqsVFJ44CrgSPJ9kz+GlgL3Ew2Ut164AMR8XQttm9mZv0byHgQw+kbwI8i4o3A0cAa4HzgroiYCtyV5s3MrCR1LxCSDgT+DLgGICJejIjtwCygcjrtQuC99c5mZma7lLEHcTjQA3xL0n2Srk63Dz8kIrYApJ8Tip4saZ6kLkldPT099UttZtZkyigQo4HpwJURcSzZrTuq7k6KiAUR0RkRnS0tLbXKaGbW9MooEN1Ad0QsTfO3kRWMJyS1AqSf20rIZmZmSd0LRERsBTZKmpaaZgCrgUXAnNQ2B7ij3tnMzGyXam/WN9z+BrhB0muAR4GzyIrVLZLmAhuA95eUzax0rW3tbN20cVDPPXTiJLZ0bxjmRNaMSikQEbES6CxYNKPeWcwa0dZNGwd9kZ4v0LPhUtZ1EGZm1uBcIMzMrJALhJmZFXKBMDOzQi4QZmZWyAXCzMwKNW2BaG1r92AwVltDGHDIrBGUdaFc6YZynjn4XHOrwhAGHPL3yxpB0+5BmJnZ7rlAmJlZIRcIMzMr5AJhZmaFXCDMzKyQC4SZmRVygTAzs0IuEGZmVsgFwszMCpVWICSNknSfpMVpfoqkpZIekXRzGo7UzMxKUuYexDnAmtz8pcBlETEVeBqYW0oqMzMDSioQktqAPweuTvMCTgJuS6ssBN5bRjYzM8uUtQdxOXAe8HKafy2wPSJ2pPluYGLREyXNk9Qlqaunp6f2SRvMUO5Ca2Y2EHW/m6uk04BtEbFc0omV5oJVo+j5EbEAWADQ2dlZuM6ebCh3ofUdQs1sIMq43fcJwOmS3gPsAxxItkcxTtLotBfRBmwuIZuZmSV172KKiAsioi0iOoDZwE8j4kPA3cAZabU5wB31zma2RxjCQEUeCMvyGmnAoPnATZIuAu4Drik5j9nI5IGKbJiUWiAi4mfAz9L0o8BxZeYxM7NdfCW1mZkVcoEwM7NCLhBmZlbIBcLMzAq5QJiZWSEXCDMzK+QCYWZmhVwgzMyskAuEmZkVcoEwM7NCLhBmZlbIBcLMdvGdYC2nke7mamZl851gLcd7EGZmVsgFwszMCrlAmJlZIRcIMzMrVPcCIWmSpLslrZH0kKRzUvvBkpZIeiT9PKje2eqlta190GeKmJnVSxlnMe0APhcRKyQdACyXtAT4GHBXRFwi6XzgfLJxqvc4Wzdt9JkiZtbw6r4HERFbImJFmn4OWANMBGYBC9NqC4H31jvbgAzhfHGzPdIQ/k34OorGVOp1EJI6gGOBpcAhEbEFsiIiaUIfz5kHzANoby/xC+Xzxc1eaQj/JgAe/+r7Bv0fqEMnTmJL94ZBb9uKlVYgJO0PfA84NyKerfaLERELgAUAnZ2dUbuEZlZX/k9XwynlLCZJe5MVhxsi4vbU/ISk1rS8FdhWRjYzM8uUcRaTgGuANRHx9dyiRcCcND0HuKPe2czMbJcyuphOAD4CPChpZWr7PHAJcIukucAG4P0lZDMzs6TuBSIi/h/Q1wGHGfXMYmZmffOV1GZmVsgFwszMCrlAmJlZIRcIMzMr5AJhZmaFXCDMzKyQC4SZmRVygTAzs0IuEGZmVsgFwszMCrlAmJlZIRcIMzMr5AJhZmaFXCDMbOQbwnjYo8fs63G0+1DqmNRmZsNiiMOVeqjTYt6DMDOzQi4QZmZWqOEKhKSZktZKWifp/LLzmJn1aQjHPkbCMYyGOgYhaRTwj8ApQDfwK0mLImJ1ucnMzAoM4dgHNP4xjEbbgzgOWBcRj0bEi8BNwKySM5mZ1cYQ9kDqsfehiKj5Rqol6QxgZkR8PM1/BHhLRHwmt848YF6anQasHeTmxgNPDiFurTjXwDjXwDRqLmjcbHtirskR0dLfSg3VxQSooO0VFSwiFgALhrwhqSsiOof6OsPNuQbGuQamUXNB42Zr5lyN1sXUDUzKzbcBm0vKYmbW1BqtQPwKmCppiqTXALOBRSVnMjNrSg3VxRQROyR9BvgxMAq4NiIeqtHmhtxNVSPONTDONTCNmgsaN1vT5mqog9RmZtY4Gq2LyczMGoQLhJmZFWq6AtFIt/KQdK2kbZJW5doOlrRE0iPp50F1zjRJ0t2S1kh6SNI5jZArZdhH0jJJ96dsX07tUyQtTdluTic41DvbKEn3SVrcKJlSjvWSHpS0UlJXamuE3+U4SbdJejh91/607FySpqXPqfJ4VtK5ZedK2f42fedXSbox/Vuo+XesqQpE7lYepwJHAGdKOqLESNcBM3u1nQ/cFRFTgbvSfD3tAD4XEW8CjgfOTp9R2bkAXgBOioijgWOAmZKOBy4FLkvZngbmlpDtHGBNbr4RMlW8MyKOyZ0z3wi/y28AP4qINwJHk312peaKiLXpczoG+BPgd8D3y84laSLwWaAzIo4kO4FnNvX4jkVE0zyAPwV+nJu/ALig5EwdwKrc/FqgNU23AmtLzncH2b2xGi3XWGAF8Bayq0lHF/2O65SljewPx0nAYrILPkvNlMu2Hhjfq63U3yVwIPAY6SSZRsnVK8u7gF80Qi5gIrAROJjszNPFwLvr8R1rqj0Idn3QFd2prZEcEhFbANLPCWUFkdQBHAssbZRcqStnJbANWAL8GtgeETvSKmX8Ti8HzgNeTvOvbYBMFQH8RNLydJsaKP93eTjQA3wrdctdLWm/BsiVNxu4MU2XmisiNgFfBTYAW4BngOXU4TvWbAWi31t5WEbS/sD3gHMj4tmy81RExM7IugDayG7u+Kai1eqVR9JpwLaIWJ5vLli1rO/ZCRExnaxb9WxJf1ZSjrzRwHTgyog4Fniecrq5CqW+/NOBW8vOApCOecwCpgCHAfuR/T57G/bvWLMViJFwK48nJLUCpJ/b6h1A0t5kxeGGiLi9UXLlRcR24Gdkx0nGSapc9Fnv3+kJwOmS1pPdffgksj2KMjP9p4jYnH5uI+tPP47yf5fdQHdELE3zt5EVjLJzVZwKrIiIJ9J82blOBh6LiJ6IeAm4HXgrdfiONVuBGAm38lgEzEnTc8iOAdSNJAHXAGsi4uuNkitla5E0Lk3vS/YPZw1wN3BGGdki4oKIaIuIDrLv008j4kNlZqqQtJ+kAyrTZP3qqyj5dxkRW4GNkqalphnA6rJz5ZzJru4lKD/XBuB4SWPTv8/K51X771hZB4HKegDvAf6DrO/6CyVnuZGsT/Elsv9VzSXrv74LeCT9PLjOmd5Gtqv6ALAyPd5Tdq6U7SjgvpRtFfDF1H44sAxYR9YtMKak3+eJwOJGyZQy3J8eD1W+7w3yuzwG6Eq/yx8ABzVIrrHAb4A/yrU1Qq4vAw+n7/23gTH1+I75VhtmZlao2bqYzMysSi4QZmZWyAXCzMwKuUCYmVkhFwgzMyvkAmFmZoVcIMzMrND/B9uWIIG6J642AAAAAElFTkSuQmCC\n",
      "text/plain": [
       "<Figure size 432x288 with 1 Axes>"
      ]
     },
     "metadata": {},
     "output_type": "display_data"
    }
   ],
   "source": [
    "df.Age.plot(kind='hist', title = 'histogram for age', edgecolor = 'black', bins = 20)"
   ]
  },
  {
   "cell_type": "code",
   "execution_count": 33,
   "metadata": {},
   "outputs": [
    {
     "data": {
      "text/plain": [
       "<matplotlib.axes._subplots.AxesSubplot at 0x1f26ab65da0>"
      ]
     },
     "execution_count": 33,
     "metadata": {},
     "output_type": "execute_result"
    },
    {
     "data": {
      "image/png": "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\n",
      "text/plain": [
       "<Figure size 432x288 with 1 Axes>"
      ]
     },
     "metadata": {},
     "output_type": "display_data"
    }
   ],
   "source": [
    "df.Age.plot(kind='kde', title = 'Density plot for age', color = 'c')"
   ]
  },
  {
   "cell_type": "code",
   "execution_count": 34,
   "metadata": {},
   "outputs": [
    {
     "data": {
      "text/plain": [
       "<matplotlib.axes._subplots.AxesSubplot at 0x1f26c7b6d30>"
      ]
     },
     "execution_count": 34,
     "metadata": {},
     "output_type": "execute_result"
    },
    {
     "data": {
      "image/png": "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\n",
      "text/plain": [
       "<Figure size 432x288 with 1 Axes>"
      ]
     },
     "metadata": {},
     "output_type": "display_data"
    }
   ],
   "source": [
    "df.Fare.plot(kind='hist', title = 'histogram for fare', color = 'c', bins = 20, edgecolor='black')"
   ]
  },
  {
   "cell_type": "code",
   "execution_count": 35,
   "metadata": {},
   "outputs": [
    {
     "name": "stdout",
     "output_type": "stream",
     "text": [
      "Skewness for age : 0.41\n",
      "Skewness for Fare : 4.37\n"
     ]
    }
   ],
   "source": [
    "print('Skewness for age : {0:.2f}'.format(df.Age.skew()))\n",
    "print('Skewness for Fare : {0:.2f}'.format(df.Fare.skew()))"
   ]
  },
  {
   "cell_type": "code",
   "execution_count": 36,
   "metadata": {},
   "outputs": [
    {
     "data": {
      "text/plain": [
       "<matplotlib.axes._subplots.AxesSubplot at 0x1f26cc4d4a8>"
      ]
     },
     "execution_count": 36,
     "metadata": {},
     "output_type": "execute_result"
    },
    {
     "data": {
      "image/png": "iVBORw0KGgoAAAANSUhEUgAAAYgAAAEWCAYAAAB8LwAVAAAABHNCSVQICAgIfAhkiAAAAAlwSFlzAAALEgAACxIB0t1+/AAAADl0RVh0U29mdHdhcmUAbWF0cGxvdGxpYiB2ZXJzaW9uIDIuMi4yLCBodHRwOi8vbWF0cGxvdGxpYi5vcmcvhp/UCwAAIABJREFUeJztnX2cHUWZ739P5p2ZDK8DG/I2eOFisnglJARYdFUwAVlccIWrwZVkHS96l8mywn40rLvsupjP6nrvosF1EYwmLpsQRVcIl7sxvOnGq4SJQYQZkKgJRF5mFAiEJSSE5/5R1U6fnuq3c7pP95nz+34+9Tmnu6urn67urqfqqaeqRFVBCCGEBJlStACEEELKCRUEIYQQJ1QQhBBCnFBBEEIIcUIFQQghxAkVBCGEECdUEIT4EBEVkeOLloOQMkAFQVIjIm8Rkf8nIntE5DkR+YGInFpjmstEZEtg3xoR+XRt0uaDS94U564RkddE5Nis5coSEXm7iLwuInt9YWPRcpH6QQVBUiEivQDuAHA9gCMATAfwKQCvFimXCxFpLVqGICLSDeC9APYA+EDB4iThKVXt8YV3p02gjM+BJIMKgqTlvwKAqq5X1YOq+oqqfldVH/IiiMj/EJEREXlJRIZF5BS7f4WI/Ny3/z12/xwANwA4w9ZSXxCRy2AK0I/7a64icqyIfEtExkTklyLyZ77r/q2I3CoiN4vIiwCWBYW3tfcbRGSzleN7IjLbdaMicqiIfN1ea5eI/JWITHHJmyL/3gvgBQB/B2Bp4HpdIrJWRJ63+fdxEdntOx5674F0TheRZ0SkxbfvPSLykP2/UESGRORFEXlWRP4xhfxeemeIyI/ss3paRFaJSJs91mpNdX8qIjsAPGr3zxWRu2yr81EReW/a65I6o6oMDIkDgF4AvwGwFsC7ABweOH4xgF8BOBWAADgewGzfsWNhKibvA/AygGn22DIAWwJprQHwad/2FADbAFwDoB3AGwD8AsA59vjfAjgA4EIbt8sh/xoALwH4fQAdAL7gvy4ABXC8/f91ALcBmAqgH8DPAAxEyHsJgIdi8u9uAP8A4BgArwE4xXfsMwC+B+BwADMAPARgd5J7d1zn5wAW+ba/CWCF/f9DAB+0/3sAnB6Sxtu96zuOnQrgNACtVpafARi0x1ptPv67vZcum4e/AnCpPT7fvkcnFv1OM0S8r0ULwNB4AcAcW9DutoXc7QCOscc2AbgiYToPArjA/k+iIE4D8EQgztUAvmb//y2A78dccw2AW3zbPQAOAphptxVGqbXAmM3m+uJ+BMB9YfImuN9ZAF4HcLIvr77gO15R4AP4sE9BRN6741qfBvBV+38qjDKebbe/D2MWPCpG3rdbeV/whf8eEvcvAHzT/vcUxO/7jn8AwL2Bc1YD+GTR7zNDeKCJiaRGVUdUdZmqzgBwEkyr4PP28EyY2usERORSEXnQmiVesOceleLSswEc651v0/hLmNq4x5MJ0vltHFXdC+A5ew9+joKpqe/y7dsF0+dSLR8EMKKqD9rtfwVwiWeasTL45ff/T3LvftYB+CMR6QDwRwB+rKrevQzAmAofFZEHROT8CJmfUtXDfOEbACAibxSR/2NNWS/CmMyCzzIo/5kB+d8HYFrEtUnBsPOI1ISqPioia2Bq14ApFP5LMJ61898E4GwAP1TVgyLyIIwZCjA1zgnJB7afBPBLVT0hSqQEYs/0ydUD09n+VCDOr2HMVbMBDNt9s2DMJEmvE+RSALNE5Bm73QrgSBhT3e0AnoYxLXnXm+k7N8m9/xZVHRaRXTbtS2AUhnfscQBLRGQKjPK4VUSOVNWXU9zLlwH8CMD7VHWviPwFgKCi8efRkwDuVtV3pbgGKRi2IEgqbM3xKhGZYbdnAlgCU1gAwFcA/IWIzBfD8VY5dMMUGGP2vD+BaUF4PAtghoi0B/a9wbe9FcCLIvIJ26HbIiInSXoX2/PEuOq2A7gWwP2qWtHyUNWDAL4BYKWITLX3cCWAmyPkDUVEzoBRnAsBnGzDSTAFt9dZ/Q0AV4vI4SIyHcBgjfe+DsCfwfS3fNMnyx+LSJ+qeuYjwJjZ0jAVxhPrZdtp/5GY+LcD+F0RuURE2mxYKCInprwuqSNUECQtL8HYw+8XkZdhFMPDAK4CAFX9JoCVMIXTSwC+A+AIVR0G8L9hOkifBfAmAD/wpXsPgEcAPCMiv7b7VgOYa00S37GF9rthCtdfwtTyvwLg0JT3sA7A38CYluYj3N10OYzt/hcAttjzvhomr4h8QEQeCUlrKYDbVPWnqvqMF2A6yc8XkSNgzDS77b3dBeBWWPfhKu99PUw/wj2q+mvf/nMBPCIie+3136+q+yLScXGVvaeXYFoTG6Iiq+oeAOcA+GOYltIzAP4exlGAlBRR5YJBpHmw5rDdqvpXRcsSh4j8T5jC+21Fy0KaE7YgCCkJIjJNRM60Yy1OhKml/1vRcpHmhZ3UhJSHdhhzzXEwfQO3APhSoRKRpoYmJkIIIU5oYiKEEOKkoU1MRx11lPb39xctBiGENBTbtm37tar2xcVraAXR39+PoaGhosUghJCGwg6ijIUmJkIIIU6oIAghhDihgiCEEOKECoIQQogTKghCCCFOqCAIATAyAqxda34BYGwMeOAB80tqh/nZmFBBkKZn+XJg7lxg2TLze845wOzZwKJF5nf9+qIlbGzWr2d+NioNPdXGggULlOMgSC2MjBilEEVXF7BrF9AXO6yIBBkbM0rhlVfG9zE/i0dEtqnqgrh4bEGQpmbr1vg4bW3Azp25izIp2bkTaA8sqcT8bByoIEhTs3BhfJwDBwDO6FId/f3A/v2V+5ifjUOuCkJEdorIT+1C9UN23xEisllEHre/h9v9IiKrRGSHiDwkIqfkKRshADBnDjA4WLlv8WJjBuntNb+rV9McUi19fSb/mJ+NSa59ECKyE8AC/3KHIvIPAJ5T1c+IyAoAh6vqJ0TkPJglHs+DWdLyC6p6WlT67IMgWTEyYsxNCxcapTE2Zswg/f0szLKA+VkukvZBFDFZ3wUw6+QCwFoA9wH4hN3/dTUa60cicpiITFPVpwuQkTQZc+aY4NHXx4IsS5ifjUnefRAK4Lsisk1ELrP7jvEKfft7tN0/HcCTvnN3230ViMhlIjIkIkNjdKomhJDcyLsFcaaqPiUiRwPYLCKPRsQVx74J9i9VvRHAjYAxMWUjJiGEkCC5tiBU9Sn7Owqz+PpCAM+KyDTALNIOYNRG3w1gpu/0GQCeylM+Qggh4eSmIESkW0Smev8BLAbwMIDbASy10ZYCuM3+vx3Apdab6XQAe9j/QAghxZGniekYAP8mIt511qnqv4vIAwC+ISIDAJ4AcLGNfyeMB9MOAP8J4E9ylI0QQkgMuSkIVf0FgDc79v8GwNmO/Qrg8rzkIYQQkg6OpCaEEOKECoIQQogTKghCCCFOqCAIIYQ4oYIghBDihAqCEEKIEyoIQgghTqggCCGEOKGCIIQQ4oQKghBCiBMqCEIIIU6oIAghhDihgiCEEOKECoIQQogTKghCCCFOqCAIIYQ4oYIghBDihAqCEEKIEyoIQgghTqggCCGEOKGCIIQQ4oQKghBCiBMqCEIIIU6oIAghhDihgiCEEOKECoIQQogTKghCCCFOqCAIIYQ4oYIghBDiJHcFISItIrJdRO6w28eJyP0i8riIbBCRdru/w27vsMf785aNEEJIOPVoQVwBYMS3/VkA16nqCQCeBzBg9w8AeF5VjwdwnY1HCCGkIHJVECIyA8AfAPiK3RYAZwG41UZZC+BC+/8Cuw17/GwbnxBCSAHk3YL4PICPA3jdbh8J4AVVfc1u7wYw3f6fDuBJALDH99j4hBBCCiA3BSEi5wMYVdVt/t2OqJrgmD/dy0RkSESGxsbGMpCUEEKIizxbEGcC+EMR2QngFhjT0ucBHCYirTbODABP2f+7AcwEAHv8UADPBRNV1RtVdYGqLujr68tRfEIIaW5yUxCqerWqzlDVfgDvB3CPqn4AwL0ALrLRlgK4zf6/3W7DHr9HVSe0IAghhNSHIsZBfALAlSKyA6aPYbXdvxrAkXb/lQBWFCAbIYQQS2t8lNpR1fsA3Gf//wLAQkecfQAuroc8hBBC4uFIakIIIU6oIAghhDihgiCEEOKECoIQQogTKghCCCFOqCAIIYQ4oYIghBDihAqCEEKIEyoIQgghTqggCCGEOKGCIIQQ4oQKghBCiBMqCEIIIU6oIAghhDihgiCEEOKECoIQQogTKghCCCFOqCAIIYQ4oYIghBDihAqCEEKIEyoIQgghTqggCCGEOKGCIIQQ4oQKghBCiBMqCEIIIU6oIAghhDihgiCEEOKECoIQQogTKghCCCFOqCAIIYQ4yU1BiEiniGwVkZ+IyCMi8im7/zgRuV9EHheRDSLSbvd32O0d9nh/XrIRQgiJJ88WxKsAzlLVNwM4GcC5InI6gM8CuE5VTwDwPIABG38AwPOqejyA62w8QgghBZGbglDDXrvZZoMCOAvArXb/WgAX2v8X2G3Y42eLiOQlHyGEkGhy7YMQkRYReRDAKIDNAH4O4AVVfc1G2Q1guv0/HcCTAGCP7wFwpCPNy0RkSESGxsbG8hSfEEKamlwVhKoeVNWTAcwAsBDAHFc0++tqLeiEHao3quoCVV3Q19eXnbCEEEIqqIsXk6q+AOA+AKcDOExEWu2hGQCesv93A5gJAPb4oQCeq4d8hBBCJpKnF1OfiBxm/3cBeCeAEQD3ArjIRlsK4Db7/3a7DXv8HlWd0IIghBBSH1rjo1TNNABrRaQFRhF9Q1XvEJFhALeIyKcBbAew2sZfDeBfRGQHTMvh/TnKRgghJIbcFISqPgRgnmP/L2D6I4L79wG4OC95CCGEpIMjqQkhhDihgiCEEOKECoIQQoiTRApCDH8sItfY7VkiMqEfgRBCyOQhaQviSwDOALDEbr8E4J9ykYgQQkgpSKogTlPVywHsAwBVfR5Ae25SkUIZGwMeeMD81npulmmRyUmtz5nvSX4kVRAH7HgGBcwgOACv5yYViSXLj8Kf1vr1wOzZwKJF5nf9+uTXDp67fHl8WmEkkSNPylLopJWjLHInxfWc09xD0e/JpEdVYwOAD8CMdN4NYCWAxwBcnOTcPMP8+fO1GVm3TrWrS/XQQ83vunXZpdXWpgqMh64u1dHR+GuPjppt/7nBEEwrDFdaSc/Ngizzt55ylEXupLiec1tb8nso+j1pZAAMaZKyP0kkkx7eCOByAIMA5iQ9L8/QjAoiy48iSaHe26u6dWv8tbduNR910rSicKWV9NxaKUuhk1aOssidhiTvTNQ9FPmeNDpJFUSsiUlEpojIw6r6qKr+k6p+UVVH8mnPkDh27gTaA70/bW1mfxZpBTlwAOjvj792fz+wf3/ytKJwpZX03FrJMn/rKUdZ5E5Dkncm6h6KfE+ahVgFoaqvA/iJiMyqgzwkhiw/Clda7e1AZyfQ2wt0dQGrVwPerOpR1+7rM3G7usbPHRys3PanFYUrraTn1kpZCp20cpRF7jQEn3Nn50QlF3UPRb4nTUOSZgaAe2BcW++G6Yu4HcDtSc7NMzSjiUl13Nbc25tdH4Q/Lc9k5Grax107eO7wsOqaNeY3Cf7zo+TIkyzzt55ypH02ZcEvVzV5X9b7KjNIaGISEzcaEXlbiHL5XmaaqgoWLFigQ0NDRYpQGGNj46adWmtMadNKGn/9emBgwNQK9+83tbslS7KLnydZ5m895QiLX6a8jaMseT+ZEZFtqrogNl4SBVFWmllBlJ2xMeN2+Mor4/u6uoBdu9wffdr4JDnMWxIkqYJIOtXG6SLygIjsFZH9InJQRF6sXUwyWWmGTtZGgXlLqiXpQLkvwkyz8TiALgAftvsIcdIMnayNAvOWVEvi2VxVdQeAFlU9qKpfA/D23KQiDU9aDxN6pOQH85ZUS9JO6u/DrCn9FQDPAHgawDJVfXO+4kXDPojyk1cHOEkP85Z4JO2DSLrk6AdhWhuDAD4GYCaA91YvHmkW+vrSFUZp45PkMG9JWiIVhIjMUtUnVHWX3bUPwKfyF4vUE9Ys01NLnhXpokxIGuL6IL7j/RGRb+UsCykAzoaZnlryLMv85rMjeRPZByEi21V1XvB/WWAfRG00mn98GWrLteRZlvndaM8uS8rSemtkshoHoSH/ySSgkfzjy1JbriXP8p5osazPLkvK0nprFuJaEAcBvAxAYMY//Kd3CICqam/uEkbAFkRtNEottExysgVRHGXJ+8lAJi0IVW1R1V5Vnaqqrfa/t12ociC10yj+8WWqLdeSZ1nmd6M8uywpS+utmeBcTJOUNLbWMtllXbLUWvtLcn+1jNcAahvrUS+b+sgIsHUrsHAhMGdOuuuUAbYgsiNpC6LQ6bprDc063Xccjbb0pEeU3IODlSuHDQ7WnmaaOLWkn+f5Sak2/8pGLVOxl2Ua9zKALKf7LitsQUykUWtKUXID1d1TkrwoslZar2c1MgLMnTtx//Bw47Yk6MVUG5nO5koah0a1tUbJXe09JTmvSLt2vZ7V1q3p9pedvj7g1FOr77up9txmJOlUG6RBaNSZO+PkruaekuRFLflVa17X61ktXJhuPyEeubUgRGSmiNwrIiMi8oiIXGH3HyEim0Xkcft7uN0vIrJKRHaIyEMickpesk1mGtW7JUruau8pyXlFeiXV61nNmWPWB/czONiY5iVSX3LrgxCRaQCmqeqPRWQqgG0ALgSwDMBzqvoZEVkB4HBV/YSInAdgOYDzAJwG4AuqelrUNdgHEU6j2lqj5K72nvLwYsrq3CzOT0qjezGR7CjdkqMichvMIkNfBPB2VX3aKpH7VPVEEfmy/b/exn/MixeWJhUEIYSkp1Sd1CLSD2AegPsBHOMV+vb3aBttOoAnfafttvuCaV0mIkMiMjQ2Npan2IQQ0tTkriBEpAfAtwD8uapGrWMtjn0TmjeqeqOqLlDVBX2NZDshhJAGI1cFISJtMMrhX1X123b3s9a05PVTjNr9u2EWIvKYAeCpPOUjhBASTp5eTAJgNYARVf1H36HbASy1/5cCuM23/1LrzXQ6gD1R/Q+EEELyJc9xEGfCLFX6UxF50O77SwCfAfANERkA8ASAi+2xO2E8mHbAzBr7JznKRgghJIbcFISqboG7XwEAznbEVwCX5yUPIYSQdHCqDUIIIU6oIAghhDihgiCEEOKECoIQQogTKgjSsIyNAQ88YH5d25OBRr2nRpWbVEIFQRqS9evNYjuLFpnf5csrt9evL1rC2gneY6PcU6PKTSbCFeVIw+FaiS1II6yiF8VkXBmwzHI3G6WarI+QLHGtxBakEVbRi2IyrgxIGg8qCNJwuFZiC9IIq+hFMVlXBiSNRdMriGbo6MybNHmWRf76V2Lr7ja/g4PRK7Nl/Vyj0sv6HifDyoAAv6uGRFUbNsyfP19rYd061a4u1UMPNb+Dg5Xb69bVlHxTEMzDqDxLEzfJdTs7Vbu7ze+6daqjo6pbt5rfvK4bl17W1wq7p7LjlzvrPCG1A2BIE5SxTdtJ3QwdnXmTpkMyy87Loq4blx7ADloPbxnVnh5g/nzmSdlgJ3UMzdDRmTdpOiSz7Lws6rpx6bGD1uB3c503D3jttYlxmi1PGpU8p/suNc3Q0Zk3aToks+y8LOq6SdJr9g7asTFgYMC0GMJa56+8YloWpPw0bQvC1ZkW19FJKknTkZplp2tR141Lr1E7lrMkScu8sxPYu7cu4pAaado+CA/PVtrfbz7k4DaJJ02exeV3LWllFTcJUek18zvEvr3GIGkfRNOamDy8ml/YdlqauXBIgj9/16835oj2dmOaGRgwNW5ve/VqYMmSZGkB0Xkf91zTKqo070kt70SW71M90vJaUQMDpv/lwIHx5+ptN1urqqFJ4upU1lCrm2vWNKM7X7X3PDpq4gPhoasruXtnLXmfpbtznmnV6hZcz7SC7rmN6q47WUFCN9fCC/laQpkUhKvAS1PANSK13PPWraaAiVIQvb0mXp5yZKmo8k6r2veprGmR4kiqIJq2kzprmtHFsZZ7ztKLrBY5snR3zjutergF1zMtUn6oIDKiGeegqeWes/Qiq0WOLBVV3mnVwy24nmmRBiBJM6OsoUwmJtVx22xvb/P1QVR7z1nZqmuRI3iu129QtrSy6DcoW1qkGMCpNoqhKK+TIr2nyuK5laW30A9+AHz3u8DixcCZZ9aWVjN5MZHGIKmbKxVESQm6gEa5fKaJS+JZvhz44hfHtwcHgeuvL04eQrKGCqKBKXIyulpp9JbMyAgwd+7E/cPDwJw5tUjX3LDFUS44WV8Dk/dkdHmteVHkWsRZXXvr1nT7gfKuIVIWubhGdQOTpKOirKFsndRZkcbXPK1futfB2N093sGYxSCmIv3js7z28HBlOl4YHnbHd61LUQbKMmiT4ybKCTgOonHJazK6sTFg2TJjjnr5ZfN76aXArFm11+6K8I/3asjbt2d37TlzTJ+Dn8FBt3lpbAxYuhTYt8/k5759ZrvIGvvYmOlc/9CHzPPds8f8DgwY81m9WxQcN9HgJNEiZQ2TtQXhkaZmnyTupk3u2nEjjrAN1pDb2rK99vCw6po14S0H1fD83LSp+uvWgr916HquHR31b1GwBVFOUHQLQkS+KiKjIvKwb98RIrJZRB63v4fb/SIiq0Rkh4g8JCKn5CVXI9HXB5x6arJOvTRxo6i2dlfPqa79aw54NWQRM410VteeM8e0BhqlY9qfJy+/PPH4K68Ar75a2aKoR0uCU6A3NnmamNYAODewbwWAu1X1BAB3220AeBeAE2y4DMA/5yhX0zJvnlEAUdQyKnbJEuM9dddd5jcvV1uX2aKzE7jttvyv7WfevIlytLeb/fUmbJqP7m6go8MUzH7qaeap13tBsic3BaGq3wfwXGD3BQDW2v9rAVzo2/912/r5EYDDRGRaXrI1K319wNq1pjDt7ja/WS+SlFVLJoqw6R7mzcv/2n76+oA1a0y+dXeb3zVriqkdu/Kkqwv49rdNH02Qek+PUY/3gmRPvTupj1HVpwHA/h5t908H8KQv3m67bwIicpmIDInI0FjR/nsNyJIlwBNPAPfea36vvz7b2l09XCv9ZguvYC7KbOHVju+9t9jacZgpZ/FiYyZLYuZJ8+zK4kJL8qUsXkzi2OccwaeqN6rqAlVd0MfqSFUEa3PB7Wo//iT+7lkWLKqVv1HEXTftcf92lrXjWvInypQTZ+ZJM1aB4xqaiCQ92dUGAP0AHvZtPwZgmv0/DcBj9v+XASxxxYsKk92LqQiyXAAo6K2SlW9+tWM/wq6b9ngtiwBFkfXYhaRecHmOuyHlBGVYMMihID4HYIX9vwLAP9j/fwDg/8K0JE4HsDVJ+lQQyUlSWGS9AJB/wZ8sC5a4a6W5p2qOZ+UanEbOtKRRNmnyM01cUl6SKog83VzXA/ghgBNFZLeIDAD4DIBFIvI4gEV2GwDuBPALADsA3ATgT/OSq1Ya0faa1CSQ9QJABw6YfWvXGht9VlOC9PdXzj0FmEFqrk5XV/qq4/vj7jnJIkAtLcCdd9b2ToTJsX17+vfN5QYc5dYa9ux6eiaa1Z5/3rjLxsWtJ434TTYMSbRIWUO9WxBlmb4gDUlqpl7rYni4tlrs4sWV586cWbnd0jIx7eFhd8smKq9HRycOjGtrc8sZN3XG6Khqe3vlsfb2cbmGhyced4VDDsnebNbebqbv8OdB3AC+0VFzfOrUdLX84BQsQTOaf7u93eR3cM2Lar+LuNZt1PFG/CZVi1+jG2UwMeUd6qkgGtX2GmcSCLOvRy0G4yqkwgriYOjsjC5YRkfNSOTOzvC8Tmrm8ApLV1p+01dQ2UyZMi5XZ+dExSYSfn/t7bWbhbz8ccnl3x4cdJ9/yCET5XK9q/5Cat06M9K6s9PcQ5xS7Ooyz6nWSkXcXFYuBZBVhaYoyqDUqCAyplFtr1GKLexYWK1e1RRKrkJqzZpkCmLlyvCPu60tfKqItP0Z3kcYrEknUTa1hlqm2vAKv02bkskV1RJKoky8QiqofOJCe7uRs5bvIq4lGNeq6uiYeLzs32RZKppJFURZ3FxLT6Ouxevyj7/uOmPzDpvkbu9et9vmyEjlQjqA2R4ZARYuTCbP8cebtPfunXjtAwfCp4rw53Xc9A1+G/xLL42nMXXqxLhJ1pGuJ57L7Lx5yeTypiHfvj06/urVlX0JwT6K119PJ+f+/SbU8l1s327iBs/1Bva5+mX27zf9TXv2mL6QYF/UK6+U+5tstMkLqSAS0ihzyrg67Pw+8NddB3zsY6bD+sILgRdfrDz/5ZfDP7CotRJcs6C6eMc7zG/SgjlsIFyUX7/rY+voGB8U6I8bfK4dHW45/PM8tbSEyztlSjZTbQTlCusoP/74ZOml7XgHTF5EXXvHjtq+ixdeiN5fjfIW14iqGsi6A7zhKppJmhllDUW4uRbduRRFnG0zicum32wRZONGd/ybbx7PE69/YsuWiWaLKVPcZqDe3nHbt8vO7Tc5JMn7tGs6+NPetMndab1p07hpLGgWCcbN8t3wy+Uyx0T1pYSZMZK8B/6O+i1b4vOzmu8iyWy4cf0ywZCliSmvvoLgPbEPYhIpiLIyPGxsslG2zaT29jVr3NcI62dobx//iG64wVznppvccTdsqEwz2FEa9uGk9et32XmTFBxxyiUuD7O2gafpkPV3NLe2mhDX+Rt0GPAvJOUnrO+p1ntL4o0W9o6EVSqyUNB59xUUXdGkgmgivIIhrrCqtQWR1FNp6lRTOLmOrVoVfS+uDyftx1rrgL/guZ2d0R3keRUiYR5mYasB+l1V29pMCCvwVSd6o8UVWknWyKjmHtOuyBdVqfAqKLU+g0Z1SkkKFUSTEFVguQqr4AcVHLsQVzNctKgyfpTLpyts3Jj+Hqv5WKttxqfxkOrtNYVwe3v25oIwD56OjvHCNOgmnNTE5L+HNOYTf8GcZQ241rS882+4ITuTUFm8jfKCCqJJCDN5dHRMHFwW7CcYHh6vwXV1xdfgkrZAokLQfBVVOMSZV7Zsia4Bb9mies015jeOpKauuPysFX+fQ61vGo8AAAATL0lEQVR5HVSo/n6UtIWfX6F4SrFMg9PyKNDL0FeQF1QQTYLrw+joqCyswj7uMBtu2DiILMYM3HxzpXIKGwQVrA0GB/AFWzKLF1fGDx7/0IfiR+OGmW68fE474jvNMwzes8tkWEtoba1+/EA9zWrVkpdJqOi+gryggmgiomo6aWv9nhkjbIqLJGl1dZk04kYgB4+3tZlCLGwkcJxXTVxw2ePDptoImmNcdvKktdZgIRNswYUN6EsbvGdXjXKJkjuuNVNNQZx1wTvZTUJZQwXRZIR9cLXW+qPs78EpLLywYYPbjFFL8BdCSUdtJ7mnOFfLKE+bJLXWYAsj2OcT1pnvCl4rwKsInHRS5fHg3FdxedDREW4+8csd9pyrLYgb1X10MrUmqCASUuRDjzNjpJEtLG6t/QZhcxyF+ea3to7HD7pGZlWoJ/WmSnJPGza443juuFEKJKzW6p/oL0sl2dZWeyvKJWet70wal9dGdR8tw/xJWUIFkYAiH3rcIjRpZsiMu4+ogjpo5klTO4waM5C0kPFqxHGTwwULoWAfQ7XKJq4FEXc8bDxBmK0/Sejpie8nSNqK8hwQkkzC6JG21ZmmgG9E99HJaL6igoihWvtxFlRTqw97IePuI+5a3uRnwQIuaUHiunbYJG7B1sbgYKWnUpSSSHNPXti40RSkn/tcdB9N2um+g30UUd5WaUNbW7JZUpO2ojZsSN8iTft+pingG7GwbUSlFgcVRAxhA6I8V0C/u6PLy6YWs081/QI9PaawS5KW36UxblZQf9xqCpIw+3yUH39nZ/ToXlfh5P8gXfccLMSDLY6oe3KtheDvlI4bZRz1LDo7x8cuuPoNgi0411TsYco62IoK9kHEmX6S5Im/4hDlQFBNH0TWg9vyohGVWhxUEDGE1cD8C7S4Cr9azD611jSnTnXXgKPWM4i7TpJWU1T/RrCAa2kZjxf0/gnKGXbtuPUgwj7YjRuTj3sI4n82ruceNQW6P42gomptHVcQHR3J1lnwXyNsjEXYtTw35vb22syS/jwJvgeeO65fcaVtaYe5M5fVtj/ZxkRQQcQQ1jmZJqQp4DwXzrBaadC042339ERf11VQJAk9Pe6PO65vxB8/LA+D9nmvcIyyqQeJm/snyvaf5AMOK9CSTCAXlWbcZHKuZxnmTRRViIfJGXznqjFLJiHqnal11HpwAGRZyGOqkaKggohh5cr0hWow9PaaQjI4KjnOLdCraQdrey5/+Wuumagk0piQwsI117g/7rgCzr9gS5hiCvPwcRWOwZq5p2CD7p+uWrx/5lhXQePvR/CfV03Bu2FDeKvKG7F9003pn0VY6ySuEE+iIMIUW5xZMo35NOmobJdCrsZUWBRl82KqtW+UCiKGJC2I4HTVwYFecdtpwpQplTWnqAFUwbWK4zyRXGHLltpdYF2htXX85Q2mHczPk05yt6pcdm6vMA22uMJaJ17N3NvvraP8N38T36kfVE5TplTmt7+1Ussz9+TyK4goF+KWlvECP00ntUdUoZ5m/Wu/6dC1PKnnqOCP7ypck75/RdfYy9YHkYWyooKIYXS0tg877+BaAtLrg4ir5Xt9EL29ppAMpuWNVchi6oxg8Pogah2rkGdwdQzfdJNpBWzcWJ3CrTa0tY33UbS1mWt703W74re2qn7kI6bgT1K4XnXVeIXDK8zb2ysVrKt/yLX+9fCwmY03yeA+//xYUYVrcIpyV1orV0bPueVXZHl4HZbJiykrZUUFEUOZCzBX8LyYkpiUghOzpfE0yiJs2pRNHw9DdKi19eJvBWT5HvgHS0a5QqumH0y5aFFl7TnoyTVlSvZmoDK1ILJSVkkVRFMuOTo2BtxyS9FSpOPgQeC885KtVXzggIl36qnAUUdNXIbR2+7rM2sT58GOHfmkS8ZRre38ffvMErP7909c27kWXnsN6Okx/3t63OtG9/S41ziPY/PmyrW0N2+uPP766+PHBgayWSq0TMsN13vJ0tZ8ki0v69ebFydqXeGy0N5u1hI+eLDyhXzLWyo/jDe9yRTIbW3mZfHH3blz4r22tIyvT3zjjdnK7K3J/MQT2aZbJlpazDOZTHR1mcK1owN49VUTaklr717zf+9es+1XEp2dZv/wsPv8lSuB6dOBX/0K+OQnq5fDW4c7i4J8yRLgne806fX3F7cWvaesBgbc33vWNJWCGBszGZtlbSkvRCpr/g89BBx5JNDdPbHW9NOfAlu2GIXS02M+vpER8+uqHXo1r6OPTr8ofBwtLcD27dmmWTYmm3Lw2L7dvDP9/cDf/V362r0fr0brqtmKmP1eKyPIe94DzJlj3uFaFETWNeu+vuIUg5+6KqskdqiyhrR9EHl0ytY7uDqvAdM/ERyJ7Hny1FvGWm3jZQ5Z2+uj8iroHRR8ljNmVG5HzeZ6+OET4wZHhwe9lvxuxFEd095aHP6xHK4pzV0D6z70ocq0/NOvjI5O7KMIXis4O+6UKZNnMFueIGEfRFO1IFz2uzLR3m6a36++akw1rpbO66+7z21tBZYuNbUmj6JaSqrFXDdvurqAVauAyy+vz/WC7+qrrwIbNwK/+Y1pTb773ZXHn3zSvENTbM/itdea2uXxxwNnnVUZ9+mnTWtvyhTzvL72tcqW6eAgcP31piYPAB/9aHiL4j/+A9i2rbL1cckllWnt2jVe473rLmD2bCPr/v3A5z5n5Fy4EHjwwcpjq1cD55wDfOc7wIUXAuefb1oWW7ea+F5Lw9s+6qjKmvXYWG017VrPb3iSaJGyhmq8mK69NrvaX5rgHzEb5kZ51VXJpuII1jqD8/sw5Bfa28NbcdWGtrbk60KsXGne4ySzuXqeNkkH1QVDlKuqP3R3x4/PSOL26joWzJfgyoHBVkIWI7w9/GOROjrMtCBpyMPlNitAN1c3roFQ9Qj+kb0bN7rj+OcQ8gYjRRVUriVDGSZ3aGsz70bYO+QPnZ3mfbvppuqu5a0fnsQ06xXAq1a5j69aNZ5WmNtrNSbg4JiKqFkB0rimhinFpEqibCOvgyRVEE3p5hp0+8yTqVPH3eLmzDGup+efDyxeXBlv8WLgzDPHt5csMZ5AH/2oO939+42bYplNZiR7DhwwjhY//GF83H37TEfw6Gh111q40PwmMc16bqVdXe7jxxxjfqPcXvv705tFPU8lvwOK5+bqN7f64yZh505jtg1yxRXxrrMuWbJyua03pVIQInKuiDwmIjtEZEUe19i5EzjkkGRxp0wxfQLd3eY36C7a2mr2e77Rg4OV8W+4Abj7bmN/XbKk8txly4xLoReWLZt4/b4+Y8/t7KziRsmkpa0NeP75+HgdHWa8T1ihHcXg4Hj/g2scwIoV5j0PyjVrltut+h3vMP89t1c/ntsrYOrpafA8lXbuNP0WSeImIUwpJlEyLlnSKKdSkaSZUY8AoAXAzwG8AUA7gJ8AmBt1TrUmpjB76uLFExend9k0/Z4fSafGjpMhqvkbXAeaZqXmDt6Mp1mne/PN0bOV+t/tqHfYP2llcN2PqPNcJqawPoigp1LY+iP+xbDSmnluuMGd93FmqjKNvA4DjdYHAeAMAJt821cDuDrqnGqn2ggWuB/5SPg8L0Gy6HiqZri8S1H5p7r25rPp6FB905sq057MbqeNFo44onK7uzs8ruuYv6ALcwENS9MrMDs7J74jixenf4+j1kiI+k7Czks6/XdY2lHutNV+rzfcYL4p//T4SSj7+hGNqCAuAvAV3/YHAXzREe8yAEMAhmbNmlV1BhXpYZD1fPyubW8Kaq/j+7OfVT35ZPO7dKkpqJYuNcfe8hZTUzvxxIkd48Hta69V/Z3fMf+nTzfnH3ec2T72WNWPflR11izzu3Wr6llnmTQWLJhYcPX2qr7tbWb/ueea+BdcYPa/732qV15ZmZaX9pVXmut6x5cuNQXIX/+16lvfqvqlL5nj3n2+9a3Gc0zE/K5bN54/Xq35yitN/ixf7lbe3rTuGzak60jt7jadxP4CbuNG1YEB8xt8VsHn5sW9+Wb3+xocuzA6as53ybJqVfQ7Ug3VfkdpCvl6yJNHmpPBi0lM3OIRkYsBnKOqH7bbHwSwUFWXh52zYMECHRoaqpeImeJN+eEfLh/sp6g3Y2PGB93fUdjVVenjXq0veFjau3bVx788qT97nJyu41HU8x49RkaAuXMn7h8eHu9XKDNNP/agDojINlVdEBevTJ3UuwHM9G3PAPBUQbLkzpIlpuC46y53J3YRhE1K5nlf1fKxFj3hWV9fsnuIkzN43Jsvy++oUPSkbnPmGDn8+Dudy07SZ0Xyp0wtiFYAPwNwNoBfAXgAwCWq+kjYOY3cgigzedbgGqV2GCen/ziQ7ejdrAiOOCbEI2kLojQKAgBE5DwAn4fxaPqqqq6Mik8FQQgh6UmqIEo1F5Oq3gngzqLlIIQQUq4+CEIIISWCCoIQQogTKghCCCFOqCAIIYQ4KZUXU1pEZAzAripPPwrArzMUJysoVzooVzooV3rKKlstcs1W1Vgn7IZWELUgIkNJ3LzqDeVKB+VKB+VKT1llq4dcNDERQghxQgVBCCHESTMriBuLFiAEypUOypUOypWessqWu1xN2wdBCCEkmmZuQRBCCImACoIQQoiTplMQInKuiDwmIjtEZEXBsnxVREZF5GHfviNEZLOIPG5/D6+zTDNF5F4RGRGRR0TkijLIZWXoFJGtIvITK9un7P7jROR+K9sGEYlZvj4X2VpEZLuI3FEWmawcO0XkpyLyoIgM2X1leJaHicitIvKofdfOKFouETnR5pMXXhSRPy9aLivbx+w7/7CIrLffQu7vWFMpCBFpAfBPAN4FYC6AJSLiWHurbqwBcG5g3woAd6vqCQDuttv15DUAV6nqHACnA7jc5lHRcgHAqwDOUtU3AzgZwLkicjqAzwK4zsr2PICBAmS7AsCIb7sMMnm8Q1VP9vnMl+FZfgHAv6vqGwG8GSbvCpVLVR+z+XQygPkA/hPAvxUtl4hMB/BnABao6kkwyyG8H/V4x5KsSzpZAoAzAGzybV8N4OqCZeoH8LBv+zEA0+z/aQAeK1i+2wAsKqFchwD4MYDTYEaTtrqecZ1kmQFTcJwF4A4AUrRMPtl2AjgqsK/QZwmgF8AvYZ1kyiJXQJbFAH5QBrkATAfwJIAjYJZouAPAOfV4x5qqBYHxjPbYbfeViWNU9WkAsL9HFyWIiPQDmAfg/rLIZU05DwIYBbAZwM8BvKCqr9koRTzTzwP4OIDX7faRJZDJQwF8V0S2ichldl/Rz/INAMYAfM2a5b4iIt0lkMvP+wGst/8LlUtVfwXgfwF4AsDTAPYA2IY6vGPNpiDEsY9+vg5EpAfAtwD8uaq+WLQ8Hqp6UI0JYAaAhQBci2nW7ZmKyPkARlV1m3+3I2pR79mZqnoKjFn1chH5/YLk8NMK4BQA/6yq8wC8jGLMXE6sLf8PAXyzaFkAwPZ5XADgOADHAuiGeZ5BMn/Hmk1B7AYw07c9A8BTBckSxrMiMg0A7O9ovQUQkTYY5fCvqvrtssjlR1VfAHAfTD/JYXZNc6D+z/RMAH8oIjsB3AJjZvp8wTL9FlV9yv6OwtjTF6L4Z7kbwG5Vvd9u3wqjMIqWy+NdAH6sqs/a7aLleieAX6rqmKoeAPBtAL+HOrxjzaYgHgBwgu39b4dpRt5esExBbgew1P5fCtMHUDdERACsBjCiqv9YFrmsbH0icpj93wXz4YwAuBfARUXIpqpXq+oMVe2HeZ/uUdUPFCmTh4h0i8hU7z+MXf1hFPwsVfUZAE+KyIl219kAhouWy8cSjJuXgOLlegLA6SJyiP0+vfzK/x0rqhOoqADgPAA/g7Fdf7JgWdbD2BQPwNSqBmDs13cDeNz+HlFnmd4C01R9CMCDNpxXtFxWtv8GYLuV7WEA19j9bwCwFcAOGLNAR0HP8+0A7iiLTFaGn9jwiPe+l+RZngxgyD7L7wA4vCRyHQLgNwAO9e0rg1yfAvCofe//BUBHPd4xTrVBCCHESbOZmAghhCSECoIQQogTKghCCCFOqCAIIYQ4oYIghBDihAqCkCoRkfeIiIrIG4uWhZA8oIIgpHqWANgCM0COkEkHFQQhVWDnqjoTZnDj++2+KSLyJTtv/x0icqeIXGSPzReR79lJ8zZ5UzcQUmaoIAipjgth1jP4GYDnROQUAH8EM337mwB8GGYKZm9uq+sBXKSq8wF8FcDKIoQmJA2t8VEIIQ6WwEzKB5hJ+pYAaAPwTVV9HcAzInKvPX4igJMAbDZT6aAFZooVQkoNFQQhKRGRI2FmbT1JRBSmwFeY2VKdpwB4RFXPqJOIhGQCTUyEpOciAF9X1dmq2q+qM2FWSPs1gPfavohjYCbvA8yKZH0i8luTk4j8bhGCE5IGKghC0rMEE1sL34JZzGU3zIybX4ZZiW+Pqu6HUSqfFZGfwMyQ+3v1E5eQ6uBsroRkiIj0qOpea4baCrOi2zNFy0VINbAPgpBsucMuatQO4FoqB9LIsAVBCCHECfsgCCGEOKGCIIQQ4oQKghBCiBMqCEIIIU6oIAghhDj5/+xShUWZWh94AAAAAElFTkSuQmCC\n",
      "text/plain": [
       "<Figure size 432x288 with 1 Axes>"
      ]
     },
     "metadata": {},
     "output_type": "display_data"
    }
   ],
   "source": [
    "df.plot.scatter(x='Age', y='Fare', color='b', title='Scatter plot: Age vs Fare')"
   ]
  },
  {
   "cell_type": "code",
   "execution_count": 37,
   "metadata": {},
   "outputs": [
    {
     "data": {
      "text/plain": [
       "<matplotlib.axes._subplots.AxesSubplot at 0x1f26cc472e8>"
      ]
     },
     "execution_count": 37,
     "metadata": {},
     "output_type": "execute_result"
    },
    {
     "data": {
      "image/png": "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\n",
      "text/plain": [
       "<Figure size 432x288 with 1 Axes>"
      ]
     },
     "metadata": {},
     "output_type": "display_data"
    }
   ],
   "source": [
    "df.plot.scatter(x='Age', y='Fare', color='b', title='Scatter plot: Age vs Fare', alpha=0.1)"
   ]
  },
  {
   "cell_type": "code",
   "execution_count": 38,
   "metadata": {},
   "outputs": [
    {
     "data": {
      "text/plain": [
       "<matplotlib.axes._subplots.AxesSubplot at 0x1f26c6db390>"
      ]
     },
     "execution_count": 38,
     "metadata": {},
     "output_type": "execute_result"
    },
    {
     "data": {
      "image/png": "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\n",
      "text/plain": [
       "<Figure size 432x288 with 1 Axes>"
      ]
     },
     "metadata": {},
     "output_type": "display_data"
    }
   ],
   "source": [
    "df.plot.scatter(x='Pclass', y='Fare', color='b', title='Scatter plot: Age vs Fare', alpha=0.15)"
   ]
  },
  {
   "cell_type": "markdown",
   "metadata": {},
   "source": [
    "## Grouping and Aggregations"
   ]
  },
  {
   "cell_type": "code",
   "execution_count": 39,
   "metadata": {},
   "outputs": [
    {
     "data": {
      "text/plain": [
       "Sex\n",
       "female    27.0\n",
       "male      28.0\n",
       "Name: Age, dtype: float64"
      ]
     },
     "execution_count": 39,
     "metadata": {},
     "output_type": "execute_result"
    }
   ],
   "source": [
    "df.groupby('Sex').Age.median()"
   ]
  },
  {
   "cell_type": "code",
   "execution_count": 40,
   "metadata": {},
   "outputs": [
    {
     "data": {
      "text/plain": [
       "Pclass\n",
       "1    60.0000\n",
       "2    15.0458\n",
       "3     8.0500\n",
       "Name: Fare, dtype: float64"
      ]
     },
     "execution_count": 40,
     "metadata": {},
     "output_type": "execute_result"
    }
   ],
   "source": [
    "df.groupby(['Pclass']).Fare.median()"
   ]
  },
  {
   "cell_type": "code",
   "execution_count": 41,
   "metadata": {},
   "outputs": [
    {
     "data": {
      "text/plain": [
       "Pclass\n",
       "1    39.0\n",
       "2    29.0\n",
       "3    24.0\n",
       "Name: Age, dtype: float64"
      ]
     },
     "execution_count": 41,
     "metadata": {},
     "output_type": "execute_result"
    }
   ],
   "source": [
    "df.groupby(['Pclass']).Age.median()"
   ]
  },
  {
   "cell_type": "code",
   "execution_count": 42,
   "metadata": {},
   "outputs": [
    {
     "data": {
      "text/html": [
       "<div>\n",
       "<style scoped>\n",
       "    .dataframe tbody tr th:only-of-type {\n",
       "        vertical-align: middle;\n",
       "    }\n",
       "\n",
       "    .dataframe tbody tr th {\n",
       "        vertical-align: top;\n",
       "    }\n",
       "\n",
       "    .dataframe thead th {\n",
       "        text-align: right;\n",
       "    }\n",
       "</style>\n",
       "<table border=\"1\" class=\"dataframe\">\n",
       "  <thead>\n",
       "    <tr style=\"text-align: right;\">\n",
       "      <th></th>\n",
       "      <th>Fare</th>\n",
       "      <th>Age</th>\n",
       "    </tr>\n",
       "    <tr>\n",
       "      <th>Pclass</th>\n",
       "      <th></th>\n",
       "      <th></th>\n",
       "    </tr>\n",
       "  </thead>\n",
       "  <tbody>\n",
       "    <tr>\n",
       "      <th>1</th>\n",
       "      <td>60.0000</td>\n",
       "      <td>39.0</td>\n",
       "    </tr>\n",
       "    <tr>\n",
       "      <th>2</th>\n",
       "      <td>15.0458</td>\n",
       "      <td>29.0</td>\n",
       "    </tr>\n",
       "    <tr>\n",
       "      <th>3</th>\n",
       "      <td>8.0500</td>\n",
       "      <td>24.0</td>\n",
       "    </tr>\n",
       "  </tbody>\n",
       "</table>\n",
       "</div>"
      ],
      "text/plain": [
       "           Fare   Age\n",
       "Pclass               \n",
       "1       60.0000  39.0\n",
       "2       15.0458  29.0\n",
       "3        8.0500  24.0"
      ]
     },
     "execution_count": 42,
     "metadata": {},
     "output_type": "execute_result"
    }
   ],
   "source": [
    "df.groupby(['Pclass'])['Fare', 'Age'].median()"
   ]
  },
  {
   "cell_type": "code",
   "execution_count": 43,
   "metadata": {},
   "outputs": [
    {
     "data": {
      "text/html": [
       "<div>\n",
       "<style scoped>\n",
       "    .dataframe tbody tr th:only-of-type {\n",
       "        vertical-align: middle;\n",
       "    }\n",
       "\n",
       "    .dataframe tbody tr th {\n",
       "        vertical-align: top;\n",
       "    }\n",
       "\n",
       "    .dataframe thead th {\n",
       "        text-align: right;\n",
       "    }\n",
       "</style>\n",
       "<table border=\"1\" class=\"dataframe\">\n",
       "  <thead>\n",
       "    <tr style=\"text-align: right;\">\n",
       "      <th></th>\n",
       "      <th>Fare</th>\n",
       "      <th>Age</th>\n",
       "    </tr>\n",
       "    <tr>\n",
       "      <th>Pclass</th>\n",
       "      <th></th>\n",
       "      <th></th>\n",
       "    </tr>\n",
       "  </thead>\n",
       "  <tbody>\n",
       "    <tr>\n",
       "      <th>1</th>\n",
       "      <td>87.508992</td>\n",
       "      <td>39.0</td>\n",
       "    </tr>\n",
       "    <tr>\n",
       "      <th>2</th>\n",
       "      <td>21.179196</td>\n",
       "      <td>29.0</td>\n",
       "    </tr>\n",
       "    <tr>\n",
       "      <th>3</th>\n",
       "      <td>13.302889</td>\n",
       "      <td>24.0</td>\n",
       "    </tr>\n",
       "  </tbody>\n",
       "</table>\n",
       "</div>"
      ],
      "text/plain": [
       "             Fare   Age\n",
       "Pclass                 \n",
       "1       87.508992  39.0\n",
       "2       21.179196  29.0\n",
       "3       13.302889  24.0"
      ]
     },
     "execution_count": 43,
     "metadata": {},
     "output_type": "execute_result"
    }
   ],
   "source": [
    "df.groupby(['Pclass']).agg({'Fare':'mean', 'Age':'median'})"
   ]
  },
  {
   "cell_type": "code",
   "execution_count": 44,
   "metadata": {},
   "outputs": [
    {
     "name": "stderr",
     "output_type": "stream",
     "text": [
      "C:\\ProgramData\\Anaconda3\\lib\\site-packages\\pandas\\core\\groupby\\groupby.py:4658: FutureWarning: using a dict with renaming is deprecated and will be removed in a future version\n",
      "  return super(DataFrameGroupBy, self).aggregate(arg, *args, **kwargs)\n"
     ]
    },
    {
     "data": {
      "text/html": [
       "<div>\n",
       "<style scoped>\n",
       "    .dataframe tbody tr th:only-of-type {\n",
       "        vertical-align: middle;\n",
       "    }\n",
       "\n",
       "    .dataframe tbody tr th {\n",
       "        vertical-align: top;\n",
       "    }\n",
       "\n",
       "    .dataframe thead tr th {\n",
       "        text-align: left;\n",
       "    }\n",
       "\n",
       "    .dataframe thead tr:last-of-type th {\n",
       "        text-align: right;\n",
       "    }\n",
       "</style>\n",
       "<table border=\"1\" class=\"dataframe\">\n",
       "  <thead>\n",
       "    <tr>\n",
       "      <th></th>\n",
       "      <th colspan=\"4\" halign=\"left\">Fare</th>\n",
       "      <th colspan=\"4\" halign=\"left\">Age</th>\n",
       "    </tr>\n",
       "    <tr>\n",
       "      <th></th>\n",
       "      <th>mean_Fare</th>\n",
       "      <th>median_Fare</th>\n",
       "      <th>max_Fare</th>\n",
       "      <th>min_Fare</th>\n",
       "      <th>median_Age</th>\n",
       "      <th>min_Age</th>\n",
       "      <th>max_Age</th>\n",
       "      <th>range_Age</th>\n",
       "    </tr>\n",
       "    <tr>\n",
       "      <th>Pclass</th>\n",
       "      <th></th>\n",
       "      <th></th>\n",
       "      <th></th>\n",
       "      <th></th>\n",
       "      <th></th>\n",
       "      <th></th>\n",
       "      <th></th>\n",
       "      <th></th>\n",
       "    </tr>\n",
       "  </thead>\n",
       "  <tbody>\n",
       "    <tr>\n",
       "      <th>1</th>\n",
       "      <td>87.508992</td>\n",
       "      <td>60.0000</td>\n",
       "      <td>512.3292</td>\n",
       "      <td>0.0</td>\n",
       "      <td>39.0</td>\n",
       "      <td>0.92</td>\n",
       "      <td>80.0</td>\n",
       "      <td>79.08</td>\n",
       "    </tr>\n",
       "    <tr>\n",
       "      <th>2</th>\n",
       "      <td>21.179196</td>\n",
       "      <td>15.0458</td>\n",
       "      <td>73.5000</td>\n",
       "      <td>0.0</td>\n",
       "      <td>29.0</td>\n",
       "      <td>0.67</td>\n",
       "      <td>70.0</td>\n",
       "      <td>69.33</td>\n",
       "    </tr>\n",
       "    <tr>\n",
       "      <th>3</th>\n",
       "      <td>13.302889</td>\n",
       "      <td>8.0500</td>\n",
       "      <td>69.5500</td>\n",
       "      <td>0.0</td>\n",
       "      <td>24.0</td>\n",
       "      <td>0.17</td>\n",
       "      <td>74.0</td>\n",
       "      <td>73.83</td>\n",
       "    </tr>\n",
       "  </tbody>\n",
       "</table>\n",
       "</div>"
      ],
      "text/plain": [
       "             Fare                                       Age                  \\\n",
       "        mean_Fare median_Fare  max_Fare min_Fare median_Age min_Age max_Age   \n",
       "Pclass                                                                        \n",
       "1       87.508992     60.0000  512.3292      0.0       39.0    0.92    80.0   \n",
       "2       21.179196     15.0458   73.5000      0.0       29.0    0.67    70.0   \n",
       "3       13.302889      8.0500   69.5500      0.0       24.0    0.17    74.0   \n",
       "\n",
       "                  \n",
       "       range_Age  \n",
       "Pclass            \n",
       "1          79.08  \n",
       "2          69.33  \n",
       "3          73.83  "
      ]
     },
     "execution_count": 44,
     "metadata": {},
     "output_type": "execute_result"
    }
   ],
   "source": [
    "aggregations = {\n",
    "        'Fare' : {\n",
    "        'mean_Fare' : 'mean',\n",
    "        'median_Fare' : 'median',\n",
    "        'max_Fare' : max,\n",
    "        'min_Fare' : np.min\n",
    "    },\n",
    "    'Age' : {\n",
    "        'median_Age' : 'median',\n",
    "        'min_Age' : min,\n",
    "        'max_Age' : max,\n",
    "        'range_Age' : lambda x: max(x) - min(x)\n",
    "    }\n",
    "}\n",
    "df.groupby(['Pclass']).agg(aggregations) #Passing the dictionary as a parameter\n",
    "\n",
    "# def my_agg(x):\n",
    "#     aggregations = {\n",
    "#         'Fare' : {\n",
    "#         'mean_Fare' : 'mean',\n",
    "#         'median_Fare' : 'median',\n",
    "#         'max_Fare' : max,\n",
    "#         'min_Fare' : np.min\n",
    "#     },\n",
    "#         'Age' : {\n",
    "#             'median_Age' : 'median',\n",
    "#             'min_Age' : min,\n",
    "#             'max_Age' : max,\n",
    "#             'range_Age' : lambda x: max(x) - min(x)\n",
    "#         }\n",
    "#     }\n",
    "#     return pd.Series(aggregations, index=['mean_Fare', 'median_Fare', 'max_Fare',\n",
    "#                                    'min_Fare', 'median_Age', 'min_Age', 'max_Age', 'range_Age'])"
   ]
  },
  {
   "cell_type": "code",
   "execution_count": 45,
   "metadata": {},
   "outputs": [
    {
     "data": {
      "text/plain": [
       "Pclass  Embarked\n",
       "1       C           76.7292\n",
       "        Q           90.0000\n",
       "        S           52.0000\n",
       "2       C           15.3146\n",
       "        Q           12.3500\n",
       "        S           15.3750\n",
       "3       C            7.8958\n",
       "        Q            7.7500\n",
       "        S            8.0500\n",
       "Name: Fare, dtype: float64"
      ]
     },
     "execution_count": 45,
     "metadata": {},
     "output_type": "execute_result"
    }
   ],
   "source": [
    "df.groupby(['Pclass', 'Embarked']).Fare.median()"
   ]
  },
  {
   "cell_type": "markdown",
   "metadata": {},
   "source": [
    "## Crosstabs"
   ]
  },
  {
   "cell_type": "code",
   "execution_count": 46,
   "metadata": {},
   "outputs": [
    {
     "data": {
      "text/html": [
       "<div>\n",
       "<style scoped>\n",
       "    .dataframe tbody tr th:only-of-type {\n",
       "        vertical-align: middle;\n",
       "    }\n",
       "\n",
       "    .dataframe tbody tr th {\n",
       "        vertical-align: top;\n",
       "    }\n",
       "\n",
       "    .dataframe thead th {\n",
       "        text-align: right;\n",
       "    }\n",
       "</style>\n",
       "<table border=\"1\" class=\"dataframe\">\n",
       "  <thead>\n",
       "    <tr style=\"text-align: right;\">\n",
       "      <th>Pclass</th>\n",
       "      <th>1</th>\n",
       "      <th>2</th>\n",
       "      <th>3</th>\n",
       "    </tr>\n",
       "    <tr>\n",
       "      <th>Sex</th>\n",
       "      <th></th>\n",
       "      <th></th>\n",
       "      <th></th>\n",
       "    </tr>\n",
       "  </thead>\n",
       "  <tbody>\n",
       "    <tr>\n",
       "      <th>female</th>\n",
       "      <td>144</td>\n",
       "      <td>106</td>\n",
       "      <td>216</td>\n",
       "    </tr>\n",
       "    <tr>\n",
       "      <th>male</th>\n",
       "      <td>179</td>\n",
       "      <td>171</td>\n",
       "      <td>493</td>\n",
       "    </tr>\n",
       "  </tbody>\n",
       "</table>\n",
       "</div>"
      ],
      "text/plain": [
       "Pclass    1    2    3\n",
       "Sex                  \n",
       "female  144  106  216\n",
       "male    179  171  493"
      ]
     },
     "execution_count": 46,
     "metadata": {},
     "output_type": "execute_result"
    }
   ],
   "source": [
    "pd.crosstab(df.Sex, df.Pclass)"
   ]
  },
  {
   "cell_type": "code",
   "execution_count": 47,
   "metadata": {},
   "outputs": [
    {
     "data": {
      "text/plain": [
       "<matplotlib.axes._subplots.AxesSubplot at 0x1f26c704c18>"
      ]
     },
     "execution_count": 47,
     "metadata": {},
     "output_type": "execute_result"
    },
    {
     "data": {
      "image/png": "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\n",
      "text/plain": [
       "<Figure size 432x288 with 1 Axes>"
      ]
     },
     "metadata": {},
     "output_type": "display_data"
    }
   ],
   "source": [
    "pd.crosstab(df.Sex, df.Pclass).plot(kind='bar')"
   ]
  },
  {
   "cell_type": "markdown",
   "metadata": {},
   "source": [
    "## Pivots"
   ]
  },
  {
   "cell_type": "code",
   "execution_count": 48,
   "metadata": {},
   "outputs": [
    {
     "data": {
      "text/html": [
       "<div>\n",
       "<style scoped>\n",
       "    .dataframe tbody tr th:only-of-type {\n",
       "        vertical-align: middle;\n",
       "    }\n",
       "\n",
       "    .dataframe tbody tr th {\n",
       "        vertical-align: top;\n",
       "    }\n",
       "\n",
       "    .dataframe thead th {\n",
       "        text-align: right;\n",
       "    }\n",
       "</style>\n",
       "<table border=\"1\" class=\"dataframe\">\n",
       "  <thead>\n",
       "    <tr style=\"text-align: right;\">\n",
       "      <th>Pclass</th>\n",
       "      <th>1</th>\n",
       "      <th>2</th>\n",
       "      <th>3</th>\n",
       "    </tr>\n",
       "    <tr>\n",
       "      <th>Sex</th>\n",
       "      <th></th>\n",
       "      <th></th>\n",
       "      <th></th>\n",
       "    </tr>\n",
       "  </thead>\n",
       "  <tbody>\n",
       "    <tr>\n",
       "      <th>female</th>\n",
       "      <td>37.037594</td>\n",
       "      <td>27.499223</td>\n",
       "      <td>22.185329</td>\n",
       "    </tr>\n",
       "    <tr>\n",
       "      <th>male</th>\n",
       "      <td>41.029272</td>\n",
       "      <td>30.815380</td>\n",
       "      <td>25.962264</td>\n",
       "    </tr>\n",
       "  </tbody>\n",
       "</table>\n",
       "</div>"
      ],
      "text/plain": [
       "Pclass          1          2          3\n",
       "Sex                                    \n",
       "female  37.037594  27.499223  22.185329\n",
       "male    41.029272  30.815380  25.962264"
      ]
     },
     "execution_count": 48,
     "metadata": {},
     "output_type": "execute_result"
    }
   ],
   "source": [
    "df.pivot_table(index='Sex', columns='Pclass', values='Age', aggfunc='mean')"
   ]
  },
  {
   "cell_type": "code",
   "execution_count": 49,
   "metadata": {},
   "outputs": [
    {
     "data": {
      "text/plain": [
       "Sex     Pclass\n",
       "female  1         37.037594\n",
       "        2         27.499223\n",
       "        3         22.185329\n",
       "male    1         41.029272\n",
       "        2         30.815380\n",
       "        3         25.962264\n",
       "Name: Age, dtype: float64"
      ]
     },
     "execution_count": 49,
     "metadata": {},
     "output_type": "execute_result"
    }
   ],
   "source": [
    "df.groupby(['Sex', 'Pclass']).Age.mean()"
   ]
  },
  {
   "cell_type": "code",
   "execution_count": 50,
   "metadata": {},
   "outputs": [
    {
     "data": {
      "text/html": [
       "<div>\n",
       "<style scoped>\n",
       "    .dataframe tbody tr th:only-of-type {\n",
       "        vertical-align: middle;\n",
       "    }\n",
       "\n",
       "    .dataframe tbody tr th {\n",
       "        vertical-align: top;\n",
       "    }\n",
       "\n",
       "    .dataframe thead th {\n",
       "        text-align: right;\n",
       "    }\n",
       "</style>\n",
       "<table border=\"1\" class=\"dataframe\">\n",
       "  <thead>\n",
       "    <tr style=\"text-align: right;\">\n",
       "      <th>Pclass</th>\n",
       "      <th>1</th>\n",
       "      <th>2</th>\n",
       "      <th>3</th>\n",
       "    </tr>\n",
       "    <tr>\n",
       "      <th>Sex</th>\n",
       "      <th></th>\n",
       "      <th></th>\n",
       "      <th></th>\n",
       "    </tr>\n",
       "  </thead>\n",
       "  <tbody>\n",
       "    <tr>\n",
       "      <th>female</th>\n",
       "      <td>37.037594</td>\n",
       "      <td>27.499223</td>\n",
       "      <td>22.185329</td>\n",
       "    </tr>\n",
       "    <tr>\n",
       "      <th>male</th>\n",
       "      <td>41.029272</td>\n",
       "      <td>30.815380</td>\n",
       "      <td>25.962264</td>\n",
       "    </tr>\n",
       "  </tbody>\n",
       "</table>\n",
       "</div>"
      ],
      "text/plain": [
       "Pclass          1          2          3\n",
       "Sex                                    \n",
       "female  37.037594  27.499223  22.185329\n",
       "male    41.029272  30.815380  25.962264"
      ]
     },
     "execution_count": 50,
     "metadata": {},
     "output_type": "execute_result"
    }
   ],
   "source": [
    "df.groupby(['Sex', 'Pclass']).Age.mean().unstack()"
   ]
  },
  {
   "cell_type": "markdown",
   "metadata": {},
   "source": [
    "## Data Munging:  Working with missing values"
   ]
  },
  {
   "cell_type": "code",
   "execution_count": 51,
   "metadata": {},
   "outputs": [
    {
     "name": "stdout",
     "output_type": "stream",
     "text": [
      "<class 'pandas.core.frame.DataFrame'>\n",
      "Int64Index: 1309 entries, 1 to 1309\n",
      "Data columns (total 11 columns):\n",
      "Age         1046 non-null float64\n",
      "Cabin       295 non-null object\n",
      "Embarked    1307 non-null object\n",
      "Fare        1308 non-null float64\n",
      "Name        1309 non-null object\n",
      "Parch       1309 non-null int64\n",
      "Pclass      1309 non-null int64\n",
      "Sex         1309 non-null object\n",
      "SibSp       1309 non-null int64\n",
      "Survived    1309 non-null int64\n",
      "Ticket      1309 non-null object\n",
      "dtypes: float64(2), int64(4), object(5)\n",
      "memory usage: 162.7+ KB\n"
     ]
    }
   ],
   "source": [
    "df.info()"
   ]
  },
  {
   "cell_type": "markdown",
   "metadata": {},
   "source": [
    "### Feature: Embarked"
   ]
  },
  {
   "cell_type": "code",
   "execution_count": 52,
   "metadata": {},
   "outputs": [
    {
     "data": {
      "text/html": [
       "<div>\n",
       "<style scoped>\n",
       "    .dataframe tbody tr th:only-of-type {\n",
       "        vertical-align: middle;\n",
       "    }\n",
       "\n",
       "    .dataframe tbody tr th {\n",
       "        vertical-align: top;\n",
       "    }\n",
       "\n",
       "    .dataframe thead th {\n",
       "        text-align: right;\n",
       "    }\n",
       "</style>\n",
       "<table border=\"1\" class=\"dataframe\">\n",
       "  <thead>\n",
       "    <tr style=\"text-align: right;\">\n",
       "      <th></th>\n",
       "      <th>Age</th>\n",
       "      <th>Cabin</th>\n",
       "      <th>Embarked</th>\n",
       "      <th>Fare</th>\n",
       "      <th>Name</th>\n",
       "      <th>Parch</th>\n",
       "      <th>Pclass</th>\n",
       "      <th>Sex</th>\n",
       "      <th>SibSp</th>\n",
       "      <th>Survived</th>\n",
       "      <th>Ticket</th>\n",
       "    </tr>\n",
       "    <tr>\n",
       "      <th>PassengerId</th>\n",
       "      <th></th>\n",
       "      <th></th>\n",
       "      <th></th>\n",
       "      <th></th>\n",
       "      <th></th>\n",
       "      <th></th>\n",
       "      <th></th>\n",
       "      <th></th>\n",
       "      <th></th>\n",
       "      <th></th>\n",
       "      <th></th>\n",
       "    </tr>\n",
       "  </thead>\n",
       "  <tbody>\n",
       "    <tr>\n",
       "      <th>62</th>\n",
       "      <td>38.0</td>\n",
       "      <td>B28</td>\n",
       "      <td>NaN</td>\n",
       "      <td>80.0</td>\n",
       "      <td>Icard, Miss. Amelie</td>\n",
       "      <td>0</td>\n",
       "      <td>1</td>\n",
       "      <td>female</td>\n",
       "      <td>0</td>\n",
       "      <td>1</td>\n",
       "      <td>113572</td>\n",
       "    </tr>\n",
       "    <tr>\n",
       "      <th>830</th>\n",
       "      <td>62.0</td>\n",
       "      <td>B28</td>\n",
       "      <td>NaN</td>\n",
       "      <td>80.0</td>\n",
       "      <td>Stone, Mrs. George Nelson (Martha Evelyn)</td>\n",
       "      <td>0</td>\n",
       "      <td>1</td>\n",
       "      <td>female</td>\n",
       "      <td>0</td>\n",
       "      <td>1</td>\n",
       "      <td>113572</td>\n",
       "    </tr>\n",
       "  </tbody>\n",
       "</table>\n",
       "</div>"
      ],
      "text/plain": [
       "              Age Cabin Embarked  Fare  \\\n",
       "PassengerId                              \n",
       "62           38.0   B28      NaN  80.0   \n",
       "830          62.0   B28      NaN  80.0   \n",
       "\n",
       "                                                  Name  Parch  Pclass     Sex  \\\n",
       "PassengerId                                                                     \n",
       "62                                 Icard, Miss. Amelie      0       1  female   \n",
       "830          Stone, Mrs. George Nelson (Martha Evelyn)      0       1  female   \n",
       "\n",
       "             SibSp  Survived  Ticket  \n",
       "PassengerId                           \n",
       "62               0         1  113572  \n",
       "830              0         1  113572  "
      ]
     },
     "execution_count": 52,
     "metadata": {},
     "output_type": "execute_result"
    }
   ],
   "source": [
    "df[df.Embarked.isnull()]"
   ]
  },
  {
   "cell_type": "code",
   "execution_count": 53,
   "metadata": {},
   "outputs": [
    {
     "data": {
      "text/plain": [
       "S    914\n",
       "C    270\n",
       "Q    123\n",
       "Name: Embarked, dtype: int64"
      ]
     },
     "execution_count": 53,
     "metadata": {},
     "output_type": "execute_result"
    }
   ],
   "source": [
    "df.Embarked.value_counts()"
   ]
  },
  {
   "cell_type": "code",
   "execution_count": 54,
   "metadata": {},
   "outputs": [
    {
     "data": {
      "text/html": [
       "<div>\n",
       "<style scoped>\n",
       "    .dataframe tbody tr th:only-of-type {\n",
       "        vertical-align: middle;\n",
       "    }\n",
       "\n",
       "    .dataframe tbody tr th {\n",
       "        vertical-align: top;\n",
       "    }\n",
       "\n",
       "    .dataframe thead th {\n",
       "        text-align: right;\n",
       "    }\n",
       "</style>\n",
       "<table border=\"1\" class=\"dataframe\">\n",
       "  <thead>\n",
       "    <tr style=\"text-align: right;\">\n",
       "      <th>Embarked</th>\n",
       "      <th>C</th>\n",
       "      <th>Q</th>\n",
       "      <th>S</th>\n",
       "    </tr>\n",
       "    <tr>\n",
       "      <th>Survived</th>\n",
       "      <th></th>\n",
       "      <th></th>\n",
       "      <th></th>\n",
       "    </tr>\n",
       "  </thead>\n",
       "  <tbody>\n",
       "    <tr>\n",
       "      <th>0</th>\n",
       "      <td>75</td>\n",
       "      <td>47</td>\n",
       "      <td>427</td>\n",
       "    </tr>\n",
       "    <tr>\n",
       "      <th>1</th>\n",
       "      <td>93</td>\n",
       "      <td>30</td>\n",
       "      <td>217</td>\n",
       "    </tr>\n",
       "  </tbody>\n",
       "</table>\n",
       "</div>"
      ],
      "text/plain": [
       "Embarked   C   Q    S\n",
       "Survived             \n",
       "0         75  47  427\n",
       "1         93  30  217"
      ]
     },
     "execution_count": 54,
     "metadata": {},
     "output_type": "execute_result"
    }
   ],
   "source": [
    "pd.crosstab(df[df.Survived!=-888].Survived, df[df.Survived != -888].Embarked)"
   ]
  },
  {
   "cell_type": "code",
   "execution_count": 55,
   "metadata": {},
   "outputs": [
    {
     "data": {
      "text/plain": [
       "Pclass  Embarked\n",
       "1       C           76.7292\n",
       "        Q           90.0000\n",
       "        S           52.0000\n",
       "2       C           15.3146\n",
       "        Q           12.3500\n",
       "        S           15.3750\n",
       "3       C            7.8958\n",
       "        Q            7.7500\n",
       "        S            8.0500\n",
       "Name: Fare, dtype: float64"
      ]
     },
     "execution_count": 55,
     "metadata": {},
     "output_type": "execute_result"
    }
   ],
   "source": [
    "df.groupby(['Pclass', 'Embarked']).Fare.median()"
   ]
  },
  {
   "cell_type": "code",
   "execution_count": 56,
   "metadata": {},
   "outputs": [],
   "source": [
    "df.Embarked.fillna('C', inplace=True)"
   ]
  },
  {
   "cell_type": "code",
   "execution_count": 57,
   "metadata": {},
   "outputs": [
    {
     "data": {
      "text/html": [
       "<div>\n",
       "<style scoped>\n",
       "    .dataframe tbody tr th:only-of-type {\n",
       "        vertical-align: middle;\n",
       "    }\n",
       "\n",
       "    .dataframe tbody tr th {\n",
       "        vertical-align: top;\n",
       "    }\n",
       "\n",
       "    .dataframe thead th {\n",
       "        text-align: right;\n",
       "    }\n",
       "</style>\n",
       "<table border=\"1\" class=\"dataframe\">\n",
       "  <thead>\n",
       "    <tr style=\"text-align: right;\">\n",
       "      <th></th>\n",
       "      <th>Age</th>\n",
       "      <th>Cabin</th>\n",
       "      <th>Embarked</th>\n",
       "      <th>Fare</th>\n",
       "      <th>Name</th>\n",
       "      <th>Parch</th>\n",
       "      <th>Pclass</th>\n",
       "      <th>Sex</th>\n",
       "      <th>SibSp</th>\n",
       "      <th>Survived</th>\n",
       "      <th>Ticket</th>\n",
       "    </tr>\n",
       "    <tr>\n",
       "      <th>PassengerId</th>\n",
       "      <th></th>\n",
       "      <th></th>\n",
       "      <th></th>\n",
       "      <th></th>\n",
       "      <th></th>\n",
       "      <th></th>\n",
       "      <th></th>\n",
       "      <th></th>\n",
       "      <th></th>\n",
       "      <th></th>\n",
       "      <th></th>\n",
       "    </tr>\n",
       "  </thead>\n",
       "  <tbody>\n",
       "  </tbody>\n",
       "</table>\n",
       "</div>"
      ],
      "text/plain": [
       "Empty DataFrame\n",
       "Columns: [Age, Cabin, Embarked, Fare, Name, Parch, Pclass, Sex, SibSp, Survived, Ticket]\n",
       "Index: []"
      ]
     },
     "execution_count": 57,
     "metadata": {},
     "output_type": "execute_result"
    }
   ],
   "source": [
    "df[df.Embarked.isnull()]"
   ]
  },
  {
   "cell_type": "code",
   "execution_count": 58,
   "metadata": {},
   "outputs": [
    {
     "name": "stdout",
     "output_type": "stream",
     "text": [
      "<class 'pandas.core.frame.DataFrame'>\n",
      "Int64Index: 1309 entries, 1 to 1309\n",
      "Data columns (total 11 columns):\n",
      "Age         1046 non-null float64\n",
      "Cabin       295 non-null object\n",
      "Embarked    1309 non-null object\n",
      "Fare        1308 non-null float64\n",
      "Name        1309 non-null object\n",
      "Parch       1309 non-null int64\n",
      "Pclass      1309 non-null int64\n",
      "Sex         1309 non-null object\n",
      "SibSp       1309 non-null int64\n",
      "Survived    1309 non-null int64\n",
      "Ticket      1309 non-null object\n",
      "dtypes: float64(2), int64(4), object(5)\n",
      "memory usage: 162.7+ KB\n"
     ]
    }
   ],
   "source": [
    "df.info()"
   ]
  },
  {
   "cell_type": "markdown",
   "metadata": {},
   "source": [
    "### Feature : Fare"
   ]
  },
  {
   "cell_type": "code",
   "execution_count": 59,
   "metadata": {},
   "outputs": [
    {
     "data": {
      "text/html": [
       "<div>\n",
       "<style scoped>\n",
       "    .dataframe tbody tr th:only-of-type {\n",
       "        vertical-align: middle;\n",
       "    }\n",
       "\n",
       "    .dataframe tbody tr th {\n",
       "        vertical-align: top;\n",
       "    }\n",
       "\n",
       "    .dataframe thead th {\n",
       "        text-align: right;\n",
       "    }\n",
       "</style>\n",
       "<table border=\"1\" class=\"dataframe\">\n",
       "  <thead>\n",
       "    <tr style=\"text-align: right;\">\n",
       "      <th></th>\n",
       "      <th>Age</th>\n",
       "      <th>Cabin</th>\n",
       "      <th>Embarked</th>\n",
       "      <th>Fare</th>\n",
       "      <th>Name</th>\n",
       "      <th>Parch</th>\n",
       "      <th>Pclass</th>\n",
       "      <th>Sex</th>\n",
       "      <th>SibSp</th>\n",
       "      <th>Survived</th>\n",
       "      <th>Ticket</th>\n",
       "    </tr>\n",
       "    <tr>\n",
       "      <th>PassengerId</th>\n",
       "      <th></th>\n",
       "      <th></th>\n",
       "      <th></th>\n",
       "      <th></th>\n",
       "      <th></th>\n",
       "      <th></th>\n",
       "      <th></th>\n",
       "      <th></th>\n",
       "      <th></th>\n",
       "      <th></th>\n",
       "      <th></th>\n",
       "    </tr>\n",
       "  </thead>\n",
       "  <tbody>\n",
       "    <tr>\n",
       "      <th>1044</th>\n",
       "      <td>60.5</td>\n",
       "      <td>NaN</td>\n",
       "      <td>S</td>\n",
       "      <td>NaN</td>\n",
       "      <td>Storey, Mr. Thomas</td>\n",
       "      <td>0</td>\n",
       "      <td>3</td>\n",
       "      <td>male</td>\n",
       "      <td>0</td>\n",
       "      <td>-888</td>\n",
       "      <td>3701</td>\n",
       "    </tr>\n",
       "  </tbody>\n",
       "</table>\n",
       "</div>"
      ],
      "text/plain": [
       "              Age Cabin Embarked  Fare                Name  Parch  Pclass  \\\n",
       "PassengerId                                                                 \n",
       "1044         60.5   NaN        S   NaN  Storey, Mr. Thomas      0       3   \n",
       "\n",
       "              Sex  SibSp  Survived Ticket  \n",
       "PassengerId                                \n",
       "1044         male      0      -888   3701  "
      ]
     },
     "execution_count": 59,
     "metadata": {},
     "output_type": "execute_result"
    }
   ],
   "source": [
    "df[df.Fare.isnull()]"
   ]
  },
  {
   "cell_type": "code",
   "execution_count": 60,
   "metadata": {},
   "outputs": [
    {
     "name": "stdout",
     "output_type": "stream",
     "text": [
      "8.05\n"
     ]
    }
   ],
   "source": [
    "median_fare = df.loc[(df.Pclass==3) & (df.Embarked == 'S'), 'Fare'].median() \n",
    "print(median_fare)"
   ]
  },
  {
   "cell_type": "code",
   "execution_count": 61,
   "metadata": {},
   "outputs": [],
   "source": [
    "df.Fare.fillna(median_fare, inplace=True)"
   ]
  },
  {
   "cell_type": "code",
   "execution_count": 62,
   "metadata": {},
   "outputs": [
    {
     "name": "stdout",
     "output_type": "stream",
     "text": [
      "<class 'pandas.core.frame.DataFrame'>\n",
      "Int64Index: 1309 entries, 1 to 1309\n",
      "Data columns (total 11 columns):\n",
      "Age         1046 non-null float64\n",
      "Cabin       295 non-null object\n",
      "Embarked    1309 non-null object\n",
      "Fare        1309 non-null float64\n",
      "Name        1309 non-null object\n",
      "Parch       1309 non-null int64\n",
      "Pclass      1309 non-null int64\n",
      "Sex         1309 non-null object\n",
      "SibSp       1309 non-null int64\n",
      "Survived    1309 non-null int64\n",
      "Ticket      1309 non-null object\n",
      "dtypes: float64(2), int64(4), object(5)\n",
      "memory usage: 162.7+ KB\n"
     ]
    }
   ],
   "source": [
    "df.info()"
   ]
  },
  {
   "cell_type": "markdown",
   "metadata": {},
   "source": [
    "### Feature : Age"
   ]
  },
  {
   "cell_type": "code",
   "execution_count": 63,
   "metadata": {},
   "outputs": [],
   "source": [
    "pd.options.display.max_rows = 15"
   ]
  },
  {
   "cell_type": "code",
   "execution_count": 64,
   "metadata": {},
   "outputs": [
    {
     "data": {
      "text/html": [
       "<div>\n",
       "<style scoped>\n",
       "    .dataframe tbody tr th:only-of-type {\n",
       "        vertical-align: middle;\n",
       "    }\n",
       "\n",
       "    .dataframe tbody tr th {\n",
       "        vertical-align: top;\n",
       "    }\n",
       "\n",
       "    .dataframe thead th {\n",
       "        text-align: right;\n",
       "    }\n",
       "</style>\n",
       "<table border=\"1\" class=\"dataframe\">\n",
       "  <thead>\n",
       "    <tr style=\"text-align: right;\">\n",
       "      <th></th>\n",
       "      <th>Age</th>\n",
       "      <th>Cabin</th>\n",
       "      <th>Embarked</th>\n",
       "      <th>Fare</th>\n",
       "      <th>Name</th>\n",
       "      <th>Parch</th>\n",
       "      <th>Pclass</th>\n",
       "      <th>Sex</th>\n",
       "      <th>SibSp</th>\n",
       "      <th>Survived</th>\n",
       "      <th>Ticket</th>\n",
       "    </tr>\n",
       "    <tr>\n",
       "      <th>PassengerId</th>\n",
       "      <th></th>\n",
       "      <th></th>\n",
       "      <th></th>\n",
       "      <th></th>\n",
       "      <th></th>\n",
       "      <th></th>\n",
       "      <th></th>\n",
       "      <th></th>\n",
       "      <th></th>\n",
       "      <th></th>\n",
       "      <th></th>\n",
       "    </tr>\n",
       "  </thead>\n",
       "  <tbody>\n",
       "    <tr>\n",
       "      <th>6</th>\n",
       "      <td>NaN</td>\n",
       "      <td>NaN</td>\n",
       "      <td>Q</td>\n",
       "      <td>8.4583</td>\n",
       "      <td>Moran, Mr. James</td>\n",
       "      <td>0</td>\n",
       "      <td>3</td>\n",
       "      <td>male</td>\n",
       "      <td>0</td>\n",
       "      <td>0</td>\n",
       "      <td>330877</td>\n",
       "    </tr>\n",
       "    <tr>\n",
       "      <th>18</th>\n",
       "      <td>NaN</td>\n",
       "      <td>NaN</td>\n",
       "      <td>S</td>\n",
       "      <td>13.0000</td>\n",
       "      <td>Williams, Mr. Charles Eugene</td>\n",
       "      <td>0</td>\n",
       "      <td>2</td>\n",
       "      <td>male</td>\n",
       "      <td>0</td>\n",
       "      <td>1</td>\n",
       "      <td>244373</td>\n",
       "    </tr>\n",
       "    <tr>\n",
       "      <th>20</th>\n",
       "      <td>NaN</td>\n",
       "      <td>NaN</td>\n",
       "      <td>C</td>\n",
       "      <td>7.2250</td>\n",
       "      <td>Masselmani, Mrs. Fatima</td>\n",
       "      <td>0</td>\n",
       "      <td>3</td>\n",
       "      <td>female</td>\n",
       "      <td>0</td>\n",
       "      <td>1</td>\n",
       "      <td>2649</td>\n",
       "    </tr>\n",
       "    <tr>\n",
       "      <th>27</th>\n",
       "      <td>NaN</td>\n",
       "      <td>NaN</td>\n",
       "      <td>C</td>\n",
       "      <td>7.2250</td>\n",
       "      <td>Emir, Mr. Farred Chehab</td>\n",
       "      <td>0</td>\n",
       "      <td>3</td>\n",
       "      <td>male</td>\n",
       "      <td>0</td>\n",
       "      <td>0</td>\n",
       "      <td>2631</td>\n",
       "    </tr>\n",
       "    <tr>\n",
       "      <th>29</th>\n",
       "      <td>NaN</td>\n",
       "      <td>NaN</td>\n",
       "      <td>Q</td>\n",
       "      <td>7.8792</td>\n",
       "      <td>O'Dwyer, Miss. Ellen \"Nellie\"</td>\n",
       "      <td>0</td>\n",
       "      <td>3</td>\n",
       "      <td>female</td>\n",
       "      <td>0</td>\n",
       "      <td>1</td>\n",
       "      <td>330959</td>\n",
       "    </tr>\n",
       "    <tr>\n",
       "      <th>30</th>\n",
       "      <td>NaN</td>\n",
       "      <td>NaN</td>\n",
       "      <td>S</td>\n",
       "      <td>7.8958</td>\n",
       "      <td>Todoroff, Mr. Lalio</td>\n",
       "      <td>0</td>\n",
       "      <td>3</td>\n",
       "      <td>male</td>\n",
       "      <td>0</td>\n",
       "      <td>0</td>\n",
       "      <td>349216</td>\n",
       "    </tr>\n",
       "    <tr>\n",
       "      <th>32</th>\n",
       "      <td>NaN</td>\n",
       "      <td>B78</td>\n",
       "      <td>C</td>\n",
       "      <td>146.5208</td>\n",
       "      <td>Spencer, Mrs. William Augustus (Marie Eugenie)</td>\n",
       "      <td>0</td>\n",
       "      <td>1</td>\n",
       "      <td>female</td>\n",
       "      <td>1</td>\n",
       "      <td>1</td>\n",
       "      <td>PC 17569</td>\n",
       "    </tr>\n",
       "    <tr>\n",
       "      <th>...</th>\n",
       "      <td>...</td>\n",
       "      <td>...</td>\n",
       "      <td>...</td>\n",
       "      <td>...</td>\n",
       "      <td>...</td>\n",
       "      <td>...</td>\n",
       "      <td>...</td>\n",
       "      <td>...</td>\n",
       "      <td>...</td>\n",
       "      <td>...</td>\n",
       "      <td>...</td>\n",
       "    </tr>\n",
       "    <tr>\n",
       "      <th>1274</th>\n",
       "      <td>NaN</td>\n",
       "      <td>NaN</td>\n",
       "      <td>S</td>\n",
       "      <td>14.5000</td>\n",
       "      <td>Risien, Mrs. Samuel (Emma)</td>\n",
       "      <td>0</td>\n",
       "      <td>3</td>\n",
       "      <td>female</td>\n",
       "      <td>0</td>\n",
       "      <td>-888</td>\n",
       "      <td>364498</td>\n",
       "    </tr>\n",
       "    <tr>\n",
       "      <th>1276</th>\n",
       "      <td>NaN</td>\n",
       "      <td>NaN</td>\n",
       "      <td>S</td>\n",
       "      <td>12.8750</td>\n",
       "      <td>Wheeler, Mr. Edwin Frederick\"\"</td>\n",
       "      <td>0</td>\n",
       "      <td>2</td>\n",
       "      <td>male</td>\n",
       "      <td>0</td>\n",
       "      <td>-888</td>\n",
       "      <td>SC/PARIS 2159</td>\n",
       "    </tr>\n",
       "    <tr>\n",
       "      <th>1300</th>\n",
       "      <td>NaN</td>\n",
       "      <td>NaN</td>\n",
       "      <td>Q</td>\n",
       "      <td>7.7208</td>\n",
       "      <td>Riordan, Miss. Johanna Hannah\"\"</td>\n",
       "      <td>0</td>\n",
       "      <td>3</td>\n",
       "      <td>female</td>\n",
       "      <td>0</td>\n",
       "      <td>-888</td>\n",
       "      <td>334915</td>\n",
       "    </tr>\n",
       "    <tr>\n",
       "      <th>1302</th>\n",
       "      <td>NaN</td>\n",
       "      <td>NaN</td>\n",
       "      <td>Q</td>\n",
       "      <td>7.7500</td>\n",
       "      <td>Naughton, Miss. Hannah</td>\n",
       "      <td>0</td>\n",
       "      <td>3</td>\n",
       "      <td>female</td>\n",
       "      <td>0</td>\n",
       "      <td>-888</td>\n",
       "      <td>365237</td>\n",
       "    </tr>\n",
       "    <tr>\n",
       "      <th>1305</th>\n",
       "      <td>NaN</td>\n",
       "      <td>NaN</td>\n",
       "      <td>S</td>\n",
       "      <td>8.0500</td>\n",
       "      <td>Spector, Mr. Woolf</td>\n",
       "      <td>0</td>\n",
       "      <td>3</td>\n",
       "      <td>male</td>\n",
       "      <td>0</td>\n",
       "      <td>-888</td>\n",
       "      <td>A.5. 3236</td>\n",
       "    </tr>\n",
       "    <tr>\n",
       "      <th>1308</th>\n",
       "      <td>NaN</td>\n",
       "      <td>NaN</td>\n",
       "      <td>S</td>\n",
       "      <td>8.0500</td>\n",
       "      <td>Ware, Mr. Frederick</td>\n",
       "      <td>0</td>\n",
       "      <td>3</td>\n",
       "      <td>male</td>\n",
       "      <td>0</td>\n",
       "      <td>-888</td>\n",
       "      <td>359309</td>\n",
       "    </tr>\n",
       "    <tr>\n",
       "      <th>1309</th>\n",
       "      <td>NaN</td>\n",
       "      <td>NaN</td>\n",
       "      <td>C</td>\n",
       "      <td>22.3583</td>\n",
       "      <td>Peter, Master. Michael J</td>\n",
       "      <td>1</td>\n",
       "      <td>3</td>\n",
       "      <td>male</td>\n",
       "      <td>1</td>\n",
       "      <td>-888</td>\n",
       "      <td>2668</td>\n",
       "    </tr>\n",
       "  </tbody>\n",
       "</table>\n",
       "<p>263 rows × 11 columns</p>\n",
       "</div>"
      ],
      "text/plain": [
       "             Age Cabin Embarked      Fare  \\\n",
       "PassengerId                                 \n",
       "6            NaN   NaN        Q    8.4583   \n",
       "18           NaN   NaN        S   13.0000   \n",
       "20           NaN   NaN        C    7.2250   \n",
       "27           NaN   NaN        C    7.2250   \n",
       "29           NaN   NaN        Q    7.8792   \n",
       "30           NaN   NaN        S    7.8958   \n",
       "32           NaN   B78        C  146.5208   \n",
       "...          ...   ...      ...       ...   \n",
       "1274         NaN   NaN        S   14.5000   \n",
       "1276         NaN   NaN        S   12.8750   \n",
       "1300         NaN   NaN        Q    7.7208   \n",
       "1302         NaN   NaN        Q    7.7500   \n",
       "1305         NaN   NaN        S    8.0500   \n",
       "1308         NaN   NaN        S    8.0500   \n",
       "1309         NaN   NaN        C   22.3583   \n",
       "\n",
       "                                                       Name  Parch  Pclass  \\\n",
       "PassengerId                                                                  \n",
       "6                                          Moran, Mr. James      0       3   \n",
       "18                             Williams, Mr. Charles Eugene      0       2   \n",
       "20                                  Masselmani, Mrs. Fatima      0       3   \n",
       "27                                  Emir, Mr. Farred Chehab      0       3   \n",
       "29                            O'Dwyer, Miss. Ellen \"Nellie\"      0       3   \n",
       "30                                      Todoroff, Mr. Lalio      0       3   \n",
       "32           Spencer, Mrs. William Augustus (Marie Eugenie)      0       1   \n",
       "...                                                     ...    ...     ...   \n",
       "1274                             Risien, Mrs. Samuel (Emma)      0       3   \n",
       "1276                         Wheeler, Mr. Edwin Frederick\"\"      0       2   \n",
       "1300                        Riordan, Miss. Johanna Hannah\"\"      0       3   \n",
       "1302                                 Naughton, Miss. Hannah      0       3   \n",
       "1305                                     Spector, Mr. Woolf      0       3   \n",
       "1308                                    Ware, Mr. Frederick      0       3   \n",
       "1309                               Peter, Master. Michael J      1       3   \n",
       "\n",
       "                Sex  SibSp  Survived         Ticket  \n",
       "PassengerId                                          \n",
       "6              male      0         0         330877  \n",
       "18             male      0         1         244373  \n",
       "20           female      0         1           2649  \n",
       "27             male      0         0           2631  \n",
       "29           female      0         1         330959  \n",
       "30             male      0         0         349216  \n",
       "32           female      1         1       PC 17569  \n",
       "...             ...    ...       ...            ...  \n",
       "1274         female      0      -888         364498  \n",
       "1276           male      0      -888  SC/PARIS 2159  \n",
       "1300         female      0      -888         334915  \n",
       "1302         female      0      -888         365237  \n",
       "1305           male      0      -888      A.5. 3236  \n",
       "1308           male      0      -888         359309  \n",
       "1309           male      1      -888           2668  \n",
       "\n",
       "[263 rows x 11 columns]"
      ]
     },
     "execution_count": 64,
     "metadata": {},
     "output_type": "execute_result"
    }
   ],
   "source": [
    "df[df.Age.isnull()]"
   ]
  },
  {
   "cell_type": "markdown",
   "metadata": {},
   "source": [
    "### Option 1: Replacing all age with mean value"
   ]
  },

  {
   "cell_type": "code",
   "execution_count": 65,
   "metadata": {},
   "outputs": [
    {
     "data": {
      "text/plain": [
       "<matplotlib.axes._subplots.AxesSubplot at 0x1f26c9941d0>"
      ]
     },
     "execution_count": 65,
     "metadata": {},
     "output_type": "execute_result"
    },
    {
     "data": {
      "image/png": "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\n",
      "text/plain": [
       "<Figure size 432x288 with 1 Axes>"
      ]
     },
     "metadata": {},
     "output_type": "display_data"
    }
   ],
   "source": [
    "df.Age.plot(kind='hist', bins=20)"
   ]
  },
  {
   "cell_type": "code",
   "execution_count": 66,
   "metadata": {},
   "outputs": [
    {
     "data": {
      "text/plain": [
       "29.881137667304014"
      ]
     },
     "execution_count": 66,
     "metadata": {},
     "output_type": "execute_result"
    }
   ],
   "source": [
    "df.Age.mean()"
   ]
  },
  {
   "cell_type": "code",
   "execution_count": 67,
   "metadata": {},
   "outputs": [],
   "source": [
    "#replace the missing\n",
    "# df.Age.fillna(df.Age.mean(), inplace=True)"
   ]
  },
  {
   "cell_type": "markdown",
   "metadata": {},
   "source": [
    "### Option 2: Replacing with median age of gender"
   ]
  },
  {
   "cell_type": "code",
   "execution_count": 68,
   "metadata": {},
   "outputs": [
    {
     "data": {
      "text/plain": [
       "Sex\n",
       "female    27.0\n",
       "male      28.0\n",
       "Name: Age, dtype: float64"
      ]
     },
     "execution_count": 68,
     "metadata": {},
     "output_type": "execute_result"
    }
   ],
   "source": [
    "df.groupby('Sex').Age.median()"
   ]
  },
  {
   "cell_type": "code",
   "execution_count": 69,
   "metadata": {},
   "outputs": [
    {
     "data": {
      "text/plain": [
       "<matplotlib.axes._subplots.AxesSubplot at 0x1f26ca5d4a8>"
      ]
     },
     "execution_count": 69,
     "metadata": {},
     "output_type": "execute_result"
    },
    {
     "data": {
      "image/png": "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\n",
      "text/plain": [
       "<Figure size 432x288 with 1 Axes>"
      ]
     },
     "metadata": {},
     "output_type": "display_data"
    }
   ],
   "source": [
    "df[df.Age.notnull()].boxplot('Age', 'Sex')"
   ]
  },
  {
   "cell_type": "code",
   "execution_count": 70,
   "metadata": {},
   "outputs": [],
   "source": [
    "# replace the missing\n",
    "# age_sex_median = df.groupby('Sex').Age.transform('median')\n",
    "# df.Age.fillna(age_sex_median, inplace=True)"
   ]
  },
  {
   "cell_type": "markdown",
   "metadata": {},
   "source": [
    "### Option 3: Replacing with median age of Pclass"
   ]
  },
  {
   "cell_type": "code",
   "execution_count": 71,
   "metadata": {},
   "outputs": [
    {
     "data": {
      "text/plain": [
       "<matplotlib.axes._subplots.AxesSubplot at 0x1f26cadadd8>"
      ]
     },
     "execution_count": 71,
     "metadata": {},
     "output_type": "execute_result"
    },
    {
     "data": {
      "image/png": "iVBORw0KGgoAAAANSUhEUgAAAX8AAAEcCAYAAAAvJLSTAAAABHNCSVQICAgIfAhkiAAAAAlwSFlzAAALEgAACxIB0t1+/AAAADl0RVh0U29mdHdhcmUAbWF0cGxvdGxpYiB2ZXJzaW9uIDIuMi4yLCBodHRwOi8vbWF0cGxvdGxpYi5vcmcvhp/UCwAAIABJREFUeJzt3X98HXWd7/HXuymlP+waoBALLQSksqVVQXPRXau3P1BE2Esfu0WNLFukGrkK4vqrla4iXnppry5eL4pabisFIfwWuKBsuTRHxFWkUFBodEFo+dFCQagQoJTEz/4xk3IakuY0Z05Ocub9fDzOI2dmvjPzmXyTz/me78x3RhGBmZnly4hqB2BmZoPPyd/MLIec/M3McsjJ38wsh5z8zcxyyMnfzCyHnPytYiRdLOncasdRbbv6PUg6RdIdgx1T0f4bJYWkkdWKwarDyT8HJG2Q9LKkDknPSbpZ0uRqx1UsTUCHVjuO4UxSQdK2tJ6fkXSdpInVjsuGJif//Pi7iHgDMBF4CrigyvFUjBJ5/ds+Pa3ntwD1wLerHI8NUXn9B8mtiNgGXAMc3j1P0hslXSLpaUkbJf1Ld/KU9H1J1xSVXSbptjTBzpT0uKSz0pbmBkkn9bVvSZ+U9JCkZyXdKGn/dP7taZH70lbrR3pZt07Sv6b7eUTS6cXdFWmrd4mkXwIvAYdI2j/dz7Ppfj9ZtL2dumK6j6VoeoOkr0han35b+pGk0UXLj5d0r6Stkv5d0tuKlh0p6R5JL0i6EtixXt+/Gl0g6c+Sfi9pTjrzREl39yj4BUnX97M9IuJZ4FpgerremPT3tzHdzx2SxvQSyMcltaexPyzpU0XLJki6KT3mZyX9oujvZKGkJ9L1/tB9DDaERYRfNf4CNgBHp+/HAquAS4qWXwLcAIwHGoH/ABYUlf8P4BTgvcAzwKR02UygEzgf2BP4r8CLwGHp8ouBc9P3s9N135GWvQC4vSiGAA7dxTGcBqwHJgF7Af8/XWdkurwAPApMA0YCewA/By4kSb5HAE8Dc3rGVnQsj/f4nd0PTAb2Bn5ZdCzvALYA7wLqgPlp+T2BUcBG4J/TGOYBrxbvq8dxnZL+DrvLfwT4c7rPPYFngalF5dcB/9DHtgrAJ9L3E4A1wKXp9PfS5QekMf9tuv3GHr/H44A3A0rr8yXgHemy84AfpHHukf49CDgMeAzYPy3XCLy52n/3fvWTF6odgF+DUMlJYuoAtqaJZhPw1nRZHfAKcHhR+U8BhaLpo9IktBFoLpo/M93euKJ5VwFfTd/vSLDACuB/FZV7Q5oUG9Pp/pL/GuBTRdNH8/rk/42i5ZOBLmB80bzzgIt7xlZ0LD2T/2lF0x8C/pi+/z7wP3rE94c0Wb4v/f2qaNm/s+vk37P8b4CTi/a1JH0/DXgO2LOPbRXSZL0VeAK4DNiX5Bv+y8Dbe1mnsfj32Mvy64Ez0/ffIGkkHNqjzKEkH4ZHA3tU++/dr9Je7vbJj7kRUU/S2jsd+LmkN5G0ELtbq902krQQAYiI3wAPk7Tyruqx3eci4sUe6+7fy/73L95HRHQAfyreTz/2J2lddnuslzLF8/YHno2IF3rEVur+em6v+LgOAr6Qdn9slbSV5MNm//T1RKRZsWjdXemtfPe+VgEfkyTgZOCqiHhlF9v6bETUR8QBEXFSRDxNUsejgT/2EweSjpX067RbZyvJh96EdPE3gYeA1WmX0CKAiHgI+BzwdWCLpCu6u/Rs6HLyz5mI6IqI60haxTNIumJeJUlo3Q4kaTkCIOkzJB8am4Av99jkXpLG9Vh3Uy+73lS8j3SdfYr304/NJF0+3Xq7Wqk4gW4C9pY0vkds3ft7kaRLq9ubetle8T6Kj+sxktZ4fdFrbES0pnEekCbr4nV3pbfymwAi4tfAdpIulo8Bl/azrd48A2wj6c7pk6Q9Sc4TfAtoSBsLPyX50CciXoiIL0TEIcDfAZ/v7tuPiMsjYgZJHQewbABx2iBy8s+Z9ETtCST95u0R0UXSml8iabykg4DPAz9Oy78FOBf4R5KW55clHdFjs+dIGiXpvcDxwNW97Ppy4OOSjkiTzP8E7oyIDenyp4BDdhH6VcCZkg6QVA8s3NVxRsRjJN0t50kanZ6QXUDSFQJwL3Ba2nI/kKTl2tNnJE2StDdwFnBlOv+idN13pb/PcZKOSz9ofkXSFfZZSSMl/T1Jt9mu7JeW30PSicBUkqTb7RLgu0BnROz2mICI+AuwEjg/PQleJ+lv0nooNorkQ/5poFPSscAHuhemJ7kPTT+onidpQHRJOkzS7HR720i6mLp2N04bXE7++fH/JHWQ/NMuAeZHxAPpsjNIWsIPA3eQJOqVSq6k+TGwLCLui4gHSZLgpUWJ40mSfuhNJIn1tIj4fc+dR8RtwFdJWpabSVqhHy0q8nVgVZqMP9xL/BcBq4Hfkpz0/ClJkt1Vkmkm6dPeBPwEODsibk2X3U7SFfJG4Be8ltiLXZ7u8+H0dW56LGuBT5Ik5OdIukJOSZdtB/4+nX6O5ATudbuIEeBOYApJC30JMC8i/lS0/FKSq3YG0urv9kXgd8BdJOdvltHj/z/tIvssyQftcyTfNG4sKjKF5ER7B8mH3IURUSD5wFiaxv8kyYfZWWXEaoNAO3c1mpVO0kzgxxExqb+yFdj3scAPIuKgfgv3vv7XgGNIEu9bIuL4dP4+JCeDjwMeJPkWMzPt0kDSX5NcqfROkhbyVyOi53mQTKWXZG4huermwUruy/LDLX8bFtLr1D+UdqUcAJxN0pofqH8i+aZyGXCMpIZ0/vdIvgU9RtI6nl8UwzjgVpJvBPuRfLO4UNK0MuIoxX8H7nLityw5+dtwIeAcku6IdUA78LUBbUjqPjF5VUTcTXIVzMck1QH/QPLBEiTjBlYVrXo8sCEifhQRnRFxD0k31ryBHVJJsW4AzgS+UKl9WD75Zk42YGl/76B0+UTES8B/yWhz84HVEfFMOn15Oq+V5H/isYhoBJBUfIXMQcC70ksgu42kvL74XeqOwyxrTv6WK2n/+YeBOklPprP3JLkPTgPJSeRJJKOaYefLPR8Dfh4R7x+kcM0qxid8LVckNZP06x9Bcv18t6tIroSZRHIF0SdIrrdfDTwaETPSSznvB/4FuCJd7wigIyLaB+cIzLLhPn/Lm/nAjyLi0Yh4svtFctnmSSSjn99IcsnipSRdQa/AjkshP0ByieqmtMwykm8OZsOKW/5muyBpGfCmiJjfb2GzYcQtf7Mikv5a0tvSkbtHkYwKLueSUrMhySd8zXY2nqSrZ3+SgVX/SnInS7Oa4m4fM7MccrePmVkOOfmbmeXQoPb5T5gwIRobGwdzl4PuxRdfZNy4cf0XtGHB9Vk78lCXd9999zMRsW8pZQc1+Tc2NrJ27drB3OWgKxQKzJw5s9phWEZcn7UjD3Upqb+nxu3gbh8zsxxy8jczyyEnfzOzHHLyNzPLoZKSv6R/lvSApPsltaYPxD5Y0p2SHpR0paRRlQ7WzMyy0W/yTx+Z91mgKSKmA3UkdzVcBnw7IqaQPF1pQSUDNTOz7JTa7TMSGCNpJDAW2AzMBq5Jl68C5mYfnpmZVUK/yT8ingC+RfI8083An4G7ga0R0ZkWexw4oFJBmplZtvod5CVpL+AE4GBgK3A1cGwvRXu9Q5ykFqAFoKGhgUKhMNBYh4RZs2Zlsp22trZMtmOV1dHRMez/Zi3hutxZKSN8jwYeiYinASRdB/wtUC9pZNr6n0TyZKPXiYjlwHKApqamGO4j7Pq7C2rjopvZsPS4QYrGKi0Po0LzwnW5s1L6/B8F3i1prCQBc4D1QBswLy0zH9/z3Mxs2Cilz/9OkhO79wC/S9dZDiwEPi/pIWAfYEUF4zQzswyVdGO3iDgbOLvH7IeBozKPyMzMKs4jfM3McsjJ38wsh5z8zcxyyMnfzCyHnPzNzHLIyd/MLIec/M2sprW2tjJ9+nTmzJnD9OnTaW1trXZIQ8KgPsDdzGwwtba2snjxYlasWEFXVxd1dXUsWJDcfb65ubnK0VWXW/5mVrOWLFnCihUrmDVrFiNHjmTWrFmsWLGCJUuWVDu0qnPyN7Oa1d7ezowZM3aaN2PGDNrb26sU0dDh5G9mNWvq1KnccccdO8274447mDp1apUiGjqc/M2sZi1evJgFCxbQ1tZGZ2cnbW1tLFiwgMWLF1c7tKrzCV8zq1ndJ3XPOOMM2tvbmTp1KkuWLMn9yV5w8jezGtfc3Exzc7Mf5tKDu33MzHLIyd/MapoHefWulAe4HwZcWTTrEOBrwCXp/EZgA/DhiHgu+xDNBl9raytLlizZ0U+8ePFi9xMPQx7k1bd+k39E/AE4AkBSHfAE8BNgEXBbRCyVtCidXljBWM0GhRNG7Sge5NXd579ixQrOOOOM3Nfl7nb7zAH+GBEbgROAVen8VcDcLAMzqxaPCq0dHuTVt9292uejQHeHWUNEbAaIiM2S9uttBUktQAtAQ0MDhUJhgKEOH3k4xlrW3t5OV1cXhUKBjo4OCoUCXV1dtLe3u26HmQMPPJDvfve7HHnkkTvqct26dRx44IGuy4go6QWMAp4hSfoAW3ssf66/bbzzne+MWnfQwpuqHYKVadq0abFmzZqIiGhra4uIiDVr1sS0adOqGJUNxOWXXx4HH3xwrFmzJm699dZYs2ZNHHzwwXH55ZdXO7SKANZGiTl9d1r+xwL3RMRT6fRTkiZG0uqfCGzJ7BPJrIq6R4V29/l3jwp1t8/w40Fefdud5N/Ma10+ADcC84Gl6c8bMozLrGqcMGqLB3n1rqTkL2ks8H7gU0WzlwJXSVoAPAqcmH14ZtXhhGG1rqTkHxEvAfv0mPcnkqt/zMxsmPEIXzOzHHLyN+uFbwlgtc539TTrwSN8LQ/c8jfrwSN8LQ+c/M168C0Baou78Hrnbh+zHrqf+zpr1qwd8/zc1+HJXXh9c8vfrAc/97V2uAuvb275m/XgEb61w114fXPyN7OaNXXqVM455xyuv/76HR/kc+fOdRceTv5mr+N+4toxa9Ysli1bxrJlyzj88MNZv349Cxcu5LTTTqt2aFXnPn+zHtxPXDva2tpYuHAhK1eu5LjjjmPlypUsXLiQtra2aodWdW75m/XQ3t7O1VdfzbHHHssrr7zCnnvuyamnnup+4mGovb2ddevWce655+64Sd+rr77KeeedV+3Qqs7J36yH+vp6fvjDH/LNb35zR1fBl770Jerr66sdmu0mX7bbNyd/sx6ef/55xowZwwUXXMCjjz7KgQceyJgxY3j++eerHZrtpsWLF/ORj3yEcePGsXHjRg466CBefPFFvvOd71Q7tKpzn79ZD52dnYwdOxag+xGljB07ls7OzmqGZWWSVO0QhpSSkr+keknXSPq9pHZJfyNpb0m3Snow/blXpYM1GwySmDdvHo888ghr1qzhkUceYd68eU4ew9CSJUtoaWlh3LhxAIwbN46WlhafvKf0bp/vALdExDxJo4CxwFnAbRGxVNIiYBGwsEJxmg2q73//+yxfvnzHpZ5dXV1O/sPQ+vXreemll1532e6GDRuqHVrV9dvyl/RXwPuAFQARsT0itgInAKvSYquAuZUK0mww7bXXXq9L9JLYay9/uR1uRo0axemnn77TZbunn346o0aNqnZoVVdKy/8Q4GngR5LeDtwNnAk0RMRmgIjYLGm/yoVpNnief/55xo4dy7777svGjRuZPHkyTz/9tE/4DkPbt2/nvPPO44ILLthxwrejo4Pt27dXO7SqKyX5jwTeAZwREXdK+g5JF09JJLUALQANDQ0UCoWBxDms5OEYa1n3Cd9t27YhiW3btlFXV0dnZ6frdpiZMGECL730EiNHjtxRly+//DITJkzIfV2q+2qGPgtIbwJ+HRGN6fR7SZL/ocDMtNU/EShExGG72lZTU1OsXbs2k8CHqsZFN7Nh6XHVDsPKMGLECE477TQuvPDCHQODPv3pT/ODH/yAv/zlL9UOz3bD5MmT6erq4rLLLtvR53/SSSdRV1fHY489Vu3wMifp7ohoKqVsvy3/iHhS0mOSDouIPwBzgPXpaz6wNP15Qxkxmw0ZEcFFF13EoYceyuGHH87555/PRRddRH8NJRt6Nm3axMUXX7zTHVqXLVvGKaecUu3Qqq7Uq33OAC5Lr/R5GPg4ycniqyQtAB4FTqxMiGaDa9q0aUyZMoWzzjprx+0djj/+eB588MFqh2a7aerUqUyaNIn7779/x7e4trY2j/ClxOQfEfcCvX2VmJNtOGbVt3jxYhYvXszPfvaznS4P9LXhw0/3g3m6L/XsfjCP69K3dzB7HT/MpXa4LvvW7wnfLPmErw033V0FNvzloS4zPeFrVquyGrHrE8E2HPnGbpZbEdHv66CFN/Vbxoa21tZWpk+fzpw5c5g+fTqtra3VDmlIcMvfzGqWH8nZN7f8zaxm+ZGcfXPyN7Oa1d7ezowZM3aaN2PGDD+SEyd/M6th3Y9xLObHOCac/M2sZnUP8mpra6Ozs3PHIK/FixdXO7Sq8wlfM6tZHuTVNyd/M6tpzc3NNDc352KQ1+5wt4+ZWQ45+ZuZ5ZCTv5lZDjn5m5nlkJO/mVkOlXS1j6QNwAtAF9AZEU2S9gauBBqBDcCHI+K5yoRpZmZZ2p1LPWdFxDNF04uA2yJiqaRF6fTCTKMzMyuBb8+9+8rp9jkBWJW+XwXMLT8cM7Pd59tz775SW/4BrJYUwA8jYjnQEBGbASJis6T9eltRUgvQAtDQ0EChUCg/6gr5zG0v8uKr5W+ncdHNZW9j3B7wvTnjyg/GyjaU/2Zt97guX1Nq8n9PRGxKE/ytkn5f6g7SD4rlkDzGcSiPsHvxlvIfwZjVKMLGRTd7NOJQcIvroWa4LndSUrdPRGxKf24BfgIcBTwlaSJA+nNLpYI0M7Ns9Zv8JY2TNL77PfAB4H7gRmB+Wmw+cEOlgjQzs2yV0u3TAPwkPZs+Erg8Im6RdBdwlaQFwKPAiZUL08zMstRv8o+Ih4G39zL/T8CcSgRlZmaV5RG+ZmY55ORvZpZDTv5mZjnk5G9mlkNO/mZmOeTkb2aWQ07+ZmY55ORvZpZDTv5mZjnk5G9mlkNO/mZmOeTkb2aWQ07+ZmY55ORvZpZDTv5mZjlUcvKXVCdpnaSb0umDJd0p6UFJV0oaVbkwzcwsS7vT8j8TaC+aXgZ8OyKmAM8BC7IMzMzMKqek5C9pEnAc8H/TaQGzgWvSIquAuZUI0MzMsldqy/9/A18G/pJO7wNsjYjOdPpx4ICMYzMzswrp9xm+ko4HtkTE3ZJmds/upWj0sX4L0ALQ0NBAoVAYWKSDpNz4Ojo6MjvGof67ygvXQ+1wXb6m3+QPvAf4b5I+BIwG/orkm0C9pJFp638SsKm3lSNiObAcoKmpKWbOnJlF3JVxy82UG1+hUCh7G1nFYhlwPdQO1+VO+k3+EfEV4CsAacv/ixFxkqSrgXnAFcB84IYKxjkoxk9dxFtXLSp/Q6uyiAWS0yxmZtkrpeXfl4XAFZLOBdYBK7IJqXpeaF/KhqXlJdysWv6Ni24uextmZn3ZreQfEQWgkL5/GDgq+5DMzKzSPMLXzCyHnPzNzHLIyd/MLIec/M3McsjJ38wsh8q51NNsyHr7Oav588uvZrKtci+7feOYPbjv7A9kEotZVpz8rSb9+eVXyx6zAdmM2/CYDRuK3O1jZpZDTv5mZjnk5G9mlkNO/mZmOeTkb2aWQ07+ZmY55ORvZpZDTv5mZjnkQV5mNuRlNWLbo7VfU8oD3EcDtwN7puWviYizJR1M8gjHvYF7gJMjYnslgzWzfMpixLZHa++slG6fV4DZEfF24Ajgg5LeDSwDvh0RU4DngAWVC9PMzLLUb/KPREc6uUf6CmA2cE06fxUwtyIRmplZ5ko64SupTtK9wBbgVuCPwNaI6EyLPA4cUJkQzcwsayWd8I2ILuAISfXAT4CpvRXrbV1JLUALQENDA4VCYWCRDpJy4+vo6MjsGIf672qoy+L3l1V9ui7LN1T+N2ulLnfrap+I2CqpALwbqJc0Mm39TwI29bHOcmA5QFNTU5R7wqWibrm57BNCWZxUyiqWXMvo95dJfbouyzdU/jdrqC5LudpnX+DVNPGPAY4mOdnbBswjueJnPnBDJQM12x3jpy7irasWZbOxVeXGAlD+swXMslRKy38isEpSHck5gqsi4iZJ64ErJJ0LrANWVDBOs93yQvtSP8zFbBf6Tf4R8VvgyF7mPwwcVYmgzMyssjzCt4dMWmm3lL+NN47Zo/w4zMz64ORfJItugsZFN2eyHTOzSvKN3czMcsjJ38wsh5z8zcxyyMnfzCyHnPzNzHLIyd/MLIec/M3McsjX+ZvZkJfZvZp8n6YdnPzNbMjL4l5Nvk/TztztY2aWQ07+ZmY55ORvZpZD7vO3mpVZ/2yZd2n1HVptKHLyt5qU1Z1VfZdWq1X9dvtImiypTVK7pAcknZnO31vSrZIeTH/uVflwzcwsC6X0+XcCX4iIqSQPbv+MpMOBRcBtETEFuC2dNjOzYaDf5B8RmyPinvT9C0A7cABwAq8NmVgFzK1UkGZmlq3d6vOX1EjyPN87gYaI2AzJB4Sk/fpYpwVoAWhoaKBQKJQR7vCQh2PME9fn0FBuPXR0dGRSl7Xy91By8pf0BuBa4HMR8bykktaLiOXAcoCmpqYod4TdkHfLzWWPIrQhxPU5NGRQD1mM8K2lv4eSrvOXtAdJ4r8sIq5LZz8laWK6fCKwpTIhmplZ1kq52kfACqA9Is4vWnQjMD99Px+4IfvwzMysEkrp9nkPcDLwO0n3pvPOApYCV0laADwKnFiZEM3MLGv9Jv+IuAPoq4N/TrbhmJn1LpMR2x6tvYNH+JrZkJfFKGuP1t6Zb+xmZpZDTv5mZjnk5G9mlkNO/mZmOeTkb2aWQ07+ZmY55ORvZpZDTv5mZjnk5G9mlkNO/mZmOeTkb2aWQ07+ZmY55ORvZpZDTv5mZjlUypO8VkraIun+onl7S7pV0oPpz70qG6aZmWWplJb/xcAHe8xbBNwWEVOA29JpMzMbJvpN/hFxO/Bsj9knAKvS96uAuRnHZWZmFTTQPv+GiNgMkP7cL7uQzMys0ir+GEdJLUALQENDA4VCodK7rLo8HGOeuD5rh+vyNQNN/k9JmhgRmyVNBLb0VTAilgPLAZqammLmzJkD3OUwccvN1Pwx5onrs3a4Lncy0G6fG4H56fv5wA3ZhGNmZoOhlEs9W4FfAYdJelzSAmAp8H5JDwLvT6fNzGyY6LfbJyKa+1g0J+NYzMxskHiEr5lZDjn5m5nlkJO/mVkOOfmbmeWQk7+ZWQ45+ZuZ5ZCTv5lZDjn5m5nlkJO/mVkOOfmbmeWQk7+ZWQ45+ZuZ5ZCTv5lZDjn5m5nlkJO/WS+OOeYYRowYwcZlxzNixAiOOeaYaodkliknf7MejjnmGFavXk19fT0A9fX1rF692h8AVlPKSv6SPijpD5IekrQoq6DMqmn16tWMHz+ea6+9lgO/eD3XXnst48ePZ/Xq1dUOzSwzA32AO5LqgO+RPMbxceAuSTdGxPqsghuKJPVfZln/24mIDKKxcuyqLl944QVmz54NwOxv7Xod16UNR+W0/I8CHoqIhyNiO3AFcEI2YQ1dEbHLV1tbW79lnCyGhl3VTUtLy0712dLS0uc6ZsPRgFv+wAHAY0XTjwPv6llIUgvQAtDQ0EChUChjl0NfR0dHzR9jrRs9ejTLly/nySefpLm5mRNOOIEbb7yR0aNHu26HqFmzZpVUrr9v5W1tbRlEMzxooC0XSScCx0TEJ9Lpk4GjIuKMvtZpamqKtWvXDmh/w0WhUGDmzJnVDsPK0Nrayqmnnsq2bdt2zBs9ejQrV66kubm5ipFZOfLwvynp7ohoKqVsOd0+jwOTi6YnAZvK2J7ZkNDc3MzKlSuZNm0aI0aMYNq0aU78VnPK6fa5C5gi6WDgCeCjwMcyicqsypqbm2lubs5Fa9HyacDJPyI6JZ0O/BtQB6yMiAcyi8zMzCqmnJY/EfFT4KcZxWJmZoPEI3zNzHLIyd/MLIec/M3McsjJ38wshwY8yGtAO5OeBjYO2g6rYwLwTLWDsMy4PmtHHuryoIjYt5SCg5r880DS2lJH2NnQ5/qsHa7Lnbnbx8wsh5z8zcxyyMk/e8urHYBlyvVZO1yXRdznb2aWQ275m5nlkJN/RiStlLRF0v3VjsXKI2mypDZJ7ZIekHRmtWOygZE0WtJvJN2X1uU51Y5pqHC3T0YkvQ/oAC6JiOnVjscGTtJEYGJE3CNpPHA3MLfWn09di5Q8dHlcRHRI2gO4AzgzIn5d5dCqzi3/jETE7cCz1Y7DyhcRmyPinvT9C0A7yWNLbZiJREc6uUf6cosXJ3+zXZLUCBwJ3FndSGygJNVJuhfYAtwaEa5LnPzN+iTpDcC1wOci4vlqx2MDExFdEXEEyaNmj5Lkblmc/M16lfYPXwtcFhHXVTseK19EbAUKwAerHMqQ4ORv1kN6knAF0B4R51c7Hhs4SftKqk/fjwGOBn5f3aiGBif/jEhqBX4FHCbpcUkLqh2TDdh7gJOB2ZLuTV8fqnZQNiATgTZJvwXuIunzv6nKMQ0JvtTTzCyH3PI3M8shJ38zsxxy8jczyyEnfzOzHHLyNzPLISd/q3mSutLLNe+XdLWksbso+3VJXxzM+Myqwcnf8uDliDgivdvqduC0agdkVm1O/pY3vwAOBZD0T5J+m97r/dKeBSV9UtJd6fJru78xSDox/RZxn6Tb03nT0vvG35tuc8qgHpXZbvIgL6t5kjoi4g2SRpLcr+cW4HbgOuA9EfGMpL0j4llJXwc6IuJbkvaJiD+l2zgXeCoiLpD0O+CDEfGEpPqI2CrpAuDXEXGZpFFAXUS8XJUDNiuBW/6WB2PSW/quBR4luW/PbOCaiHgGICJ6exbDdEm/SJP9ScC0dP4vgYslfRKoS+f9CjhL0kLgICd+G+pGVjsAs0HwcnpL3x3Sm7f197X3YpIneN0n6RRgJkBEnCbpXcBxwL2SjoiIyyXdmc77N0mfiIg1GR+HWWbc8re8ug34sKR9ACQfoJUyAAAAm0lEQVTt3UuZ8cDm9PbOJ3XPlPTmiLgzIr4GPANMlnQI8HBE/B/gRuBtFT8CszK45W+5FBEPSFoC/FxSF7AOOKVHsa+SPMFrI/A7kg8DgG+mJ3RF8iFyH7AI+EdJrwJPAt+o+EGYlcEnfM3McsjdPmZmOeTkb2aWQ07+ZmY55ORvZpZDTv5mZjnk5G9mlkNO/mZmOeTkb2aWQ/8JzweUnhXB9/oAAAAASUVORK5CYII=\n",
      "text/plain": [
       "<Figure size 432x288 with 1 Axes>"
      ]
     },
     "metadata": {},
     "output_type": "display_data"
    }
   ],
   "source": [
    "df[df.Age.notnull()].boxplot('Age', 'Pclass')"
   ]
  },
  {
   "cell_type": "code",
   "execution_count": 72,
   "metadata": {},
   "outputs": [],
   "source": [
    "# replace the missing\n",
    "# age_pclass_median = df.groupby('Pclass').Age.transform('median')\n",
    "# df.Age.fillna(age_pclass_median, inplace=True)"
   ]
  },
  {
   "cell_type": "markdown",
   "metadata": {},
   "source": [
    "### Option 3: Replacing with median age of Pclass"
   ]
  },
  {
   "cell_type": "code",
   "execution_count": 73,
   "metadata": {},
   "outputs": [
    {
     "data": {
      "text/plain": [
       "PassengerId\n",
       "1                                 Braund, Mr. Owen Harris\n",
       "2       Cumings, Mrs. John Bradley (Florence Briggs Th...\n",
       "3                                  Heikkinen, Miss. Laina\n",
       "4            Futrelle, Mrs. Jacques Heath (Lily May Peel)\n",
       "5                                Allen, Mr. William Henry\n",
       "6                                        Moran, Mr. James\n",
       "7                                 McCarthy, Mr. Timothy J\n",
       "                              ...                        \n",
       "1303      Minahan, Mrs. William Edward (Lillian E Thorpe)\n",
       "1304                       Henriksson, Miss. Jenny Lovisa\n",
       "1305                                   Spector, Mr. Woolf\n",
       "1306                         Oliva y Ocana, Dona. Fermina\n",
       "1307                         Saether, Mr. Simon Sivertsen\n",
       "1308                                  Ware, Mr. Frederick\n",
       "1309                             Peter, Master. Michael J\n",
       "Name: Name, Length: 1309, dtype: object"
      ]
     },
     "execution_count": 73,
     "metadata": {},
     "output_type": "execute_result"
    }
   ],
   "source": [
    "df.Name"
   ]
  },
  {
   "cell_type": "code",
   "execution_count": 74,
   "metadata": {},
   "outputs": [],
   "source": [
    "def getTitle(name):\n",
    "    first_name_with_title = name.split(',')[1]\n",
    "    title = first_name_with_title.split('.')[0]\n",
    "    title = title.strip().lower()\n",
    "    return title"
   ]
  },
  {
   "cell_type": "code",
   "execution_count": 75,
   "metadata": {},
   "outputs": [
    {
     "data": {
      "text/plain": [
       "PassengerId\n",
       "1           mr\n",
       "2          mrs\n",
       "3         miss\n",
       "4          mrs\n",
       "5           mr\n",
       "6           mr\n",
       "7           mr\n",
       "         ...  \n",
       "1303       mrs\n",
       "1304      miss\n",
       "1305        mr\n",
       "1306      dona\n",
       "1307        mr\n",
       "1308        mr\n",
       "1309    master\n",
       "Name: Name, Length: 1309, dtype: object"
      ]
     },
     "execution_count": 75,
     "metadata": {},
     "output_type": "execute_result"
    }
   ],
   "source": [
    "# use map function to apply on each Name vaue row\n",
    "df.Name.map(lambda x: getTitle(x)) \n",
    "# alternatively, we can use : df.Name.map(getTitle)"
   ]
  },
  {
   "cell_type": "code",
   "execution_count": 76,
   "metadata": {},
   "outputs": [
    {
     "data": {
      "text/plain": [
       "array(['mr', 'mrs', 'miss', 'master', 'don', 'rev', 'dr', 'mme', 'ms',\n",
       "       'major', 'lady', 'sir', 'mlle', 'col', 'capt', 'the countess',\n",
       "       'jonkheer', 'dona'], dtype=object)"
      ]
     },
     "execution_count": 76,
     "metadata": {},
     "output_type": "execute_result"
    }
   ],
   "source": [
    "df.Name.map(lambda x: getTitle(x)).unique()"
   ]
  },
  {
   "cell_type": "code",
   "execution_count": 77,
   "metadata": {},
   "outputs": [],
   "source": [
    "def getTitle(name):\n",
    "    title_group = {\n",
    "        'mr' : 'Mr',\n",
    "        'mrs' : 'Mrs',\n",
    "        'miss' : 'Miss',\n",
    "        'master' : 'Master',\n",
    "        'don' : 'Sir',\n",
    "        'rev' : 'Sir',\n",
    "        'dr' : 'Officer',\n",
    "        'mme' : 'Mrs',\n",
    "        'ms' : 'Mrs',\n",
    "        'major' : 'Officer',\n",
    "        'lady' : 'Lady',\n",
    "        'sir' : 'Sir',\n",
    "        'mlle' : 'Miss',\n",
    "        'col' : 'Officer',\n",
    "        'capt' : 'Officer',\n",
    "        'the countess' : 'Lady',\n",
    "        'jonkheer' : 'Sir',\n",
    "        'dona' : 'Lady'\n",
    "    }\n",
    "    first_name_with_title = name.split(',')[1]\n",
    "    title = first_name_with_title.split('.')[0]\n",
    "    title = title.strip().lower()\n",
    "    return title_group[title]"
   ]
  },
  {
   "cell_type": "code",
   "execution_count": 78,
   "metadata": {},
   "outputs": [],
   "source": [
    "# Create title features\n",
    "df['Title'] = df.Name.map(lambda x: getTitle(x))"
   ]
  },
  {
   "cell_type": "code",
   "execution_count": 79,
   "metadata": {},
   "outputs": [
    {
     "data": {
      "text/html": [
       "<div>\n",
       "<style scoped>\n",
       "    .dataframe tbody tr th:only-of-type {\n",
       "        vertical-align: middle;\n",
       "    }\n",
       "\n",
       "    .dataframe tbody tr th {\n",
       "        vertical-align: top;\n",
       "    }\n",
       "\n",
       "    .dataframe thead th {\n",
       "        text-align: right;\n",
       "    }\n",
       "</style>\n",
       "<table border=\"1\" class=\"dataframe\">\n",
       "  <thead>\n",
       "    <tr style=\"text-align: right;\">\n",
       "      <th></th>\n",
       "      <th>Age</th>\n",
       "      <th>Cabin</th>\n",
       "      <th>Embarked</th>\n",
       "      <th>Fare</th>\n",
       "      <th>Name</th>\n",
       "      <th>Parch</th>\n",
       "      <th>Pclass</th>\n",
       "      <th>Sex</th>\n",
       "      <th>SibSp</th>\n",
       "      <th>Survived</th>\n",
       "      <th>Ticket</th>\n",
       "      <th>Title</th>\n",
       "    </tr>\n",
       "    <tr>\n",
       "      <th>PassengerId</th>\n",
       "      <th></th>\n",
       "      <th></th>\n",
       "      <th></th>\n",
       "      <th></th>\n",
       "      <th></th>\n",
       "      <th></th>\n",
       "      <th></th>\n",
       "      <th></th>\n",
       "      <th></th>\n",
       "      <th></th>\n",
       "      <th></th>\n",
       "      <th></th>\n",
       "    </tr>\n",
       "  </thead>\n",
       "  <tbody>\n",
       "    <tr>\n",
       "      <th>1</th>\n",
       "      <td>22.0</td>\n",
       "      <td>NaN</td>\n",
       "      <td>S</td>\n",
       "      <td>7.2500</td>\n",
       "      <td>Braund, Mr. Owen Harris</td>\n",
       "      <td>0</td>\n",
       "      <td>3</td>\n",
       "      <td>male</td>\n",
       "      <td>1</td>\n",
       "      <td>0</td>\n",
       "      <td>A/5 21171</td>\n",
       "      <td>Mr</td>\n",
       "    </tr>\n",
       "    <tr>\n",
       "      <th>2</th>\n",
       "      <td>38.0</td>\n",
       "      <td>C85</td>\n",
       "      <td>C</td>\n",
       "      <td>71.2833</td>\n",
       "      <td>Cumings, Mrs. John Bradley (Florence Briggs Th...</td>\n",
       "      <td>0</td>\n",
       "      <td>1</td>\n",
       "      <td>female</td>\n",
       "      <td>1</td>\n",
       "      <td>1</td>\n",
       "      <td>PC 17599</td>\n",
       "      <td>Mrs</td>\n",
       "    </tr>\n",
       "    <tr>\n",
       "      <th>3</th>\n",
       "      <td>26.0</td>\n",
       "      <td>NaN</td>\n",
       "      <td>S</td>\n",
       "      <td>7.9250</td>\n",
       "      <td>Heikkinen, Miss. Laina</td>\n",
       "      <td>0</td>\n",
       "      <td>3</td>\n",
       "      <td>female</td>\n",
       "      <td>0</td>\n",
       "      <td>1</td>\n",
       "      <td>STON/O2. 3101282</td>\n",
       "      <td>Miss</td>\n",
       "    </tr>\n",
       "    <tr>\n",
       "      <th>4</th>\n",
       "      <td>35.0</td>\n",
       "      <td>C123</td>\n",
       "      <td>S</td>\n",
       "      <td>53.1000</td>\n",
       "      <td>Futrelle, Mrs. Jacques Heath (Lily May Peel)</td>\n",
       "      <td>0</td>\n",
       "      <td>1</td>\n",
       "      <td>female</td>\n",
       "      <td>1</td>\n",
       "      <td>1</td>\n",
       "      <td>113803</td>\n",
       "      <td>Mrs</td>\n",
       "    </tr>\n",
       "    <tr>\n",
       "      <th>5</th>\n",
       "      <td>35.0</td>\n",
       "      <td>NaN</td>\n",
       "      <td>S</td>\n",
       "      <td>8.0500</td>\n",
       "      <td>Allen, Mr. William Henry</td>\n",
       "      <td>0</td>\n",
       "      <td>3</td>\n",
       "      <td>male</td>\n",
       "      <td>0</td>\n",
       "      <td>0</td>\n",
       "      <td>373450</td>\n",
       "      <td>Mr</td>\n",
       "    </tr>\n",
       "  </tbody>\n",
       "</table>\n",
       "</div>"
      ],
      "text/plain": [
       "              Age Cabin Embarked     Fare  \\\n",
       "PassengerId                                 \n",
       "1            22.0   NaN        S   7.2500   \n",
       "2            38.0   C85        C  71.2833   \n",
       "3            26.0   NaN        S   7.9250   \n",
       "4            35.0  C123        S  53.1000   \n",
       "5            35.0   NaN        S   8.0500   \n",
       "\n",
       "                                                          Name  Parch  Pclass  \\\n",
       "PassengerId                                                                     \n",
       "1                                      Braund, Mr. Owen Harris      0       3   \n",
       "2            Cumings, Mrs. John Bradley (Florence Briggs Th...      0       1   \n",
       "3                                       Heikkinen, Miss. Laina      0       3   \n",
       "4                 Futrelle, Mrs. Jacques Heath (Lily May Peel)      0       1   \n",
       "5                                     Allen, Mr. William Henry      0       3   \n",
       "\n",
       "                Sex  SibSp  Survived            Ticket Title  \n",
       "PassengerId                                                   \n",
       "1              male      1         0         A/5 21171    Mr  \n",
       "2            female      1         1          PC 17599   Mrs  \n",
       "3            female      0         1  STON/O2. 3101282  Miss  \n",
       "4            female      1         1            113803   Mrs  \n",
       "5              male      0         0            373450    Mr  "
      ]
     },
     "execution_count": 79,
     "metadata": {},
     "output_type": "execute_result"
    }
   ],
   "source": [
    "df.head()"
   ]
  },
  {
   "cell_type": "code",
   "execution_count": 80,
   "metadata": {},
   "outputs": [
    {
     "data": {
      "text/plain": [
       "<matplotlib.axes._subplots.AxesSubplot at 0x1f26cb900b8>"
      ]
     },
     "execution_count": 80,
     "metadata": {},
     "output_type": "execute_result"
    },
    {
     "data": {
      "image/png": "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\n",
      "text/plain": [
       "<Figure size 432x288 with 1 Axes>"
      ]
     },
     "metadata": {},
     "output_type": "display_data"
    }
   ],
   "source": [
    "df[df.Age.notnull()].boxplot('Age', 'Title')"
   ]
  },
  {
   "cell_type": "code",
   "execution_count": 81,
   "metadata": {},
   "outputs": [],
   "source": [
    "title_age_median = df.groupby('Title').Age.transform('median')\n",
    "df.Age.fillna(title_age_median, inplace=True)"
   ]
  },
  {
   "cell_type": "code",
   "execution_count": 82,
   "metadata": {
    "scrolled": true
   },
   "outputs": [
    {
     "name": "stdout",
     "output_type": "stream",
     "text": [
      "<class 'pandas.core.frame.DataFrame'>\n",
      "Int64Index: 1309 entries, 1 to 1309\n",
      "Data columns (total 12 columns):\n",
      "Age         1309 non-null float64\n",
      "Cabin       295 non-null object\n",
      "Embarked    1309 non-null object\n",
      "Fare        1309 non-null float64\n",
      "Name        1309 non-null object\n",
      "Parch       1309 non-null int64\n",
      "Pclass      1309 non-null int64\n",
      "Sex         1309 non-null object\n",
      "SibSp       1309 non-null int64\n",
      "Survived    1309 non-null int64\n",
      "Ticket      1309 non-null object\n",
      "Title       1309 non-null object\n",
      "dtypes: float64(2), int64(4), object(6)\n",
      "memory usage: 172.9+ KB\n"
     ]
    }
   ],
   "source": [
    "df.info()"
   ]
  },
  {
   "cell_type": "markdown",
   "metadata": {},
   "source": [
    "## Working with Outliers"
   ]
  },
  {
   "cell_type": "markdown",
   "metadata": {},
   "source": [
    "### Age"
   ]
  },
  {
   "cell_type": "code",
   "execution_count": 83,
   "metadata": {},
   "outputs": [
    {
     "data": {
      "text/plain": [
       "<matplotlib.axes._subplots.AxesSubplot at 0x1f26cd5f748>"
      ]
     },
     "execution_count": 83,
     "metadata": {},
     "output_type": "execute_result"
    },
    {
     "data": {
      "image/png": "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\n",
      "text/plain": [
       "<Figure size 432x288 with 1 Axes>"
      ]
     },
     "metadata": {},
     "output_type": "display_data"
    }
   ],
   "source": [
    "#use histogram to understand the distribution\n",
    "df.Age.plot(kind='hist', bins=20, edgecolor='black')"
   ]
  },
  {
   "cell_type": "code",
   "execution_count": 84,
   "metadata": {},
   "outputs": [
    {
     "data": {
      "text/html": [
       "<div>\n",
       "<style scoped>\n",
       "    .dataframe tbody tr th:only-of-type {\n",
       "        vertical-align: middle;\n",
       "    }\n",
       "\n",
       "    .dataframe tbody tr th {\n",
       "        vertical-align: top;\n",
       "    }\n",
       "\n",
       "    .dataframe thead th {\n",
       "        text-align: right;\n",
       "    }\n",
       "</style>\n",
       "<table border=\"1\" class=\"dataframe\">\n",
       "  <thead>\n",
       "    <tr style=\"text-align: right;\">\n",
       "      <th></th>\n",
       "      <th>Age</th>\n",
       "      <th>Cabin</th>\n",
       "      <th>Embarked</th>\n",
       "      <th>Fare</th>\n",
       "      <th>Name</th>\n",
       "      <th>Parch</th>\n",
       "      <th>Pclass</th>\n",
       "      <th>Sex</th>\n",
       "      <th>SibSp</th>\n",
       "      <th>Survived</th>\n",
       "      <th>Ticket</th>\n",
       "      <th>Title</th>\n",
       "    </tr>\n",
       "    <tr>\n",
       "      <th>PassengerId</th>\n",
       "      <th></th>\n",
       "      <th></th>\n",
       "      <th></th>\n",
       "      <th></th>\n",
       "      <th></th>\n",
       "      <th></th>\n",
       "      <th></th>\n",
       "      <th></th>\n",
       "      <th></th>\n",
       "      <th></th>\n",
       "      <th></th>\n",
       "      <th></th>\n",
       "    </tr>\n",
       "  </thead>\n",
       "  <tbody>\n",
       "    <tr>\n",
       "      <th>97</th>\n",
       "      <td>71.0</td>\n",
       "      <td>A5</td>\n",
       "      <td>C</td>\n",
       "      <td>34.6542</td>\n",
       "      <td>Goldschmidt, Mr. George B</td>\n",
       "      <td>0</td>\n",
       "      <td>1</td>\n",
       "      <td>male</td>\n",
       "      <td>0</td>\n",
       "      <td>0</td>\n",
       "      <td>PC 17754</td>\n",
       "      <td>Mr</td>\n",
       "    </tr>\n",
       "    <tr>\n",
       "      <th>117</th>\n",
       "      <td>70.5</td>\n",
       "      <td>NaN</td>\n",
       "      <td>Q</td>\n",
       "      <td>7.7500</td>\n",
       "      <td>Connors, Mr. Patrick</td>\n",
       "      <td>0</td>\n",
       "      <td>3</td>\n",
       "      <td>male</td>\n",
       "      <td>0</td>\n",
       "      <td>0</td>\n",
       "      <td>370369</td>\n",
       "      <td>Mr</td>\n",
       "    </tr>\n",
       "    <tr>\n",
       "      <th>494</th>\n",
       "      <td>71.0</td>\n",
       "      <td>NaN</td>\n",
       "      <td>C</td>\n",
       "      <td>49.5042</td>\n",
       "      <td>Artagaveytia, Mr. Ramon</td>\n",
       "      <td>0</td>\n",
       "      <td>1</td>\n",
       "      <td>male</td>\n",
       "      <td>0</td>\n",
       "      <td>0</td>\n",
       "      <td>PC 17609</td>\n",
       "      <td>Mr</td>\n",
       "    </tr>\n",
       "    <tr>\n",
       "      <th>631</th>\n",
       "      <td>80.0</td>\n",
       "      <td>A23</td>\n",
       "      <td>S</td>\n",
       "      <td>30.0000</td>\n",
       "      <td>Barkworth, Mr. Algernon Henry Wilson</td>\n",
       "      <td>0</td>\n",
       "      <td>1</td>\n",
       "      <td>male</td>\n",
       "      <td>0</td>\n",
       "      <td>1</td>\n",
       "      <td>27042</td>\n",
       "      <td>Mr</td>\n",
       "    </tr>\n",
       "    <tr>\n",
       "      <th>852</th>\n",
       "      <td>74.0</td>\n",
       "      <td>NaN</td>\n",
       "      <td>S</td>\n",
       "      <td>7.7750</td>\n",
       "      <td>Svensson, Mr. Johan</td>\n",
       "      <td>0</td>\n",
       "      <td>3</td>\n",
       "      <td>male</td>\n",
       "      <td>0</td>\n",
       "      <td>0</td>\n",
       "      <td>347060</td>\n",
       "      <td>Mr</td>\n",
       "    </tr>\n",
       "    <tr>\n",
       "      <th>988</th>\n",
       "      <td>76.0</td>\n",
       "      <td>C46</td>\n",
       "      <td>S</td>\n",
       "      <td>78.8500</td>\n",
       "      <td>Cavendish, Mrs. Tyrell William (Julia Florence...</td>\n",
       "      <td>0</td>\n",
       "      <td>1</td>\n",
       "      <td>female</td>\n",
       "      <td>1</td>\n",
       "      <td>-888</td>\n",
       "      <td>19877</td>\n",
       "      <td>Mrs</td>\n",
       "    </tr>\n",
       "  </tbody>\n",
       "</table>\n",
       "</div>"
      ],
      "text/plain": [
       "              Age Cabin Embarked     Fare  \\\n",
       "PassengerId                                 \n",
       "97           71.0    A5        C  34.6542   \n",
       "117          70.5   NaN        Q   7.7500   \n",
       "494          71.0   NaN        C  49.5042   \n",
       "631          80.0   A23        S  30.0000   \n",
       "852          74.0   NaN        S   7.7750   \n",
       "988          76.0   C46        S  78.8500   \n",
       "\n",
       "                                                          Name  Parch  Pclass  \\\n",
       "PassengerId                                                                     \n",
       "97                                   Goldschmidt, Mr. George B      0       1   \n",
       "117                                       Connors, Mr. Patrick      0       3   \n",
       "494                                    Artagaveytia, Mr. Ramon      0       1   \n",
       "631                       Barkworth, Mr. Algernon Henry Wilson      0       1   \n",
       "852                                        Svensson, Mr. Johan      0       3   \n",
       "988          Cavendish, Mrs. Tyrell William (Julia Florence...      0       1   \n",
       "\n",
       "                Sex  SibSp  Survived    Ticket Title  \n",
       "PassengerId                                           \n",
       "97             male      0         0  PC 17754    Mr  \n",
       "117            male      0         0    370369    Mr  \n",
       "494            male      0         0  PC 17609    Mr  \n",
       "631            male      0         1     27042    Mr  \n",
       "852            male      0         0    347060    Mr  \n",
       "988          female      1      -888     19877   Mrs  "
      ]
     },
     "execution_count": 84,
     "metadata": {},
     "output_type": "execute_result"
    }
   ],
   "source": [
    "df.loc[df.Age > 70]"
   ]
  },
  {
   "cell_type": "markdown",
   "metadata": {},
   "source": [
    "### Fare"
   ]
  },
  {
   "cell_type": "code",
   "execution_count": 85,
   "metadata": {},
   "outputs": [
    {
     "data": {
      "text/plain": [
       "<matplotlib.axes._subplots.AxesSubplot at 0x1f26cddf588>"
      ]
     },
     "execution_count": 85,
     "metadata": {},
     "output_type": "execute_result"
    },
    {
     "data": {
      "image/png": "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\n",
      "text/plain": [
       "<Figure size 432x288 with 1 Axes>"
      ]
     },
     "metadata": {},
     "output_type": "display_data"
    }
   ],
   "source": [
    "# histogram for fare\n",
    "df.Fare.plot(kind='hist', bins=20, edgecolor='black', title='Histogram for fare')"
   ]
  },
  {
   "cell_type": "code",
   "execution_count": 86,
   "metadata": {},
   "outputs": [
    {
     "data": {
      "text/plain": [
       "<matplotlib.axes._subplots.AxesSubplot at 0x1f26ca1f860>"
      ]
     },
     "execution_count": 86,
     "metadata": {},
     "output_type": "execute_result"
    },
    {
     "data": {
      "image/png": "iVBORw0KGgoAAAANSUhEUgAAAXoAAAD8CAYAAAB5Pm/hAAAABHNCSVQICAgIfAhkiAAAAAlwSFlzAAALEgAACxIB0t1+/AAAADl0RVh0U29mdHdhcmUAbWF0cGxvdGxpYiB2ZXJzaW9uIDIuMi4yLCBodHRwOi8vbWF0cGxvdGxpYi5vcmcvhp/UCwAAEYRJREFUeJzt3X9sXfV5x/H3gxNIRKsEJwbRmOBKzSQmYmhnIUT+KCsL/TU5TCpap66NqqgRAaRunbQm06Sq0v6g/0CVbo2aLtXCtLarulW2WjRqUdA2VbSYlsSl2YQhFKeJiEOcrIVAnfDsD58Y5+YSX//K9f3m/ZKu7jnP+V7fx5Lz8Tdfn3NuZCaSpHJd1uwGJEkLy6CXpMIZ9JJUOINekgpn0EtS4Qx6SSqcQS9JhTPoJalwBr0kFW5JsxsAWL16dXZ1dTW7DUlqKU8//fSxzOyYbtyiCPquri4GBweb3YYktZSI+FUj41y6kaTCGfSSVDiDXpIKZ9BLUuEMekkqnEEv1dHd3U1ETD66u7ub3ZI0awa9VKO7u5uhoSF6e3sZHR2lt7eXoaEhw14ty6CXapwN+b6+PlavXk1fX99k2EutyKCX6tizZ88F96VW0lDQR8SLETEUEc9ExGBVa4+IgYh4rnq+qqpHROyMiOGI2B8R71vIb0BaCFu2bLngvtRKZjKj/8PMvDkze6r97cBjmbkOeKzaB/gwsK56bAV2zVez0sWwfv16+vv72bRpE8eOHWPTpk309/ezfv36Zrcmzcpc7nWzCbi92t4LPAF8vqo/nJkJPBkRKyPi2sw8MpdGpYtl//79dHd309/fT0fHxP2i1q9fz/79+5vcmTQ7jQZ9Aj+MiAS+lpm7gWvOhndmHomIq6uxa4CRKa89VNUMerUMQ10laTToN2Tm4SrMByLify4wNurU8rxBEVuZWNph7dq1DbYhSZqphtboM/Nw9XwU+B5wC/ByRFwLUD0frYYfAq6b8vJO4HCdr7k7M3sys+fsf48lSfNv2qCPiCsj4p1nt4E7gV8A/cDmathmoK/a7gc+VZ19cytw0vV5SWqeRpZurgG+FxFnx38zM/8jIp4CvhMRW4CXgLur8Y8AHwGGgdeAT89715Kkhk0b9Jn5AnBTnforwB116gncNy/dSZLmzCtjJalwBr0kFc6gl6TCGfSSVDiDXpIKZ9BLUuEMekkqnEEvSYUz6CWpcAa9JBXOoJekwhn0klQ4g16SCmfQS1LhDHpJKpxBL0mFM+glqXAGvSQVzqCXpMIZ9JJUOINekgpn0EtS4Qx6SSqcQS9JhTPoJalwBr0kFc6gl6TCGfSSVDiDXpIKZ9BLUuEaDvqIaIuIn0fE96v9d0fETyLiuYj414i4vKpfUe0PV8e7FqZ1SVIjZjKj/yxwYMr+l4CHMnMdMAZsqepbgLHMfA/wUDVOktQkDQV9RHQCHwX+sdoP4APAd6she4G7qu1N1T7V8Tuq8ZKkJmh0Rv9l4K+BN6v9VcCJzDxd7R8C1lTba4ARgOr4yWq8JKkJpg36iPhj4GhmPj21XGdoNnBs6tfdGhGDETE4OjraULOSpJlrZEa/AeiNiBeBbzOxZPNlYGVELKnGdAKHq+1DwHUA1fEVwPHaL5qZuzOzJzN7Ojo65vRNSJLe3rRBn5k7MrMzM7uAjwM/ysxPAI8DH6uGbQb6qu3+ap/q+I8y87wZvSTp4pjLefSfBz4XEcNMrMHvqep7gFVV/XPA9rm1KEmaiyXTD3lLZj4BPFFtvwDcUmfM68Dd89CbJGkeeGWsJBXOoJekwhn0klQ4g16SCmfQS1LhDHpJKpxBL0mFM+glqXAGvSQVzqCXpMIZ9JJUOINekgpn0EtS4Qx6SSqcQS9JhTPoJalwBr0kFc6gl6TCGfSSVDiDXpIKZ9BLUuEMekkqnEEvSYUz6CWpcAa9JBXOoJekwhn0klQ4g16SCmfQS1LhDHpJKty0QR8RyyLipxGxLyKejYgvVvV3R8RPIuK5iPjXiLi8ql9R7Q9Xx7sW9luQJF1IIzP6N4APZOZNwM3AhyLiVuBLwEOZuQ4YA7ZU47cAY5n5HuChapwkqUmmDfqc8Ntqd2n1SOADwHer+l7grmp7U7VPdfyOiIh561iSNCMNrdFHRFtEPAMcBQaA54ETmXm6GnIIWFNtrwFGAKrjJ4FVdb7m1ogYjIjB0dHRuX0XkqS31VDQZ+aZzLwZ6ARuAW6oN6x6rjd7z/MKmbszsyczezo6OhrtV5I0QzM66yYzTwBPALcCKyNiSXWoEzhcbR8CrgOojq8Ajs9Hs5KkmWvkrJuOiFhZbS8H/gg4ADwOfKwathnoq7b7q32q4z/KzPNm9JKki2PJ9EO4FtgbEW1M/GL4TmZ+PyJ+CXw7Iv4O+Dmwpxq/B/jniBhmYib/8QXoW5LUoGmDPjP3A++tU3+BifX62vrrwN3z0p0kac68MlaSCmfQS1LhDHpJKpxBL0mFM+glqXAGvVTHqlWriIjJx6pV593FQ2oZBr1UY9WqVRw/fu7F3MePHzfs1bIMeqnG2ZDv6upieHiYrq6uc+pSq2nkyljpkrNmzRoOHjwIwMGDB+ns7OTXv/51k7uSZscZvVTHsmXLLrgvtRKDXqrj+eef58Ybb+Sll17ixhtv5Pnnn292S9KsuXQj1bjyyit59dVXefbZZ7n++uvPqUutyBm9VGPDhg0zqkuLnUEv1RgYGGDbtm1k5uRj27ZtDAwMNLs1aVZiMXwmSE9PTw4ODja7DQmAiODEiROsWLFisnby5ElWrlzJYvj3Ip0VEU9nZs9045zRSzUigh07dpxT27FjBxH1Pg5ZWvwMeqnGxo0b2bVrF/feey8nT57k3nvvZdeuXWzcuLHZrUmz4tKNVMcHP/hBBgYGyEwigo0bN/Loo482uy3pHI0u3Xh6pVSHoa6SuHQj1bF27dpz7l65du3aZrckzZpBL9VYu3YtIyMj3HbbbRw+fJjbbruNkZERw14ty6UbqcbIyAjLly/nxz/+Me9617sAWL58OSMjI03uTJodZ/RSHadOnaK3t5fR0VF6e3s5depUs1uSZs0ZvVTHVVddRV9fHwB9fX20t7czNjbW5K6k2XFGL9UxNjbGhg0bOHLkCBs2bDDk1dKc0UtvY+oavdTKnNFLb6OtrY0nnniCtra2ZrcizYkzeqmOiODMmTPcfvvtk/uL4SpyaTac0Ut17Nu375zbFO/bt6/ZLUmzNm3QR8R1EfF4RByIiGcj4rNVvT0iBiLiuer5qqoeEbEzIoYjYn9EvG+hvwlpvr3//e+/4L7UShqZ0Z8G/iozbwBuBe6LiN8HtgOPZeY64LFqH+DDwLrqsRXYNe9dSwtoyZIljI2N0d7eztDQ0OSplUuWuNKp1jRt0Gfmkcz8WbX9G+AAsAbYBOythu0F7qq2NwEP54QngZURce28dy4tkPHx8cmw7+7ungz58fHxZrcmzcqM1ugjogt4L/AT4JrMPAITvwyAq6tha4Cp14ofqmpSyxgfHz9njd6QVytrOOgj4h3AvwF/kZn/d6GhdWrnna4QEVsjYjAiBkdHRxttQ5I0Qw0FfUQsZSLk/yUz/70qv3x2SaZ6PlrVDwHXTXl5J3C49mtm5u7M7MnMno6Ojtn2L0maRiNn3QSwBziQmQ9OOdQPbK62NwN9U+qfqs6+uRU4eXaJR5J08TVyGsEG4JPAUEQ8U9X+BngA+E5EbAFeAu6ujj0CfAQYBl4DPj2vHUuSZmTaoM/M/6b+ujvAHXXGJ3DfHPuSJM0Tr4yVpMIZ9JJUOINekgpn0EtS4Qx6SSqcQS/V0d3dTURMPrq7u5vdkjRrBr1Uo7u7m6GhIXp7exkdHaW3t5ehoSHDXi3LoJdqnA35vr4+Vq9eTV9f32TYS63IoJfq2LNnzwX3pVZi0Et1bNmy5YL7UivxI3OkGuvXr6e/v5+J+/mdW5dakTN6qcaBAwdmVJcWO4NeqnH69Gna2tomZ/QRQVtbG6dPn25yZ9LsGPRSHWfOnOGee+7hxIkT3HPPPZw5c6bZLUmzFhN3FW6unp6eHBwcbHYbEjAxg1+6dCm/+93vJmuXX3755OfISotFRDydmT3TjXNGL9UxPj5Oe3s7Q0NDtLe3++HgammedSPViAgyk7GxsXOuhq09C0dqFc7opRqdnZ0zqkuLnUEv1RgZGZlRXVrsDHqpjmXLlpGZk49ly5Y1uyVp1gx6qY6tW7decF9qJQa9VMfOnTt58MEHee2113jwwQfZuXNns1uSZs3z6KUal112Wd3z5SOCN998swkdSfV5Hr00S28X5oa8WpVBL9U4e+781E+YmlqXWo1LN1KNiGD16tW88sorZCYRwapVqzh27Ji3QNCi0ujSjVfGSnUcO3Zscjszz9mXWo1LN5JUOINekgpn0EtS4aYN+oj4RkQcjYhfTKm1R8RARDxXPV9V1SMidkbEcETsj4j3LWTz0kLatm0bJ06cYNu2bc1uRZqTRmb0/wR8qKa2HXgsM9cBj1X7AB8G1lWPrcCu+WlTuvh27drFypUr2bXLH2O1tmmDPjP/EzheU94E7K229wJ3Tak/nBOeBFZGxLXz1awkaeZmu0Z/TWYeAaier67qa4Cp93I9VNXOExFbI2IwIgZHR0dn2YY0/+68884Z1aXFbr7/GFvvI3jqXmGSmbszsyczezo6Oua5DWn2jhw5MqO6tNjNNuhfPrskUz0freqHgOumjOsEDs++PeniGxoamlFdWuxmG/T9wOZqezPQN6X+qersm1uBk2eXeCRJzTHtLRAi4lvA7cDqiDgEfAF4APhORGwBXgLuroY/AnwEGAZeAz69AD1LkmZg2qDPzD97m0N31BmbwH1zbUqSNH+8MlaSCmfQS1LhDHpJKpxBL0mFM+glqXAGvSQVzqCXpMIZ9JJUOD8cXJeUiHr33Zv/109cOygtDs7odUnJzGkf999/f93X3n///Q293pDXYuOMXqrxla98BYCvf/3rvPHGG1xxxRV85jOfmaxLrSYWw+yjp6cnBwcHm92GdJ6u7T/gxQc+2uw2pLoi4unM7JlunEs3klQ4g16SCmfQS1LhDHpJKpxBL0mFM+glqXAGvSQVzqCXpMIZ9JJUOG+BoJZ10xd/yMlT4wv+Pl3bf7Dg77Fi+VL2feHOBX8fXZoMerWsk6fGi7k9wcX4ZaJLl0s3klQ4g16SCmfQS1LhDHpJKpx/jFXLeucN21m/d3uz25gX77wBoIw/LGvxMejVsn5z4AHPupEasCBLNxHxoYj434gYjogyplyS1KLmfUYfEW3APwAbgUPAUxHRn5m/nO/3kkqZCa9YvrTZLahgC7F0cwswnJkvAETEt4FNgEGveXUxlm38zFiVYCGWbtYAI1P2D1U1SVITLMSMPurU8rxBEVuBrQBr165dgDak80XU+/Gc5jVfmvn7ZJ73Iy81zULM6A8B103Z7wQO1w7KzN2Z2ZOZPR0dHQvQhnS+zLwoD2kxWYigfwpYFxHvjojLgY8D/QvwPpKkBsz70k1mno6I+4FHgTbgG5n57Hy/jySpMQtywVRmPgI8shBfW5I0M97rRpIKZ9BLUuEMekkqnEEvSYUz6CWpcLEYLu6IiFHgV83uQ6pjNXCs2U1Ib+P6zJz2itNFEfTSYhURg5nZ0+w+pLlw6UaSCmfQS1LhDHrpwnY3uwFprlyjl6TCOaOXpMItyE3NpMUuIs4AQ1NKd2Xmi01qR1pQLt3okhQRv83Md8zidW2ZeWYhepIWiks3UiUiuiLivyLiZ9Xjtqp+e0Q8HhHfpPpfQET8eUT8NCKeiYivRURbU5uXLsClG12qlkfEM9X2wcz8E+AosDEzX4+IdcC3gLMXS90C3JiZByPiBuBPgQ2ZOR4RXwU+ATx8kb8HqSEGvS5VpzLz5praUuDvI+Jm4Azwe1OO/TQzD1bbdwB/ADxVfdj4ciZ+SUiLkkEvveUvgZeBm5hY1nx9yrFXp2wHsDczd1zE3qRZc41eessK4Ehmvgl8konPPK7nMeBjEXE1QES0R8T1F6lHacYMeuktXwU2R8STTCzbvFpvUGb+Evhb4IcRsR8YAK69aF1KM+TplZJUOGf0klQ4g16SCmfQS1LhDHpJKpxBL0mFM+glqXAGvSQVzqCXpML9P7IZYAhZVrf9AAAAAElFTkSuQmCC\n",
      "text/plain": [
       "<Figure size 432x288 with 1 Axes>"
      ]
     },
     "metadata": {},
     "output_type": "display_data"
    }
   ],
   "source": [
    "# box plot to identify outliers\n",
    "df.Fare.plot(kind = 'box')"
   ]
  },
  {
   "cell_type": "code",
   "execution_count": 87,
   "metadata": {},
   "outputs": [
    {
     "data": {
      "text/html": [
       "<div>\n",
       "<style scoped>\n",
       "    .dataframe tbody tr th:only-of-type {\n",
       "        vertical-align: middle;\n",
       "    }\n",
       "\n",
       "    .dataframe tbody tr th {\n",
       "        vertical-align: top;\n",
       "    }\n",
       "\n",
       "    .dataframe thead th {\n",
       "        text-align: right;\n",
       "    }\n",
       "</style>\n",
       "<table border=\"1\" class=\"dataframe\">\n",
       "  <thead>\n",
       "    <tr style=\"text-align: right;\">\n",
       "      <th></th>\n",
       "      <th>Age</th>\n",
       "      <th>Cabin</th>\n",
       "      <th>Embarked</th>\n",
       "      <th>Fare</th>\n",
       "      <th>Name</th>\n",
       "      <th>Parch</th>\n",
       "      <th>Pclass</th>\n",
       "      <th>Sex</th>\n",
       "      <th>SibSp</th>\n",
       "      <th>Survived</th>\n",
       "      <th>Ticket</th>\n",
       "      <th>Title</th>\n",
       "    </tr>\n",
       "    <tr>\n",
       "      <th>PassengerId</th>\n",
       "      <th></th>\n",
       "      <th></th>\n",
       "      <th></th>\n",
       "      <th></th>\n",
       "      <th></th>\n",
       "      <th></th>\n",
       "      <th></th>\n",
       "      <th></th>\n",
       "      <th></th>\n",
       "      <th></th>\n",
       "      <th></th>\n",
       "      <th></th>\n",
       "    </tr>\n",
       "  </thead>\n",
       "  <tbody>\n",
       "    <tr>\n",
       "      <th>259</th>\n",
       "      <td>35.0</td>\n",
       "      <td>NaN</td>\n",
       "      <td>C</td>\n",
       "      <td>512.3292</td>\n",
       "      <td>Ward, Miss. Anna</td>\n",
       "      <td>0</td>\n",
       "      <td>1</td>\n",
       "      <td>female</td>\n",
       "      <td>0</td>\n",
       "      <td>1</td>\n",
       "      <td>PC 17755</td>\n",
       "      <td>Miss</td>\n",
       "    </tr>\n",
       "    <tr>\n",
       "      <th>680</th>\n",
       "      <td>36.0</td>\n",
       "      <td>B51 B53 B55</td>\n",
       "      <td>C</td>\n",
       "      <td>512.3292</td>\n",
       "      <td>Cardeza, Mr. Thomas Drake Martinez</td>\n",
       "      <td>1</td>\n",
       "      <td>1</td>\n",
       "      <td>male</td>\n",
       "      <td>0</td>\n",
       "      <td>1</td>\n",
       "      <td>PC 17755</td>\n",
       "      <td>Mr</td>\n",
       "    </tr>\n",
       "    <tr>\n",
       "      <th>738</th>\n",
       "      <td>35.0</td>\n",
       "      <td>B101</td>\n",
       "      <td>C</td>\n",
       "      <td>512.3292</td>\n",
       "      <td>Lesurer, Mr. Gustave J</td>\n",
       "      <td>0</td>\n",
       "      <td>1</td>\n",
       "      <td>male</td>\n",
       "      <td>0</td>\n",
       "      <td>1</td>\n",
       "      <td>PC 17755</td>\n",
       "      <td>Mr</td>\n",
       "    </tr>\n",
       "    <tr>\n",
       "      <th>1235</th>\n",
       "      <td>58.0</td>\n",
       "      <td>B51 B53 B55</td>\n",
       "      <td>C</td>\n",
       "      <td>512.3292</td>\n",
       "      <td>Cardeza, Mrs. James Warburton Martinez (Charlo...</td>\n",
       "      <td>1</td>\n",
       "      <td>1</td>\n",
       "      <td>female</td>\n",
       "      <td>0</td>\n",
       "      <td>-888</td>\n",
       "      <td>PC 17755</td>\n",
       "      <td>Mrs</td>\n",
       "    </tr>\n",
       "  </tbody>\n",
       "</table>\n",
       "</div>"
      ],
      "text/plain": [
       "              Age        Cabin Embarked      Fare  \\\n",
       "PassengerId                                         \n",
       "259          35.0          NaN        C  512.3292   \n",
       "680          36.0  B51 B53 B55        C  512.3292   \n",
       "738          35.0         B101        C  512.3292   \n",
       "1235         58.0  B51 B53 B55        C  512.3292   \n",
       "\n",
       "                                                          Name  Parch  Pclass  \\\n",
       "PassengerId                                                                     \n",
       "259                                           Ward, Miss. Anna      0       1   \n",
       "680                         Cardeza, Mr. Thomas Drake Martinez      1       1   \n",
       "738                                     Lesurer, Mr. Gustave J      0       1   \n",
       "1235         Cardeza, Mrs. James Warburton Martinez (Charlo...      1       1   \n",
       "\n",
       "                Sex  SibSp  Survived    Ticket Title  \n",
       "PassengerId                                           \n",
       "259          female      0         1  PC 17755  Miss  \n",
       "680            male      0         1  PC 17755    Mr  \n",
       "738            male      0         1  PC 17755    Mr  \n",
       "1235         female      0      -888  PC 17755   Mrs  "
      ]
     },
     "execution_count": 87,
     "metadata": {},
     "output_type": "execute_result"
    }
   ],
   "source": [
    "# look into the outliers\n",
    "df.loc[df.Fare == df.Fare.max()]"
   ]
  },
  {
   "cell_type": "code",
   "execution_count": 88,
   "metadata": {},
   "outputs": [],
   "source": [
    "# Try some transformation to reduce skewness\n",
    "LogFare = np.log(df.Fare + 1.0) # Adding 1 to accomodate zero fare : log(0) is not defined"
   ]
  },
  {
   "cell_type": "code",
   "execution_count": 89,
   "metadata": {},
   "outputs": [
    {
     "data": {
      "text/plain": [
       "<matplotlib.axes._subplots.AxesSubplot at 0x1f26de9a668>"
      ]
     },
     "execution_count": 89,
     "metadata": {},
     "output_type": "execute_result"
    },
    {
     "data": {
      "image/png": "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\n",
      "text/plain": [
       "<Figure size 432x288 with 1 Axes>"
      ]
     },
     "metadata": {},
     "output_type": "display_data"
    }
   ],
   "source": [
    "# Histogram to logFare\n",
    "LogFare.plot(kind='hist', bins=20, edgecolor='black')"
   ]
  },
  {
   "cell_type": "code",
   "execution_count": 90,
   "metadata": {},
   "outputs": [
    {
     "data": {
      "text/plain": [
       "PassengerId\n",
       "1         (-0.001, 7.896]\n",
       "2       (31.275, 512.329]\n",
       "3         (7.896, 14.454]\n",
       "4       (31.275, 512.329]\n",
       "5         (7.896, 14.454]\n",
       "6         (7.896, 14.454]\n",
       "7       (31.275, 512.329]\n",
       "              ...        \n",
       "1303    (31.275, 512.329]\n",
       "1304      (-0.001, 7.896]\n",
       "1305      (7.896, 14.454]\n",
       "1306    (31.275, 512.329]\n",
       "1307      (-0.001, 7.896]\n",
       "1308      (7.896, 14.454]\n",
       "1309     (14.454, 31.275]\n",
       "Name: Fare, Length: 1309, dtype: category\n",
       "Categories (4, interval[float64]): [(-0.001, 7.896] < (7.896, 14.454] < (14.454, 31.275] < (31.275, 512.329]]"
      ]
     },
     "execution_count": 90,
     "metadata": {},
     "output_type": "execute_result"
    }
   ],
   "source": [
    "# Binning\n",
    "pd.qcut(df.Fare, 4)"
   ]
  },
  {
   "cell_type": "code",
   "execution_count": 91,
   "metadata": {},
   "outputs": [
    {
     "data": {
      "text/plain": [
       "PassengerId\n",
       "1        very_low\n",
       "2       very_high\n",
       "3             low\n",
       "4       very_high\n",
       "5             low\n",
       "6             low\n",
       "7       very_high\n",
       "          ...    \n",
       "1303    very_high\n",
       "1304     very_low\n",
       "1305          low\n",
       "1306    very_high\n",
       "1307     very_low\n",
       "1308          low\n",
       "1309         high\n",
       "Name: Fare, Length: 1309, dtype: category\n",
       "Categories (4, object): [very_low < low < high < very_high]"
      ]
     },
     "execution_count": 91,
     "metadata": {},
     "output_type": "execute_result"
    }
   ],
   "source": [
    "# Discretization\n",
    "pd.qcut(df.Fare, 4, labels=['very_low', 'low', 'high', 'very_high']) "
   ]
  },
  {
   "cell_type": "code",
   "execution_count": 92,
   "metadata": {},
   "outputs": [
    {
     "data": {
      "text/plain": [
       "<matplotlib.axes._subplots.AxesSubplot at 0x1f26df29898>"
      ]
     },
     "execution_count": 92,
     "metadata": {},
     "output_type": "execute_result"
    },
    {
     "data": {
      "image/png": "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\n",
      "text/plain": [
       "<Figure size 432x288 with 1 Axes>"
      ]
     },
     "metadata": {},
     "output_type": "display_data"
    }
   ],
   "source": [
    "pd.qcut(df.Fare, 4, labels=['very_low', 'low', 'high', 'very_high']).value_counts().plot(kind='bar', edgecolor='black', rot=0)\n",
    "#rot=0 used for labels in x-axis"
   ]
  },
  {
   "cell_type": "code",
   "execution_count": 93,
   "metadata": {},
   "outputs": [],
   "source": [
    "# create fare bin feature\n",
    "df['Fare_Bin'] = pd.qcut(df.Fare, 4, labels=['very_low', 'low', 'high', 'very_high'])"
   ]
  },
  {
   "cell_type": "markdown",
   "metadata": {},
   "source": [
    "## Feature Engineering"
   ]
  },
  {
   "cell_type": "markdown",
   "metadata": {},
   "source": [
    "### Feature: Age State ( Adult or Child )"
   ]
  },
  {
   "cell_type": "code",
   "execution_count": 94,
   "metadata": {},
   "outputs": [],
   "source": [
    "# Age State based on age\n",
    "df['AgeState'] = np.where(df['Age'] >= 18, 'Adult', 'Child')"
   ]
  },
  {
   "cell_type": "code",
   "execution_count": 95,
   "metadata": {},
   "outputs": [
    {
     "data": {
      "text/plain": [
       "Adult    1147\n",
       "Child     162\n",
       "Name: AgeState, dtype: int64"
      ]
     },
     "execution_count": 95,
     "metadata": {},
     "output_type": "execute_result"
    }
   ],
   "source": [
    "# AgeState Counts\n",
    "df['AgeState'].value_counts()"
   ]
  },
  {
   "cell_type": "code",
   "execution_count": 96,
   "metadata": {},
   "outputs": [
    {
     "data": {
      "text/html": [
       "<div>\n",
       "<style scoped>\n",
       "    .dataframe tbody tr th:only-of-type {\n",
       "        vertical-align: middle;\n",
       "    }\n",
       "\n",
       "    .dataframe tbody tr th {\n",
       "        vertical-align: top;\n",
       "    }\n",
       "\n",
       "    .dataframe thead th {\n",
       "        text-align: right;\n",
       "    }\n",
       "</style>\n",
       "<table border=\"1\" class=\"dataframe\">\n",
       "  <thead>\n",
       "    <tr style=\"text-align: right;\">\n",
       "      <th>AgeState</th>\n",
       "      <th>Adult</th>\n",
       "      <th>Child</th>\n",
       "    </tr>\n",
       "    <tr>\n",
       "      <th>Survived</th>\n",
       "      <th></th>\n",
       "      <th></th>\n",
       "    </tr>\n",
       "  </thead>\n",
       "  <tbody>\n",
       "    <tr>\n",
       "      <th>0</th>\n",
       "      <td>495</td>\n",
       "      <td>54</td>\n",
       "    </tr>\n",
       "    <tr>\n",
       "      <th>1</th>\n",
       "      <td>279</td>\n",
       "      <td>63</td>\n",
       "    </tr>\n",
       "  </tbody>\n",
       "</table>\n",
       "</div>"
      ],
      "text/plain": [
       "AgeState  Adult  Child\n",
       "Survived              \n",
       "0           495     54\n",
       "1           279     63"
      ]
     },
     "execution_count": 96,
     "metadata": {},
     "output_type": "execute_result"
    }
   ],
   "source": [
    "# Crosstab\n",
    "pd.crosstab(df[df.Survived != -888].Survived, df[df.Survived != -888].AgeState)"
   ]
  },
  {
   "cell_type": "markdown",
   "metadata": {},
   "source": [
    "### Feature : Family Size"
   ]
  },
  {
   "cell_type": "code",
   "execution_count": 97,
   "metadata": {},
   "outputs": [],
   "source": [
    "# Family : Adding Parents with Siblings\n",
    "df['FamilySize'] = df.Parch + df.SibSp + 1"
   ]
  },
  {
   "cell_type": "code",
   "execution_count": 98,
   "metadata": {},
   "outputs": [
    {
     "data": {
      "text/plain": [
       "<matplotlib.axes._subplots.AxesSubplot at 0x1f26dfbaf28>"
      ]
     },
     "execution_count": 98,
     "metadata": {},
     "output_type": "execute_result"
    },
    {
     "data": {
      "image/png": "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\n",
      "text/plain": [
       "<Figure size 432x288 with 1 Axes>"
      ]
     },
     "metadata": {},
     "output_type": "display_data"
    }
   ],
   "source": [
    "# Explore the family feature\n",
    "df['FamilySize'].plot(kind='hist', edgecolor='black')"
   ]
  },
  {
   "cell_type": "code",
   "execution_count": 99,
   "metadata": {},
   "outputs": [
    {
     "data": {
      "text/html": [
       "<div>\n",
       "<style scoped>\n",
       "    .dataframe tbody tr th:only-of-type {\n",
       "        vertical-align: middle;\n",
       "    }\n",
       "\n",
       "    .dataframe tbody tr th {\n",
       "        vertical-align: top;\n",
       "    }\n",
       "\n",
       "    .dataframe thead th {\n",
       "        text-align: right;\n",
       "    }\n",
       "</style>\n",
       "<table border=\"1\" class=\"dataframe\">\n",
       "  <thead>\n",
       "    <tr style=\"text-align: right;\">\n",
       "      <th></th>\n",
       "      <th>Age</th>\n",
       "      <th>Cabin</th>\n",
       "      <th>Embarked</th>\n",
       "      <th>Fare</th>\n",
       "      <th>Name</th>\n",
       "      <th>Parch</th>\n",
       "      <th>Pclass</th>\n",
       "      <th>Sex</th>\n",
       "      <th>SibSp</th>\n",
       "      <th>Survived</th>\n",
       "      <th>Ticket</th>\n",
       "      <th>Title</th>\n",
       "      <th>Fare_Bin</th>\n",
       "      <th>AgeState</th>\n",
       "      <th>FamilySize</th>\n",
       "    </tr>\n",
       "    <tr>\n",
       "      <th>PassengerId</th>\n",
       "      <th></th>\n",
       "      <th></th>\n",
       "      <th></th>\n",
       "      <th></th>\n",
       "      <th></th>\n",
       "      <th></th>\n",
       "      <th></th>\n",
       "      <th></th>\n",
       "      <th></th>\n",
       "      <th></th>\n",
       "      <th></th>\n",
       "      <th></th>\n",
       "      <th></th>\n",
       "      <th></th>\n",
       "      <th></th>\n",
       "    </tr>\n",
       "  </thead>\n",
       "  <tbody>\n",
       "    <tr>\n",
       "      <th>160</th>\n",
       "      <td>4.0</td>\n",
       "      <td>NaN</td>\n",
       "      <td>S</td>\n",
       "      <td>69.55</td>\n",
       "      <td>Sage, Master. Thomas Henry</td>\n",
       "      <td>2</td>\n",
       "      <td>3</td>\n",
       "      <td>male</td>\n",
       "      <td>8</td>\n",
       "      <td>0</td>\n",
       "      <td>CA. 2343</td>\n",
       "      <td>Master</td>\n",
       "      <td>very_high</td>\n",
       "      <td>Child</td>\n",
       "      <td>11</td>\n",
       "    </tr>\n",
       "    <tr>\n",
       "      <th>181</th>\n",
       "      <td>22.0</td>\n",
       "      <td>NaN</td>\n",
       "      <td>S</td>\n",
       "      <td>69.55</td>\n",
       "      <td>Sage, Miss. Constance Gladys</td>\n",
       "      <td>2</td>\n",
       "      <td>3</td>\n",
       "      <td>female</td>\n",
       "      <td>8</td>\n",
       "      <td>0</td>\n",
       "      <td>CA. 2343</td>\n",
       "      <td>Miss</td>\n",
       "      <td>very_high</td>\n",
       "      <td>Adult</td>\n",
       "      <td>11</td>\n",
       "    </tr>\n",
       "    <tr>\n",
       "      <th>202</th>\n",
       "      <td>29.0</td>\n",
       "      <td>NaN</td>\n",
       "      <td>S</td>\n",
       "      <td>69.55</td>\n",
       "      <td>Sage, Mr. Frederick</td>\n",
       "      <td>2</td>\n",
       "      <td>3</td>\n",
       "      <td>male</td>\n",
       "      <td>8</td>\n",
       "      <td>0</td>\n",
       "      <td>CA. 2343</td>\n",
       "      <td>Mr</td>\n",
       "      <td>very_high</td>\n",
       "      <td>Adult</td>\n",
       "      <td>11</td>\n",
       "    </tr>\n",
       "    <tr>\n",
       "      <th>325</th>\n",
       "      <td>29.0</td>\n",
       "      <td>NaN</td>\n",
       "      <td>S</td>\n",
       "      <td>69.55</td>\n",
       "      <td>Sage, Mr. George John Jr</td>\n",
       "      <td>2</td>\n",
       "      <td>3</td>\n",
       "      <td>male</td>\n",
       "      <td>8</td>\n",
       "      <td>0</td>\n",
       "      <td>CA. 2343</td>\n",
       "      <td>Mr</td>\n",
       "      <td>very_high</td>\n",
       "      <td>Adult</td>\n",
       "      <td>11</td>\n",
       "    </tr>\n",
       "    <tr>\n",
       "      <th>793</th>\n",
       "      <td>22.0</td>\n",
       "      <td>NaN</td>\n",
       "      <td>S</td>\n",
       "      <td>69.55</td>\n",
       "      <td>Sage, Miss. Stella Anna</td>\n",
       "      <td>2</td>\n",
       "      <td>3</td>\n",
       "      <td>female</td>\n",
       "      <td>8</td>\n",
       "      <td>0</td>\n",
       "      <td>CA. 2343</td>\n",
       "      <td>Miss</td>\n",
       "      <td>very_high</td>\n",
       "      <td>Adult</td>\n",
       "      <td>11</td>\n",
       "    </tr>\n",
       "    <tr>\n",
       "      <th>847</th>\n",
       "      <td>29.0</td>\n",
       "      <td>NaN</td>\n",
       "      <td>S</td>\n",
       "      <td>69.55</td>\n",
       "      <td>Sage, Mr. Douglas Bullen</td>\n",
       "      <td>2</td>\n",
       "      <td>3</td>\n",
       "      <td>male</td>\n",
       "      <td>8</td>\n",
       "      <td>0</td>\n",
       "      <td>CA. 2343</td>\n",
       "      <td>Mr</td>\n",
       "      <td>very_high</td>\n",
       "      <td>Adult</td>\n",
       "      <td>11</td>\n",
       "    </tr>\n",
       "    <tr>\n",
       "      <th>864</th>\n",
       "      <td>22.0</td>\n",
       "      <td>NaN</td>\n",
       "      <td>S</td>\n",
       "      <td>69.55</td>\n",
       "      <td>Sage, Miss. Dorothy Edith \"Dolly\"</td>\n",
       "      <td>2</td>\n",
       "      <td>3</td>\n",
       "      <td>female</td>\n",
       "      <td>8</td>\n",
       "      <td>0</td>\n",
       "      <td>CA. 2343</td>\n",
       "      <td>Miss</td>\n",
       "      <td>very_high</td>\n",
       "      <td>Adult</td>\n",
       "      <td>11</td>\n",
       "    </tr>\n",
       "    <tr>\n",
       "      <th>1080</th>\n",
       "      <td>22.0</td>\n",
       "      <td>NaN</td>\n",
       "      <td>S</td>\n",
       "      <td>69.55</td>\n",
       "      <td>Sage, Miss. Ada</td>\n",
       "      <td>2</td>\n",
       "      <td>3</td>\n",
       "      <td>female</td>\n",
       "      <td>8</td>\n",
       "      <td>-888</td>\n",
       "      <td>CA. 2343</td>\n",
       "      <td>Miss</td>\n",
       "      <td>very_high</td>\n",
       "      <td>Adult</td>\n",
       "      <td>11</td>\n",
       "    </tr>\n",
       "    <tr>\n",
       "      <th>1234</th>\n",
       "      <td>29.0</td>\n",
       "      <td>NaN</td>\n",
       "      <td>S</td>\n",
       "      <td>69.55</td>\n",
       "      <td>Sage, Mr. John George</td>\n",
       "      <td>9</td>\n",
       "      <td>3</td>\n",
       "      <td>male</td>\n",
       "      <td>1</td>\n",
       "      <td>-888</td>\n",
       "      <td>CA. 2343</td>\n",
       "      <td>Mr</td>\n",
       "      <td>very_high</td>\n",
       "      <td>Adult</td>\n",
       "      <td>11</td>\n",
       "    </tr>\n",
       "    <tr>\n",
       "      <th>1252</th>\n",
       "      <td>14.5</td>\n",
       "      <td>NaN</td>\n",
       "      <td>S</td>\n",
       "      <td>69.55</td>\n",
       "      <td>Sage, Master. William Henry</td>\n",
       "      <td>2</td>\n",
       "      <td>3</td>\n",
       "      <td>male</td>\n",
       "      <td>8</td>\n",
       "      <td>-888</td>\n",
       "      <td>CA. 2343</td>\n",
       "      <td>Master</td>\n",
       "      <td>very_high</td>\n",
       "      <td>Child</td>\n",
       "      <td>11</td>\n",
       "    </tr>\n",
       "    <tr>\n",
       "      <th>1257</th>\n",
       "      <td>35.0</td>\n",
       "      <td>NaN</td>\n",
       "      <td>S</td>\n",
       "      <td>69.55</td>\n",
       "      <td>Sage, Mrs. John (Annie Bullen)</td>\n",
       "      <td>9</td>\n",
       "      <td>3</td>\n",
       "      <td>female</td>\n",
       "      <td>1</td>\n",
       "      <td>-888</td>\n",
       "      <td>CA. 2343</td>\n",
       "      <td>Mrs</td>\n",
       "      <td>very_high</td>\n",
       "      <td>Adult</td>\n",
       "      <td>11</td>\n",
       "    </tr>\n",
       "  </tbody>\n",
       "</table>\n",
       "</div>"
      ],
      "text/plain": [
       "              Age Cabin Embarked   Fare                               Name  \\\n",
       "PassengerId                                                                  \n",
       "160           4.0   NaN        S  69.55         Sage, Master. Thomas Henry   \n",
       "181          22.0   NaN        S  69.55       Sage, Miss. Constance Gladys   \n",
       "202          29.0   NaN        S  69.55                Sage, Mr. Frederick   \n",
       "325          29.0   NaN        S  69.55           Sage, Mr. George John Jr   \n",
       "793          22.0   NaN        S  69.55            Sage, Miss. Stella Anna   \n",
       "847          29.0   NaN        S  69.55           Sage, Mr. Douglas Bullen   \n",
       "864          22.0   NaN        S  69.55  Sage, Miss. Dorothy Edith \"Dolly\"   \n",
       "1080         22.0   NaN        S  69.55                    Sage, Miss. Ada   \n",
       "1234         29.0   NaN        S  69.55              Sage, Mr. John George   \n",
       "1252         14.5   NaN        S  69.55        Sage, Master. William Henry   \n",
       "1257         35.0   NaN        S  69.55     Sage, Mrs. John (Annie Bullen)   \n",
       "\n",
       "             Parch  Pclass     Sex  SibSp  Survived    Ticket   Title  \\\n",
       "PassengerId                                                             \n",
       "160              2       3    male      8         0  CA. 2343  Master   \n",
       "181              2       3  female      8         0  CA. 2343    Miss   \n",
       "202              2       3    male      8         0  CA. 2343      Mr   \n",
       "325              2       3    male      8         0  CA. 2343      Mr   \n",
       "793              2       3  female      8         0  CA. 2343    Miss   \n",
       "847              2       3    male      8         0  CA. 2343      Mr   \n",
       "864              2       3  female      8         0  CA. 2343    Miss   \n",
       "1080             2       3  female      8      -888  CA. 2343    Miss   \n",
       "1234             9       3    male      1      -888  CA. 2343      Mr   \n",
       "1252             2       3    male      8      -888  CA. 2343  Master   \n",
       "1257             9       3  female      1      -888  CA. 2343     Mrs   \n",
       "\n",
       "              Fare_Bin AgeState  FamilySize  \n",
       "PassengerId                                  \n",
       "160          very_high    Child          11  \n",
       "181          very_high    Adult          11  \n",
       "202          very_high    Adult          11  \n",
       "325          very_high    Adult          11  \n",
       "793          very_high    Adult          11  \n",
       "847          very_high    Adult          11  \n",
       "864          very_high    Adult          11  \n",
       "1080         very_high    Adult          11  \n",
       "1234         very_high    Adult          11  \n",
       "1252         very_high    Child          11  \n",
       "1257         very_high    Adult          11  "
      ]
     },
     "execution_count": 99,
     "metadata": {},
     "output_type": "execute_result"
    }
   ],
   "source": [
    "# further explore this family with max family members\n",
    "df.loc[df.FamilySize == df.FamilySize.max()]"
   ]
  },
  {
   "cell_type": "code",
   "execution_count": 100,
   "metadata": {},
   "outputs": [
    {
     "data": {
      "text/html": [
       "<div>\n",
       "<style scoped>\n",
       "    .dataframe tbody tr th:only-of-type {\n",
       "        vertical-align: middle;\n",
       "    }\n",
       "\n",
       "    .dataframe tbody tr th {\n",
       "        vertical-align: top;\n",
       "    }\n",
       "\n",
       "    .dataframe thead th {\n",
       "        text-align: right;\n",
       "    }\n",
       "</style>\n",
       "<table border=\"1\" class=\"dataframe\">\n",
       "  <thead>\n",
       "    <tr style=\"text-align: right;\">\n",
       "      <th>FamilySize</th>\n",
       "      <th>1</th>\n",
       "      <th>2</th>\n",
       "      <th>3</th>\n",
       "      <th>4</th>\n",
       "      <th>5</th>\n",
       "      <th>6</th>\n",
       "      <th>7</th>\n",
       "      <th>8</th>\n",
       "      <th>11</th>\n",
       "    </tr>\n",
       "    <tr>\n",
       "      <th>Survived</th>\n",
       "      <th></th>\n",
       "      <th></th>\n",
       "      <th></th>\n",
       "      <th></th>\n",
       "      <th></th>\n",
       "      <th></th>\n",
       "      <th></th>\n",
       "      <th></th>\n",
       "      <th></th>\n",
       "    </tr>\n",
       "  </thead>\n",
       "  <tbody>\n",
       "    <tr>\n",
       "      <th>0</th>\n",
       "      <td>374</td>\n",
       "      <td>72</td>\n",
       "      <td>43</td>\n",
       "      <td>8</td>\n",
       "      <td>12</td>\n",
       "      <td>19</td>\n",
       "      <td>8</td>\n",
       "      <td>6</td>\n",
       "      <td>7</td>\n",
       "    </tr>\n",
       "    <tr>\n",
       "      <th>1</th>\n",
       "      <td>163</td>\n",
       "      <td>89</td>\n",
       "      <td>59</td>\n",
       "      <td>21</td>\n",
       "      <td>3</td>\n",
       "      <td>3</td>\n",
       "      <td>4</td>\n",
       "      <td>0</td>\n",
       "      <td>0</td>\n",
       "    </tr>\n",
       "  </tbody>\n",
       "</table>\n",
       "</div>"
      ],
      "text/plain": [
       "FamilySize   1   2   3   4   5   6   7   8   11\n",
       "Survived                                       \n",
       "0           374  72  43   8  12  19   8   6   7\n",
       "1           163  89  59  21   3   3   4   0   0"
      ]
     },
     "execution_count": 100,
     "metadata": {},
     "output_type": "execute_result"
    }
   ],
   "source": [
    "pd.crosstab(df[df.Survived != -888].Survived, df[df.Survived != -888].FamilySize)"
   ]
  },
  {
   "cell_type": "markdown",
   "metadata": {},
   "source": [
    "### Feature : IsMother"
   ]
  },
  {
   "cell_type": "code",
   "execution_count": 101,
   "metadata": {},
   "outputs": [],
   "source": [
    "# a lday more than 18 who has Parch >0 and is married (not Miss)\n",
    "df['IsMother'] = np.where(((df.Sex =='female') & (df.Parch > 0) & (df.Age > 18) & (df.Title !='Miss')),1,0)"
   ]
  },
  {
   "cell_type": "code",
   "execution_count": 102,
   "metadata": {},
   "outputs": [
    {
     "data": {
      "text/html": [
       "<div>\n",
       "<style scoped>\n",
       "    .dataframe tbody tr th:only-of-type {\n",
       "        vertical-align: middle;\n",
       "    }\n",
       "\n",
       "    .dataframe tbody tr th {\n",
       "        vertical-align: top;\n",
       "    }\n",
       "\n",
       "    .dataframe thead th {\n",
       "        text-align: right;\n",
       "    }\n",
       "</style>\n",
       "<table border=\"1\" class=\"dataframe\">\n",
       "  <thead>\n",
       "    <tr style=\"text-align: right;\">\n",
       "      <th>IsMother</th>\n",
       "      <th>0</th>\n",
       "      <th>1</th>\n",
       "    </tr>\n",
       "    <tr>\n",
       "      <th>Survived</th>\n",
       "      <th></th>\n",
       "      <th></th>\n",
       "    </tr>\n",
       "  </thead>\n",
       "  <tbody>\n",
       "    <tr>\n",
       "      <th>0</th>\n",
       "      <td>533</td>\n",
       "      <td>16</td>\n",
       "    </tr>\n",
       "    <tr>\n",
       "      <th>1</th>\n",
       "      <td>303</td>\n",
       "      <td>39</td>\n",
       "    </tr>\n",
       "  </tbody>\n",
       "</table>\n",
       "</div>"
      ],
      "text/plain": [
       "IsMother    0   1\n",
       "Survived         \n",
       "0         533  16\n",
       "1         303  39"
      ]
     },
     "execution_count": 102,
     "metadata": {},
     "output_type": "execute_result"
    }
   ],
   "source": [
    "# Crosstab with IsMother\n",
    "pd.crosstab(df[df.Survived != -888].Survived, df[df.Survived != -888].IsMother)"
   ]
  },
  {
   "cell_type": "markdown",
   "metadata": {},
   "source": [
    "### Feature : Deck"
   ]
  },
  {
   "cell_type": "code",
   "execution_count": 103,
   "metadata": {},
   "outputs": [
    {
     "data": {
      "text/plain": [
       "PassengerId\n",
       "1        NaN\n",
       "2        C85\n",
       "3        NaN\n",
       "4       C123\n",
       "5        NaN\n",
       "6        NaN\n",
       "7        E46\n",
       "        ... \n",
       "1303     C78\n",
       "1304     NaN\n",
       "1305     NaN\n",
       "1306    C105\n",
       "1307     NaN\n",
       "1308     NaN\n",
       "1309     NaN\n",
       "Name: Cabin, Length: 1309, dtype: object"
      ]
     },
     "execution_count": 103,
     "metadata": {},
     "output_type": "execute_result"
    }
   ],
   "source": [
    "# Explore Cabin values\n",
    "df.Cabin"
   ]
  },
  {
   "cell_type": "code",
   "execution_count": 104,
   "metadata": {},
   "outputs": [
    {
     "data": {
      "text/plain": [
       "array([nan, 'C85', 'C123', 'E46', 'G6', 'C103', 'D56', 'A6',\n",
       "       'C23 C25 C27', 'B78', 'D33', 'B30', 'C52', 'B28', 'C83', 'F33',\n",
       "       'F G73', 'E31', 'A5', 'D10 D12', 'D26', 'C110', 'B58 B60', 'E101',\n",
       "       'F E69', 'D47', 'B86', 'F2', 'C2', 'E33', 'B19', 'A7', 'C49', 'F4',\n",
       "       'A32', 'B4', 'B80', 'A31', 'D36', 'D15', 'C93', 'C78', 'D35',\n",
       "       'C87', 'B77', 'E67', 'B94', 'C125', 'C99', 'C118', 'D7', 'A19',\n",
       "       'B49', 'D', 'C22 C26', 'C106', 'C65', 'E36', 'C54',\n",
       "       'B57 B59 B63 B66', 'C7', 'E34', 'C32', 'B18', 'C124', 'C91', 'E40',\n",
       "       'T', 'C128', 'D37', 'B35', 'E50', 'C82', 'B96 B98', 'E10', 'E44',\n",
       "       'A34', 'C104', 'C111', 'C92', 'E38', 'D21', 'E12', 'E63', 'A14',\n",
       "       'B37', 'C30', 'D20', 'B79', 'E25', 'D46', 'B73', 'C95', 'B38',\n",
       "       'B39', 'B22', 'C86', 'C70', 'A16', 'C101', 'C68', 'A10', 'E68',\n",
       "       'B41', 'A20', 'D19', 'D50', 'D9', 'A23', 'B50', 'A26', 'D48',\n",
       "       'E58', 'C126', 'B71', 'B51 B53 B55', 'D49', 'B5', 'B20', 'F G63',\n",
       "       'C62 C64', 'E24', 'C90', 'C45', 'E8', 'B101', 'D45', 'C46', 'D30',\n",
       "       'E121', 'D11', 'E77', 'F38', 'B3', 'D6', 'B82 B84', 'D17', 'A36',\n",
       "       'B102', 'B69', 'E49', 'C47', 'D28', 'E17', 'A24', 'C50', 'B42',\n",
       "       'C148', 'B45', 'B36', 'A21', 'D34', 'A9', 'C31', 'B61', 'C53',\n",
       "       'D43', 'C130', 'C132', 'C55 C57', 'C116', 'F', 'A29', 'C6', 'C28',\n",
       "       'C51', 'C97', 'D22', 'B10', 'E45', 'E52', 'A11', 'B11', 'C80',\n",
       "       'C89', 'F E46', 'B26', 'F E57', 'A18', 'E60', 'E39 E41',\n",
       "       'B52 B54 B56', 'C39', 'B24', 'D40', 'D38', 'C105'], dtype=object)"
      ]
     },
     "execution_count": 104,
     "metadata": {},
     "output_type": "execute_result"
    }
   ],
   "source": [
    "#Look at cabin values\n",
    "df.Cabin.unique()"
   ]
  },

  {
   "cell_type": "code",
   "execution_count": 105,
   "metadata": {},
   "outputs": [
    {
     "data": {
      "text/html": [
       "<div>\n",
       "<style scoped>\n",
       "    .dataframe tbody tr th:only-of-type {\n",
       "        vertical-align: middle;\n",
       "    }\n",
       "\n",
       "    .dataframe tbody tr th {\n",
       "        vertical-align: top;\n",
       "    }\n",
       "\n",
       "    .dataframe thead th {\n",
       "        text-align: right;\n",
       "    }\n",
       "</style>\n",
       "<table border=\"1\" class=\"dataframe\">\n",
       "  <thead>\n",
       "    <tr style=\"text-align: right;\">\n",
       "      <th></th>\n",
       "      <th>Age</th>\n",
       "      <th>Cabin</th>\n",
       "      <th>Embarked</th>\n",
       "      <th>Fare</th>\n",
       "      <th>Name</th>\n",
       "      <th>Parch</th>\n",
       "      <th>Pclass</th>\n",
       "      <th>Sex</th>\n",
       "      <th>SibSp</th>\n",
       "      <th>Survived</th>\n",
       "      <th>Ticket</th>\n",
       "      <th>Title</th>\n",
       "      <th>Fare_Bin</th>\n",
       "      <th>AgeState</th>\n",
       "      <th>FamilySize</th>\n",
       "      <th>IsMother</th>\n",
       "    </tr>\n",
       "    <tr>\n",
       "      <th>PassengerId</th>\n",
       "      <th></th>\n",
       "      <th></th>\n",
       "      <th></th>\n",
       "      <th></th>\n",
       "      <th></th>\n",
       "      <th></th>\n",
       "      <th></th>\n",
       "      <th></th>\n",
       "      <th></th>\n",
       "      <th></th>\n",
       "      <th></th>\n",
       "      <th></th>\n",
       "      <th></th>\n",
       "      <th></th>\n",
       "      <th></th>\n",
       "      <th></th>\n",
       "    </tr>\n",
       "  </thead>\n",
       "  <tbody>\n",
       "    <tr>\n",
       "      <th>340</th>\n",
       "      <td>45.0</td>\n",
       "      <td>T</td>\n",
       "      <td>S</td>\n",
       "      <td>35.5</td>\n",
       "      <td>Blackwell, Mr. Stephen Weart</td>\n",
       "      <td>0</td>\n",
       "      <td>1</td>\n",
       "      <td>male</td>\n",
       "      <td>0</td>\n",
       "      <td>0</td>\n",
       "      <td>113784</td>\n",
       "      <td>Mr</td>\n",
       "      <td>very_high</td>\n",
       "      <td>Adult</td>\n",
       "      <td>1</td>\n",
       "      <td>0</td>\n",
       "    </tr>\n",
       "  </tbody>\n",
       "</table>\n",
       "</div>"
      ],
      "text/plain": [
       "              Age Cabin Embarked  Fare                          Name  Parch  \\\n",
       "PassengerId                                                                   \n",
       "340          45.0     T        S  35.5  Blackwell, Mr. Stephen Weart      0   \n",
       "\n",
       "             Pclass   Sex  SibSp  Survived  Ticket Title   Fare_Bin AgeState  \\\n",
       "PassengerId                                                                    \n",
       "340               1  male      0         0  113784    Mr  very_high    Adult   \n",
       "\n",
       "             FamilySize  IsMother  \n",
       "PassengerId                        \n",
       "340                   1         0  "
      ]
     },
     "execution_count": 105,
     "metadata": {},
     "output_type": "execute_result"
    }
   ],
   "source": [
    "# look at Cabin T\n",
    "df.loc[df.Cabin == 'T']"
   ]
  },
  {
   "cell_type": "code",
   "execution_count": 106,
   "metadata": {},
   "outputs": [],
   "source": [
    "# Set the values to NaN\n",
    "df.loc[df.Cabin == 'T', 'Cabin'] = np.NaN"
   ]
  },
  {
   "cell_type": "code",
   "execution_count": 107,
   "metadata": {},
   "outputs": [
    {
     "data": {
      "text/plain": [
       "array([nan, 'C85', 'C123', 'E46', 'G6', 'C103', 'D56', 'A6',\n",
       "       'C23 C25 C27', 'B78', 'D33', 'B30', 'C52', 'B28', 'C83', 'F33',\n",
       "       'F G73', 'E31', 'A5', 'D10 D12', 'D26', 'C110', 'B58 B60', 'E101',\n",
       "       'F E69', 'D47', 'B86', 'F2', 'C2', 'E33', 'B19', 'A7', 'C49', 'F4',\n",
       "       'A32', 'B4', 'B80', 'A31', 'D36', 'D15', 'C93', 'C78', 'D35',\n",
       "       'C87', 'B77', 'E67', 'B94', 'C125', 'C99', 'C118', 'D7', 'A19',\n",
       "       'B49', 'D', 'C22 C26', 'C106', 'C65', 'E36', 'C54',\n",
       "       'B57 B59 B63 B66', 'C7', 'E34', 'C32', 'B18', 'C124', 'C91', 'E40',\n",
       "       'C128', 'D37', 'B35', 'E50', 'C82', 'B96 B98', 'E10', 'E44', 'A34',\n",
       "       'C104', 'C111', 'C92', 'E38', 'D21', 'E12', 'E63', 'A14', 'B37',\n",
       "       'C30', 'D20', 'B79', 'E25', 'D46', 'B73', 'C95', 'B38', 'B39',\n",
       "       'B22', 'C86', 'C70', 'A16', 'C101', 'C68', 'A10', 'E68', 'B41',\n",
       "       'A20', 'D19', 'D50', 'D9', 'A23', 'B50', 'A26', 'D48', 'E58',\n",
       "       'C126', 'B71', 'B51 B53 B55', 'D49', 'B5', 'B20', 'F G63',\n",
       "       'C62 C64', 'E24', 'C90', 'C45', 'E8', 'B101', 'D45', 'C46', 'D30',\n",
       "       'E121', 'D11', 'E77', 'F38', 'B3', 'D6', 'B82 B84', 'D17', 'A36',\n",
       "       'B102', 'B69', 'E49', 'C47', 'D28', 'E17', 'A24', 'C50', 'B42',\n",
       "       'C148', 'B45', 'B36', 'A21', 'D34', 'A9', 'C31', 'B61', 'C53',\n",
       "       'D43', 'C130', 'C132', 'C55 C57', 'C116', 'F', 'A29', 'C6', 'C28',\n",
       "       'C51', 'C97', 'D22', 'B10', 'E45', 'E52', 'A11', 'B11', 'C80',\n",
       "       'C89', 'F E46', 'B26', 'F E57', 'A18', 'E60', 'E39 E41',\n",
       "       'B52 B54 B56', 'C39', 'B24', 'D40', 'D38', 'C105'], dtype=object)"
      ]
     },
     "execution_count": 107,
     "metadata": {},
     "output_type": "execute_result"
    }
   ],
   "source": [
    "#Look at cabin values AGAIN\n",
    "df.Cabin.unique()"
   ]
  },
  {
   "cell_type": "code",
   "execution_count": 108,
   "metadata": {},
   "outputs": [],
   "source": [
    "# Extract first character of Cabin string to the deck\n",
    "def get_deck(cabin):\n",
    "    return np.where(pd.notnull(cabin), str(cabin)[0].upper(), 'Z')\n",
    "df['Deck'] = df['Cabin'].map(lambda x: get_deck(x))"
   ]
  },
  {
   "cell_type": "code",
   "execution_count": 109,
   "metadata": {},
   "outputs": [
    {
     "data": {
      "text/plain": [
       "Z    1015\n",
       "C      94\n",
       "B      65\n",
       "D      46\n",
       "E      41\n",
       "A      22\n",
       "F      21\n",
       "G       5\n",
       "Name: Deck, dtype: int64"
      ]
     },
     "execution_count": 109,
     "metadata": {},
     "output_type": "execute_result"
    }
   ],
   "source": [
    "# Check counts\n",
    "df.Deck.value_counts()"
   ]
  },
  {
   "cell_type": "code",
   "execution_count": 110,
   "metadata": {},
   "outputs": [
    {
     "data": {
      "text/html": [
       "<div>\n",
       "<style scoped>\n",
       "    .dataframe tbody tr th:only-of-type {\n",
       "        vertical-align: middle;\n",
       "    }\n",
       "\n",
       "    .dataframe tbody tr th {\n",
       "        vertical-align: top;\n",
       "    }\n",
       "\n",
       "    .dataframe thead th {\n",
       "        text-align: right;\n",
       "    }\n",
       "</style>\n",
       "<table border=\"1\" class=\"dataframe\">\n",
       "  <thead>\n",
       "    <tr style=\"text-align: right;\">\n",
       "      <th>Deck</th>\n",
       "      <th>A</th>\n",
       "      <th>B</th>\n",
       "      <th>C</th>\n",
       "      <th>D</th>\n",
       "      <th>E</th>\n",
       "      <th>F</th>\n",
       "      <th>G</th>\n",
       "      <th>Z</th>\n",
       "    </tr>\n",
       "    <tr>\n",
       "      <th>Survived</th>\n",
       "      <th></th>\n",
       "      <th></th>\n",
       "      <th></th>\n",
       "      <th></th>\n",
       "      <th></th>\n",
       "      <th></th>\n",
       "      <th></th>\n",
       "      <th></th>\n",
       "    </tr>\n",
       "  </thead>\n",
       "  <tbody>\n",
       "    <tr>\n",
       "      <th>0</th>\n",
       "      <td>8</td>\n",
       "      <td>12</td>\n",
       "      <td>24</td>\n",
       "      <td>8</td>\n",
       "      <td>8</td>\n",
       "      <td>5</td>\n",
       "      <td>2</td>\n",
       "      <td>482</td>\n",
       "    </tr>\n",
       "    <tr>\n",
       "      <th>1</th>\n",
       "      <td>7</td>\n",
       "      <td>35</td>\n",
       "      <td>35</td>\n",
       "      <td>25</td>\n",
       "      <td>24</td>\n",
       "      <td>8</td>\n",
       "      <td>2</td>\n",
       "      <td>206</td>\n",
       "    </tr>\n",
       "  </tbody>\n",
       "</table>\n",
       "</div>"
      ],
      "text/plain": [
       "Deck      A   B   C   D   E  F  G    Z\n",
       "Survived                              \n",
       "0         8  12  24   8   8  5  2  482\n",
       "1         7  35  35  25  24  8  2  206"
      ]
     },
     "execution_count": 110,
     "metadata": {},
     "output_type": "execute_result"
    }
   ],
   "source": [
    "# use crosstab to look into survived feature cabin wise\n",
    "pd.crosstab(df[df.Survived != -888].Survived, df[df.Survived != -888].Deck)"
   ]
  },
  {
   "cell_type": "code",
   "execution_count": 111,
   "metadata": {},
   "outputs": [
    {
     "name": "stdout",
     "output_type": "stream",
     "text": [
      "<class 'pandas.core.frame.DataFrame'>\n",
      "Int64Index: 1309 entries, 1 to 1309\n",
      "Data columns (total 17 columns):\n",
      "Age           1309 non-null float64\n",
      "Cabin         294 non-null object\n",
      "Embarked      1309 non-null object\n",
      "Fare          1309 non-null float64\n",
      "Name          1309 non-null object\n",
      "Parch         1309 non-null int64\n",
      "Pclass        1309 non-null int64\n",
      "Sex           1309 non-null object\n",
      "SibSp         1309 non-null int64\n",
      "Survived      1309 non-null int64\n",
      "Ticket        1309 non-null object\n",
      "Title         1309 non-null object\n",
      "Fare_Bin      1309 non-null category\n",
      "AgeState      1309 non-null object\n",
      "FamilySize    1309 non-null int64\n",
      "IsMother      1309 non-null int32\n",
      "Deck          1309 non-null object\n",
      "dtypes: category(1), float64(2), int32(1), int64(5), object(8)\n",
      "memory usage: 210.2+ KB\n"
     ]
    }
   ],
   "source": [
    "# info command\n",
    "df.info()"
   ]
  },
  {
   "cell_type": "markdown",
   "metadata": {},
   "source": [
    "### Categorical Feature Encoding"
   ]
  },
  {
   "cell_type": "code",
   "execution_count": 112,
   "metadata": {},
   "outputs": [],
   "source": [
    "# sex\n",
    "df['IsMale'] = np.where(df.Sex == 'male',1,0)"
   ]
  },
  {
   "cell_type": "code",
   "execution_count": 113,
   "metadata": {},
   "outputs": [],
   "source": [
    "# Columns Deck, PClass, Title, AgeState\n",
    "df = pd.get_dummies(df, columns = ['Deck', 'Pclass', 'Title', 'Fare_Bin', 'Embarked', 'AgeState'])"
   ]
  },
  {
   "cell_type": "code",
   "execution_count": 114,
   "metadata": {},
   "outputs": [
    {
     "name": "stdout",
     "output_type": "stream",
     "text": [
      "<class 'pandas.core.frame.DataFrame'>\n",
      "Int64Index: 1309 entries, 1 to 1309\n",
      "Data columns (total 39 columns):\n",
      "Age                   1309 non-null float64\n",
      "Cabin                 294 non-null object\n",
      "Fare                  1309 non-null float64\n",
      "Name                  1309 non-null object\n",
      "Parch                 1309 non-null int64\n",
      "Sex                   1309 non-null object\n",
      "SibSp                 1309 non-null int64\n",
      "Survived              1309 non-null int64\n",
      "Ticket                1309 non-null object\n",
      "FamilySize            1309 non-null int64\n",
      "IsMother              1309 non-null int32\n",
      "IsMale                1309 non-null int32\n",
      "Deck_A                1309 non-null uint8\n",
      "Deck_B                1309 non-null uint8\n",
      "Deck_C                1309 non-null uint8\n",
      "Deck_D                1309 non-null uint8\n",
      "Deck_E                1309 non-null uint8\n",
      "Deck_F                1309 non-null uint8\n",
      "Deck_G                1309 non-null uint8\n",
      "Deck_Z                1309 non-null uint8\n",
      "Pclass_1              1309 non-null uint8\n",
      "Pclass_2              1309 non-null uint8\n",
      "Pclass_3              1309 non-null uint8\n",
      "Title_Lady            1309 non-null uint8\n",
      "Title_Master          1309 non-null uint8\n",
      "Title_Miss            1309 non-null uint8\n",
      "Title_Mr              1309 non-null uint8\n",
      "Title_Mrs             1309 non-null uint8\n",
      "Title_Officer         1309 non-null uint8\n",
      "Title_Sir             1309 non-null uint8\n",
      "Fare_Bin_very_low     1309 non-null uint8\n",
      "Fare_Bin_low          1309 non-null uint8\n",
      "Fare_Bin_high         1309 non-null uint8\n",
      "Fare_Bin_very_high    1309 non-null uint8\n",
      "Embarked_C            1309 non-null uint8\n",
      "Embarked_Q            1309 non-null uint8\n",
      "Embarked_S            1309 non-null uint8\n",
      "AgeState_Adult        1309 non-null uint8\n",
      "AgeState_Child        1309 non-null uint8\n",
      "dtypes: float64(2), int32(2), int64(4), object(4), uint8(27)\n",
      "memory usage: 197.2+ KB\n"
     ]
    }
   ],
   "source": [
    "df.info()"
   ]
  },
  {
   "cell_type": "markdown",
   "metadata": {},
   "source": [
    "### Drop and Reorder Columns"
   ]
  },
  {
   "cell_type": "code",
   "execution_count": 115,
   "metadata": {},
   "outputs": [],
   "source": [
    "# Drop columns\n",
    "df.drop(['Cabin', 'Name', 'Ticket', 'Parch', 'SibSp', 'Sex'], axis=1, inplace=True)"
   ]
  },
  {
   "cell_type": "code",
   "execution_count": 116,
   "metadata": {},
   "outputs": [],
   "source": [
    "# Reorder columns\n",
    "columns = [column for column in df.columns if column != 'Survived']\n",
    "columns = ['Survived'] + columns\n",
    "df = df[columns]"
   ]
  },
  {
   "cell_type": "code",
   "execution_count": 117,
   "metadata": {},
   "outputs": [
    {
     "name": "stdout",
     "output_type": "stream",
     "text": [
      "<class 'pandas.core.frame.DataFrame'>\n",
      "Int64Index: 1309 entries, 1 to 1309\n",
      "Data columns (total 33 columns):\n",
      "Survived              1309 non-null int64\n",
      "Age                   1309 non-null float64\n",
      "Fare                  1309 non-null float64\n",
      "FamilySize            1309 non-null int64\n",
      "IsMother              1309 non-null int32\n",
      "IsMale                1309 non-null int32\n",
      "Deck_A                1309 non-null uint8\n",
      "Deck_B                1309 non-null uint8\n",
      "Deck_C                1309 non-null uint8\n",
      "Deck_D                1309 non-null uint8\n",
      "Deck_E                1309 non-null uint8\n",
      "Deck_F                1309 non-null uint8\n",
      "Deck_G                1309 non-null uint8\n",
      "Deck_Z                1309 non-null uint8\n",
      "Pclass_1              1309 non-null uint8\n",
      "Pclass_2              1309 non-null uint8\n",
      "Pclass_3              1309 non-null uint8\n",
      "Title_Lady            1309 non-null uint8\n",
      "Title_Master          1309 non-null uint8\n",
      "Title_Miss            1309 non-null uint8\n",
      "Title_Mr              1309 non-null uint8\n",
      "Title_Mrs             1309 non-null uint8\n",
      "Title_Officer         1309 non-null uint8\n",
      "Title_Sir             1309 non-null uint8\n",
      "Fare_Bin_very_low     1309 non-null uint8\n",
      "Fare_Bin_low          1309 non-null uint8\n",
      "Fare_Bin_high         1309 non-null uint8\n",
      "Fare_Bin_very_high    1309 non-null uint8\n",
      "Embarked_C            1309 non-null uint8\n",
      "Embarked_Q            1309 non-null uint8\n",
      "Embarked_S            1309 non-null uint8\n",
      "AgeState_Adult        1309 non-null uint8\n",
      "AgeState_Child        1309 non-null uint8\n",
      "dtypes: float64(2), int32(2), int64(2), uint8(27)\n",
      "memory usage: 135.9 KB\n"
     ]
    }
   ],
   "source": [
    "# Check info again\n",
    "df.info()"
   ]
  },
  {
   "cell_type": "markdown",
   "metadata": {},
   "source": [
    "### Save Processed dataset"
   ]
  },
  {
   "cell_type": "code",
   "execution_count": 118,
   "metadata": {},
   "outputs": [],
   "source": [
    "processed_data_path = os.path.join(os.path.pardir, 'data', 'processed')\n",
    "write_train_path = os.path.join(processed_data_path, train_file_path)\n",
    "write_test_path = os.path.join(processed_data_path, test_file_path)"
   ]
  },
  {
   "cell_type": "code",
   "execution_count": 119,
   "metadata": {},
   "outputs": [],
   "source": [
    "# Train data\n",
    "df.loc[df.Survived != -888].to_csv(write_train_path)\n",
    "# Test data\n",
    "columns = [column for column in df.columns if column != 'Survived']\n",
    "df.loc[df.Survived != -888, columns].to_csv(write_test_path)"
   ]
  },
  {
   "cell_type": "markdown",
   "metadata": {},
   "source": [
    "### Building the data processing script"
   ]
  },
  {
   "cell_type": "code",
   "execution_count": 120,
   "metadata": {
    "scrolled": true
   },
   "outputs": [
    {
     "name": "stdout",
     "output_type": "stream",
     "text": [
      "C:\\Users\\rvi29ga\\Jupyter tries\n",
      "C:\\Users\\rvi29ga\\Jupyter tries\\get_processed_data.py\n",
      "C:\\Users\\rvi29ga\\Jupyter tries\n",
      " Volume in drive C is Windows\n",
      " Volume Serial Number is A6D3-B5EB\n",
      "\n",
      " Directory of C:\\Users\\rvi29ga\\Jupyter tries\n",
      "\n",
      "10/06/2019  04:35 PM    <DIR>          .\n",
      "10/06/2019  04:35 PM    <DIR>          ..\n",
      "09/25/2019  01:34 PM    <DIR>          .ipynb_checkpoints\n",
      "09/23/2019  01:51 PM             8,674 first.ipynb\n",
      "10/06/2019  02:30 PM             3,863 get_processed_data.py\n",
      "10/06/2019  04:33 PM               287 hello_world_api.py\n",
      "10/06/2019  03:10 PM    <DIR>          models\n",
      "10/03/2019  09:31 PM    <DIR>          processed\n",
      "10/03/2019  09:33 PM    <DIR>          raw\n",
      "10/06/2019  04:35 PM           156,405 Titanic.ipynb\n",
      "09/23/2019  03:33 PM               707 Visualization.ipynb\n",
      "               5 File(s)        169,936 bytes\n",
      "               6 Dir(s)  68,002,320,384 bytes free\n"
     ]
    }
   ],
   "source": [
    "from pathlib import Path\n",
    "raw_data_path = r\"C:\\Users\\rvi29ga\\Jupyter tries\"\n",
    "get_processed_data_script_file = os.path.join(raw_data_path, 'get_processed_data.py')\n",
    "print(os.path.dirname(get_processed_data_script_file))\n",
    "print(Path(get_processed_data_script_file).absolute())\n",
    "print(Path(raw_data_path).absolute())\n",
    "%ls"
   ]
  },
  {
   "cell_type": "code",
   "execution_count": 121,
   "metadata": {},
   "outputs": [
    {
     "name": "stdout",
     "output_type": "stream",
     "text": [
      "Overwriting get_processed_data.py\n"
     ]
    }
   ],
   "source": [
    "%%writefile get_processed_data.py\n",
    "import numpy as np\n",
    "import pandas as pd\n",
    "import os\n",
    "\n",
    "#set the path of raw data\n",
    "raw_data_path = r\"C:\\Users\\rvi29ga\\Jupyter tries\\raw\"\n",
    "train_file_path = os.path.join(raw_data_path,'train.csv')\n",
    "test_file_path = os.path.join(raw_data_path,'test.csv') \n",
    "\n",
    "def read_data():\n",
    "    # read the data with all default parameters\n",
    "    train_df = pd.read_csv(train_file_path, index_col='PassengerId')\n",
    "    test_df = pd.read_csv(test_file_path, index_col='PassengerId')\n",
    "    test_df['Survived'] = -888\n",
    "    df = pd.concat((train_df, test_df), axis = 0, sort=True)\n",
    "    return df\n",
    "\n",
    "def process_data(df):\n",
    "    # using th emethod chaining concept\n",
    "    return (df\n",
    "           # create title attribute - the add this\n",
    "            .assign(Title = lambda x: x.Name.map(get_title))\n",
    "            # working missing values - start with this\n",
    "            .pipe(fill_missing_values)\n",
    "            # create fare bin feature\n",
    "            .assign(Fare_Bin = lambda x: pd.qcut(x.Fare, 4, labels = ['very_low', 'low', 'high', 'very_high']))\n",
    "            # create Age State\n",
    "            .assign(AgeState = lambda x: np.where(x.Age >= 18, 'Adult', 'Child'))\n",
    "            .assign(FamilySize = lambda x: x.Parch + x.SibSp + 1)\n",
    "            .assign(IsMother = lambda x: np.where(((x.Sex =='female') & (x.Parch > 0) & (x.Age > 18) & (x.Title !='Miss')),1,0))\n",
    "            # Create deck feature\n",
    "            .assign(Cabin = lambda x: np.where(x.Cabin == 'T', np.nan, x.Cabin))\n",
    "            .assign(Deck = lambda x: x.Cabin.map(get_deck))\n",
    "            # feature encoding\n",
    "            .assign(IsMale = lambda x: np.where(x.Sex == 'male', 1,0))\n",
    "            .pipe(pd.get_dummies, columns = ['Deck', 'Pclass', 'Title', 'Fare_Bin', 'Embarked', 'AgeState'])\n",
    "            # add code to drop unnecessary columns\n",
    "            .drop(['Cabin', 'Name', 'Ticket', 'Parch', 'SibSp', 'Sex'], axis=1)\n",
    "            # reorder columns\n",
    "            .pipe(reorder_columns)\n",
    "           )\n",
    "\n",
    "def get_title(name):\n",
    "    title_group = {\n",
    "        'mr' : 'Mr',\n",
    "        'mrs' : 'Mrs',\n",
    "        'miss' : 'Miss',\n",
    "        'master' : 'Master',\n",
    "        'don' : 'Sir',\n",
    "        'rev' : 'Sir',\n",
    "        'dr' : 'Officer',\n",
    "        'mme' : 'Mrs',\n",
    "        'ms' : 'Mrs',\n",
    "        'major' : 'Officer',\n",
    "        'lady' : 'Lady',\n",
    "        'sir' : 'Sir',\n",
    "        'mlle' : 'Miss',\n",
    "        'col' : 'Officer',\n",
    "        'capt' : 'Officer',\n",
    "        'the countess' : 'Lady',\n",
    "        'jonkheer' : 'Sir',\n",
    "        'dona' : 'Lady'\n",
    "    }\n",
    "    first_name_with_title = name.split(',')[1]\n",
    "    title = first_name_with_title.split('.')[0]\n",
    "    title = title.strip().lower()\n",
    "    return title_group[title]\n",
    "\n",
    "def get_deck(cabin):\n",
    "    return np.where(pd.notnull(cabin), str(cabin)[0].upper(), 'Z')\n",
    "\n",
    "def fill_missing_values(df):\n",
    "    # embarked\n",
    "    df.Embarked.fillna('C', inplace=True)\n",
    "    # fare\n",
    "    median_fare = df[(df.Pclass == 3) & (df.Embarked == 'S')]['Fare'].median()\n",
    "    df.Fare.fillna(median_fare, inplace=True)\n",
    "    # age\n",
    "    title_age_median = df.groupby('Title').Age.transform('median')\n",
    "    df.Age.fillna(title_age_median, inplace=True)\n",
    "    return df\n",
    "    \n",
    "def reorder_columns(df):\n",
    "    columns = [column for column in df.columns if column != 'Survived']\n",
    "    columns = ['Survived'] + columns\n",
    "    df = df[columns]\n",
    "    return df\n",
    "\n",
    "def write_data(df):\n",
    "    processed_data_path = r\"C:\\Users\\rvi29ga\\Jupyter tries\\processed\"\n",
    "    write_train_path = os.path.join(processed_data_path, 'train.csv')\n",
    "    write_test_path = os.path.join(processed_data_path, 'test.csv')\n",
    "    print(write_test_path)\n",
    "    # Train data\n",
    "    df.loc[df.Survived != -888].to_csv(write_train_path)\n",
    "    # Test data\n",
    "    columns = [column for column in df.columns if column != 'Survived']\n",
    "    df.loc[df.Survived == -888, columns].to_csv(write_test_path)\n",
    "    \n",
    "if __name__ == '__main__':\n",
    "    df = read_data()\n",
    "    df = process_data(df)\n",
    "    write_data(df)"
   ]
  },
  {
   "cell_type": "code",
   "execution_count": 122,
   "metadata": {},
   "outputs": [
    {
     "name": "stdout",
     "output_type": "stream",
     "text": [
      "C:\\Users\\rvi29ga\\Jupyter tries\\processed\\test.csv\n"
     ]
    }
   ],
   "source": [
    "!python get_processed_data.py"
   ]
  },
  {
   "cell_type": "code",
   "execution_count": 123,
   "metadata": {},
   "outputs": [
    {
     "name": "stdout",
     "output_type": "stream",
     "text": [
      "<class 'pandas.core.frame.DataFrame'>\n",
      "RangeIndex: 891 entries, 0 to 890\n",
      "Data columns (total 34 columns):\n",
      "PassengerId           891 non-null int64\n",
      "Survived              891 non-null int64\n",
      "Age                   891 non-null float64\n",
      "Fare                  891 non-null float64\n",
      "FamilySize            891 non-null int64\n",
      "IsMother              891 non-null int64\n",
      "IsMale                891 non-null int64\n",
      "Deck_A                891 non-null int64\n",
      "Deck_B                891 non-null int64\n",
      "Deck_C                891 non-null int64\n",
      "Deck_D                891 non-null int64\n",
      "Deck_E                891 non-null int64\n",
      "Deck_F                891 non-null int64\n",
      "Deck_G                891 non-null int64\n",
      "Deck_Z                891 non-null int64\n",
      "Pclass_1              891 non-null int64\n",
      "Pclass_2              891 non-null int64\n",
      "Pclass_3              891 non-null int64\n",
      "Title_Lady            891 non-null int64\n",
      "Title_Master          891 non-null int64\n",
      "Title_Miss            891 non-null int64\n",
      "Title_Mr              891 non-null int64\n",
      "Title_Mrs             891 non-null int64\n",
      "Title_Officer         891 non-null int64\n",
      "Title_Sir             891 non-null int64\n",
      "Fare_Bin_very_low     891 non-null int64\n",
      "Fare_Bin_low          891 non-null int64\n",
      "Fare_Bin_high         891 non-null int64\n",
      "Fare_Bin_very_high    891 non-null int64\n",
      "Embarked_C            891 non-null int64\n",
      "Embarked_Q            891 non-null int64\n",
      "Embarked_S            891 non-null int64\n",
      "AgeState_Adult        891 non-null int64\n",
      "AgeState_Child        891 non-null int64\n",
      "dtypes: float64(2), int64(32)\n",
      "memory usage: 236.8 KB\n"
     ]
    }
   ],
   "source": [
    "train_df = pd.read_csv(write_train_path)\n",
    "train_df.info()\n",
    "# print(write_test_path)"
   ]
  },
  {
   "cell_type": "code",
   "execution_count": 124,
   "metadata": {},
   "outputs": [
    {
     "name": "stdout",
     "output_type": "stream",
     "text": [
      "<class 'pandas.core.frame.DataFrame'>\n",
      "RangeIndex: 891 entries, 0 to 890\n",
      "Data columns (total 33 columns):\n",
      "PassengerId           891 non-null int64\n",
      "Age                   891 non-null float64\n",
      "Fare                  891 non-null float64\n",
      "FamilySize            891 non-null int64\n",
      "IsMother              891 non-null int64\n",
      "IsMale                891 non-null int64\n",
      "Deck_A                891 non-null int64\n",
      "Deck_B                891 non-null int64\n",
      "Deck_C                891 non-null int64\n",
      "Deck_D                891 non-null int64\n",
      "Deck_E                891 non-null int64\n",
      "Deck_F                891 non-null int64\n",
      "Deck_G                891 non-null int64\n",
      "Deck_Z                891 non-null int64\n",
      "Pclass_1              891 non-null int64\n",
      "Pclass_2              891 non-null int64\n",
      "Pclass_3              891 non-null int64\n",
      "Title_Lady            891 non-null int64\n",
      "Title_Master          891 non-null int64\n",
      "Title_Miss            891 non-null int64\n",
      "Title_Mr              891 non-null int64\n",
      "Title_Mrs             891 non-null int64\n",
      "Title_Officer         891 non-null int64\n",
      "Title_Sir             891 non-null int64\n",
      "Fare_Bin_very_low     891 non-null int64\n",
      "Fare_Bin_low          891 non-null int64\n",
      "Fare_Bin_high         891 non-null int64\n",
      "Fare_Bin_very_high    891 non-null int64\n",
      "Embarked_C            891 non-null int64\n",
      "Embarked_Q            891 non-null int64\n",
      "Embarked_S            891 non-null int64\n",
      "AgeState_Adult        891 non-null int64\n",
      "AgeState_Child        891 non-null int64\n",
      "dtypes: float64(2), int64(31)\n",
      "memory usage: 229.8 KB\n"
     ]
    }
   ],
   "source": [
    "test_df = pd.read_csv(write_test_path)\n",
    "test_df.info()"
   ]
  },
  {
   "cell_type": "markdown",
   "metadata": {},
   "source": [
    "## Advanced Visualization using MaatplotLib"
   ]
  },
  {
   "cell_type": "code",
   "execution_count": 125,
   "metadata": {},
   "outputs": [],
   "source": [
    "import matplotlib.pyplot as plt\n",
    "%matplotlib inline"
   ]
  },
  {
   "cell_type": "code",
   "execution_count": 126,
   "metadata": {},
   "outputs": [
    {
     "data": {
      "text/plain": [
       "(array([ 80.,  62., 324., 426., 189., 108.,  66.,  41.,  10.,   3.]),\n",
       " array([ 0.17 ,  8.153, 16.136, 24.119, 32.102, 40.085, 48.068, 56.051,\n",
       "        64.034, 72.017, 80.   ]),\n",
       " <a list of 10 Patch objects>)"
      ]
     },
     "execution_count": 126,
     "metadata": {},
     "output_type": "execute_result"
    },
    {
     "data": {
      "image/png": "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\n",
      "text/plain": [
       "<Figure size 432x288 with 1 Axes>"
      ]
     },
     "metadata": {},
     "output_type": "display_data"
    }
   ],
   "source": [
    "plt.hist(df.Age, edgecolor='black')"
   ]
  },
  {
   "cell_type": "code",
   "execution_count": 127,
   "metadata": {},
   "outputs": [
    {
     "data": {
      "image/png": "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\n",
      "text/plain": [
       "<Figure size 432x288 with 1 Axes>"
      ]
     },
     "metadata": {},
     "output_type": "display_data"
    }
   ],
   "source": [
    "plt.hist(df.Age, bins=20, edgecolor='black')\n",
    "plt.show()"
   ]
  },
  {
   "cell_type": "code",
   "execution_count": 128,
   "metadata": {},
   "outputs": [
    {
     "data": {
      "image/png": "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\n",
      "text/plain": [
       "<Figure size 432x288 with 1 Axes>"
      ]
     },
     "metadata": {},
     "output_type": "display_data"
    }
   ],
   "source": [
    "plt.hist(df.Age, edgecolor='black', bins=20)\n",
    "plt.title('Histogram : Age')\n",
    "plt.xlabel('Bins')\n",
    "plt.ylabel('Counts')\n",
    "plt.show()"
   ]
  },
  {
   "cell_type": "code",
   "execution_count": 129,
   "metadata": {
    "scrolled": true
   },
   "outputs": [
    {
     "data": {
      "image/png": "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\n",
      "text/plain": [
       "<Figure size 432x288 with 1 Axes>"
      ]
     },
     "metadata": {},
     "output_type": "display_data"
    }
   ],
   "source": [
    "f , ax = plt.subplots()\n",
    "ax.hist(df.Age, bins = 20, edgecolor='black')\n",
    "ax.set_title('Histogram : Age')\n",
    "ax.set_xlabel('Bins')\n",
    "ax.set_ylabel('Counts')\n",
    "plt.show()"
   ]
  },
  {
   "cell_type": "code",
   "execution_count": 130,
   "metadata": {
    "scrolled": true
   },
   "outputs": [
    {
     "data": {
      "image/png": "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\n",
      "text/plain": [
       "<Figure size 1008x216 with 2 Axes>"
      ]
     },
     "metadata": {},
     "output_type": "display_data"
    }
   ],
   "source": [
    "# Add subplots\n",
    "f , (ax1, ax2) = plt.subplots(1, 2, figsize=(14, 3)) #1, 2 is rows x columns\n",
    "\n",
    "ax1.hist(df.Fare, bins = 20, edgecolor='black')\n",
    "ax1.set_title('Histogram : Fare')\n",
    "ax1.set_xlabel('Bins')\n",
    "ax1.set_ylabel('Counts')\n",
    "\n",
    "ax2.hist(df.Age, bins = 20, edgecolor='tomato')\n",
    "ax2.set_title('Histogram : Age')\n",
    "ax2.set_xlabel('Bins')\n",
    "ax2.set_ylabel('Counts')\n",
    "\n",
    "plt.show()"
   ]
  },
  {
   "cell_type": "code",
   "execution_count": 131,
   "metadata": {},
   "outputs": [
    {
     "data": {
      "image/png": "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\n",
      "text/plain": [
       "<Figure size 1008x504 with 6 Axes>"
      ]
     },
     "metadata": {},
     "output_type": "display_data"
    }
   ],
   "source": [
    "# Adding subplots\n",
    "f , ax_arr = plt.subplots(3, 2, figsize=(14, 7)) #1, 2 is rows x columns\n",
    "\n",
    "# Plot 1\n",
    "ax_arr[0,0].hist(df.Fare, bins = 20, edgecolor='black')\n",
    "ax_arr[0,0].set_title('Histogram : Fare')\n",
    "ax_arr[0,0].set_xlabel('Bins')\n",
    "ax_arr[0,0].set_ylabel('Counts')\n",
    "\n",
    "# Plot 2\n",
    "ax_arr[0,1].hist(df.Age, bins = 20, edgecolor='tomato')\n",
    "ax_arr[0,1].set_title('Histogram : Age')\n",
    "ax_arr[0,1].set_xlabel('Bins')\n",
    "ax_arr[0,1].set_ylabel('Counts')\n",
    "\n",
    "# Plot 3\n",
    "ax_arr[1,0].boxplot(df.Fare.values)\n",
    "ax_arr[1,0].set_title('Boxplot : Fare')\n",
    "ax_arr[1,0].set_xlabel('Fare')\n",
    "ax_arr[1,0].set_ylabel('Fare')\n",
    "\n",
    "# Plot 4\n",
    "ax_arr[1,1].boxplot(df.Age.values)\n",
    "ax_arr[1,1].set_title('Boxplot : Age')\n",
    "ax_arr[1,1].set_xlabel('Age')\n",
    "ax_arr[1,1].set_ylabel('Age')\n",
    "\n",
    "# Plot 5\n",
    "ax_arr[2,0].scatter(df.Age, df.Fare, alpha = 0.15, edgecolor='orange')\n",
    "ax_arr[2,0].set_title('Scatterplot : Age vs Fare')\n",
    "ax_arr[2,0].set_xlabel('Age')\n",
    "ax_arr[2,0].set_ylabel('Fare')\n",
    "\n",
    "\n",
    "ax_arr[2,1].axis('off')\n",
    "plt.tight_layout()\n",
    "\n",
    "plt.show()"
   ]
  },
  {
   "cell_type": "markdown",
   "metadata": {},
   "source": [
    "## Building Predictive models"
   ]
  },
  {
   "cell_type": "code",
   "execution_count": 132,
   "metadata": {},
   "outputs": [],
   "source": [
    "import pandas as pd\n",
    "import os\n",
    "import numpy as np"
   ]
  },
  {
   "cell_type": "markdown",
   "metadata": {},
   "source": [
    "### Import Data"
   ]
  },
  {
   "cell_type": "code",
   "execution_count": 133,
   "metadata": {},
   "outputs": [],
   "source": [
    "# set the path of the processed data\n",
    "# C:\\Users\\rvi29ga\\Jupyter tries\\raw\n",
    "processed_data_path = r\"C:\\Users\\rvi29ga\\Jupyter tries\\processed\"\n",
    "train_file_path = os.path.join(processed_data_path, 'train.csv')\n",
    "test_file_path = os.path.join(processed_data_path, 'test.csv')"
   ]
  },
  {
   "cell_type": "code",
   "execution_count": 134,
   "metadata": {},
   "outputs": [],
   "source": [
    "train_df = pd.read_csv(train_file_path, index_col='PassengerId')\n",
    "test_df = pd.read_csv(test_file_path, index_col='PassengerId')"
   ]
  },
  {
   "cell_type": "code",
   "execution_count": 135,
   "metadata": {},
   "outputs": [
    {
     "name": "stdout",
     "output_type": "stream",
     "text": [
      "<class 'pandas.core.frame.DataFrame'>\n",
      "Int64Index: 891 entries, 1 to 891\n",
      "Data columns (total 33 columns):\n",
      "Survived              891 non-null int64\n",
      "Age                   891 non-null float64\n",
      "Fare                  891 non-null float64\n",
      "FamilySize            891 non-null int64\n",
      "IsMother              891 non-null int64\n",
      "IsMale                891 non-null int64\n",
      "Deck_A                891 non-null int64\n",
      "Deck_B                891 non-null int64\n",
      "Deck_C                891 non-null int64\n",
      "Deck_D                891 non-null int64\n",
      "Deck_E                891 non-null int64\n",
      "Deck_F                891 non-null int64\n",
      "Deck_G                891 non-null int64\n",
      "Deck_Z                891 non-null int64\n",
      "Pclass_1              891 non-null int64\n",
      "Pclass_2              891 non-null int64\n",
      "Pclass_3              891 non-null int64\n",
      "Title_Lady            891 non-null int64\n",
      "Title_Master          891 non-null int64\n",
      "Title_Miss            891 non-null int64\n",
      "Title_Mr              891 non-null int64\n",
      "Title_Mrs             891 non-null int64\n",
      "Title_Officer         891 non-null int64\n",
      "Title_Sir             891 non-null int64\n",
      "Fare_Bin_very_low     891 non-null int64\n",
      "Fare_Bin_low          891 non-null int64\n",
      "Fare_Bin_high         891 non-null int64\n",
      "Fare_Bin_very_high    891 non-null int64\n",
      "Embarked_C            891 non-null int64\n",
      "Embarked_Q            891 non-null int64\n",
      "Embarked_S            891 non-null int64\n",
      "AgeState_Adult        891 non-null int64\n",
      "AgeState_Child        891 non-null int64\n",
      "dtypes: float64(2), int64(31)\n",
      "memory usage: 236.7 KB\n"
     ]
    }
   ],
   "source": [
    "train_df.info()"
   ]
  },
  {
   "cell_type": "code",
   "execution_count": 136,
   "metadata": {},
   "outputs": [
    {
     "name": "stdout",
     "output_type": "stream",
     "text": [
      "<class 'pandas.core.frame.DataFrame'>\n",
      "Int64Index: 418 entries, 892 to 1309\n",
      "Data columns (total 32 columns):\n",
      "Age                   418 non-null float64\n",
      "Fare                  418 non-null float64\n",
      "FamilySize            418 non-null int64\n",
      "IsMother              418 non-null int64\n",
      "IsMale                418 non-null int64\n",
      "Deck_A                418 non-null int64\n",
      "Deck_B                418 non-null int64\n",
      "Deck_C                418 non-null int64\n",
      "Deck_D                418 non-null int64\n",
      "Deck_E                418 non-null int64\n",
      "Deck_F                418 non-null int64\n",
      "Deck_G                418 non-null int64\n",
      "Deck_Z                418 non-null int64\n",
      "Pclass_1              418 non-null int64\n",
      "Pclass_2              418 non-null int64\n",
      "Pclass_3              418 non-null int64\n",
      "Title_Lady            418 non-null int64\n",
      "Title_Master          418 non-null int64\n",
      "Title_Miss            418 non-null int64\n",
      "Title_Mr              418 non-null int64\n",
      "Title_Mrs             418 non-null int64\n",
      "Title_Officer         418 non-null int64\n",
      "Title_Sir             418 non-null int64\n",
      "Fare_Bin_very_low     418 non-null int64\n",
      "Fare_Bin_low          418 non-null int64\n",
      "Fare_Bin_high         418 non-null int64\n",
      "Fare_Bin_very_high    418 non-null int64\n",
      "Embarked_C            418 non-null int64\n",
      "Embarked_Q            418 non-null int64\n",
      "Embarked_S            418 non-null int64\n",
      "AgeState_Adult        418 non-null int64\n",
      "AgeState_Child        418 non-null int64\n",
      "dtypes: float64(2), int64(30)\n",
      "memory usage: 107.8 KB\n"
     ]
    }
   ],
   "source": [
    "test_df.info()"
   ]
  },
  {
   "cell_type": "markdown",
   "metadata": {},
   "source": [
    "### Data Preperation"
   ]
  },
  {
   "cell_type": "code",
   "execution_count": 137,
   "metadata": {},
   "outputs": [],
   "source": [
    "X = train_df.loc[:,'Age':].values.astype('float')\n",
    "y = train_df['Survived'].ravel()"
   ]
  },
  {
   "cell_type": "code",
   "execution_count": 138,
   "metadata": {},
   "outputs": [
    {
     "name": "stdout",
     "output_type": "stream",
     "text": [
      "(891, 32) (891,)\n"
     ]
    }
   ],
   "source": [
    "print(X.shape, y.shape)"
   ]
  },
  {
   "cell_type": "code",
   "execution_count": 139,
   "metadata": {},
   "outputs": [
    {
     "name": "stdout",
     "output_type": "stream",
     "text": [
      "(712, 32) (712,)\n",
      "(179, 32) (179,)\n"
     ]
    }
   ],
   "source": [
    "# train test split\n",
    "from sklearn.model_selection import train_test_split\n",
    "X_train, X_test, y_train, y_test = train_test_split(X, y, test_size=0.2, random_state=0)\n",
    "print(X_train.shape, y_train.shape)\n",
    "print(X_test.shape, y_test.shape)"
   ]
  },
  {
   "cell_type": "code",
   "execution_count": 140,
   "metadata": {
    "scrolled": true
   },
   "outputs": [
    {
     "name": "stdout",
     "output_type": "stream",
     "text": [
      "Mean survival in train : 0.383\n",
      "Mean survival in test : 0.385\n"
     ]
    }
   ],
   "source": [
    "# average survival in train and test\n",
    "print('Mean survival in train : {0:.3f}'.format(np.mean(y_train)))\n",
    "print('Mean survival in test : {0:.3f}'.format(np.mean(y_test)))"
   ]
  },
  {
   "cell_type": "markdown",
   "metadata": {},
   "source": [
    "### Check Scikit-Learn Version"
   ]
  },
  {
   "cell_type": "code",
   "execution_count": 141,
   "metadata": {},
   "outputs": [],
   "source": [
    "import sklearn"
   ]
  },
  {
   "cell_type": "code",
   "execution_count": 142,
   "metadata": {},
   "outputs": [
    {
     "data": {
      "text/plain": [
       "'0.19.1'"
      ]
     },
     "execution_count": 142,
     "metadata": {},
     "output_type": "execute_result"
    }
   ],
   "source": [
    "sklearn.__version__"
   ]
  },
  {
   "cell_type": "markdown",
   "metadata": {},
   "source": [
    "### Baseline Model"
   ]
  },
  {
   "cell_type": "code",
   "execution_count": 143,
   "metadata": {},
   "outputs": [],
   "source": [
    "# import function\n",
    "from sklearn.dummy import DummyClassifier"
   ]
  },
  {
   "cell_type": "code",
   "execution_count": 144,
   "metadata": {},
   "outputs": [],
   "source": [
    "# create model\n",
    "model_dummy = DummyClassifier(strategy='most_frequent', random_state=0)"
   ]
  },
  {
   "cell_type": "code",
   "execution_count": 145,
   "metadata": {},
   "outputs": [
    {
     "data": {
      "text/plain": [
       "DummyClassifier(constant=None, random_state=0, strategy='most_frequent')"
      ]
     },
     "execution_count": 145,
     "metadata": {},
     "output_type": "execute_result"
    }
   ],
   "source": [
    "# train model\n",
    "model_dummy.fit(X_train, y_train)"
   ]
  },
  {
   "cell_type": "code",
   "execution_count": 146,
   "metadata": {},
   "outputs": [
    {
     "name": "stdout",
     "output_type": "stream",
     "text": [
      "Score for baseline model : 0.61\n"
     ]
    }
   ],
   "source": [
    "print('Score for baseline model : {0:.2f}'.format(model_dummy.score(X_test, y_test)))"
   ]
  },
  {
   "cell_type": "code",
   "execution_count": 147,
   "metadata": {},
   "outputs": [],
   "source": [
    "# Performance metrics\n",
    "from sklearn.metrics import accuracy_score, confusion_matrix, precision_score, recall_score"
   ]
  },
  {
   "cell_type": "code",
   "execution_count": 148,
   "metadata": {},
   "outputs": [
    {
     "name": "stdout",
     "output_type": "stream",
     "text": [
      "Accuracy for baseline model : 0.61\n"
     ]
    }
   ],
   "source": [
    "# Accuracy score\n",
    "print('Accuracy for baseline model : {0:0.2f}'.format(accuracy_score(y_test, model_dummy.predict(X_test))))"
   ]
  },
  {
   "cell_type": "code",
   "execution_count": 149,
   "metadata": {},
   "outputs": [
    {
     "name": "stdout",
     "output_type": "stream",
     "text": [
      "Confusion matrix for baseline model :\n",
      " [[110   0]\n",
      " [ 69   0]]\n"
     ]
    }
   ],
   "source": [
    "# Confusion matrix\n",
    "print('Confusion matrix for baseline model :\\n {0}'.format(confusion_matrix(y_test, model_dummy.predict(X_test))))"
   ]
  },
  {
   "cell_type": "code",
   "execution_count": 150,
   "metadata": {
    "scrolled": true
   },
   "outputs": [
    {
     "name": "stdout",
     "output_type": "stream",
     "text": [
      "Precision for baseline model : 0.00\n",
      "Recall for baseline model : 0.00\n"
     ]
    },
    {
     "name": "stderr",
     "output_type": "stream",
     "text": [
      "C:\\ProgramData\\Anaconda3\\lib\\site-packages\\sklearn\\metrics\\classification.py:1135: UndefinedMetricWarning: Precision is ill-defined and being set to 0.0 due to no predicted samples.\n",
      "  'precision', 'predicted', average, warn_for)\n"
     ]
    }
   ],
   "source": [
    "# Precision and recall score\n",
    "print('Precision for baseline model : {0:0.2f}'.format(precision_score(y_test, model_dummy.predict(X_test))))\n",
    "print('Recall for baseline model : {0:0.2f}'.format(recall_score(y_test, model_dummy.predict(X_test))))"
   ]
  },
  {
   "cell_type": "markdown",
   "metadata": {},
   "source": [
    "### First test submission"
   ]
  },
  {
   "cell_type": "code",
   "execution_count": 151,
   "metadata": {},
   "outputs": [],
   "source": [
    "# Converting to the matrix\n",
    "test_X = test_df.values.astype('float')"
   ]
  },
  {
   "cell_type": "code",
   "execution_count": 152,
   "metadata": {},
   "outputs": [],
   "source": [
    "# Get predictions\n",
    "predictions = model_dummy.predict(test_X)"
   ]
  },
  {
   "cell_type": "code",
   "execution_count": 153,
   "metadata": {},
   "outputs": [],
   "source": [
    "df_submission = pd.DataFrame({'PassengerId': test_df.index, 'Survived' : predictions})"
   ]
  },
  {
   "cell_type": "code",
   "execution_count": 154,
   "metadata": {},
   "outputs": [
    {
     "data": {
      "text/html": [
       "<div>\n",
       "<style scoped>\n",
       "    .dataframe tbody tr th:only-of-type {\n",
       "        vertical-align: middle;\n",
       "    }\n",
       "\n",
       "    .dataframe tbody tr th {\n",
       "        vertical-align: top;\n",
       "    }\n",
       "\n",
       "    .dataframe thead th {\n",
       "        text-align: right;\n",
       "    }\n",
       "</style>\n",
       "<table border=\"1\" class=\"dataframe\">\n",
       "  <thead>\n",
       "    <tr style=\"text-align: right;\">\n",
       "      <th></th>\n",
       "      <th>PassengerId</th>\n",
       "      <th>Survived</th>\n",
       "    </tr>\n",
       "  </thead>\n",
       "  <tbody>\n",
       "    <tr>\n",
       "      <th>0</th>\n",
       "      <td>892</td>\n",
       "      <td>0</td>\n",
       "    </tr>\n",
       "    <tr>\n",
       "      <th>1</th>\n",
       "      <td>893</td>\n",
       "      <td>0</td>\n",
       "    </tr>\n",
       "    <tr>\n",
       "      <th>2</th>\n",
       "      <td>894</td>\n",
       "      <td>0</td>\n",
       "    </tr>\n",
       "    <tr>\n",
       "      <th>3</th>\n",
       "      <td>895</td>\n",
       "      <td>0</td>\n",
       "    </tr>\n",
       "    <tr>\n",
       "      <th>4</th>\n",
       "      <td>896</td>\n",
       "      <td>0</td>\n",
       "    </tr>\n",
       "  </tbody>\n",
       "</table>\n",
       "</div>"
      ],
      "text/plain": [
       "   PassengerId  Survived\n",
       "0          892         0\n",
       "1          893         0\n",
       "2          894         0\n",
       "3          895         0\n",
       "4          896         0"
      ]
     },
     "execution_count": 154,
     "metadata": {},
     "output_type": "execute_result"
    }
   ],
   "source": [
    "df_submission.head()"
   ]
  },
  {
   "cell_type": "code",
   "execution_count": 155,
   "metadata": {},
   "outputs": [],
   "source": [
    "submission_data_path = r\"C:\\Users\\rvi29ga\\Jupyter tries\\processed\\output\"\n",
    "submission_file_path = os.path.join(submission_data_path, '01_dummy.csv')"
   ]
  },
  {
   "cell_type": "code",
   "execution_count": 156,
   "metadata": {},
   "outputs": [],
   "source": [
    "df_submission.to_csv(submission_file_path, index=False)"
   ]
  },
  {
   "cell_type": "code",
   "execution_count": 157,
   "metadata": {},
   "outputs": [],
   "source": [
    "def get_submission_file(model, filename):\n",
    "    # converting to the matrix\n",
    "    test_X = test_df.values.astype('float')\n",
    "    # make predictions\n",
    "    predictions = model.predict(test_X)\n",
    "    # submission dataframe\n",
    "    df_submission = pd.DataFrame({'PassengerId': test_df.index, 'Survived' : predictions})\n",
    "    # submission file\n",
    "    submission_data_path = r\"C:\\Users\\rvi29ga\\Jupyter tries\\processed\\output\"\n",
    "    submission_file_path = os.path.join(submission_data_path, filename)\n",
    "    # write to the file\n",
    "    df_submission.to_csv(submission_file_path, index=False)"
   ]
  },
  {
   "cell_type": "code",
   "execution_count": 158,
   "metadata": {},
   "outputs": [],
   "source": [
    "# get Submission file\n",
    "get_submission_file(model_dummy, 'Dummy_01_Vicky.csv')"
   ]
  },
  {
   "cell_type": "markdown",
   "metadata": {},
   "source": [
    "### Logistic Regression Model"
   ]
  },
  {
   "cell_type": "code",
   "execution_count": 159,
   "metadata": {},
   "outputs": [],
   "source": [
    "#import function\n",
    "from sklearn.linear_model import LogisticRegression"
   ]
  },
  {
   "cell_type": "code",
   "execution_count": 160,
   "metadata": {},
   "outputs": [],
   "source": [
    "# create model\n",
    "model_lr_l = LogisticRegression(random_state=0)"
   ]
  },
  {
   "cell_type": "code",
   "execution_count": 161,
   "metadata": {},
   "outputs": [
    {
     "data": {
      "text/plain": [
       "LogisticRegression(C=1.0, class_weight=None, dual=False, fit_intercept=True,\n",
       "          intercept_scaling=1, max_iter=100, multi_class='ovr', n_jobs=1,\n",
       "          penalty='l2', random_state=0, solver='liblinear', tol=0.0001,\n",
       "          verbose=0, warm_start=False)"
      ]
     },
     "execution_count": 161,
     "metadata": {},
     "output_type": "execute_result"
    }
   ],
   "source": [
    "model_lr_l.fit(X_train, y_train)"
   ]
  },
  {
   "cell_type": "code",
   "execution_count": 162,
   "metadata": {},
   "outputs": [
    {
     "name": "stdout",
     "output_type": "stream",
     "text": [
      "Score for logistic regression - version 1 : 0.83\n"
     ]
    }
   ],
   "source": [
    "# Evaluate model\n",
    "print('Score for logistic regression - version 1 : {0:.2f}'.format(model_lr_l.score(X_test, y_test)))"
   ]
  },
  {
   "cell_type": "code",
   "execution_count": 163,
   "metadata": {},
   "outputs": [
    {
     "name": "stdout",
     "output_type": "stream",
     "text": [
      "Accuracy for logistic regression - version 1 : 0.83\n",
      "Recall for logistic regression - version 1 :\n",
      " [[95 15]\n",
      " [15 54]]\n",
      "Accuracy for logistic regression - version 1 : 0.78\n",
      "Recall for logistic regression - version 1 : 0.78\n"
     ]
    }
   ],
   "source": [
    "# performance metrice\n",
    "# Accuracy\n",
    "print('Accuracy for logistic regression - version 1 : {0:0.2f}'.format(accuracy_score(y_test, model_lr_l.predict(X_test))))\n",
    "# confusion matrix\n",
    "print('Recall for logistic regression - version 1 :\\n {0}'.format(confusion_matrix(y_test, model_lr_l.predict(X_test))))\n",
    "# Precision\n",
    "print('Accuracy for logistic regression - version 1 : {0:0.2f}'.format(precision_score(y_test, model_lr_l.predict(X_test))))\n",
    "# Recall\n",
    "print('Recall for logistic regression - version 1 : {0:0.2f}'.format(recall_score(y_test, model_lr_l.predict(X_test))))"
   ]
  },
  {
   "cell_type": "code",
   "execution_count": 164,
   "metadata": {},
   "outputs": [
    {
     "data": {
      "text/plain": [
       "array([[-0.02840734,  0.00455631, -0.50017004,  0.61922838, -0.81414743,\n",
       "         0.12823264, -0.17253859, -0.39355488,  0.52215008,  1.09939125,\n",
       "         0.40346551, -0.18369316, -0.30021028,  0.96558544,  0.48281794,\n",
       "        -0.3451608 ,  0.28258585,  1.21850069,  0.56334183, -1.44612507,\n",
       "         1.07146232, -0.11345497, -0.47306807,  0.16297326,  0.24746349,\n",
       "         0.27998252,  0.4128233 ,  0.49202884,  0.46214499,  0.14906873,\n",
       "         0.37253571,  0.73070686]])"
      ]
     },
     "execution_count": 164,
     "metadata": {},
     "output_type": "execute_result"
    }
   ],
   "source": [
    "# model coefficients\n",
    "model_lr_l.coef_"
   ]
  },
  {
   "cell_type": "markdown",
   "metadata": {},
   "source": [
    "### Second Kaggle Submission"
   ]
  },
  {
   "cell_type": "code",
   "execution_count": 165,
   "metadata": {},
   "outputs": [],
   "source": [
    "# Get submission file\n",
    "get_submission_file(model_lr_l, 'Logistic_01_Vicky.csv')"
   ]
  },
  {
   "cell_type": "code",
   "execution_count": 166,
   "metadata": {
    "scrolled": true
   },
   "outputs": [
    {
     "data": {
      "text/plain": [
       "['_ASSUME_FINITE',\n",
       " '__SKLEARN_SETUP__',\n",
       " '__all__',\n",
       " '__builtins__',\n",
       " '__cached__',\n",
       " '__check_build',\n",
       " '__doc__',\n",
       " '__file__',\n",
       " '__loader__',\n",
       " '__name__',\n",
       " '__package__',\n",
       " '__path__',\n",
       " '__spec__',\n",
       " '__version__',\n",
       " '_contextmanager',\n",
       " 'base',\n",
       " 'clone',\n",
       " 'config_context',\n",
       " 'dummy',\n",
       " 'exceptions',\n",
       " 'externals',\n",
       " 'feature_selection',\n",
       " 'get_config',\n",
       " 'linear_model',\n",
       " 'logger',\n",
       " 'logging',\n",
       " 'metrics',\n",
       " 'model_selection',\n",
       " 'neighbors',\n",
       " 'os',\n",
       " 'preprocessing',\n",
       " 'random_projection',\n",
       " 're',\n",
       " 'set_config',\n",
       " 'setup_module',\n",
       " 'svm',\n",
       " 'sys',\n",
       " 'utils',\n",
       " 'warnings']"
      ]
     },
     "execution_count": 166,
     "metadata": {},
     "output_type": "execute_result"
    }
   ],
   "source": [
    "dir(sklearn)"
   ]
  },
  {
   "cell_type": "code",
   "execution_count": 167,
   "metadata": {
    "scrolled": true
   },
   "outputs": [
    {
     "name": "stdout",
     "output_type": "stream",
     "text": [
      "Help on package sklearn:\n",
      "\n",
      "NAME\n",
      "    sklearn\n",
      "\n",
      "DESCRIPTION\n",
      "    Machine learning module for Python\n",
      "    ==================================\n",
      "    \n",
      "    sklearn is a Python module integrating classical machine\n",
      "    learning algorithms in the tightly-knit world of scientific Python\n",
      "    packages (numpy, scipy, matplotlib).\n",
      "    \n",
      "    It aims to provide simple and efficient solutions to learning problems\n",
      "    that are accessible to everybody and reusable in various contexts:\n",
      "    machine-learning as a versatile tool for science and engineering.\n",
      "    \n",
      "    See http://scikit-learn.org for complete documentation.\n",
      "\n",
      "PACKAGE CONTENTS\n",
      "    __check_build (package)\n",
      "    _build_utils (package)\n",
      "    _isotonic\n",
      "    base\n",
      "    calibration\n",
      "    cluster (package)\n",
      "    covariance (package)\n",
      "    cross_decomposition (package)\n",
      "    cross_validation\n",
      "    datasets (package)\n",
      "    decomposition (package)\n",
      "    discriminant_analysis\n",
      "    dummy\n",
      "    ensemble (package)\n",
      "    exceptions\n",
      "    externals (package)\n",
      "    feature_extraction (package)\n",
      "    feature_selection (package)\n",
      "    gaussian_process (package)\n",
      "    grid_search\n",
      "    isotonic\n",
      "    kernel_approximation\n",
      "    kernel_ridge\n",
      "    learning_curve\n",
      "    linear_model (package)\n",
      "    manifold (package)\n",
      "    metrics (package)\n",
      "    mixture (package)\n",
      "    model_selection (package)\n",
      "    multiclass\n",
      "    multioutput\n",
      "    naive_bayes\n",
      "    neighbors (package)\n",
      "    neural_network (package)\n",
      "    pipeline\n",
      "    preprocessing (package)\n",
      "    random_projection\n",
      "    semi_supervised (package)\n",
      "    setup\n",
      "    svm (package)\n",
      "    tests (package)\n",
      "    tree (package)\n",
      "    utils (package)\n",
      "\n",
      "FUNCTIONS\n",
      "    clone(estimator, safe=True)\n",
      "        Constructs a new estimator with the same parameters.\n",
      "        \n",
      "        Clone does a deep copy of the model in an estimator\n",
      "        without actually copying attached data. It yields a new estimator\n",
      "        with the same parameters that has not been fit on any data.\n",
      "        \n",
      "        Parameters\n",
      "        ----------\n",
      "        estimator : estimator object, or list, tuple or set of objects\n",
      "            The estimator or group of estimators to be cloned\n",
      "        \n",
      "        safe : boolean, optional\n",
      "            If safe is false, clone will fall back to a deep copy on objects\n",
      "            that are not estimators.\n",
      "\n",
      "DATA\n",
      "    __SKLEARN_SETUP__ = False\n",
      "    __all__ = ['calibration', 'cluster', 'covariance', 'cross_decompositio...\n",
      "\n",
      "VERSION\n",
      "    0.19.1\n",
      "\n",
      "FILE\n",
      "    c:\\programdata\\anaconda3\\lib\\site-packages\\sklearn\\__init__.py\n",
      "\n",
      "\n"
     ]
    }
   ],
   "source": [
    "help(sklearn)"
   ]
  },
  {
   "cell_type": "markdown",
   "metadata": {},
   "source": [
    "### Hyperparameter Optimization"
   ]
  },
  {
   "cell_type": "code",
   "execution_count": 168,
   "metadata": {},
   "outputs": [],
   "source": [
    "# Base model\n",
    "model_lr = LogisticRegression(random_state=0)"
   ]
  },
  {
   "cell_type": "code",
   "execution_count": 169,
   "metadata": {},
   "outputs": [],
   "source": [
    "from sklearn.model_selection import GridSearchCV"
   ]
  },
  {
   "cell_type": "code",
   "execution_count": 170,
   "metadata": {},
   "outputs": [],
   "source": [
    "parameters = {'C':[1.0, 10.0, 50.0, 100.0, 1000.0], 'penalty':['l1','l2']}\n",
    "clf=GridSearchCV(model_lr, param_grid=parameters, cv=3)"
   ]
  },
  {
   "cell_type": "code",
   "execution_count": 171,
   "metadata": {},
   "outputs": [
    {
     "data": {
      "text/plain": [
       "GridSearchCV(cv=3, error_score='raise',\n",
       "       estimator=LogisticRegression(C=1.0, class_weight=None, dual=False, fit_intercept=True,\n",
       "          intercept_scaling=1, max_iter=100, multi_class='ovr', n_jobs=1,\n",
       "          penalty='l2', random_state=0, solver='liblinear', tol=0.0001,\n",
       "          verbose=0, warm_start=False),\n",
       "       fit_params=None, iid=True, n_jobs=1,\n",
       "       param_grid={'C': [1.0, 10.0, 50.0, 100.0, 1000.0], 'penalty': ['l1', 'l2']},\n",
       "       pre_dispatch='2*n_jobs', refit=True, return_train_score='warn',\n",
       "       scoring=None, verbose=0)"
      ]
     },
     "execution_count": 171,
     "metadata": {},
     "output_type": "execute_result"
    }
   ],

   "source": [
    "clf.fit(X_train, y_train)"
   ]
  },
  {
   "cell_type": "code",
   "execution_count": 172,
   "metadata": {},
   "outputs": [
    {
     "data": {
      "text/plain": [
       "{'C': 1.0, 'penalty': 'l1'}"
      ]
     },
     "execution_count": 172,
     "metadata": {},
     "output_type": "execute_result"
    }
   ],
   "source": [
    "clf.best_params_"
   ]
  },
  {
   "cell_type": "code",
   "execution_count": 173,
   "metadata": {},
   "outputs": [
    {
     "name": "stdout",
     "output_type": "stream",
     "text": [
      "Best score : 0.83\n"
     ]
    }
   ],
   "source": [
    "print('Best score : {0:.2f}'.format(clf.best_score_))"
   ]
  },
  {
   "cell_type": "code",
   "execution_count": 174,
   "metadata": {},
   "outputs": [
    {
     "name": "stdout",
     "output_type": "stream",
     "text": [
      "Score for logistic regression - version 2: 0.83\n"
     ]
    }
   ],
   "source": [
    "# Evaluate model\n",
    "print('Score for logistic regression - version 2: {0:.2f}'.format(clf.score(X_test, y_test)))"
   ]
  },
  {
   "cell_type": "markdown",
   "metadata": {},
   "source": [
    "### Making third submission"
   ]
  },
  {
   "cell_type": "code",
   "execution_count": 175,
   "metadata": {},
   "outputs": [],
   "source": [
    "get_submission_file(clf, 'Best_Logistic.csv')"
   ]
  },
  {
   "cell_type": "markdown",
   "metadata": {},
   "source": [
    "### Feature Normalization and Standardization"
   ]
  },
  {
   "cell_type": "code",
   "execution_count": 176,
   "metadata": {},
   "outputs": [],
   "source": [
    "from sklearn.preprocessing import MinMaxScaler, StandardScaler"
   ]
  },
  {
   "cell_type": "markdown",
   "metadata": {},
   "source": [
    "#### Feature Normalization"
   ]
  },
  {
   "cell_type": "code",
   "execution_count": 177,
   "metadata": {},
   "outputs": [],
   "source": [
    "# Feature Normalization\n",
    "scaler = MinMaxScaler()\n",
    "X_train_scaled = scaled = scaler.fit_transform(X_train)"
   ]
  },
  {
   "cell_type": "code",
   "execution_count": 178,
   "metadata": {},
   "outputs": [
    {
     "data": {
      "text/plain": [
       "(0.0, 1.0)"
      ]
     },
     "execution_count": 178,
     "metadata": {},
     "output_type": "execute_result"
    }
   ],
   "source": [
    "X_train_scaled[:,0].min(),X_train_scaled[:,0].max()"
   ]
  },
  {
   "cell_type": "code",
   "execution_count": 179,
   "metadata": {},
   "outputs": [],
   "source": [
    "# Normalize the test data\n",
    "X_test_scaled = scaler.transform(X_test)"
   ]
  },
  {
   "cell_type": "markdown",
   "metadata": {},
   "source": [
    "#### Feature Standardization"
   ]
  },
  {
   "cell_type": "code",
   "execution_count": 180,
   "metadata": {},
   "outputs": [],
   "source": [
    "scaler = StandardScaler()\n",
    "X_train_scaled = scaler.fit_transform(X_train)\n",
    "X_test_scaled = scaler.transform(X_test)"
   ]
  },
  {
   "cell_type": "markdown",
   "metadata": {},
   "source": [
    "#### Create model after standardization"
   ]
  },
  {
   "cell_type": "code",
   "execution_count": 181,
   "metadata": {},
   "outputs": [
    {
     "data": {
      "text/plain": [
       "GridSearchCV(cv=3, error_score='raise',\n",
       "       estimator=LogisticRegression(C=1.0, class_weight=None, dual=False, fit_intercept=True,\n",
       "          intercept_scaling=1, max_iter=100, multi_class='ovr', n_jobs=1,\n",
       "          penalty='l2', random_state=None, solver='liblinear', tol=0.0001,\n",
       "          verbose=0, warm_start=False),\n",
       "       fit_params=None, iid=True, n_jobs=1,\n",
       "       param_grid={'C': [1.0, 10.0, 50.0, 100.0, 1000.0], 'penalty': ['l1', 'l2']},\n",
       "       pre_dispatch='2*n_jobs', refit=True, return_train_score='warn',\n",
       "       scoring=None, verbose=0)"
      ]
     },
     "execution_count": 181,
     "metadata": {},
     "output_type": "execute_result"
    }
   ],
   "source": [
    "# Base model\n",
    "model_lr = LogisticRegression()\n",
    "parameters = {'C':[1.0, 10.0, 50.0, 100.0, 1000.0], 'penalty':['l1','l2']}\n",
    "clf=GridSearchCV(model_lr, param_grid=parameters, cv=3)\n",
    "clf.fit(X_train_scaled, y_train)"
   ]
  },
  {
   "cell_type": "code",
   "execution_count": 182,
   "metadata": {},
   "outputs": [
    {
     "data": {
      "text/plain": [
       "{'C': 1.0, 'penalty': 'l1'}"
      ]
     },
     "execution_count": 182,
     "metadata": {},
     "output_type": "execute_result"
    }
   ],
   "source": [
    "clf.best_params_"
   ]
  },
  {
   "cell_type": "code",
   "execution_count": 183,
   "metadata": {},
   "outputs": [
    {
     "data": {
      "text/plain": [
       "0.8132022471910112"
      ]
     },
     "execution_count": 183,
     "metadata": {},
     "output_type": "execute_result"
    }
   ],
   "source": [
    "clf.best_score_"
   ]
  },
  {
   "cell_type": "code",
   "execution_count": 184,
   "metadata": {},
   "outputs": [
    {
     "name": "stdout",
     "output_type": "stream",
     "text": [
      "Score for Logistic Regression - version 2: 0.84\n"
     ]
    }
   ],
   "source": [
    "# Evaluate model\n",
    "print('Score for Logistic Regression - version 2: {0:.2f}'.format(clf.score(X_test_scaled, y_test)))"
   ]
  },
  {
   "cell_type": "markdown",
   "metadata": {},
   "source": [
    "### Model Persistence"
   ]
  },
  {
   "cell_type": "code",
   "execution_count": 195,
   "metadata": {},
   "outputs": [],
   "source": [
    "# import picle library\n",
    "import cloudpickle"
   ]
  },
  {
   "cell_type": "code",
   "execution_count": 196,
   "metadata": {},
   "outputs": [],
   "source": [
    "# create file paths\n",
    "model_base_path = r\"C:\\Users\\rvi29ga\\Jupyter tries\\models\"\n",
    "model_file_path = os.path.join(model_base_path, 'lr_model.pkl')\n",
    "scaler_file_path = os.path.join(model_base_path, 'lr_scaler.pkl')"
   ]
  },
  {
   "cell_type": "code",
   "execution_count": 197,
   "metadata": {},
   "outputs": [],
   "source": [
    "# Open the files to write mode\n",
    "model_file_pickle = open(model_file_path, 'wb')\n",
    "scaler_file_pickle = open(scaler_file_path, 'wb')"
   ]
  },
  {
   "cell_type": "code",
   "execution_count": 198,
   "metadata": {},
   "outputs": [],
   "source": [
    "# Persist the model and scaler\n",
    "cloudpickle.dump(clf, model_file_pickle)\n",
    "cloudpickle.dump(scaler, scaler_file_pickle)"
   ]
  },
  {
   "cell_type": "code",
   "execution_count": 199,
   "metadata": {},
   "outputs": [],
   "source": [
    "# clode the file\n",
    "model_file_pickle.close()\n",
    "scaler_file_pickle.close()"
   ]
  },
  {
   "cell_type": "markdown",
   "metadata": {},
   "source": [
    "#### Load the persisted file"
   ]
  },
  {
   "cell_type": "code",
   "execution_count": 201,
   "metadata": {},
   "outputs": [],
   "source": [
    "# Open the file in read mode\n",
    "model_file_pickle = open(model_file_path,'rb')\n",
    "scaler_file_pickle = open(scaler_file_path, 'rb')\n",
    "# load files\n",
    "clf_loaded = cloudpickle.load(model_file_pickle)\n",
    "scaler_loaded = cloudpickle.load(scaler_file_pickle)\n",
    "# close the files\n",
    "model_file_pickle.close()\n",
    "scaler_file_pickle.close()"
   ]
  },
  {
   "cell_type": "code",
   "execution_count": 202,
   "metadata": {
    "scrolled": true
   },
   "outputs": [
    {
     "data": {
      "text/plain": [
       "GridSearchCV(cv=3, error_score='raise',\n",
       "       estimator=LogisticRegression(C=1.0, class_weight=None, dual=False, fit_intercept=True,\n",
       "          intercept_scaling=1, max_iter=100, multi_class='ovr', n_jobs=1,\n",
       "          penalty='l2', random_state=None, solver='liblinear', tol=0.0001,\n",
       "          verbose=0, warm_start=False),\n",
       "       fit_params=None, iid=True, n_jobs=1,\n",
       "       param_grid={'C': [1.0, 10.0, 50.0, 100.0, 1000.0], 'penalty': ['l1', 'l2']},\n",
       "       pre_dispatch='2*n_jobs', refit=True, return_train_score='warn',\n",
       "       scoring=None, verbose=0)"
      ]
     },
     "execution_count": 202,
     "metadata": {},
     "output_type": "execute_result"
    }
   ],
   "source": [
    "clf_loaded"
   ]
  },
  {
   "cell_type": "code",
   "execution_count": 203,
   "metadata": {
    "scrolled": true
   },
   "outputs": [
    {
     "data": {
      "text/plain": [
       "StandardScaler(copy=True, with_mean=True, with_std=True)"
      ]
     },
     "execution_count": 203,
     "metadata": {},
     "output_type": "execute_result"
    }
   ],
   "source": [
    "scaler_loaded"
   ]
  },
  {
   "cell_type": "code",
   "execution_count": 204,
   "metadata": {},
   "outputs": [
    {
     "name": "stdout",
     "output_type": "stream",
     "text": [
      "Score for persisted Logistic regression: 0.84\n"
     ]
    }
   ],
   "source": [
    "# transform the test data using loaded scaler object\n",
    "X_test_scaled = scaler_loaded.transform(X_test)\n",
    "# Calculate the score using loaded model object\n",
    "print('Score for persisted Logistic regression: {0:.2f}'.format(clf_loaded.score(X_test_scaled, y_test)))"
   ]
  },
  {
   "cell_type": "markdown",
   "metadata": {},
   "source": [
    "## Hello World using Flask"
   ]
  },
  {
   "cell_type": "code",
   "execution_count": 254,
   "metadata": {},
   "outputs": [],
   "source": [
    "import os\n",
    "\n",
    "script_file_path = r\"C:\\Users\\rvi29ga\\Jupyter tries\"\n",
    "#hello_world_script_file"
   ]
  },
  {
   "cell_type": "code",
   "execution_count": 2,
   "metadata": {},
   "outputs": [
    {
     "name": "stdout",
     "output_type": "stream",
     "text": [
      "Overwriting hello_world_api.py\n"
     ]
    }
   ],
   "source": [
    "%%writefile hello_world_api.py\n",
    "\n",
    "from flask import Flask, request\n",
    "\n",
    "app = Flask(__name__)\n",
    "\n",
    "@app.route('/api', methods=['POST'])\n",
    "def say_hello():\n",
    "    data = request.get_json(force=True)\n",
    "    name = data['name']\n",
    "    return 'Hello {0}'.format(name)\n",
    "\n",
    "if __name__ == '__main__':\n",
    "    app.run(port=10001, debug=True)"
   ]
  },
  {
   "cell_type": "code",
   "execution_count": 6,
   "metadata": {},
   "outputs": [],
   "source": [
    "import json\n",
    "import requests"
   ]
  },
  {
   "cell_type": "code",
   "execution_count": 208,
   "metadata": {},
   "outputs": [],
   "source": [
    "#!python hello_world_api.py\n",
    "# Execute in Conda terminal"
   ]
  },
  {
   "cell_type": "code",
   "execution_count": 7,
   "metadata": {},
   "outputs": [],
   "source": [
    "url = 'http://localhost:10001/api'\n",
    "data = json.dumps({'name': 'Rashmika'})\n",
    "r = requests.post(url, data)"
   ]
  },
  {
   "cell_type": "code",
   "execution_count": 8,
   "metadata": {},
   "outputs": [
    {
     "name": "stdout",
     "output_type": "stream",
     "text": [
      "Hello Rashmika\n"
     ]
    }
   ],
   "source": [
    "print(r.text)"
   ]
  },
  {
   "cell_type": "markdown",
   "metadata": {},
   "source": [
    "### Machine Learnig API using Flask"
   ]
  },
  {
   "cell_type": "markdown",
   "metadata": {},
   "source": [
    "#### Building API"
   ]
  },
  {
   "cell_type": "code",
   "execution_count": 218,
   "metadata": {},
   "outputs": [],
   "source": [
    "machine_learning_script_file = os.path.join(script_file_path, 'machine_learning_api.py')"
   ]
  },
  {
   "cell_type": "code",
   "execution_count": 268,
   "metadata": {},
   "outputs": [
    {
     "name": "stdout",
     "output_type": "stream",
     "text": [
      "Overwriting machine_learning_api.py\n"
     ]
    }
   ],
   "source": [
    "%%writefile machine_learning_api.py\n",
    "\n",
    "from flask import Flask, request\n",
    "import pandas as pd\n",
    "import numpy as np\n",
    "import json\n",
    "import cloudpickle\n",
    "import os\n",
    "\n",
    "app = Flask(__name__)\n",
    "\n",
    "# Load Model and Scaler Files\n",
    "model_base_path = r\"C:\\Users\\rvi29ga\\Jupyter tries\\models\"\n",
    "model_file_path = os.path.join(model_base_path, 'lr_model.pkl')\n",
    "scaler_file_path = os.path.join(model_base_path, 'lr_scaler.pkl')\n",
    "\n",
    "model = cloudpickle.load(open(model_file_path, 'rb'))\n",
    "scaler = cloudpickle.load(open(scaler_file_path, 'rb'))\n",
    "# Columns\n",
    "columns = [ u'Age', u'Fare', u'FamilySize', u'IsMother', u'IsMale', u'Deck_A',\n",
    "           u'Deck_B', u'Deck_C', u'Deck_D', u'Deck_E', u'Deck_F', u'Deck_G',\n",
    "           u'Deck_Z', u'Pclass_1', u'Pclass_2', u'Pclass_3', u'Title_Lady',\n",
    "           u'Title_Master', u'Title_Miss', u'Title_Mr', u'Title_Mrs', u'Title_Officer',\n",
    "           u'Title_Sir', u'Fare_Bin_very_low', u'Fare_Bin_low', u'Fare_Bin_high', u'Fare_Bin_very_high',\n",
    "           u'Embarked_C', u'Embarked_Q', u'Embarked_S', u'AgeState_Adult', u'AgeState_Child']\n",
    "\n",
    "@app.route('/api', methods=['POST'])\n",
    "def make_prediction():\n",
    "    # read json object and convert into json string\n",
    "    data = json.dumps(request.get_json(force=True))\n",
    "    # create pandas dataframe using json string\n",
    "    df = pd.read_json(data)\n",
    "    # extract passenger IDs\n",
    "    passenger_ids = df['PassengerId'].ravel()\n",
    "    # actual survived values\n",
    "    actuals = df['Survived'].ravel()\n",
    "    # extract required columns based and convert to matrix\n",
    "    X = df[columns].values.astype('float')\n",
    "    # transform the input\n",
    "    X_scaled = scaler.transform(X)\n",
    "    # make predictions\n",
    "    predictions = model.predict(X_scaled)\n",
    "    # create response dataframe\n",
    "    df_response = pd.DataFrame({'PassengerId': passenger_ids, 'Predicted': predictions, 'Actual': actuals})#\n",
    "    # return json\n",
    "    return df_response.to_json()\n",
    "\n",
    "if __name__ == '__main__':\n",
    "    app.run(port=10001, debug=True)"
   ]
  },
  {
   "cell_type": "markdown",
   "metadata": {},
   "source": [
    "#### Invoking API using Requests"
   ]
  },
  {
   "cell_type": "code",
   "execution_count": 264,
   "metadata": {},
   "outputs": [],
   "source": [
    "import os\n",
    "import pandas as pd\n",
    "processed_data_path = r\"C:\\Users\\rvi29ga\\Jupyter tries\\processed\"\n",
    "train_file_path = os.path.join(processed_data_path, 'train.csv')\n",
    "train_df = pd.read_csv(train_file_path)\n",
    "test_file_path = os.path.join(processed_data_path, 'test.csv')\n",
    "test_df = pd.read_csv(test_file_path)"
   ]
  },
  {
   "cell_type": "code",
   "execution_count": 239,
   "metadata": {},
   "outputs": [],
   "source": [
    "survived_passengers = train_df[train_df['Survived'] == 1][:5]"
   ]
  },
  {
   "cell_type": "code",
   "execution_count": 240,
   "metadata": {},
   "outputs": [
    {
     "data": {
      "text/html": [
       "<div>\n",
       "<style scoped>\n",
       "    .dataframe tbody tr th:only-of-type {\n",
       "        vertical-align: middle;\n",
       "    }\n",
       "\n",
       "    .dataframe tbody tr th {\n",
       "        vertical-align: top;\n",
       "    }\n",
       "\n",
       "    .dataframe thead th {\n",
       "        text-align: right;\n",
       "    }\n",
       "</style>\n",
       "<table border=\"1\" class=\"dataframe\">\n",
       "  <thead>\n",
       "    <tr style=\"text-align: right;\">\n",
       "      <th></th>\n",
       "      <th>PassengerId</th>\n",
       "      <th>Survived</th>\n",
       "      <th>Age</th>\n",
       "      <th>Fare</th>\n",
       "      <th>FamilySize</th>\n",
       "      <th>IsMother</th>\n",
       "      <th>IsMale</th>\n",
       "      <th>Deck_A</th>\n",
       "      <th>Deck_B</th>\n",
       "      <th>Deck_C</th>\n",
       "      <th>...</th>\n",
       "      <th>Title_Sir</th>\n",
       "      <th>Fare_Bin_very_low</th>\n",
       "      <th>Fare_Bin_low</th>\n",
       "      <th>Fare_Bin_high</th>\n",
       "      <th>Fare_Bin_very_high</th>\n",
       "      <th>Embarked_C</th>\n",
       "      <th>Embarked_Q</th>\n",
       "      <th>Embarked_S</th>\n",
       "      <th>AgeState_Adult</th>\n",
       "      <th>AgeState_Child</th>\n",
       "    </tr>\n",
       "  </thead>\n",
       "  <tbody>\n",
       "    <tr>\n",
       "      <th>1</th>\n",
       "      <td>2</td>\n",
       "      <td>1</td>\n",
       "      <td>38.0</td>\n",
       "      <td>71.2833</td>\n",
       "      <td>2</td>\n",
       "      <td>0</td>\n",
       "      <td>0</td>\n",
       "      <td>0</td>\n",
       "      <td>0</td>\n",
       "      <td>1</td>\n",
       "      <td>...</td>\n",
       "      <td>0</td>\n",
       "      <td>0</td>\n",
       "      <td>0</td>\n",
       "      <td>0</td>\n",
       "      <td>1</td>\n",
       "      <td>1</td>\n",
       "      <td>0</td>\n",
       "      <td>0</td>\n",
       "      <td>1</td>\n",
       "      <td>0</td>\n",
       "    </tr>\n",
       "    <tr>\n",
       "      <th>2</th>\n",
       "      <td>3</td>\n",
       "      <td>1</td>\n",
       "      <td>26.0</td>\n",
       "      <td>7.9250</td>\n",
       "      <td>1</td>\n",
       "      <td>0</td>\n",
       "      <td>0</td>\n",
       "      <td>0</td>\n",
       "      <td>0</td>\n",
       "      <td>0</td>\n",
       "      <td>...</td>\n",
       "      <td>0</td>\n",
       "      <td>0</td>\n",
       "      <td>1</td>\n",
       "      <td>0</td>\n",
       "      <td>0</td>\n",
       "      <td>0</td>\n",
       "      <td>0</td>\n",
       "      <td>1</td>\n",
       "      <td>1</td>\n",
       "      <td>0</td>\n",
       "    </tr>\n",
       "    <tr>\n",
       "      <th>3</th>\n",
       "      <td>4</td>\n",
       "      <td>1</td>\n",
       "      <td>35.0</td>\n",
       "      <td>53.1000</td>\n",
       "      <td>2</td>\n",
       "      <td>0</td>\n",
       "      <td>0</td>\n",
       "      <td>0</td>\n",
       "      <td>0</td>\n",
       "      <td>1</td>\n",
       "      <td>...</td>\n",
       "      <td>0</td>\n",
       "      <td>0</td>\n",
       "      <td>0</td>\n",
       "      <td>0</td>\n",
       "      <td>1</td>\n",
       "      <td>0</td>\n",
       "      <td>0</td>\n",
       "      <td>1</td>\n",
       "      <td>1</td>\n",
       "      <td>0</td>\n",
       "    </tr>\n",
       "    <tr>\n",
       "      <th>8</th>\n",
       "      <td>9</td>\n",
       "      <td>1</td>\n",
       "      <td>27.0</td>\n",
       "      <td>11.1333</td>\n",
       "      <td>3</td>\n",
       "      <td>1</td>\n",
       "      <td>0</td>\n",
       "      <td>0</td>\n",
       "      <td>0</td>\n",
       "      <td>0</td>\n",
       "      <td>...</td>\n",
       "      <td>0</td>\n",
       "      <td>0</td>\n",
       "      <td>1</td>\n",
       "      <td>0</td>\n",
       "      <td>0</td>\n",
       "      <td>0</td>\n",
       "      <td>0</td>\n",
       "      <td>1</td>\n",
       "      <td>1</td>\n",
       "      <td>0</td>\n",
       "    </tr>\n",
       "    <tr>\n",
       "      <th>9</th>\n",
       "      <td>10</td>\n",
       "      <td>1</td>\n",
       "      <td>14.0</td>\n",
       "      <td>30.0708</td>\n",
       "      <td>2</td>\n",
       "      <td>0</td>\n",
       "      <td>0</td>\n",
       "      <td>0</td>\n",
       "      <td>0</td>\n",
       "      <td>0</td>\n",
       "      <td>...</td>\n",
       "      <td>0</td>\n",
       "      <td>0</td>\n",
       "      <td>0</td>\n",
       "      <td>1</td>\n",
       "      <td>0</td>\n",
       "      <td>1</td>\n",
       "      <td>0</td>\n",
       "      <td>0</td>\n",
       "      <td>0</td>\n",
       "      <td>1</td>\n",
       "    </tr>\n",
       "  </tbody>\n",
       "</table>\n",
       "<p>5 rows × 34 columns</p>\n",
       "</div>"
      ],
      "text/plain": [
       "   PassengerId  Survived   Age     Fare  FamilySize  IsMother  IsMale  Deck_A  \\\n",
       "1            2         1  38.0  71.2833           2         0       0       0   \n",
       "2            3         1  26.0   7.9250           1         0       0       0   \n",
       "3            4         1  35.0  53.1000           2         0       0       0   \n",
       "8            9         1  27.0  11.1333           3         1       0       0   \n",
       "9           10         1  14.0  30.0708           2         0       0       0   \n",
       "\n",
       "   Deck_B  Deck_C       ...        Title_Sir  Fare_Bin_very_low  Fare_Bin_low  \\\n",
       "1       0       1       ...                0                  0             0   \n",
       "2       0       0       ...                0                  0             1   \n",
       "3       0       1       ...                0                  0             0   \n",
       "8       0       0       ...                0                  0             1   \n",
       "9       0       0       ...                0                  0             0   \n",
       "\n",
       "   Fare_Bin_high  Fare_Bin_very_high  Embarked_C  Embarked_Q  Embarked_S  \\\n",
       "1              0                   1           1           0           0   \n",
       "2              0                   0           0           0           1   \n",
       "3              0                   1           0           0           1   \n",
       "8              0                   0           0           0           1   \n",
       "9              1                   0           1           0           0   \n",
       "\n",
       "   AgeState_Adult  AgeState_Child  \n",
       "1               1               0  \n",
       "2               1               0  \n",
       "3               1               0  \n",
       "8               1               0  \n",
       "9               0               1  \n",
       "\n",
       "[5 rows x 34 columns]"
      ]
     },
     "execution_count": 240,
     "metadata": {},
     "output_type": "execute_result"
    }
   ],
   "source": [
    "survived_passengers"
   ]
  },
  {
   "cell_type": "code",
   "execution_count": 245,
   "metadata": {},
   "outputs": [],
   "source": [
    "import requests\n",
    "def make_api_request(data):\n",
    "    # url for api\n",
    "    url = 'http://localhost:10001/api'\n",
    "    # make post request\n",
    "    r = requests.post(url, data)\n",
    "    # return\n",
    "    return r.json()"
   ]
  },
  {
   "cell_type": "code",
   "execution_count": 246,
   "metadata": {
    "scrolled": true
   },
   "outputs": [
    {
     "data": {
      "text/plain": [
       "{'PassengerId': {'0': 2, '1': 3, '2': 4, '3': 9, '4': 10},\n",
       " 'Predicted': {'0': 1, '1': 1, '2': 1, '3': 1, '4': 1},\n",
       " 'Actual': {'0': 1, '1': 1, '2': 1, '3': 1, '4': 1}}"
      ]
     },
     "execution_count": 246,
     "metadata": {},
     "output_type": "execute_result"
    }
   ],
   "source": [
    "make_api_request(survived_passengers.to_json())"
   ]
  },
  {
   "cell_type": "code",
   "execution_count": 270,
   "metadata": {
    "scrolled": true
   },
   "outputs": [
    {
     "data": {
      "text/html": [
       "<div>\n",
       "<style scoped>\n",
       "    .dataframe tbody tr th:only-of-type {\n",
       "        vertical-align: middle;\n",
       "    }\n",
       "\n",
       "    .dataframe tbody tr th {\n",
       "        vertical-align: top;\n",
       "    }\n",
       "\n",
       "    .dataframe thead th {\n",
       "        text-align: right;\n",
       "    }\n",
       "</style>\n",
       "<table border=\"1\" class=\"dataframe\">\n",
       "  <thead>\n",
       "    <tr style=\"text-align: right;\">\n",
       "      <th></th>\n",
       "      <th>PassengerId</th>\n",
       "      <th>Predicted</th>\n",
       "      <th>Actual</th>\n",
       "    </tr>\n",
       "  </thead>\n",
       "  <tbody>\n",
       "    <tr>\n",
       "      <th>0</th>\n",
       "      <td>1</td>\n",
       "      <td>0</td>\n",
       "      <td>0</td>\n",
       "    </tr>\n",
       "    <tr>\n",
       "      <th>1</th>\n",
       "      <td>2</td>\n",
       "      <td>1</td>\n",
       "      <td>1</td>\n",
       "    </tr>\n",
       "    <tr>\n",
       "      <th>10</th>\n",
       "      <td>108</td>\n",
       "      <td>0</td>\n",
       "      <td>1</td>\n",
       "    </tr>\n",
       "    <tr>\n",
       "      <th>100</th>\n",
       "      <td>190</td>\n",
       "      <td>0</td>\n",
       "      <td>0</td>\n",
       "    </tr>\n",
       "    <tr>\n",
       "      <th>101</th>\n",
       "      <td>20</td>\n",
       "      <td>1</td>\n",
       "      <td>1</td>\n",
       "    </tr>\n",
       "  </tbody>\n",
       "</table>\n",
       "</div>"
      ],
      "text/plain": [
       "     PassengerId  Predicted  Actual\n",
       "0              1          0       0\n",
       "1              2          1       1\n",
       "10           108          0       1\n",
       "100          190          0       0\n",
       "101           20          1       1"
      ]
     },
     "execution_count": 270,
     "metadata": {},
     "output_type": "execute_result"
    }
   ],
   "source": [
    "# compare results\n",
    "result = make_api_request(train_df.to_json())\n",
    "df_result = pd.read_json(json.dumps(result))\n",
    "df_result.head()"
   ]
  },
  {
   "cell_type": "code",
   "execution_count": 248,
   "metadata": {
    "scrolled": true
   },
   "outputs": [
    {
     "data": {
      "text/plain": [
       "0.8383838383838383"
      ]
     },
     "execution_count": 248,
     "metadata": {},
     "output_type": "execute_result"
    }
   ],
   "source": [
    "# accuracy level\n",
    "import numpy as np\n",
    "np.mean(df_result.Actual == df_result.Predicted)"
   ]
  },
  {
   "cell_type": "code",
   "execution_count": null,
   "metadata": {},
   "outputs": [],
   "source": []
  }
 ],
 "metadata": {
  "kernelspec": {
   "display_name": "Python 3",
   "language": "python",
   "name": "python3"
  },
  "language_info": {
   "codemirror_mode": {
    "name": "ipython",
    "version": 3
   },
   "file_extension": ".py",
   "mimetype": "text/x-python",
   "name": "python",
   "nbconvert_exporter": "python",
   "pygments_lexer": "ipython3",
   "version": "3.6.5"
  }
 },
 "nbformat": 4,
 "nbformat_minor": 2
}

