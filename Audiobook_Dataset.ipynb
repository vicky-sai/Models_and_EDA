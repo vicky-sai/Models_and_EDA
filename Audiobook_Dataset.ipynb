{
  "nbformat": 4,
  "nbformat_minor": 0,
  "metadata": {
    "colab": {
      "name": "Audiobook_Dataset.ipynb",
      "provenance": [],
      "collapsed_sections": []
    },
    "kernelspec": {
      "name": "python3",
      "display_name": "Python 3"
    }
  },
  "cells": [
    {
      "cell_type": "markdown",
      "metadata": {
        "id": "gJY07ssvreu8",
        "colab_type": "text"
      },
      "source": [
        "Importing relavent Libraries"
      ]
    },
    {
      "cell_type": "code",
      "metadata": {
        "id": "36p0DBMjy2dN",
        "colab_type": "code",
        "colab": {}
      },
      "source": [
        "import pandas as pd\n",
        "import numpy as np\n",
        "from sklearn import preprocessing\n",
        "import tensorflow as tf"
      ],
      "execution_count": null,
      "outputs": []
    },
    {
      "cell_type": "markdown",
      "metadata": {
        "id": "tw53biaJrlA1",
        "colab_type": "text"
      },
      "source": [
        "Load the dataset"
      ]
    },
    {
      "cell_type": "code",
      "metadata": {
        "id": "tUvIuRa23ihT",
        "colab_type": "code",
        "colab": {
          "base_uri": "https://localhost:8080/",
          "height": 34
        },
        "outputId": "481f1485-bfb0-456f-8617-a256b11f490b"
      },
      "source": [
        "from google.colab import drive\n",
        "drive.mount('/content/drive')"
      ],
      "execution_count": null,
      "outputs": [
        {
          "output_type": "stream",
          "text": [
            "Drive already mounted at /content/drive; to attempt to forcibly remount, call drive.mount(\"/content/drive\", force_remount=True).\n"
          ],
          "name": "stdout"
        }
      ]
    },
    {
      "cell_type": "code",
      "metadata": {
        "id": "zUw4JenLTXNr",
        "colab_type": "code",
        "colab": {}
      },
      "source": [
        "raw_csv = np.loadtxt(\"/content/drive/My Drive/Colab Notebooks/Audiobooks_data.csv\", delimiter=',', skiprows=1)"
      ],
      "execution_count": null,
      "outputs": []
    },
    {
      "cell_type": "code",
      "metadata": {
        "id": "XwNmWwP8Csgb",
        "colab_type": "code",
        "colab": {
          "base_uri": "https://localhost:8080/",
          "height": 238
        },
        "outputId": "e74a67f6-ca45-4bdb-82e5-44bc9a4fda62"
      },
      "source": [
        "raw_csv"
      ],
      "execution_count": null,
      "outputs": [
        {
          "output_type": "execute_result",
          "data": {
            "text/plain": [
              "array([[9.9400e+02, 1.6200e+03, 1.6200e+03, ..., 5.0000e+00, 9.2000e+01,\n",
              "        0.0000e+00],\n",
              "       [1.1430e+03, 2.1600e+03, 2.1600e+03, ..., 0.0000e+00, 0.0000e+00,\n",
              "        0.0000e+00],\n",
              "       [2.0590e+03, 2.1600e+03, 2.1600e+03, ..., 0.0000e+00, 3.8800e+02,\n",
              "        0.0000e+00],\n",
              "       ...,\n",
              "       [3.1134e+04, 2.1600e+03, 2.1600e+03, ..., 0.0000e+00, 0.0000e+00,\n",
              "        0.0000e+00],\n",
              "       [3.2832e+04, 1.6200e+03, 1.6200e+03, ..., 0.0000e+00, 9.0000e+01,\n",
              "        0.0000e+00],\n",
              "       [2.5100e+02, 1.6740e+03, 3.3480e+03, ..., 0.0000e+00, 0.0000e+00,\n",
              "        1.0000e+00]])"
            ]
          },
          "metadata": {
            "tags": []
          },
          "execution_count": 49
        }
      ]
    },
    {
      "cell_type": "code",
      "metadata": {
        "id": "uX98wt8CCyi8",
        "colab_type": "code",
        "colab": {}
      },
      "source": [
        "unscaled_raw_input = raw_csv[:, 1:-1]\n",
        "unscaled_target = raw_csv[:,-1]"
      ],
      "execution_count": null,
      "outputs": []
    },
    {
      "cell_type": "markdown",
      "metadata": {
        "id": "pEd9q32rrcWv",
        "colab_type": "text"
      },
      "source": [
        "Balance the Dataset"
      ]
    },
    {
      "cell_type": "code",
      "metadata": {
        "id": "lgacigLkDY3j",
        "colab_type": "code",
        "colab": {}
      },
      "source": [
        "num_one_targets = int(np.sum(unscaled_target))\n",
        "zero_target_counter = 0\n",
        "indices_to_remove = []\n",
        "\n",
        "for i in range(unscaled_target.shape[0]):\n",
        "  if unscaled_target[i]==0:\n",
        "    zero_target_counter += 1\n",
        "    if zero_target_counter > num_one_targets:\n",
        "      indices_to_remove.append(i)"
      ],
      "execution_count": null,
      "outputs": []
    },
    {
      "cell_type": "code",
      "metadata": {
        "id": "2gKg5Q6qDZtS",
        "colab_type": "code",
        "colab": {}
      },
      "source": [
        "unscaled_input_priors = np.delete(unscaled_raw_input, indices_to_remove, axis=0)\n",
        "unscaled_target_priors = np.delete(unscaled_target, indices_to_remove, axis=0)"
      ],
      "execution_count": null,
      "outputs": []
    },
    {
      "cell_type": "markdown",
      "metadata": {
        "id": "3DLsuvZZ-5v0",
        "colab_type": "text"
      },
      "source": [
        "Scaling the Dataset"
      ]
    },
    {
      "cell_type": "code",
      "metadata": {
        "id": "FDgtHfkK-mDz",
        "colab_type": "code",
        "colab": {}
      },
      "source": [
        "scaled_inputs = preprocessing.scale(unscaled_input_priors)"
      ],
      "execution_count": null,
      "outputs": []
    },
    {
      "cell_type": "markdown",
      "metadata": {
        "id": "0WDT2N3__IrR",
        "colab_type": "text"
      },
      "source": [
        "Shuffled Indices"
      ]
    },
    {
      "cell_type": "code",
      "metadata": {
        "id": "WerdfEF0_Ak7",
        "colab_type": "code",
        "colab": {}
      },
      "source": [
        "shuffled_indices = np.arange(scaled_inputs.shape[0])\n",
        "np.random.shuffle(shuffled_indices)"
      ],
      "execution_count": null,
      "outputs": []
    },
    {
      "cell_type": "code",
      "metadata": {
        "id": "b4BsPitGEfoA",
        "colab_type": "code",
        "colab": {}
      },
      "source": [
        "shuffled_inputs = scaled_inputs[shuffled_indices]\n",
        "shuffled_targets = unscaled_target_priors[shuffled_indices]"
      ],
      "execution_count": null,
      "outputs": []
    },
    {
      "cell_type": "code",
      "metadata": {
        "id": "pXXnOn-QE92b",
        "colab_type": "code",
        "colab": {
          "base_uri": "https://localhost:8080/",
          "height": 34
        },
        "outputId": "e126e44a-22b5-4b7f-b557-4be890d05e92"
      },
      "source": [
        "shuffled_indices"
      ],
      "execution_count": null,
      "outputs": [
        {
          "output_type": "execute_result",
          "data": {
            "text/plain": [
              "array([ 821,  605, 1553, ...,  225, 1140, 3657])"
            ]
          },
          "metadata": {
            "tags": []
          },
          "execution_count": 56
        }
      ]
    },
    {
      "cell_type": "code",
      "metadata": {
        "id": "tfVd9e5nE-bD",
        "colab_type": "code",
        "colab": {}
      },
      "source": [
        "samples_count = shuffled_inputs.shape[0]"
      ],
      "execution_count": null,
      "outputs": []
    },
    {
      "cell_type": "code",
      "metadata": {
        "id": "fYUk3bCGFJSk",
        "colab_type": "code",
        "colab": {}
      },
      "source": [
        "train_samples_count = int(0.8 * samples_count)\n",
        "validation_samples_count = int(0.1 * samples_count)\n",
        "test_samples_cout = samples_count - train_samples_count - validation_samples_count"
      ],
      "execution_count": null,
      "outputs": []
    },
    {
      "cell_type": "code",
      "metadata": {
        "id": "rhguQoeXGMOG",
        "colab_type": "code",
        "colab": {}
      },
      "source": [
        "train_inputs = shuffled_inputs[:train_samples_count]\n",
        "train_targets = shuffled_targets[:train_samples_count]\n",
        "\n",
        "validation_inputs = shuffled_inputs[train_samples_count:train_samples_count+validation_samples_count]\n",
        "validation_targets = shuffled_targets[train_samples_count:train_samples_count+validation_samples_count]\n",
        "\n",
        "test_inputs = shuffled_inputs[train_samples_count+validation_samples_count:]\n",
        "test_targets = shuffled_targets[train_samples_count+validation_samples_count:]"
      ],
      "execution_count": null,
      "outputs": []
    },
    {
      "cell_type": "markdown",
      "metadata": {
        "id": "UqOpUNMfMImn",
        "colab_type": "text"
      },
      "source": [
        "Print the size of train, test, validation"
      ]
    },
    {
      "cell_type": "code",
      "metadata": {
        "id": "dcAvG_SxGwwH",
        "colab_type": "code",
        "colab": {
          "base_uri": "https://localhost:8080/",
          "height": 68
        },
        "outputId": "26a4fb2b-81fc-423f-aa91-e6c910eeac97"
      },
      "source": [
        "print(np.sum(train_targets), train_samples_count, np.sum(train_targets)/train_samples_count)\n",
        "print(np.sum(validation_targets), validation_samples_count, np.sum(validation_targets)/validation_samples_count)\n",
        "print(np.sum(test_targets), test_samples_cout, np.sum(test_targets)/test_samples_cout)"
      ],
      "execution_count": null,
      "outputs": [
        {
          "output_type": "stream",
          "text": [
            "1798.0 3579 0.502374965074043\n",
            "219.0 447 0.4899328859060403\n",
            "220.0 448 0.49107142857142855\n"
          ],
          "name": "stdout"
        }
      ]
    },
    {
      "cell_type": "markdown",
      "metadata": {
        "id": "u0Z7D6VKMMzX",
        "colab_type": "text"
      },
      "source": [
        "Save the data in Numpy format"
      ]
    },
    {
      "cell_type": "code",
      "metadata": {
        "id": "H290Vi_jJ2lh",
        "colab_type": "code",
        "colab": {}
      },
      "source": [
        "np.savez('Audiobooks_data_train', inputs=train_inputs, targets=train_targets)\n",
        "np.savez('Audiobooks_data_validation', inputs=validation_inputs, targets=validation_targets)\n",
        "np.savez('Audiobooks_data_test', inputs=test_inputs, targets=test_targets)"
      ],
      "execution_count": null,
      "outputs": []
    },
    {
      "cell_type": "markdown",
      "metadata": {
        "id": "JdNN-RxGMQkk",
        "colab_type": "text"
      },
      "source": [
        "Loading the data"
      ]
    },
    {
      "cell_type": "code",
      "metadata": {
        "id": "HNFT0G4wK5qA",
        "colab_type": "code",
        "colab": {}
      },
      "source": [
        "npz = np.load('Audiobooks_data_train.npz')\n",
        "\n",
        "train_inputs = npz['inputs'].astype(np.float)\n",
        "train_targets = npz['targets'].astype(np.int)"
      ],
      "execution_count": null,
      "outputs": []
    },
    {
      "cell_type": "code",
      "metadata": {
        "id": "JySIZ9WfLyKY",
        "colab_type": "code",
        "colab": {}
      },
      "source": [
        "npz = np.load('Audiobooks_data_validation.npz')\n",
        "\n",
        "validation_inputs, validation_targets = npz['inputs'].astype(np.float), npz['targets'].astype(np.int)"
      ],
      "execution_count": null,
      "outputs": []
    },
    {
      "cell_type": "code",
      "metadata": {
        "id": "zGWNKE6AL8vx",
        "colab_type": "code",
        "colab": {}
      },
      "source": [
        "npz = np.load('Audiobooks_data_test.npz')\n",
        "\n",
        "test_inputs, test_targets = npz['inputs'].astype(np.float), npz['targets'].astype(np.int)"
      ],
      "execution_count": null,
      "outputs": []
    },
    {
      "cell_type": "markdown",
      "metadata": {
        "id": "IuKW5pgTMS4v",
        "colab_type": "text"
      },
      "source": [
        "Model"
      ]
    },
    {
      "cell_type": "code",
      "metadata": {
        "id": "9RqMo2MxMcxa",
        "colab_type": "code",
        "colab": {}
      },
      "source": [
        "input_size = 10\n",
        "hidden_layer_size = 50\n",
        "output_size = 2"
      ],
      "execution_count": null,
      "outputs": []
    },
    {
      "cell_type": "code",
      "metadata": {
        "id": "_d_ENKRKMBO3",
        "colab_type": "code",
        "colab": {}
      },
      "source": [
        "model = tf.keras.Sequential([\n",
        "                            tf.keras.layers.Dense(hidden_layer_size, activation='relu'),\n",
        "                             tf.keras.layers.Dense(hidden_layer_size, activation='relu'),\n",
        "                             tf.keras.layers.Dense(output_size, activation='softmax')\n",
        "                            ])"
      ],
      "execution_count": null,
      "outputs": []
    },
    {
      "cell_type": "code",
      "metadata": {
        "id": "rs1lRPdIU-6A",
        "colab_type": "code",
        "colab": {}
      },
      "source": [
        "model.compile(optimizer='adam', loss='sparse_categorical_crossentropy', metrics=['accuracy'])"
      ],
      "execution_count": null,
      "outputs": []
    },
    {
      "cell_type": "code",
      "metadata": {
        "id": "lWBr1Zw2VMoW",
        "colab_type": "code",
        "colab": {
          "base_uri": "https://localhost:8080/",
          "height": 272
        },
        "outputId": "ecaa3ba3-fd45-4162-c091-cbcf1661d8a1"
      },
      "source": [
        "early_stopping = tf.keras.callbacks.EarlyStopping(patience=3)\n",
        "\n",
        "model.fit(train_inputs, train_targets, epochs=100, batch_size=100, \n",
        "          validation_data=(validation_inputs, validation_targets), callbacks=[early_stopping])"
      ],
      "execution_count": null,
      "outputs": [
        {
          "output_type": "stream",
          "text": [
            "Epoch 1/100\n",
            "36/36 [==============================] - 0s 3ms/step - loss: 0.3208 - accuracy: 0.8256 - val_loss: 0.3404 - val_accuracy: 0.8277\n",
            "Epoch 2/100\n",
            "36/36 [==============================] - 0s 3ms/step - loss: 0.3215 - accuracy: 0.8296 - val_loss: 0.3390 - val_accuracy: 0.8255\n",
            "Epoch 3/100\n",
            "36/36 [==============================] - 0s 3ms/step - loss: 0.3190 - accuracy: 0.8262 - val_loss: 0.3511 - val_accuracy: 0.8255\n",
            "Epoch 4/100\n",
            "36/36 [==============================] - 0s 3ms/step - loss: 0.3240 - accuracy: 0.8254 - val_loss: 0.3386 - val_accuracy: 0.8121\n",
            "Epoch 5/100\n",
            "36/36 [==============================] - 0s 3ms/step - loss: 0.3164 - accuracy: 0.8296 - val_loss: 0.3469 - val_accuracy: 0.8210\n",
            "Epoch 6/100\n",
            "36/36 [==============================] - 0s 3ms/step - loss: 0.3162 - accuracy: 0.8318 - val_loss: 0.3413 - val_accuracy: 0.8121\n",
            "Epoch 7/100\n",
            "36/36 [==============================] - 0s 3ms/step - loss: 0.3141 - accuracy: 0.8293 - val_loss: 0.3420 - val_accuracy: 0.8233\n"
          ],
          "name": "stdout"
        },
        {
          "output_type": "execute_result",
          "data": {
            "text/plain": [
              "<tensorflow.python.keras.callbacks.History at 0x7f66b7cddef0>"
            ]
          },
          "metadata": {
            "tags": []
          },
          "execution_count": 90
        }
      ]
    },
    {
      "cell_type": "markdown",
      "metadata": {
        "id": "qRQnkLA2iI5X",
        "colab_type": "text"
      },
      "source": [
        "Test the model"
      ]
    },
    {
      "cell_type": "code",
      "metadata": {
        "id": "SPmu9Lo8cVTx",
        "colab_type": "code",
        "colab": {
          "base_uri": "https://localhost:8080/",
          "height": 34
        },
        "outputId": "af8bc3f3-65ce-4f84-862a-3cdc4c6144e2"
      },
      "source": [
        "test_loss, test_accuracy = model.evaluate(test_inputs, test_targets)"
      ],
      "execution_count": null,
      "outputs": [
        {
          "output_type": "stream",
          "text": [
            "14/14 [==============================] - 0s 1ms/step - loss: 0.3857 - accuracy: 0.7969\n"
          ],
          "name": "stdout"
        }
      ]
    },
    {
      "cell_type": "code",
      "metadata": {
        "id": "jTPVIhPfiMEk",
        "colab_type": "code",
        "colab": {
          "base_uri": "https://localhost:8080/",
          "height": 51
        },
        "outputId": "582f96e1-b3da-4a77-ea3b-50c81e777b5c"
      },
      "source": [
        "print('Test loss: {0:.2f}\\nTest accuracy: {1:.2f}%'.format(test_loss, test_accuracy*100.))"
      ],
      "execution_count": null,
      "outputs": [
        {
          "output_type": "stream",
          "text": [
            "Test loss: 0.39\n",
            "Test accuracy: 79.69%\n"
          ],
          "name": "stdout"
        }
      ]
    },
    {
      "cell_type": "code",
      "metadata": {
        "id": "J-AZdQRsiOgs",
        "colab_type": "code",
        "colab": {}
      },
      "source": [
        ""
      ],
      "execution_count": null,
      "outputs": []
    }
  ]
}